{
 "cells": [
  {
   "cell_type": "code",
   "execution_count": 9,
   "metadata": {},
   "outputs": [],
   "source": [
    "import pymongo\n",
    "client = pymongo.MongoClient()\n",
    "mydb = client['y2buy_1']\n",
    "try:\n",
    "    mydb.amazon_product_metadata.drop()\n",
    "finally:\n",
    "    my_amazon_product_metadata = mydb['amazon_product_metadata']\n",
    "result = mydb.amazon_product_metadata.create_index([('asin', pymongo.ASCENDING)],unique=True)\n"
   ]
  },
  {
   "cell_type": "code",
   "execution_count": 10,
   "metadata": {},
   "outputs": [],
   "source": [
    "import json \n",
    "import gzip \n",
    "def parse(path): \n",
    "    g = gzip.open(path, 'r') \n",
    "    for l in g: \n",
    "        yield eval(l)\n",
    "\n"
   ]
  },
  {
   "cell_type": "code",
   "execution_count": null,
   "metadata": {
    "collapsed": true
   },
   "outputs": [],
   "source": [
    "#f = open(\"output.strict\", 'w') \n",
    "for l in parse(\"../../download/meta_Cell_Phones_and_Accessories.json.gz\"): \n",
    "    #print(l + '\\n')\n",
    "    my_amazon_product_metadata.insert_one(l)"
   ]
  },
  {
   "cell_type": "code",
   "execution_count": null,
   "metadata": {
    "collapsed": true
   },
   "outputs": [],
   "source": [
    "try:\n",
    "    mydb.amazon_product_reviews.drop()\n",
    "finally:\n",
    "    my_amazon_product_reviews = mydb['amazon_product_reviews']"
   ]
  },
  {
   "cell_type": "code",
   "execution_count": null,
   "metadata": {
    "collapsed": true
   },
   "outputs": [],
   "source": [
    "#f = open(\"output.strict\", 'w') \n",
    "for l in parse(\"../../download/reviews_Cell_Phones_and_Accessories_5.json.gz\"): \n",
    "    #print(l + '\\n')\n",
    "    #TODO: retrieve category from product_mata_data\n",
    "    my_amazon_product_reviews.insert_one(l)"
   ]
  }
 ],
 "metadata": {
  "kernelspec": {
   "display_name": "Python 3",
   "language": "python",
   "name": "python3"
  },
  "language_info": {
   "codemirror_mode": {
    "name": "ipython",
    "version": 3
   },
   "file_extension": ".py",
   "mimetype": "text/x-python",
   "name": "python",
   "nbconvert_exporter": "python",
   "pygments_lexer": "ipython3",
   "version": "3.6.1"
  }
 },
 "nbformat": 4,
 "nbformat_minor": 2
}
