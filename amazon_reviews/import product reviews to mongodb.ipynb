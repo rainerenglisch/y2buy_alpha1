{
 "cells": [
  {
   "cell_type": "markdown",
   "metadata": {},
   "source": [
    "import pymongo\n",
    "client = pymongo.MongoClient()\n",
    "mydb = client['y2buy_1']\n",
    "try:\n",
    "    mydb.amazon_product_metadata.drop()\n",
    "finally:\n",
    "    my_amazon_product_metadata = mydb['amazon_product_metadata']\n",
    "result = mydb.amazon_product_metadata.create_index([('asin', pymongo.ASCENDING)],unique=True)\n"
   ]
  },
  {
   "cell_type": "code",
   "execution_count": 7,
   "metadata": {
    "collapsed": true
   },
   "outputs": [],
   "source": [
    "import json \n",
    "import gzip \n",
    "def parse(path): \n",
    "    g = gzip.open(path, 'r') \n",
    "    for l in g: \n",
    "        yield eval(l)\n",
    "\n"
   ]
  },
  {
   "cell_type": "markdown",
   "metadata": {
    "collapsed": true
   },
   "source": [
    "#f = open(\"output.strict\", 'w') \n",
    "for l in parse(\"../../download/meta_Cell_Phones_and_Accessories.json.gz\"): \n",
    "    #print(l + '\\n')\n",
    "    my_amazon_product_metadata.insert_one(l)"
   ]
  },
  {
   "cell_type": "code",
   "execution_count": 8,
   "metadata": {
    "collapsed": true
   },
   "outputs": [],
   "source": [
    "import pymongo\n",
    "client = pymongo.MongoClient()\n",
    "mydb = client['y2buy_1']\n"
   ]
  },
  {
   "cell_type": "code",
   "execution_count": 9,
   "metadata": {
    "collapsed": true
   },
   "outputs": [],
   "source": [
    "try:\n",
    "    mydb.amazon_product_reviews.drop()\n",
    "finally:\n",
    "    my_amazon_product_reviews = mydb['amazon_product_reviews']\n",
    "    result = my_amazon_product_reviews.create_index([('asin', pymongo.ASCENDING)],unique=False)\n",
    "    my_amazon_product_reviews.create_index([\n",
    "    (\"asin\", pymongo.ASCENDING),\n",
    "    (\"reviewerID\", pymongo.ASCENDING),\n",
    "    (\"reviewTime\", pymongo.ASCENDING)   \n",
    "])"
   ]
  },
  {
   "cell_type": "code",
   "execution_count": 10,
   "metadata": {
    "collapsed": true
   },
   "outputs": [],
   "source": [
    "#{ \"title\": {\"$regex\": \"^Apple iPhone 5s, \"}, \"categories\" : \"Cell Phones\" }\n",
    "#B00F3J4HCA - 0 reviews\n",
    "#B00F3J4B5S - 342 reviews\n",
    "#B00F3J4E5U\n",
    "for l in parse(\"../../download/word2vec/reviews_Cell_Phones_and_Accessories.json.gz\"): \n",
    "    #print(l + '\\n')\n",
    "    #TODO: retrieve category from product_mata_data\n",
    "    product_metadata_cursor = mydb.amazon_product_metadata.find({\"asin\": l[\"asin\"]})\n",
    "    first_matching_product_metadata = product_metadata_cursor[0]\n",
    "    l[\"categories\"] = first_matching_product_metadata[\"categories\"][0]\n",
    "    if \"title\" in first_matching_product_metadata.keys():\n",
    "        l[\"title\"] = first_matching_product_metadata[\"title\"]\n",
    "        my_amazon_product_reviews.insert_one(l)\n"
   ]
  },
  {
   "cell_type": "code",
   "execution_count": null,
   "metadata": {
    "collapsed": true
   },
   "outputs": [],
   "source": []
  }
 ],
 "metadata": {
  "kernelspec": {
   "display_name": "Python 3",
   "language": "python",
   "name": "python3"
  },
  "language_info": {
   "codemirror_mode": {
    "name": "ipython",
    "version": 3
   },
   "file_extension": ".py",
   "mimetype": "text/x-python",
   "name": "python",
   "nbconvert_exporter": "python",
   "pygments_lexer": "ipython3",
   "version": "3.6.1"
  }
 },
 "nbformat": 4,
 "nbformat_minor": 2
}
