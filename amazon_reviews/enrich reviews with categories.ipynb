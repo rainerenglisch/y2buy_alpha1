{
 "cells": [
  {
   "cell_type": "code",
   "execution_count": 42,
   "metadata": {
    "collapsed": true
   },
   "outputs": [],
   "source": [
    "import json \n",
    "import gzip \n",
    "def parse(path): \n",
    "    g = gzip.open(path, 'r') \n",
    "    for l in g: \n",
    "        yield eval(l)\n"
   ]
  },
  {
   "cell_type": "code",
   "execution_count": null,
   "metadata": {
    "collapsed": true
   },
   "outputs": [],
   "source": [
    "import pymongo\n",
    "client = pymongo.MongoClient()\n",
    "mydb = client['y2buy_1']\n",
    "try:\n",
    "    mydb.amazon_product_reviews.drop()\n",
    "finally:\n",
    "    my_amazon_product_reviews = mydb['amazon_product_reviews']\n",
    "    result = my_amazon_product_reviews.create_index([('asin', pymongo.ASCENDING)],unique=False)\n",
    "    my_amazon_product_reviews.create_index([\n",
    "    (\"asin\", pymongo.ASCENDING),\n",
    "    (\"reviewerID\", pymongo.ASCENDING),\n",
    "    (\"reviewTime\", pymongo.ASCENDING)   \n",
    "])"
   ]
  },
  {
   "cell_type": "code",
   "execution_count": null,
   "metadata": {},
   "outputs": [
    {
     "name": "stdout",
     "output_type": "stream",
     "text": [
      "1000\n",
      "2000\n"
     ]
    }
   ],
   "source": [
    "#f = open(\"output.strict\", 'w') \n",
    "count = 0\n",
    "with gzip.open(\"../../download/reviews_Cell_Phones_and_Accessories_w_Cat.json.gz\", \"w\") as outfile:\n",
    "    for l in parse(\"../../download/reviews_Cell_Phones_and_Accessories.json.gz\"): \n",
    "        #print(l + '\\n')\n",
    "        #TODO: retrieve category from product_mata_data\n",
    "        product_metadata_cursor = mydb.amazon_product_metadata.find({\"asin\": l[\"asin\"]})\n",
    "        first_matching_product_metadata = product_metadata_cursor[0]\n",
    "        l[\"categories\"] = first_matching_product_metadata[\"categories\"][0]\n",
    "        if \"title\" in first_matching_product_metadata.keys():\n",
    "            l[\"title\"] = first_matching_product_metadata[\"title\"]\n",
    "            #my_amazon_product_reviews.insert_one(l)\n",
    "            #print(l[\"categories\"])\n",
    "#            try:\n",
    "            #print (l[\"categories\"])\n",
    "            #if \"Cell Phones\" in l[\"categories\"]:\n",
    "            json_str = json.dumps(l) + \"\\n\"           # 2. string\n",
    "            json_bytes = json_str.encode('utf-8')        # 3. bytes (i.e. UTF-8)\n",
    "            count = count + 1\n",
    "            if count % 1000 == 0:\n",
    "                print(count)\n",
    "            outfile.write(json_bytes)                       # 4. gzip\n",
    "            #if count == 5: break\n",
    "#            except: \n",
    "#                e = sys.exc_info()[0]\n",
    "#                count_bad = count_bad + 1\n",
    "#                if count_bad % 100 == 0:\n",
    "#                    write(\"count_bad: \" + str(count_bad))\n",
    "#                print(\"Exception on record:\" + str(e))\n",
    "#                print(l)\n",
    "                #pass\n",
    "  "
   ]
  },
  {
   "cell_type": "code",
   "execution_count": null,
   "metadata": {
    "collapsed": true
   },
   "outputs": [],
   "source": []
  },
  {
   "cell_type": "code",
   "execution_count": null,
   "metadata": {
    "collapsed": true
   },
   "outputs": [],
   "source": []
  }
 ],
 "metadata": {
  "kernelspec": {
   "display_name": "Python 3",
   "language": "python",
   "name": "python3"
  },
  "language_info": {
   "codemirror_mode": {
    "name": "ipython",
    "version": 3
   },
   "file_extension": ".py",
   "mimetype": "text/x-python",
   "name": "python",
   "nbconvert_exporter": "python",
   "pygments_lexer": "ipython3",
   "version": "3.6.1"
  }
 },
 "nbformat": 4,
 "nbformat_minor": 2
}
