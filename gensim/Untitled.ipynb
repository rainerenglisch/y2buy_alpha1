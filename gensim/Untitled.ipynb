{
 "cells": [
  {
   "cell_type": "code",
   "execution_count": 1,
   "metadata": {
    "collapsed": true
   },
   "outputs": [],
   "source": [
    "import json \n",
    "import gzip \n",
    "def parse(path): \n",
    "    g = gzip.open(path, 'r') \n",
    "    for l in g: \n",
    "        yield eval(l)"
   ]
  },
  {
   "cell_type": "markdown",
   "metadata": {},
   "source": [
    "import gensim\n",
    "class MyReviews():\n",
    "\n",
    "\n",
    "    def __iter__(self):\n",
    "\n",
    "        review_item_iterator = iter(parse(\"../../download/word2vec/reviews_Cell_Phones_and_Accessories_w_Cat.json.gz\"))\n",
    "        #for review_item in parse(\"../../download/reviews_Cell_Phones_and_Accessories.json.gz\"): \n",
    "        for it in range(100000):\n",
    "            if it%10000==0:\n",
    "                print(\"it=\"+str(it))\n",
    "            review_item = next(review_item_iterator)\n",
    "            #print(review_item)\n",
    "        #for review_item in self.reviews_cursor:\n",
    "\n",
    "\n",
    "            reviewText = review_item[\"reviewText\"]\n",
    "            label = review_item[\"asin\"] + \"_\" + review_item[\"reviewerID\"] \n",
    "            preprocess_reviewText = gensim.utils.simple_preprocess(reviewText)\n",
    "                  \n",
    "\n",
    "            #yield gensim.models.doc2vec.LabeledSentence(words=preprocess_reviewText, tags=[label])\n",
    "            yield preprocess_reviewText"
   ]
  },
  {
   "cell_type": "code",
   "execution_count": 16,
   "metadata": {},
   "outputs": [],
   "source": [
    "import gensim\n",
    "def myReviews(catFilter = None, asin = None, concatenate = False):\n",
    "    preprocess_reviewText = \"\"\n",
    "    review_item_iterator = iter(parse(\"../../download/word2vec/reviews_Cell_Phones_and_Accessories_w_Cat.json.gz\"))\n",
    "    #for review_item in parse(\"../../download/reviews_Cell_Phones_and_Accessories.json.gz\"): \n",
    "    for it in range(1000000):\n",
    "        if it%10000==0:\n",
    "            print(\"it=\"+str(it))\n",
    "        review_item = next(review_item_iterator)\n",
    "        #print(review_item)\n",
    "    #for review_item in self.reviews_cursor:\n",
    "\n",
    "\n",
    "        reviewText = review_item[\"reviewText\"]\n",
    "        label = review_item[\"asin\"] + \"_\" + review_item[\"reviewerID\"] \n",
    "        preprocess_reviewText_i = gensim.utils.simple_preprocess(reviewText)\n",
    "\n",
    "\n",
    "        #yield gensim.models.doc2vec.LabeledSentence(words=preprocess_reviewText, tags=[label])\n",
    "        if concatenate==False and (catFilter == None or (catFilter in review_item[\"categories\"])) and (asin == None or (asin == review_item[\"asin\"])):\n",
    "            yield preprocess_reviewText_i\n",
    "        if concatenate == True:\n",
    "            preprocess_reviewText += preprocess_reviewText_i\n",
    "    if concatenate == True:\n",
    "        yield preprocess_reviewText"
   ]
  },
  {
   "cell_type": "code",
   "execution_count": 18,
   "metadata": {},
   "outputs": [
    {
     "name": "stdout",
     "output_type": "stream",
     "text": [
      "it=0\n",
      "it=10000\n",
      "it=20000\n",
      "it=30000\n",
      "it=40000\n",
      "it=50000\n",
      "it=60000\n",
      "it=70000\n",
      "it=80000\n",
      "it=90000\n",
      "it=100000\n",
      "it=110000\n",
      "it=120000\n",
      "it=130000\n",
      "it=140000\n",
      "it=150000\n",
      "it=160000\n",
      "it=170000\n",
      "it=180000\n",
      "it=190000\n",
      "it=200000\n",
      "it=210000\n",
      "it=220000\n",
      "it=230000\n",
      "it=240000\n",
      "it=250000\n",
      "it=260000\n",
      "it=270000\n",
      "it=280000\n",
      "it=290000\n",
      "it=300000\n",
      "it=310000\n",
      "it=320000\n",
      "it=330000\n",
      "it=340000\n",
      "it=350000\n",
      "it=360000\n",
      "it=370000\n",
      "it=380000\n",
      "it=390000\n",
      "it=400000\n",
      "it=410000\n",
      "it=420000\n",
      "it=430000\n",
      "it=440000\n",
      "it=450000\n",
      "it=460000\n",
      "it=470000\n",
      "it=480000\n",
      "it=490000\n",
      "it=500000\n",
      "it=510000\n",
      "it=520000\n",
      "it=530000\n",
      "it=540000\n",
      "it=550000\n",
      "it=560000\n",
      "it=570000\n",
      "it=580000\n",
      "it=590000\n",
      "it=600000\n",
      "it=610000\n",
      "it=620000\n",
      "it=630000\n",
      "it=640000\n",
      "it=650000\n",
      "it=660000\n",
      "it=670000\n",
      "it=680000\n",
      "it=690000\n",
      "it=700000\n",
      "it=710000\n",
      "it=720000\n",
      "it=730000\n",
      "it=740000\n",
      "it=750000\n",
      "it=760000\n",
      "it=770000\n",
      "it=780000\n",
      "it=790000\n",
      "it=800000\n",
      "it=810000\n",
      "it=820000\n",
      "it=830000\n",
      "it=840000\n",
      "it=850000\n",
      "it=860000\n",
      "it=870000\n",
      "it=880000\n",
      "it=890000\n",
      "it=900000\n",
      "it=910000\n",
      "it=920000\n",
      "it=930000\n",
      "it=940000\n",
      "it=950000\n",
      "it=960000\n",
      "it=970000\n",
      "it=980000\n",
      "it=990000\n",
      "Dictionary(63565 unique tokens: ['product', 'came', 'exactly', 'as', 'described']...)\n"
     ]
    }
   ],
   "source": [
    "from gensim import corpora, models, similarities\n",
    "\n",
    "dictionary = corpora.Dictionary(myReviews(\"Cell Phones\"))\n",
    "dictionary.save('../../download/word2vec/reviews_Cell_Phones_and_Accessories_w_Cat.dict')  # store the dictionary, for future reference\n",
    "print(dictionary)"
   ]
  },
  {
   "cell_type": "code",
   "execution_count": 19,
   "metadata": {},
   "outputs": [
    {
     "name": "stdout",
     "output_type": "stream",
     "text": [
      "Dictionary(28586 unique tokens: ['product', 'came', 'exactly', 'as', 'described']...)\n"
     ]
    }
   ],
   "source": [
    "from six import iteritems\n",
    "once_ids = [tokenid for tokenid, docfreq in iteritems(dictionary.dfs) if docfreq == 1]\n",
    "dictionary.filter_tokens(once_ids)  # remove stop words and words that appear only once\n",
    "dictionary.compactify()  # remove gaps in id sequence after words that were removed\n",
    "print(dictionary)\n",
    "dictionary.save('../../download/word2vec/reviews_Cell_Phones_and_Accessories_w_Cat.dict')  # store the dictionary, for future reference\n"
   ]
  },
  {
   "cell_type": "code",
   "execution_count": 21,
   "metadata": {
    "collapsed": true
   },
   "outputs": [],
   "source": [
    "\n",
    "def myCorpus(catFilter = None, asin = None, concatenate = False):\n",
    "    for review in myReviews(catFilter,asin,concatenate):\n",
    "    # assume there's one document per line, tokens separated by whitespace\n",
    "        yield dictionary.doc2bow(review)\n"
   ]
  },
  {
   "cell_type": "code",
   "execution_count": 22,
   "metadata": {},
   "outputs": [
    {
     "name": "stdout",
     "output_type": "stream",
     "text": [
      "it=0\n",
      "it=10000\n",
      "it=20000\n",
      "it=30000\n",
      "it=40000\n",
      "it=50000\n",
      "it=60000\n",
      "it=70000\n",
      "it=80000\n",
      "it=90000\n",
      "it=100000\n",
      "it=110000\n",
      "it=120000\n",
      "it=130000\n",
      "it=140000\n",
      "it=150000\n",
      "it=160000\n",
      "it=170000\n",
      "it=180000\n",
      "it=190000\n",
      "it=200000\n",
      "it=210000\n",
      "it=220000\n",
      "it=230000\n",
      "it=240000\n",
      "it=250000\n",
      "it=260000\n",
      "it=270000\n",
      "it=280000\n",
      "it=290000\n",
      "it=300000\n",
      "it=310000\n",
      "it=320000\n",
      "it=330000\n",
      "it=340000\n",
      "it=350000\n",
      "it=360000\n",
      "it=370000\n",
      "it=380000\n",
      "it=390000\n",
      "it=400000\n",
      "it=410000\n",
      "it=420000\n",
      "it=430000\n",
      "it=440000\n",
      "it=450000\n",
      "it=460000\n",
      "it=470000\n",
      "it=480000\n",
      "it=490000\n",
      "it=500000\n",
      "it=510000\n",
      "it=520000\n",
      "it=530000\n",
      "it=540000\n",
      "it=550000\n",
      "it=560000\n",
      "it=570000\n",
      "it=580000\n",
      "it=590000\n",
      "it=600000\n",
      "it=610000\n",
      "it=620000\n",
      "it=630000\n",
      "it=640000\n",
      "it=650000\n",
      "it=660000\n",
      "it=670000\n",
      "it=680000\n",
      "it=690000\n",
      "it=700000\n",
      "it=710000\n",
      "it=720000\n",
      "it=730000\n",
      "it=740000\n",
      "it=750000\n",
      "it=760000\n",
      "it=770000\n",
      "it=780000\n",
      "it=790000\n",
      "it=800000\n",
      "it=810000\n",
      "it=820000\n",
      "it=830000\n",
      "it=840000\n",
      "it=850000\n",
      "it=860000\n",
      "it=870000\n",
      "it=880000\n",
      "it=890000\n",
      "it=900000\n",
      "it=910000\n",
      "it=920000\n",
      "it=930000\n",
      "it=940000\n",
      "it=950000\n",
      "it=960000\n",
      "it=970000\n",
      "it=980000\n",
      "it=990000\n"
     ]
    }
   ],
   "source": [
    "tfidf = models.TfidfModel(myCorpus(\"Cell Phones\"))\n",
    "\n"
   ]
  },
  {
   "cell_type": "code",
   "execution_count": 23,
   "metadata": {
    "collapsed": true
   },
   "outputs": [],
   "source": [
    "tfidf.save('../../download/word2vec/reviews_Cell_Phones_and_Accessories_w_Cat_corpus.dict')"
   ]
  },
  {
   "cell_type": "code",
   "execution_count": 24,
   "metadata": {},
   "outputs": [
    {
     "name": "stdout",
     "output_type": "stream",
     "text": [
      "TfidfModel(num_docs=69127, num_nnz=4450875)\n"
     ]
    }
   ],
   "source": [
    "print(tfidf)"
   ]
  },
  {
   "cell_type": "code",
   "execution_count": 14,
   "metadata": {},
   "outputs": [
    {
     "name": "stdout",
     "output_type": "stream",
     "text": [
      "it=0\n",
      "it=10000\n",
      "it=20000\n",
      "it=30000\n",
      "it=40000\n",
      "it=50000\n",
      "it=60000\n",
      "it=70000\n",
      "it=80000\n",
      "it=90000\n"
     ]
    }
   ],
   "source": [
    "for doc in myCorpus(asin=\"B00F3J4B5S\",concatenate=True):\n",
    "    print(tfidf[doc])"
   ]
  },
  {
   "cell_type": "code",
   "execution_count": null,
   "metadata": {
    "collapsed": true
   },
   "outputs": [],
   "source": []
  }
 ],
 "metadata": {
  "kernelspec": {
   "display_name": "Python 3",
   "language": "python",
   "name": "python3"
  },
  "language_info": {
   "codemirror_mode": {
    "name": "ipython",
    "version": 3
   },
   "file_extension": ".py",
   "mimetype": "text/x-python",
   "name": "python",
   "nbconvert_exporter": "python",
   "pygments_lexer": "ipython3",
   "version": "3.6.1"
  }
 },
 "nbformat": 4,
 "nbformat_minor": 2
}
