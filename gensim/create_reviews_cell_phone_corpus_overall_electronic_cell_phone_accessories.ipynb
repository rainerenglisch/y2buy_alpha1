{
 "cells": [
  {
   "cell_type": "code",
   "execution_count": 1,
   "metadata": {
    "collapsed": true
   },
   "outputs": [],
   "source": [
    "from gensim import corpora, models, similarities\n",
    "import gensim"
   ]
  },
  {
   "cell_type": "code",
   "execution_count": 2,
   "metadata": {
    "collapsed": true
   },
   "outputs": [],
   "source": [
    "import json \n",
    "import gzip \n",
    "#from StringIO import StringIO\n",
    "import urllib.request\n",
    "import requests, zipfile, io\n",
    "import re\n",
    "\n",
    "def parse(url): \n",
    "    if re.match(\"^http\", url):\n",
    "        r = requests.get(url)\n",
    "        g = gzip.open(io.BytesIO(r.content))\n",
    "    else:\n",
    "        g = gzip.open(url, 'r') \n",
    "    for l in g:\n",
    "        yield eval(l)"
   ]
  },
  {
   "cell_type": "markdown",
   "metadata": {
    "collapsed": true
   },
   "source": [
    "import json \n",
    "import gzip \n",
    "def parse(url): \n",
    "    g = gzip.open(url, 'r') \n",
    "    for l in g: \n",
    "        yield eval(l)"
   ]
  },
  {
   "cell_type": "code",
   "execution_count": 3,
   "metadata": {
    "collapsed": true
   },
   "outputs": [],
   "source": [
    "import gensim\n",
    "import nltk\n",
    "stoplist = nltk.corpus.stopwords.words('english')\n",
    "lemma = nltk.stem.wordnet.WordNetLemmatizer()\n",
    "\n",
    "def myReviews(review_files_urls, catFilter = None, asin = None, concatenate = False, max_count = None):\n",
    "    preprocess_reviewText = []\n",
    "    for url in review_files_urls:\n",
    "        print(\"Processing url: \" + url)\n",
    "        review_item_iterator = iter(parse(url))\n",
    "        it = 0\n",
    "        conc_count = 0\n",
    "        for review_item in review_item_iterator:\n",
    "            it += 1\n",
    "            if (max_count is not None) and (it > max_count):\n",
    "                return\n",
    "        #for it in range(1000000):\n",
    "            if it%100000==0:\n",
    "                print(\"it=\"+str(it))\n",
    "\n",
    "            reviewText = review_item[\"reviewText\"]\n",
    "            label = review_item[\"asin\"] + \"_\" + review_item[\"reviewerID\"] \n",
    "            preprocess_reviewText_i = gensim.utils.simple_preprocess(reviewText)\n",
    "            preprocess_reviewText_i = [lemma.lemmatize(word) for word in preprocess_reviewText_i if word not in stoplist]\n",
    "\n",
    "\n",
    "            #yield gensim.models.doc2vec.LabeledSentence(words=preprocess_reviewText, tags=[label])\n",
    "            if (catFilter == None or (catFilter in review_item[\"categories\"])) and (asin == None or (asin == review_item[\"asin\"])):\n",
    "                if concatenate==False:\n",
    "                    yield preprocess_reviewText_i\n",
    "                else:\n",
    "                    conc_count += 1\n",
    "                    preprocess_reviewText.extend(preprocess_reviewText_i)\n",
    "                    print(\"Concatenated count: \"+str(conc_count))\n",
    "    if concatenate == True:\n",
    "        print(\"Return the final text with length: \"+str(len(preprocess_reviewText)))\n",
    "        print(preprocess_reviewText)\n",
    "        yield preprocess_reviewText"
   ]
  },
  {
   "cell_type": "code",
   "execution_count": null,
   "metadata": {
    "collapsed": true
   },
   "outputs": [],
   "source": []
  },
  {
   "cell_type": "markdown",
   "metadata": {},
   "source": [
    "#base_url = \"http://snap.stanford.edu/data/amazon/productGraph/categoryFiles/\"\n",
    "base_url = \"/media/mister/ntfs/Rainer/y2buy/download/amazon_reviews_96_14/\"\n",
    "\n",
    "from bs4 import BeautifulSoup\n",
    "import urllib.request\n",
    "\n",
    "\n",
    "html = urllib.request.urlopen(\"http://snap.stanford.edu/data/amazon/productGraph/categoryFiles/\")\n",
    "soup = BeautifulSoup(html, 'html.parser')\n",
    "#print(soup.prettify())\n",
    "all_html_links = soup.find_all('a')\n",
    "review_file_names = [links[\"href\"] for links in all_html_links if re.match(\"^review.*[^_5|_10].json.gz$\", links[\"href\"])]"
   ]
  },
  {
   "cell_type": "code",
   "execution_count": 4,
   "metadata": {
    "collapsed": true
   },
   "outputs": [],
   "source": [
    "from os import listdir\n",
    "from os.path import isfile, join\n",
    "import re\n",
    "#base_url = \"/media/mister/ntfs/Rainer/y2buy/download/amazon_reviews_96_14/\"\n",
    "base_url = \"/media/mister/Extension/dev/download/word2vec\"\n",
    "onlyfiles = [f for f in listdir(base_url) if isfile(join(base_url, f))]\n",
    "#review_file_names = [file for file in onlyfiles if re.match(\"^review.*[^_5|_10].json.gz$\", file)]\n",
    "review_file_names = [\"reviews_Electronics.json.gz\",\"reviews_Cell_Phones_and_Accessories.json.gz\"]"
   ]
  },
  {
   "cell_type": "markdown",
   "metadata": {},
   "source": [
    "for links in all_html_links:\n",
    "    if re.match(\"^review.*[^_5|_10].json.gz$\", links[\"href\"]):\n",
    "        print(links[\"href\"])"
   ]
  },
  {
   "cell_type": "code",
   "execution_count": 5,
   "metadata": {},
   "outputs": [
    {
     "name": "stdout",
     "output_type": "stream",
     "text": [
      "['reviews_Electronics.json.gz', 'reviews_Cell_Phones_and_Accessories.json.gz']\n"
     ]
    }
   ],
   "source": [
    "\n",
    "\n",
    "review_file_names= [\"reviews_Books_10.json.gz\" if file_name ==\"reviews_Books.json.gz\" else file_name for file_name in review_file_names]\n",
    "print(review_file_names)\n",
    "review_file_urls = [base_url + review_file_name for review_file_name in review_file_names]\n",
    "#print(review_file_urls)"
   ]
  },
  {
   "cell_type": "code",
   "execution_count": 6,
   "metadata": {
    "collapsed": true
   },
   "outputs": [],
   "source": [
    "  \n",
    "import os\n",
    "#dictionaryFileName = '../../download/word2vec/reviews_all.dict'\n",
    "dictionaryFileName = '../../download/word2vec/reviews_electronic_cell_phones.dict'\n",
    "if os.path.isfile(dictionaryFileName)==False:\n",
    "    #dictionary = corpora.Dictionary(myReviews(\"Cell Phones\"))\n",
    "    dictionary = corpora.Dictionary()\n",
    "    for review_file_url in review_file_urls:\n",
    "        dictionary.add_documents(myReviews([review_file_url],max_count = 1000000))\n",
    "        from six import iteritems\n",
    "        once_ids = [tokenid for tokenid, docfreq in iteritems(dictionary.dfs) if docfreq == 1]\n",
    "        dictionary.filter_tokens(once_ids)  # remove stop words and words that appear only once\n",
    "        dictionary.compactify()  # remove gaps in id sequence after words that were removed\n",
    "        print(dictionary)\n",
    "    dictionary.save(dictionaryFileName)  # store the dictionary, for future reference\n",
    "else:\n",
    "    dictionary = corpora.Dictionary.load(dictionaryFileName)\n",
    "\n"
   ]
  },
  {
   "cell_type": "markdown",
   "metadata": {},
   "source": [
    "\n",
    "    \n",
    "import os\n",
    "dictionaryFileName = '../../download/word2vec/reviews_all.dict'\n",
    "if os.path.isfile(dictionaryFileName)==False:\n",
    "    #dictionary = corpora.Dictionary(myReviews(\"Cell Phones\"))\n",
    "    dictionary = corpora.Dictionary(myReviews(review_file_urls))\n",
    "    from six import iteritems\n",
    "    once_ids = [tokenid for tokenid, docfreq in iteritems(dictionary.dfs) if docfreq == 1]\n",
    "    dictionary.filter_tokens(once_ids)  # remove stop words and words that appear only once\n",
    "    dictionary.compactify()  # remove gaps in id sequence after words that were removed\n",
    "    dictionary.save(dictionaryFileName)  # store the dictionary, for future reference\n",
    "else:\n",
    "    dictionary = corpora.Dictionary.load(dictionaryFileName)\n",
    "\n",
    "print(dictionary)"
   ]
  },
  {
   "cell_type": "code",
   "execution_count": 7,
   "metadata": {
    "collapsed": true
   },
   "outputs": [],
   "source": [
    "def myCorpus(review_file_urls, catFilter = None, asin = None, concatenate = False, max_count = None):\n",
    "    for review in myReviews(review_file_urls,catFilter,asin,concatenate,max_count):\n",
    "    # assume there's one document per line, tokens separated by whitespace\n",
    "        yield dictionary.doc2bow(review)"
   ]
  },
  {
   "cell_type": "code",
   "execution_count": 8,
   "metadata": {},
   "outputs": [
    {
     "name": "stdout",
     "output_type": "stream",
     "text": [
      "TfidfModel(num_docs=11271731, num_nnz=349471799)\n"
     ]
    }
   ],
   "source": [
    "import os\n",
    "tfidfFileName ='../../download/word2vec/reviews_electronic_cell_phones.tfidf'\n",
    "\n",
    "if os.path.isfile(tfidfFileName)==False:\n",
    "    #tfidf = models.TfidfModel(myCorpus(review_file_urls,max_count = 1000000))\n",
    "    tfidf = models.TfidfModel(myCorpus(review_file_urls))\n",
    "    tfidf.save(tfidfFileName)\n",
    "else:\n",
    "    tfidf = models.TfidfModel.load(tfidfFileName)\n",
    "print(tfidf)"
   ]
  },
  {
   "cell_type": "code",
   "execution_count": 9,
   "metadata": {
    "collapsed": true
   },
   "outputs": [],
   "source": [
    "import pickle\n",
    "\n",
    "#tfidf_document_FileName ='../../download/word2vec/reviews_cell_phones_review.tfidf'\n",
    "tfidf_document_FileName ='../../download/word2vec/reviews_cell_phone_of_electronic_cell_phones_dict.corpus'\n",
    "if os.path.isfile(tfidf_document_FileName)==False:\n",
    "    document = next(myCorpus(review_file_urls = ['../../download/word2vec/reviews_Cell_Phones_and_Accessories_w_Cat.json.gz'], catFilter=\"Cell Phones\",concatenate=True))\n",
    "    document_tfidf = tfidf[document]  \n",
    "    pickle.dump(document, open(tfidf_document_FileName, 'wb'))\n",
    "else:\n",
    "    document = pickle.load( open( tfidf_document_FileName, \"rb\" ) )\n",
    "    document_tfidf = tfidf[document]  \n",
    "    \n",
    "document_dict = dict((tokenid, count) for tokenid, count in document)\n",
    "    \n",
    "    \n"
   ]
  },
  {
   "cell_type": "code",
   "execution_count": 10,
   "metadata": {
    "collapsed": true
   },
   "outputs": [],
   "source": [
    "import gensim\n",
    "model = gensim.models.Word2Vec.load('../../download/word2vec/myamazonmodel.word2vec')\n",
    "#model = gensim.models.KeyedVectors.load_word2vec_format('../../download/word2vec/GoogleNews-vectors-negative300.bin', binary=True, limit=400000) "
   ]
  },
  {
   "cell_type": "code",
   "execution_count": 84,
   "metadata": {},
   "outputs": [
    {
     "name": "stdout",
     "output_type": "stream",
     "text": [
      "       token  term_freq     tfidf  \\\n",
      "13     phone     424902  0.656997   \n",
      "39      call      36115  0.122114   \n",
      "25    screen      51072  0.105990   \n",
      "19   battery      48257  0.102919   \n",
      "44       sim      17723  0.094905   \n",
      "41      apps      22849  0.093862   \n",
      "38    mobile      20957  0.093014   \n",
      "40   android      21694  0.089413   \n",
      "34      good      63078  0.086899   \n",
      "18       use      59604  0.084637   \n",
      "43     nokia      15863  0.083463   \n",
      "33      text      17968  0.082431   \n",
      "11       one      66062  0.081378   \n",
      "9        get      52578  0.081020   \n",
      "42  unlocked      13680  0.079244   \n",
      "16      like      55524  0.078898   \n",
      "28      card      27391  0.077057   \n",
      "6     camera      32454  0.076974   \n",
      "8       time      45455  0.073625   \n",
      "32   service      23268  0.073229   \n",
      "10       new      32494  0.071657   \n",
      "12      work      58879  0.071420   \n",
      "7    feature      25236  0.070699   \n",
      "24       day      30518  0.068974   \n",
      "0      great      58669  0.068293   \n",
      "22   problem      32263  0.065813   \n",
      "14     would      44839  0.062470   \n",
      "29      cell      16293  0.060545   \n",
      "21      even      29860  0.059641   \n",
      "36   samsung      18165  0.059294   \n",
      "2     really      30587  0.057231   \n",
      "27      life      18610  0.057005   \n",
      "35    iphone      21064  0.056792   \n",
      "30      also      29228  0.055267   \n",
      "15       got      26442  0.054285   \n",
      "5       need      26215  0.053622   \n",
      "3       want      22774  0.053551   \n",
      "23     month      22031  0.053525   \n",
      "26    minute      16706  0.053264   \n",
      "37      data      13432  0.052872   \n",
      "4      thing      24202  0.051630   \n",
      "17      back      24454  0.050851   \n",
      "1        buy      25280  0.050386   \n",
      "20      love      26096  0.050328   \n",
      "31      plan      12493  0.050040   \n",
      "\n",
      "                                          word_vector  \n",
      "13  [-1.04809, -1.02451, -0.955498, -0.361344, 0.3...  \n",
      "39  [-0.33118, -3.82637, 3.85393, 0.325647, 3.1811...  \n",
      "25  [-1.17817, -2.13697, 0.909865, 2.24479, 0.3716...  \n",
      "19  [-4.26823, 0.74218, 1.45559, 2.85068, -2.32551...  \n",
      "44  [0.594038, -1.7372, 1.23972, -1.81601, 0.34559...  \n",
      "41  [-0.17236, 0.09563, 0.858206, 1.95059, -0.3707...  \n",
      "38  [-1.08778, 1.74741, 1.47753, 2.00216, 0.639684...  \n",
      "40  [-3.92958, -0.211284, -0.239311, 4.65345, 0.07...  \n",
      "34  [3.45207, 0.43128, 2.50326, -0.234206, -3.9449...  \n",
      "18  [-0.755003, -3.45269, -0.829976, -1.08235, -0....  \n",
      "43  [-1.18261, -0.477743, -0.686531, 2.5095, -0.90...  \n",
      "33  [-2.60979, -1.7846, 1.99294, 0.919722, 0.50104...  \n",
      "11  [-0.499738, -1.30123, 1.70669, 0.794555, -0.99...  \n",
      "9   [0.238338, 1.01692, -2.55164, -0.600741, -0.27...  \n",
      "42  [-3.4626, -2.06992, 1.08157, -0.139683, 0.8514...  \n",
      "16  [0.159903, -2.33025, 1.81971, 0.949521, -3.421...  \n",
      "28  [-1.26091, 1.49787, 3.60516, -3.56691, -0.7737...  \n",
      "6   [-3.06724, -3.56221, -0.840869, -1.31773, 0.06...  \n",
      "8   [1.15252, 3.8653, 0.850482, -1.21998, 2.03418,...  \n",
      "32  [-1.08432, 0.290756, 1.89266, 0.71016, 2.34464...  \n",
      "10  [-2.00252, -0.477597, -0.237571, -1.05435, -1....  \n",
      "12  [-1.46834, -2.53404, 0.5435, 0.00552435, -0.16...  \n",
      "7   [-1.09418, -2.60068, -0.00812877, 0.39372, -1....  \n",
      "24  [-2.63448, 1.58413, 3.44565, -1.52609, 1.52707...  \n",
      "0   [3.1785, -0.493588, 0.795127, 0.445252, -5.826...  \n",
      "22  [-0.695466, -0.422801, -1.60229, -1.25163, 4.2...  \n",
      "14  [-3.53418, 2.6631, 0.174842, -4.58736, 1.54876...  \n",
      "29  [-3.17013, -2.24704, 0.658841, -0.433813, 2.03...  \n",
      "21  [-0.783466, -0.899299, 0.596079, -0.391793, 1....  \n",
      "36  [-3.8566, -1.78454, -0.176815, 2.77736, -1.190...  \n",
      "2   [1.57089, -1.93966, -2.27516, 2.51011, -0.7271...  \n",
      "27  [-0.386772, -1.93321, -3.69573, 0.0601816, 0.9...  \n",
      "35  [-2.20164, -0.346402, -1.60772, 0.869051, 0.11...  \n",
      "30  [0.873358, -0.846528, 0.0334591, 0.379936, -1....  \n",
      "15  [-0.851994, -0.112172, -2.0928, -3.31671, 3.14...  \n",
      "5   [-2.47604, 2.88859, 3.19035, -2.70316, -0.2936...  \n",
      "3   [-3.18107, 0.833033, 3.96362, -2.19626, 0.9450...  \n",
      "23  [1.13553, -1.51776, 5.93683, -2.81264, 0.75324...  \n",
      "26  [0.15618, -0.744394, 4.57237, -1.06087, 1.1812...  \n",
      "37  [-0.0473071, 2.81662, 0.440743, -0.765499, -1....  \n",
      "4   [0.253269, -0.022746, 3.41679, -0.704885, 2.44...  \n",
      "17  [2.062, -3.03359, 1.87461, 0.768313, -2.10748,...  \n",
      "1   [0.481182, -0.814925, -0.468591, -4.94492, 1.7...  \n",
      "20  [-0.704882, -2.96473, -2.09724, 1.50462, -1.62...  \n",
      "31  [0.145408, 1.78674, 4.48221, -1.03085, 1.08071...  \n"
     ]
    }
   ],
   "source": [
    "import numpy as np\n",
    "import pandas as pd\n",
    "tbl =[[dictionary.get(tokenid), document_dict[tokenid], tfidf_value ,model.wv[dictionary.get(tokenid)] ] for (tokenid,tfidf_value) in document_tfidf if tfidf_value > 0.05 and dictionary.get(tokenid) in model.wv]\n",
    "\n",
    "df = pd.DataFrame(data=tbl,\n",
    "                  columns=[\"token\",\"term_freq\",\"tfidf\", \"word_vector\"]\n",
    "                  )\n",
    "df = df.sort_values('tfidf', ascending=False)\n",
    "df.set_index(\"token\")\n",
    "print(df)"
   ]
  },
  {
   "cell_type": "code",
   "execution_count": 85,
   "metadata": {
    "collapsed": true
   },
   "outputs": [],
   "source": [
    "import nltk\n",
    "from nltk.cluster.kmeans import KMeansClusterer\n",
    "nc = 5\n",
    "data = df.loc[:,\"word_vector\"]\n",
    "#print(data)\n",
    "kclusterer = KMeansClusterer(nc, distance=nltk.cluster.util.cosine_distance, avoid_empty_clusters=True) #repeats=30,\n",
    "assigned_clusters = kclusterer.cluster(data, assign_clusters=True)\n",
    "#print(assigned_clusters)\n",
    "means = np.asarray( kclusterer.means())\n"
   ]
  },
  {
   "cell_type": "code",
   "execution_count": 86,
   "metadata": {
    "collapsed": true
   },
   "outputs": [],
   "source": [
    "df[\"cluster_kmeans\"] = pd.Series(assigned_clusters, index=df.index)"
   ]
  },
  {
   "cell_type": "code",
   "execution_count": 87,
   "metadata": {},
   "outputs": [
    {
     "name": "stdout",
     "output_type": "stream",
     "text": [
      "[[-1.04809 -1.02451 -0.9555  ...,  0.02164  0.16549  0.51798]\n",
      " [-0.33118 -3.82637  3.85393 ..., -1.22355  2.777    0.77693]\n",
      " [-1.17817 -2.13697  0.90986 ...,  3.1373  -2.25148 -1.03483]\n",
      " ..., \n",
      " [ 0.48118 -0.81493 -0.46859 ..., -1.52405  1.52433  0.21068]\n",
      " [-0.70488 -2.96473 -2.09724 ...,  0.13413  1.25594  0.41133]\n",
      " [ 0.14541  1.78674  4.48221 ..., -1.27275  1.58146  3.62919]]\n"
     ]
    }
   ],
   "source": [
    "data = np.array([row for row in data])\n",
    "print(data)\n"
   ]
  },
  {
   "cell_type": "code",
   "execution_count": 88,
   "metadata": {
    "collapsed": true
   },
   "outputs": [],
   "source": [
    "#print(data.shape)\n",
    "#print(data[0].shape)\n",
    "#print(type(data[0]))\n",
    "#print(data[0])"
   ]
  },
  {
   "cell_type": "code",
   "execution_count": 89,
   "metadata": {},
   "outputs": [
    {
     "name": "stdout",
     "output_type": "stream",
     "text": [
      "45\n",
      "[ 0 -1 -1 -1 -1  1  1  1  2 -1  1 -1 -1 -1 -1 -1 -1 -1  3 -1 -1 -1 -1  3  2\n",
      " -1 -1  1 -1  1 -1 -1  0 -1 -1  4  4  3  3 -1 -1 -1 -1 -1 -1]\n",
      "5\n"
     ]
    }
   ],
   "source": [
    "from sklearn.cluster import DBSCAN\n",
    "from sklearn import metrics\n",
    "\n",
    "\n",
    "#db = DBSCAN(eps=0.03, min_samples=10).fit(data)\n",
    "db = DBSCAN(min_samples=2, metric='cosine', algorithm='brute').fit(data) #metric=\"cosine\"\n",
    "core_samples_mask = np.zeros_like(db.labels_, dtype=bool)\n",
    "core_samples_mask[db.core_sample_indices_] = True\n",
    "labels = db.labels_\n",
    "print(len(labels))\n",
    "print(labels)\n",
    "# Number of clusters in labels, ignoring noise if present.\n",
    "n_clusters_ = len(set(labels)) - (1 if -1 in labels else 0)\n",
    "print(n_clusters_)\n",
    "\n",
    "#print('Estimated number of clusters: %d' % n_clusters_)\n",
    "#print(\"Homogeneity: %0.3f\" % metrics.homogeneity_score(labels_true, labels))\n",
    "#print(\"Completeness: %0.3f\" % metrics.completeness_score(labels_true, labels))\n",
    "#print(\"V-measure: %0.3f\" % metrics.v_measure_score(labels_true, labels))\n",
    "#print(\"Adjusted Rand Index: %0.3f\"\n",
    "#      % metrics.adjusted_rand_score(labels_true, labels))\n",
    "#print(\"Adjusted Mutual Information: %0.3f\"\n",
    "#      % metrics.adjusted_mutual_info_score(labels_true, labels))\n",
    "#print(\"Silhouette Coefficient: %0.3f\"\n",
    "#      % metrics.silhouette_score(X, labels))"
   ]
  },
  {
   "cell_type": "code",
   "execution_count": 90,
   "metadata": {},
   "outputs": [
    {
     "name": "stdout",
     "output_type": "stream",
     "text": [
      "(45, 6)\n",
      "       token  term_freq     tfidf  \\\n",
      "13     phone     424902  0.656997   \n",
      "39      call      36115  0.122114   \n",
      "25    screen      51072  0.105990   \n",
      "19   battery      48257  0.102919   \n",
      "44       sim      17723  0.094905   \n",
      "41      apps      22849  0.093862   \n",
      "38    mobile      20957  0.093014   \n",
      "40   android      21694  0.089413   \n",
      "34      good      63078  0.086899   \n",
      "18       use      59604  0.084637   \n",
      "43     nokia      15863  0.083463   \n",
      "33      text      17968  0.082431   \n",
      "11       one      66062  0.081378   \n",
      "9        get      52578  0.081020   \n",
      "42  unlocked      13680  0.079244   \n",
      "16      like      55524  0.078898   \n",
      "28      card      27391  0.077057   \n",
      "6     camera      32454  0.076974   \n",
      "8       time      45455  0.073625   \n",
      "32   service      23268  0.073229   \n",
      "10       new      32494  0.071657   \n",
      "12      work      58879  0.071420   \n",
      "7    feature      25236  0.070699   \n",
      "24       day      30518  0.068974   \n",
      "0      great      58669  0.068293   \n",
      "22   problem      32263  0.065813   \n",
      "14     would      44839  0.062470   \n",
      "29      cell      16293  0.060545   \n",
      "21      even      29860  0.059641   \n",
      "36   samsung      18165  0.059294   \n",
      "2     really      30587  0.057231   \n",
      "27      life      18610  0.057005   \n",
      "35    iphone      21064  0.056792   \n",
      "30      also      29228  0.055267   \n",
      "15       got      26442  0.054285   \n",
      "5       need      26215  0.053622   \n",
      "3       want      22774  0.053551   \n",
      "23     month      22031  0.053525   \n",
      "26    minute      16706  0.053264   \n",
      "37      data      13432  0.052872   \n",
      "4      thing      24202  0.051630   \n",
      "17      back      24454  0.050851   \n",
      "1        buy      25280  0.050386   \n",
      "20      love      26096  0.050328   \n",
      "31      plan      12493  0.050040   \n",
      "\n",
      "                                          word_vector  cluster_kmeans  \\\n",
      "13  [-1.04809, -1.02451, -0.955498, -0.361344, 0.3...               3   \n",
      "39  [-0.33118, -3.82637, 3.85393, 0.325647, 3.1811...               4   \n",
      "25  [-1.17817, -2.13697, 0.909865, 2.24479, 0.3716...               3   \n",
      "19  [-4.26823, 0.74218, 1.45559, 2.85068, -2.32551...               3   \n",
      "44  [0.594038, -1.7372, 1.23972, -1.81601, 0.34559...               3   \n",
      "41  [-0.17236, 0.09563, 0.858206, 1.95059, -0.3707...               2   \n",
      "38  [-1.08778, 1.74741, 1.47753, 2.00216, 0.639684...               2   \n",
      "40  [-3.92958, -0.211284, -0.239311, 4.65345, 0.07...               2   \n",
      "34  [3.45207, 0.43128, 2.50326, -0.234206, -3.9449...               1   \n",
      "18  [-0.755003, -3.45269, -0.829976, -1.08235, -0....               0   \n",
      "43  [-1.18261, -0.477743, -0.686531, 2.5095, -0.90...               2   \n",
      "33  [-2.60979, -1.7846, 1.99294, 0.919722, 0.50104...               2   \n",
      "11  [-0.499738, -1.30123, 1.70669, 0.794555, -0.99...               3   \n",
      "9   [0.238338, 1.01692, -2.55164, -0.600741, -0.27...               0   \n",
      "42  [-3.4626, -2.06992, 1.08157, -0.139683, 0.8514...               2   \n",
      "16  [0.159903, -2.33025, 1.81971, 0.949521, -3.421...               0   \n",
      "28  [-1.26091, 1.49787, 3.60516, -3.56691, -0.7737...               3   \n",
      "6   [-3.06724, -3.56221, -0.840869, -1.31773, 0.06...               3   \n",
      "8   [1.15252, 3.8653, 0.850482, -1.21998, 2.03418,...               3   \n",
      "32  [-1.08432, 0.290756, 1.89266, 0.71016, 2.34464...               4   \n",
      "10  [-2.00252, -0.477597, -0.237571, -1.05435, -1....               1   \n",
      "12  [-1.46834, -2.53404, 0.5435, 0.00552435, -0.16...               0   \n",
      "7   [-1.09418, -2.60068, -0.00812877, 0.39372, -1....               2   \n",
      "24  [-2.63448, 1.58413, 3.44565, -1.52609, 1.52707...               4   \n",
      "0   [3.1785, -0.493588, 0.795127, 0.445252, -5.826...               1   \n",
      "22  [-0.695466, -0.422801, -1.60229, -1.25163, 4.2...               3   \n",
      "14  [-3.53418, 2.6631, 0.174842, -4.58736, 1.54876...               1   \n",
      "29  [-3.17013, -2.24704, 0.658841, -0.433813, 2.03...               2   \n",
      "21  [-0.783466, -0.899299, 0.596079, -0.391793, 1....               3   \n",
      "36  [-3.8566, -1.78454, -0.176815, 2.77736, -1.190...               2   \n",
      "2   [1.57089, -1.93966, -2.27516, 2.51011, -0.7271...               2   \n",
      "27  [-0.386772, -1.93321, -3.69573, 0.0601816, 0.9...               4   \n",
      "35  [-2.20164, -0.346402, -1.60772, 0.869051, 0.11...               3   \n",
      "30  [0.873358, -0.846528, 0.0334591, 0.379936, -1....               3   \n",
      "15  [-0.851994, -0.112172, -2.0928, -3.31671, 3.14...               1   \n",
      "5   [-2.47604, 2.88859, 3.19035, -2.70316, -0.2936...               0   \n",
      "3   [-3.18107, 0.833033, 3.96362, -2.19626, 0.9450...               0   \n",
      "23  [1.13553, -1.51776, 5.93683, -2.81264, 0.75324...               3   \n",
      "26  [0.15618, -0.744394, 4.57237, -1.06087, 1.1812...               3   \n",
      "37  [-0.0473071, 2.81662, 0.440743, -0.765499, -1....               2   \n",
      "4   [0.253269, -0.022746, 3.41679, -0.704885, 2.44...               3   \n",
      "17  [2.062, -3.03359, 1.87461, 0.768313, -2.10748,...               3   \n",
      "1   [0.481182, -0.814925, -0.468591, -4.94492, 1.7...               0   \n",
      "20  [-0.704882, -2.96473, -2.09724, 1.50462, -1.62...               0   \n",
      "31  [0.145408, 1.78674, 4.48221, -1.03085, 1.08071...               0   \n",
      "\n",
      "    cluster_dbscan  \n",
      "13               0  \n",
      "39              -1  \n",
      "25              -1  \n",
      "19              -1  \n",
      "44              -1  \n",
      "41               1  \n",
      "38               1  \n",
      "40               1  \n",
      "34               2  \n",
      "18              -1  \n",
      "43               1  \n",
      "33              -1  \n",
      "11              -1  \n",
      "9               -1  \n",
      "42              -1  \n",
      "16              -1  \n",
      "28              -1  \n",
      "6               -1  \n",
      "8                3  \n",
      "32              -1  \n",
      "10              -1  \n",
      "12              -1  \n",
      "7               -1  \n",
      "24               3  \n",
      "0                2  \n",
      "22              -1  \n",
      "14              -1  \n",
      "29               1  \n",
      "21              -1  \n",
      "36               1  \n",
      "2               -1  \n",
      "27              -1  \n",
      "35               0  \n",
      "30              -1  \n",
      "15              -1  \n",
      "5                4  \n",
      "3                4  \n",
      "23               3  \n",
      "26               3  \n",
      "37              -1  \n",
      "4               -1  \n",
      "17              -1  \n",
      "1               -1  \n",
      "20              -1  \n",
      "31              -1  \n"
     ]
    }
   ],
   "source": [
    "df[\"cluster_dbscan\"] = pd.Series(labels, index=df.index)\n",
    "\n",
    "print(df.shape)\n",
    "print(df)"
   ]
  },
  {
   "cell_type": "code",
   "execution_count": 91,
   "metadata": {},
   "outputs": [
    {
     "name": "stdout",
     "output_type": "stream",
     "text": [
      "(45, 7)\n",
      "       token  term_freq     tfidf  \\\n",
      "13     phone     424902  0.656997   \n",
      "39      call      36115  0.122114   \n",
      "25    screen      51072  0.105990   \n",
      "19   battery      48257  0.102919   \n",
      "44       sim      17723  0.094905   \n",
      "41      apps      22849  0.093862   \n",
      "38    mobile      20957  0.093014   \n",
      "40   android      21694  0.089413   \n",
      "34      good      63078  0.086899   \n",
      "18       use      59604  0.084637   \n",
      "43     nokia      15863  0.083463   \n",
      "33      text      17968  0.082431   \n",
      "11       one      66062  0.081378   \n",
      "9        get      52578  0.081020   \n",
      "42  unlocked      13680  0.079244   \n",
      "16      like      55524  0.078898   \n",
      "28      card      27391  0.077057   \n",
      "6     camera      32454  0.076974   \n",
      "8       time      45455  0.073625   \n",
      "32   service      23268  0.073229   \n",
      "10       new      32494  0.071657   \n",
      "12      work      58879  0.071420   \n",
      "7    feature      25236  0.070699   \n",
      "24       day      30518  0.068974   \n",
      "0      great      58669  0.068293   \n",
      "22   problem      32263  0.065813   \n",
      "14     would      44839  0.062470   \n",
      "29      cell      16293  0.060545   \n",
      "21      even      29860  0.059641   \n",
      "36   samsung      18165  0.059294   \n",
      "2     really      30587  0.057231   \n",
      "27      life      18610  0.057005   \n",
      "35    iphone      21064  0.056792   \n",
      "30      also      29228  0.055267   \n",
      "15       got      26442  0.054285   \n",
      "5       need      26215  0.053622   \n",
      "3       want      22774  0.053551   \n",
      "23     month      22031  0.053525   \n",
      "26    minute      16706  0.053264   \n",
      "37      data      13432  0.052872   \n",
      "4      thing      24202  0.051630   \n",
      "17      back      24454  0.050851   \n",
      "1        buy      25280  0.050386   \n",
      "20      love      26096  0.050328   \n",
      "31      plan      12493  0.050040   \n",
      "\n",
      "                                          word_vector  cluster_kmeans  \\\n",
      "13  [-1.04809, -1.02451, -0.955498, -0.361344, 0.3...               3   \n",
      "39  [-0.33118, -3.82637, 3.85393, 0.325647, 3.1811...               4   \n",
      "25  [-1.17817, -2.13697, 0.909865, 2.24479, 0.3716...               3   \n",
      "19  [-4.26823, 0.74218, 1.45559, 2.85068, -2.32551...               3   \n",
      "44  [0.594038, -1.7372, 1.23972, -1.81601, 0.34559...               3   \n",
      "41  [-0.17236, 0.09563, 0.858206, 1.95059, -0.3707...               2   \n",
      "38  [-1.08778, 1.74741, 1.47753, 2.00216, 0.639684...               2   \n",
      "40  [-3.92958, -0.211284, -0.239311, 4.65345, 0.07...               2   \n",
      "34  [3.45207, 0.43128, 2.50326, -0.234206, -3.9449...               1   \n",
      "18  [-0.755003, -3.45269, -0.829976, -1.08235, -0....               0   \n",
      "43  [-1.18261, -0.477743, -0.686531, 2.5095, -0.90...               2   \n",
      "33  [-2.60979, -1.7846, 1.99294, 0.919722, 0.50104...               2   \n",
      "11  [-0.499738, -1.30123, 1.70669, 0.794555, -0.99...               3   \n",
      "9   [0.238338, 1.01692, -2.55164, -0.600741, -0.27...               0   \n",
      "42  [-3.4626, -2.06992, 1.08157, -0.139683, 0.8514...               2   \n",
      "16  [0.159903, -2.33025, 1.81971, 0.949521, -3.421...               0   \n",
      "28  [-1.26091, 1.49787, 3.60516, -3.56691, -0.7737...               3   \n",
      "6   [-3.06724, -3.56221, -0.840869, -1.31773, 0.06...               3   \n",
      "8   [1.15252, 3.8653, 0.850482, -1.21998, 2.03418,...               3   \n",
      "32  [-1.08432, 0.290756, 1.89266, 0.71016, 2.34464...               4   \n",
      "10  [-2.00252, -0.477597, -0.237571, -1.05435, -1....               1   \n",
      "12  [-1.46834, -2.53404, 0.5435, 0.00552435, -0.16...               0   \n",
      "7   [-1.09418, -2.60068, -0.00812877, 0.39372, -1....               2   \n",
      "24  [-2.63448, 1.58413, 3.44565, -1.52609, 1.52707...               4   \n",
      "0   [3.1785, -0.493588, 0.795127, 0.445252, -5.826...               1   \n",
      "22  [-0.695466, -0.422801, -1.60229, -1.25163, 4.2...               3   \n",
      "14  [-3.53418, 2.6631, 0.174842, -4.58736, 1.54876...               1   \n",
      "29  [-3.17013, -2.24704, 0.658841, -0.433813, 2.03...               2   \n",
      "21  [-0.783466, -0.899299, 0.596079, -0.391793, 1....               3   \n",
      "36  [-3.8566, -1.78454, -0.176815, 2.77736, -1.190...               2   \n",
      "2   [1.57089, -1.93966, -2.27516, 2.51011, -0.7271...               2   \n",
      "27  [-0.386772, -1.93321, -3.69573, 0.0601816, 0.9...               4   \n",
      "35  [-2.20164, -0.346402, -1.60772, 0.869051, 0.11...               3   \n",
      "30  [0.873358, -0.846528, 0.0334591, 0.379936, -1....               3   \n",
      "15  [-0.851994, -0.112172, -2.0928, -3.31671, 3.14...               1   \n",
      "5   [-2.47604, 2.88859, 3.19035, -2.70316, -0.2936...               0   \n",
      "3   [-3.18107, 0.833033, 3.96362, -2.19626, 0.9450...               0   \n",
      "23  [1.13553, -1.51776, 5.93683, -2.81264, 0.75324...               3   \n",
      "26  [0.15618, -0.744394, 4.57237, -1.06087, 1.1812...               3   \n",
      "37  [-0.0473071, 2.81662, 0.440743, -0.765499, -1....               2   \n",
      "4   [0.253269, -0.022746, 3.41679, -0.704885, 2.44...               3   \n",
      "17  [2.062, -3.03359, 1.87461, 0.768313, -2.10748,...               3   \n",
      "1   [0.481182, -0.814925, -0.468591, -4.94492, 1.7...               0   \n",
      "20  [-0.704882, -2.96473, -2.09724, 1.50462, -1.62...               0   \n",
      "31  [0.145408, 1.78674, 4.48221, -1.03085, 1.08071...               0   \n",
      "\n",
      "    cluster_dbscan                                           centroid  \n",
      "13               0  [-0.5485034584999084, -0.7181438207626343, 1.3...  \n",
      "39              -1  [-1.1093389987945557, -0.9712454080581665, 1.3...  \n",
      "25              -1  [-0.5485034584999084, -0.7181438207626343, 1.3...  \n",
      "19              -1  [-0.5485034584999084, -0.7181438207626343, 1.3...  \n",
      "44              -1  [-0.5485034584999084, -0.7181438207626343, 1.3...  \n",
      "41               1  [-1.7310938835144043, -0.7687100768089294, 0.2...  \n",
      "38               1  [-1.7310938835144043, -0.7687100768089294, 0.2...  \n",
      "40               1  [-1.7310938835144043, -0.7687100768089294, 0.2...  \n",
      "34               2  [0.04837524890899658, 0.4022044837474823, 0.22...  \n",
      "18              -1  [-0.8400554656982422, -0.6190397143363953, 0.8...  \n",
      "43               1  [-1.7310938835144043, -0.7687100768089294, 0.2...  \n",
      "33              -1  [-1.7310938835144043, -0.7687100768089294, 0.2...  \n",
      "11              -1  [-0.5485034584999084, -0.7181438207626343, 1.3...  \n",
      "9               -1  [-0.8400554656982422, -0.6190397143363953, 0.8...  \n",
      "42              -1  [-1.7310938835144043, -0.7687100768089294, 0.2...  \n",
      "16              -1  [-0.8400554656982422, -0.6190397143363953, 0.8...  \n",
      "28              -1  [-0.5485034584999084, -0.7181438207626343, 1.3...  \n",
      "6               -1  [-0.5485034584999084, -0.7181438207626343, 1.3...  \n",
      "8                3  [-0.5485034584999084, -0.7181438207626343, 1.3...  \n",
      "32              -1  [-1.1093389987945557, -0.9712454080581665, 1.3...  \n",
      "10              -1  [0.04837524890899658, 0.4022044837474823, 0.22...  \n",
      "12              -1  [-0.8400554656982422, -0.6190397143363953, 0.8...  \n",
      "7               -1  [-1.7310938835144043, -0.7687100768089294, 0.2...  \n",
      "24               3  [-1.1093389987945557, -0.9712454080581665, 1.3...  \n",
      "0                2  [0.04837524890899658, 0.4022044837474823, 0.22...  \n",
      "22              -1  [-0.5485034584999084, -0.7181438207626343, 1.3...  \n",
      "14              -1  [0.04837524890899658, 0.4022044837474823, 0.22...  \n",
      "29               1  [-1.7310938835144043, -0.7687100768089294, 0.2...  \n",
      "21              -1  [-0.5485034584999084, -0.7181438207626343, 1.3...  \n",
      "36               1  [-1.7310938835144043, -0.7687100768089294, 0.2...  \n",
      "2               -1  [-1.7310938835144043, -0.7687100768089294, 0.2...  \n",
      "27              -1  [-1.1093389987945557, -0.9712454080581665, 1.3...  \n",
      "35               0  [-0.5485034584999084, -0.7181438207626343, 1.3...  \n",
      "30              -1  [-0.5485034584999084, -0.7181438207626343, 1.3...  \n",
      "15              -1  [0.04837524890899658, 0.4022044837474823, 0.22...  \n",
      "5                4  [-0.8400554656982422, -0.6190397143363953, 0.8...  \n",
      "3                4  [-0.8400554656982422, -0.6190397143363953, 0.8...  \n",
      "23               3  [-0.5485034584999084, -0.7181438207626343, 1.3...  \n",
      "26               3  [-0.5485034584999084, -0.7181438207626343, 1.3...  \n",
      "37              -1  [-1.7310938835144043, -0.7687100768089294, 0.2...  \n",
      "4               -1  [-0.5485034584999084, -0.7181438207626343, 1.3...  \n",
      "17              -1  [-0.5485034584999084, -0.7181438207626343, 1.3...  \n",
      "1               -1  [-0.8400554656982422, -0.6190397143363953, 0.8...  \n",
      "20              -1  [-0.8400554656982422, -0.6190397143363953, 0.8...  \n",
      "31              -1  [-0.8400554656982422, -0.6190397143363953, 0.8...  \n"
     ]
    }
   ],
   "source": [
    "df[\"centroid\"] = pd.Series( means[assigned_clusters].tolist(), index=df.index)\n",
    "\n",
    "print(df.shape)\n",
    "print(df)\n"
   ]
  },
  {
   "cell_type": "code",
   "execution_count": 92,
   "metadata": {},
   "outputs": [
    {
     "name": "stdout",
     "output_type": "stream",
     "text": [
      "(45, 8)\n",
      "       token  term_freq     tfidf  \\\n",
      "13     phone     424902  0.656997   \n",
      "39      call      36115  0.122114   \n",
      "25    screen      51072  0.105990   \n",
      "19   battery      48257  0.102919   \n",
      "44       sim      17723  0.094905   \n",
      "41      apps      22849  0.093862   \n",
      "38    mobile      20957  0.093014   \n",
      "40   android      21694  0.089413   \n",
      "34      good      63078  0.086899   \n",
      "18       use      59604  0.084637   \n",
      "43     nokia      15863  0.083463   \n",
      "33      text      17968  0.082431   \n",
      "11       one      66062  0.081378   \n",
      "9        get      52578  0.081020   \n",
      "42  unlocked      13680  0.079244   \n",
      "16      like      55524  0.078898   \n",
      "28      card      27391  0.077057   \n",
      "6     camera      32454  0.076974   \n",
      "8       time      45455  0.073625   \n",
      "32   service      23268  0.073229   \n",
      "10       new      32494  0.071657   \n",
      "12      work      58879  0.071420   \n",
      "7    feature      25236  0.070699   \n",
      "24       day      30518  0.068974   \n",
      "0      great      58669  0.068293   \n",
      "22   problem      32263  0.065813   \n",
      "14     would      44839  0.062470   \n",
      "29      cell      16293  0.060545   \n",
      "21      even      29860  0.059641   \n",
      "36   samsung      18165  0.059294   \n",
      "2     really      30587  0.057231   \n",
      "27      life      18610  0.057005   \n",
      "35    iphone      21064  0.056792   \n",
      "30      also      29228  0.055267   \n",
      "15       got      26442  0.054285   \n",
      "5       need      26215  0.053622   \n",
      "3       want      22774  0.053551   \n",
      "23     month      22031  0.053525   \n",
      "26    minute      16706  0.053264   \n",
      "37      data      13432  0.052872   \n",
      "4      thing      24202  0.051630   \n",
      "17      back      24454  0.050851   \n",
      "1        buy      25280  0.050386   \n",
      "20      love      26096  0.050328   \n",
      "31      plan      12493  0.050040   \n",
      "\n",
      "                                          word_vector  cluster_kmeans  \\\n",
      "13  [-1.04809, -1.02451, -0.955498, -0.361344, 0.3...               3   \n",
      "39  [-0.33118, -3.82637, 3.85393, 0.325647, 3.1811...               4   \n",
      "25  [-1.17817, -2.13697, 0.909865, 2.24479, 0.3716...               3   \n",
      "19  [-4.26823, 0.74218, 1.45559, 2.85068, -2.32551...               3   \n",
      "44  [0.594038, -1.7372, 1.23972, -1.81601, 0.34559...               3   \n",
      "41  [-0.17236, 0.09563, 0.858206, 1.95059, -0.3707...               2   \n",
      "38  [-1.08778, 1.74741, 1.47753, 2.00216, 0.639684...               2   \n",
      "40  [-3.92958, -0.211284, -0.239311, 4.65345, 0.07...               2   \n",
      "34  [3.45207, 0.43128, 2.50326, -0.234206, -3.9449...               1   \n",
      "18  [-0.755003, -3.45269, -0.829976, -1.08235, -0....               0   \n",
      "43  [-1.18261, -0.477743, -0.686531, 2.5095, -0.90...               2   \n",
      "33  [-2.60979, -1.7846, 1.99294, 0.919722, 0.50104...               2   \n",
      "11  [-0.499738, -1.30123, 1.70669, 0.794555, -0.99...               3   \n",
      "9   [0.238338, 1.01692, -2.55164, -0.600741, -0.27...               0   \n",
      "42  [-3.4626, -2.06992, 1.08157, -0.139683, 0.8514...               2   \n",
      "16  [0.159903, -2.33025, 1.81971, 0.949521, -3.421...               0   \n",
      "28  [-1.26091, 1.49787, 3.60516, -3.56691, -0.7737...               3   \n",
      "6   [-3.06724, -3.56221, -0.840869, -1.31773, 0.06...               3   \n",
      "8   [1.15252, 3.8653, 0.850482, -1.21998, 2.03418,...               3   \n",
      "32  [-1.08432, 0.290756, 1.89266, 0.71016, 2.34464...               4   \n",
      "10  [-2.00252, -0.477597, -0.237571, -1.05435, -1....               1   \n",
      "12  [-1.46834, -2.53404, 0.5435, 0.00552435, -0.16...               0   \n",
      "7   [-1.09418, -2.60068, -0.00812877, 0.39372, -1....               2   \n",
      "24  [-2.63448, 1.58413, 3.44565, -1.52609, 1.52707...               4   \n",
      "0   [3.1785, -0.493588, 0.795127, 0.445252, -5.826...               1   \n",
      "22  [-0.695466, -0.422801, -1.60229, -1.25163, 4.2...               3   \n",
      "14  [-3.53418, 2.6631, 0.174842, -4.58736, 1.54876...               1   \n",
      "29  [-3.17013, -2.24704, 0.658841, -0.433813, 2.03...               2   \n",
      "21  [-0.783466, -0.899299, 0.596079, -0.391793, 1....               3   \n",
      "36  [-3.8566, -1.78454, -0.176815, 2.77736, -1.190...               2   \n",
      "2   [1.57089, -1.93966, -2.27516, 2.51011, -0.7271...               2   \n",
      "27  [-0.386772, -1.93321, -3.69573, 0.0601816, 0.9...               4   \n",
      "35  [-2.20164, -0.346402, -1.60772, 0.869051, 0.11...               3   \n",
      "30  [0.873358, -0.846528, 0.0334591, 0.379936, -1....               3   \n",
      "15  [-0.851994, -0.112172, -2.0928, -3.31671, 3.14...               1   \n",
      "5   [-2.47604, 2.88859, 3.19035, -2.70316, -0.2936...               0   \n",
      "3   [-3.18107, 0.833033, 3.96362, -2.19626, 0.9450...               0   \n",
      "23  [1.13553, -1.51776, 5.93683, -2.81264, 0.75324...               3   \n",
      "26  [0.15618, -0.744394, 4.57237, -1.06087, 1.1812...               3   \n",
      "37  [-0.0473071, 2.81662, 0.440743, -0.765499, -1....               2   \n",
      "4   [0.253269, -0.022746, 3.41679, -0.704885, 2.44...               3   \n",
      "17  [2.062, -3.03359, 1.87461, 0.768313, -2.10748,...               3   \n",
      "1   [0.481182, -0.814925, -0.468591, -4.94492, 1.7...               0   \n",
      "20  [-0.704882, -2.96473, -2.09724, 1.50462, -1.62...               0   \n",
      "31  [0.145408, 1.78674, 4.48221, -1.03085, 1.08071...               0   \n",
      "\n",
      "    cluster_dbscan                                           centroid  \\\n",
      "13               0  [-0.5485034584999084, -0.7181438207626343, 1.3...   \n",
      "39              -1  [-1.1093389987945557, -0.9712454080581665, 1.3...   \n",
      "25              -1  [-0.5485034584999084, -0.7181438207626343, 1.3...   \n",
      "19              -1  [-0.5485034584999084, -0.7181438207626343, 1.3...   \n",
      "44              -1  [-0.5485034584999084, -0.7181438207626343, 1.3...   \n",
      "41               1  [-1.7310938835144043, -0.7687100768089294, 0.2...   \n",
      "38               1  [-1.7310938835144043, -0.7687100768089294, 0.2...   \n",
      "40               1  [-1.7310938835144043, -0.7687100768089294, 0.2...   \n",
      "34               2  [0.04837524890899658, 0.4022044837474823, 0.22...   \n",
      "18              -1  [-0.8400554656982422, -0.6190397143363953, 0.8...   \n",
      "43               1  [-1.7310938835144043, -0.7687100768089294, 0.2...   \n",
      "33              -1  [-1.7310938835144043, -0.7687100768089294, 0.2...   \n",
      "11              -1  [-0.5485034584999084, -0.7181438207626343, 1.3...   \n",
      "9               -1  [-0.8400554656982422, -0.6190397143363953, 0.8...   \n",
      "42              -1  [-1.7310938835144043, -0.7687100768089294, 0.2...   \n",
      "16              -1  [-0.8400554656982422, -0.6190397143363953, 0.8...   \n",
      "28              -1  [-0.5485034584999084, -0.7181438207626343, 1.3...   \n",
      "6               -1  [-0.5485034584999084, -0.7181438207626343, 1.3...   \n",
      "8                3  [-0.5485034584999084, -0.7181438207626343, 1.3...   \n",
      "32              -1  [-1.1093389987945557, -0.9712454080581665, 1.3...   \n",
      "10              -1  [0.04837524890899658, 0.4022044837474823, 0.22...   \n",
      "12              -1  [-0.8400554656982422, -0.6190397143363953, 0.8...   \n",
      "7               -1  [-1.7310938835144043, -0.7687100768089294, 0.2...   \n",
      "24               3  [-1.1093389987945557, -0.9712454080581665, 1.3...   \n",
      "0                2  [0.04837524890899658, 0.4022044837474823, 0.22...   \n",
      "22              -1  [-0.5485034584999084, -0.7181438207626343, 1.3...   \n",
      "14              -1  [0.04837524890899658, 0.4022044837474823, 0.22...   \n",
      "29               1  [-1.7310938835144043, -0.7687100768089294, 0.2...   \n",
      "21              -1  [-0.5485034584999084, -0.7181438207626343, 1.3...   \n",
      "36               1  [-1.7310938835144043, -0.7687100768089294, 0.2...   \n",
      "2               -1  [-1.7310938835144043, -0.7687100768089294, 0.2...   \n",
      "27              -1  [-1.1093389987945557, -0.9712454080581665, 1.3...   \n",
      "35               0  [-0.5485034584999084, -0.7181438207626343, 1.3...   \n",
      "30              -1  [-0.5485034584999084, -0.7181438207626343, 1.3...   \n",
      "15              -1  [0.04837524890899658, 0.4022044837474823, 0.22...   \n",
      "5                4  [-0.8400554656982422, -0.6190397143363953, 0.8...   \n",
      "3                4  [-0.8400554656982422, -0.6190397143363953, 0.8...   \n",
      "23               3  [-0.5485034584999084, -0.7181438207626343, 1.3...   \n",
      "26               3  [-0.5485034584999084, -0.7181438207626343, 1.3...   \n",
      "37              -1  [-1.7310938835144043, -0.7687100768089294, 0.2...   \n",
      "4               -1  [-0.5485034584999084, -0.7181438207626343, 1.3...   \n",
      "17              -1  [-0.5485034584999084, -0.7181438207626343, 1.3...   \n",
      "1               -1  [-0.8400554656982422, -0.6190397143363953, 0.8...   \n",
      "20              -1  [-0.8400554656982422, -0.6190397143363953, 0.8...   \n",
      "31              -1  [-0.8400554656982422, -0.6190397143363953, 0.8...   \n",
      "\n",
      "    centroid_distance  \n",
      "13           0.360913  \n",
      "39           0.348526  \n",
      "25           0.487502  \n",
      "19           0.443781  \n",
      "44           0.520201  \n",
      "41           0.386108  \n",
      "38           0.262462  \n",
      "40           0.244883  \n",
      "34           0.337781  \n",
      "18           0.409948  \n",
      "43           0.275201  \n",
      "33           0.526758  \n",
      "11           0.545815  \n",
      "9            0.424218  \n",
      "42           0.427316  \n",
      "16           0.600460  \n",
      "28           0.481276  \n",
      "6            0.637601  \n",
      "8            0.514601  \n",
      "32           0.360154  \n",
      "10           0.508465  \n",
      "12           0.492880  \n",
      "7            0.520321  \n",
      "24           0.392233  \n",
      "0            0.309769  \n",
      "22           0.649983  \n",
      "14           0.535387  \n",
      "29           0.487303  \n",
      "21           0.659251  \n",
      "36           0.489671  \n",
      "2            0.876683  \n",
      "27           0.341709  \n",
      "35           0.569155  \n",
      "30           0.814378  \n",
      "15           0.645451  \n",
      "5            0.265954  \n",
      "3            0.242368  \n",
      "23           0.528710  \n",
      "26           0.483519  \n",
      "37           0.386970  \n",
      "4            0.517152  \n",
      "17           0.622085  \n",
      "1            0.341897  \n",
      "20           0.693765  \n",
      "31           0.542019  \n"
     ]
    }
   ],
   "source": [
    "df[\"centroid_distance\"] = df.apply(lambda row:nltk.cluster.util.cosine_distance(row['word_vector'], row['centroid']), axis=1)\n",
    "\n",
    "print(df.shape)\n",
    "print(df)"
   ]
  },
  {
   "cell_type": "code",
   "execution_count": 93,
   "metadata": {
    "collapsed": true
   },
   "outputs": [],
   "source": [
    "# now hierarchical clustering\n",
    "# https://joernhees.de/blog/2015/08/26/scipy-hierarchical-clustering-and-dendrogram-tutorial/\n",
    "# needed imports\n",
    "from matplotlib import pyplot as plt\n",
    "from scipy.cluster.hierarchy import dendrogram, linkage\n",
    "import numpy as np"
   ]
  },
  {
   "cell_type": "code",
   "execution_count": 94,
   "metadata": {
    "collapsed": true
   },
   "outputs": [],
   "source": [
    "# some setting for this notebook to actually show the graphs inline, you probably won't need this\n",
    "%matplotlib inline\n",
    "np.set_printoptions(precision=5, suppress=True)  # suppress scientific float notation"
   ]
  },
  {
   "cell_type": "code",
   "execution_count": 95,
   "metadata": {},
   "outputs": [],
   "source": [
    "# generate the linkage matrix\n",
    "Z = linkage(data, metric='cosine')\n",
    "#Z = linkage(data, 'ward')"
   ]
  },
  {
   "cell_type": "code",
   "execution_count": 96,
   "metadata": {},
   "outputs": [
    {
     "data": {
      "text/plain": [
       "0.49611628681333553"
      ]
     },
     "execution_count": 96,
     "metadata": {},
     "output_type": "execute_result"
    }
   ],
   "source": [
    "from scipy.cluster.hierarchy import cophenet\n",
    "from scipy.spatial.distance import pdist\n",
    "\n",
    "c, coph_dists = cophenet(Z, pdist(data))\n",
    "c"
   ]
  },
  {
   "cell_type": "code",
   "execution_count": 97,
   "metadata": {},
   "outputs": [
    {
     "data": {
      "image/png": "[encoded data removed]",
      "text/plain": [
       "<matplotlib.figure.Figure at 0x7fab66e0ada0>"
      ]
     },
     "metadata": {},
     "output_type": "display_data"
    }
   ],
   "source": [
    "# calculate full dendrogram\n",
    "plt.figure(figsize=(25, 10))\n",
    "plt.title('Hierarchical Clustering Dendrogram')\n",
    "plt.xlabel('sample index')\n",
    "plt.ylabel('distance')\n",
    "dendrogram(\n",
    "    Z,\n",
    "    leaf_rotation=90.,  # rotates the x axis labels\n",
    "    leaf_font_size=8.,  # font size for the x axis labels\n",
    ")\n",
    "plt.show()"
   ]
  },
  {
   "cell_type": "code",
   "execution_count": 98,
   "metadata": {},
   "outputs": [
    {
     "data": {
      "image/png": "[encoded data removed]",
      "text/plain": [
       "<matplotlib.figure.Figure at 0x7fab66ad8da0>"
      ]
     },
     "metadata": {},
     "output_type": "display_data"
    }
   ],
   "source": [
    "plt.title('Hierarchical Clustering Dendrogram (truncated)')\n",
    "plt.xlabel('sample index or (cluster size)')\n",
    "plt.ylabel('distance')\n",
    "dendrogram(\n",
    "    Z,\n",
    "    truncate_mode='lastp',  # show only the last p merged clusters\n",
    "    p=12,  # show only the last p merged clusters\n",
    "    leaf_rotation=90.,\n",
    "    leaf_font_size=12.,\n",
    "    show_contracted=True,  # to get a distribution impression in truncated branches\n",
    ")\n",
    "plt.show()"
   ]
  },
  {
   "cell_type": "code",
   "execution_count": 99,
   "metadata": {},
   "outputs": [
    {
     "data": {
      "text/plain": [
       "array([ 7, 22,  8, 30, 11, 15, 15, 15,  1, 26, 15, 21, 29, 24, 16,  2, 12,\n",
       "       19,  4, 17, 23, 27, 13,  4,  1, 20, 34, 15, 33, 15,  5, 31,  7,  6,\n",
       "       28,  9,  9,  4,  4, 18, 14, 32, 25,  3, 10], dtype=int32)"
      ]
     },
     "execution_count": 99,
     "metadata": {},
     "output_type": "execute_result"
    }
   ],
   "source": [
    "from scipy.cluster.hierarchy import fcluster\n",
    "#k=12\n",
    "#cluster_hierachical = fcluster(Z, k, criterion='maxclust')\n",
    "\n",
    "\n",
    "max_d = 0.5\n",
    "cluster_hierachical = fcluster(Z, max_d, criterion='distance')\n",
    "cluster_hierachical\n",
    "\n",
    "#cluster_hierachical = fcluster(Z, 8, depth=30)\n",
    "#cluster_hierachical\n"
   ]
  },
  {
   "cell_type": "code",
   "execution_count": 100,
   "metadata": {},
   "outputs": [],
   "source": [
    "df[\"cluster_hierarchical\"] = pd.Series(cluster_hierachical, index=df.index)\n",
    "#print(df.shape)\n",
    "#print(df)"
   ]
  },
  {
   "cell_type": "code",
   "execution_count": 101,
   "metadata": {
    "collapsed": true
   },
   "outputs": [],
   "source": [
    "writer = pd.ExcelWriter('clustered_smartphone_features.xlsx')\n",
    "df.to_excel(writer,'Sheet1')\n",
    "writer.save()"
   ]
  },
  {
   "cell_type": "code",
   "execution_count": null,
   "metadata": {
    "collapsed": true
   },
   "outputs": [],
   "source": []
  }
 ],
 "metadata": {
  "kernelspec": {
   "display_name": "Python 3",
   "language": "python",
   "name": "python3"
  },
  "language_info": {
   "codemirror_mode": {
    "name": "ipython",
    "version": 3
   },
   "file_extension": ".py",
   "mimetype": "text/x-python",
   "name": "python",
   "nbconvert_exporter": "python",
   "pygments_lexer": "ipython3",
   "version": "3.6.1"
  }
 },
 "nbformat": 4,
 "nbformat_minor": 2
}
