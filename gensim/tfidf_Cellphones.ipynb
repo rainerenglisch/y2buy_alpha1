{
 "cells": [
  {
   "cell_type": "code",
   "execution_count": 1,
   "metadata": {
    "collapsed": true
   },
   "outputs": [],
   "source": [
    "from gensim import corpora, models, similarities\n",
    "import gensim"
   ]
  },
  {
   "cell_type": "code",
   "execution_count": 2,
   "metadata": {
    "collapsed": true
   },
   "outputs": [],
   "source": [
    "import json \n",
    "import gzip \n",
    "def parse(path): \n",
    "    g = gzip.open(path, 'r') \n",
    "    for l in g: \n",
    "        yield eval(l)"
   ]
  },
  {
   "cell_type": "markdown",
   "metadata": {},
   "source": [
    "import gensim\n",
    "class MyReviews():\n",
    "\n",
    "\n",
    "    def __iter__(self):\n",
    "\n",
    "        review_item_iterator = iter(parse(\"../../download/word2vec/reviews_Cell_Phones_and_Accessories_w_Cat.json.gz\"))\n",
    "        #for review_item in parse(\"../../download/reviews_Cell_Phones_and_Accessories.json.gz\"): \n",
    "        for it in range(100000):\n",
    "            if it%10000==0:\n",
    "                print(\"it=\"+str(it))\n",
    "            review_item = next(review_item_iterator)\n",
    "            #print(review_item)\n",
    "        #for review_item in self.reviews_cursor:\n",
    "\n",
    "\n",
    "            reviewText = review_item[\"reviewText\"]\n",
    "            label = review_item[\"asin\"] + \"_\" + review_item[\"reviewerID\"] \n",
    "            preprocess_reviewText = gensim.utils.simple_preprocess(reviewText)\n",
    "                  \n",
    "\n",
    "            #yield gensim.models.doc2vec.LabeledSentence(words=preprocess_reviewText, tags=[label])\n",
    "            yield preprocess_reviewText"
   ]
  },
  {
   "cell_type": "code",
   "execution_count": 3,
   "metadata": {
    "collapsed": true
   },
   "outputs": [],
   "source": [
    "import gensim\n",
    "def myReviews(catFilter = None, asin = None, concatenate = False):\n",
    "    preprocess_reviewText = []\n",
    "    review_item_iterator = iter(parse(\"../../download/word2vec/reviews_Cell_Phones_and_Accessories_w_Cat.json.gz\"))\n",
    "    it = 0\n",
    "    conc_count = 0\n",
    "    for review_item in review_item_iterator:\n",
    "        it += 1\n",
    "    #for it in range(1000000):\n",
    "        if it%100000==0:\n",
    "            print(\"it=\"+str(it))\n",
    "\n",
    "        reviewText = review_item[\"reviewText\"]\n",
    "        label = review_item[\"asin\"] + \"_\" + review_item[\"reviewerID\"] \n",
    "        # TODO: stemming dazu und stop words filtern\n",
    "        preprocess_reviewText_i = gensim.utils.simple_preprocess(reviewText)\n",
    "\n",
    "\n",
    "        #yield gensim.models.doc2vec.LabeledSentence(words=preprocess_reviewText, tags=[label])\n",
    "        if (catFilter == None or (catFilter in review_item[\"categories\"])) and (asin == None or (asin == review_item[\"asin\"])):\n",
    "            if concatenate==False:\n",
    "                yield preprocess_reviewText_i\n",
    "            else:\n",
    "                conc_count += 1\n",
    "                preprocess_reviewText.extend(preprocess_reviewText_i)\n",
    "                print(\"Concatenated count: \"+str(conc_count))\n",
    "    if concatenate == True:\n",
    "        print(\"Return the final text with length: \"+str(len(preprocess_reviewText)))\n",
    "        print(preprocess_reviewText)\n",
    "        yield preprocess_reviewText"
   ]
  },
  {
   "cell_type": "code",
   "execution_count": 4,
   "metadata": {},
   "outputs": [
    {
     "name": "stdout",
     "output_type": "stream",
     "text": [
      "Dictionary(128699 unique tokens: ['the', 'case', 'pictured', 'is', 'soft']...)\n"
     ]
    }
   ],
   "source": [
    "import os\n",
    "dictionaryFileName = '../../download/word2vec/reviews_Cell_Phones_and_Accessories_w_Cat.dict'\n",
    "if os.path.isfile(dictionaryFileName)==False:\n",
    "    #dictionary = corpora.Dictionary(myReviews(\"Cell Phones\"))\n",
    "    dictionary = corpora.Dictionary(myReviews())\n",
    "    from six import iteritems\n",
    "    once_ids = [tokenid for tokenid, docfreq in iteritems(dictionary.dfs) if docfreq == 1]\n",
    "    dictionary.filter_tokens(once_ids)  # remove stop words and words that appear only once\n",
    "    dictionary.compactify()  # remove gaps in id sequence after words that were removed\n",
    "    dictionary.save(dictionaryFileName)  # store the dictionary, for future reference\n",
    "else:\n",
    "    dictionary = corpora.Dictionary.load(dictionaryFileName)\n",
    "\n",
    "print(dictionary)"
   ]
  },
  {
   "cell_type": "code",
   "execution_count": 5,
   "metadata": {
    "collapsed": true
   },
   "outputs": [],
   "source": [
    "def myCorpus(catFilter = None, asin = None, concatenate = False):\n",
    "    for review in myReviews(catFilter,asin,concatenate):\n",
    "    # assume there's one document per line, tokens separated by whitespace\n",
    "        yield dictionary.doc2bow(review)"
   ]
  },
  {
   "cell_type": "code",
   "execution_count": 6,
   "metadata": {
    "scrolled": true
   },
   "outputs": [
    {
     "name": "stdout",
     "output_type": "stream",
     "text": [
      "TfidfModel(num_docs=3397849, num_nnz=136334127)\n"
     ]
    }
   ],
   "source": [
    "import os\n",
    "tfidfFileName ='../../download/word2vec/reviews_Cell_Phones_and_Accessories_w_Cat_corpus.tfidf'\n",
    "if os.path.isfile(tfidfFileName)==False:\n",
    "    #tfidf = models.TfidfModel(myCorpus(\"Cell Phones\"))\n",
    "    tfidf = models.TfidfModel(myCorpus())\n",
    "    tfidf.save(tfidfFileName)\n",
    "else:\n",
    "    tfidf = models.TfidfModel.load(tfidfFileName)\n",
    "\n",
    "print(tfidf)"
   ]
  },
  {
   "cell_type": "code",
   "execution_count": 7,
   "metadata": {
    "collapsed": true
   },
   "outputs": [],
   "source": [
    "import pickle\n",
    "\n",
    "tfidf_apple_5s_FileName ='../../download/word2vec/apple_5s_review.tfidf'\n",
    "if os.path.isfile(tfidf_apple_5s_FileName)==False:\n",
    "    apple_5s_corpus = next(myCorpus(asin=\"B00F3J4B5S\",concatenate=True))\n",
    "    apple_5s_corpus_tfidf = tfidf[apple_5s_corpus]  \n",
    "    pickle.dump(apple_5s_corpus_tfidf, open(tfidf_apple_5s_FileName, 'wb'))\n",
    "else:\n",
    "    apple_5s_corpus_tfidf = pickle.load( open( tfidf_apple_5s_FileName, \"rb\" ) )\n",
    "    \n",
    "    \n"
   ]
  },
  {
   "cell_type": "code",
   "execution_count": null,
   "metadata": {
    "collapsed": true
   },
   "outputs": [],
   "source": []
  },
  {
   "cell_type": "code",
   "execution_count": 13,
   "metadata": {},
   "outputs": [
    {
     "name": "stdout",
     "output_type": "stream",
     "text": [
      "[['the', 0.12472951813189243], ['is', 0.14423453325196334], ['of', 0.11993645776814608], ['phone', 0.14573451166486764], ['in', 0.11343799447184465], ['to', 0.13359384935411], ['that', 0.1308369745328605], ['you', 0.15486596389187587], ['with', 0.11088330205090342], ['have', 0.10113051442640471], ['iphone', 0.2880242322275483], ['an', 0.11170951963300968], ['new', 0.11469176282219677], ['apple', 0.2676926528861916], ['unlocked', 0.1447493116924237]]\n"
     ]
    }
   ],
   "source": [
    "tbl = [[dictionary.get(tokenid),tfidf_value] for (tokenid,tfidf_value) in apple_5s_corpus_tfidf if tfidf_value > 0.1]\n",
    "print(tbl)"
   ]
  },
  {
   "cell_type": "code",
   "execution_count": null,
   "metadata": {},
   "outputs": [],
   "source": [
    "print(tfidf)"
   ]
  },
  {
   "cell_type": "code",
   "execution_count": null,
   "metadata": {
    "collapsed": true
   },
   "outputs": [],
   "source": []
  }
 ],
 "metadata": {
  "kernelspec": {
   "display_name": "Python 3",
   "language": "python",
   "name": "python3"
  },
  "language_info": {
   "codemirror_mode": {
    "name": "ipython",
    "version": 3
   },
   "file_extension": ".py",
   "mimetype": "text/x-python",
   "name": "python",
   "nbconvert_exporter": "python",
   "pygments_lexer": "ipython3",
   "version": "3.6.1"
  }
 },
 "nbformat": 4,
 "nbformat_minor": 2
}
