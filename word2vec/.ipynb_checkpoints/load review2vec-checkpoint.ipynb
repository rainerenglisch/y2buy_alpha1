{
 "cells": [
  {
   "cell_type": "code",
   "execution_count": 6,
   "metadata": {
    "collapsed": true
   },
   "outputs": [],
   "source": [
    "import gensim\n",
    "model = gensim.models.Doc2Vec.load('../../download/word2vec/myamazon.review2vec_model')"
   ]
  },
  {
   "cell_type": "markdown",
   "metadata": {},
   "source": [
    "print(model.wv.vocab.keys())"
   ]
  },
  {
   "cell_type": "code",
   "execution_count": 7,
   "metadata": {
    "scrolled": true
   },
   "outputs": [
    {
     "name": "stdout",
     "output_type": "stream",
     "text": [
      "[('gripe', 0.9481071829795837), ('criticism', 0.8634525537490845), ('qualm', 0.8524773716926575), ('drawback', 0.8339880704879761), ('downside', 0.8291166424751282), ('concern', 0.8264190554618835), ('downfall', 0.8236643075942993), ('beef', 0.8218797445297241), ('objection', 0.7834230661392212), ('quibble', 0.7774393558502197)]\n"
     ]
    }
   ],
   "source": [
    "print(model.most_similar(positive=[\"complaint\"]))"
   ]
  },
  {
   "cell_type": "markdown",
   "metadata": {},
   "source": [
    "model.docvecs[10] "
   ]
  },
  {
   "cell_type": "markdown",
   "metadata": {},
   "source": [
    "#label = review_item[\"asin\"] + \"_\" + review_item[\"reviewerID\"] + \"_\" + str(s_i)\n",
    "print(model.most_similar(\"0110400550_ANG01NK4RXCI9_1\"))"
   ]
  },
  {
   "cell_type": "code",
   "execution_count": 8,
   "metadata": {},
   "outputs": [
    {
     "data": {
      "text/plain": [
       "array([ 0.04879563,  0.07368737,  0.05681944, -0.04727681, -0.03300232,\n",
       "       -0.02294398,  0.02127684, -0.01350927, -0.06926831, -0.08107328,\n",
       "       -0.04058523, -0.04962311, -0.0415015 ,  0.05403942,  0.11709387,\n",
       "        0.06779145, -0.13008495,  0.07477059,  0.05005388,  0.0343313 ,\n",
       "        0.02040635, -0.04811578,  0.05024555,  0.00045331, -0.09909654,\n",
       "       -0.03985997,  0.12097329, -0.02065366,  0.11650369,  0.05598781,\n",
       "       -0.00823383, -0.0014516 , -0.05842475, -0.00587917,  0.04430729,\n",
       "       -0.06455556, -0.04007448,  0.03210393, -0.05625053, -0.03462732,\n",
       "       -0.00315906, -0.01502691,  0.03347052, -0.0564872 ,  0.08730596,\n",
       "        0.00853186,  0.14656767,  0.04176933, -0.00661136, -0.01386616,\n",
       "        0.07031249, -0.04935261,  0.01309855, -0.08727782, -0.02229684,\n",
       "       -0.04112724,  0.01946162, -0.09903198, -0.03383993,  0.01436188,\n",
       "       -0.07918571,  0.00615804, -0.03581518, -0.06110308, -0.03120891,\n",
       "        0.03511902,  0.02110737, -0.04237026, -0.00537814,  0.01156668,\n",
       "        0.02206719,  0.02915552,  0.07487212, -0.01376042,  0.01982345,\n",
       "       -0.06660476,  0.00832553, -0.03754119, -0.09312362,  0.0938087 ,\n",
       "       -0.01104895, -0.14501902, -0.08395964,  0.03942785,  0.04604566,\n",
       "        0.01759091, -0.03604838, -0.01131984, -0.01893241,  0.04861991,\n",
       "        0.13342972, -0.006839  , -0.02314012,  0.04015656, -0.00857671,\n",
       "        0.06692421,  0.05182234,  0.0457648 ,  0.07781399,  0.01774174], dtype=float32)"
      ]
     },
     "execution_count": 8,
     "metadata": {},
     "output_type": "execute_result"
    }
   ],
   "source": [
    "model.infer_vector(['only', 'you', 'can', 'prevent', 'forrest', 'fires'])"
   ]
  },
  {
   "cell_type": "markdown",
   "metadata": {
    "collapsed": true
   },
   "source": [
    "Read 100 sentences from amazon reviews and cluster them into 10 topics"
   ]
  },
  {
   "cell_type": "code",
   "execution_count": 9,
   "metadata": {
    "collapsed": true
   },
   "outputs": [],
   "source": [
    "import json \n",
    "import gzip \n",
    "def parse(path): \n",
    "    g = gzip.open(path, 'r') \n",
    "    for l in g: \n",
    "        yield eval(l)"
   ]
  },
  {
   "cell_type": "code",
   "execution_count": 12,
   "metadata": {},
   "outputs": [],
   "source": [
    "import nltk\n",
    "import gensim\n",
    "\n",
    "sent_detector = nltk.data.load('tokenizers/punkt/english.pickle')\n",
    "review_item_iterator = iter(parse(\"../../download/word2vec/reviews_Cell_Phones_and_Accessories.json.gz\"))\n",
    "\n",
    "def reviews():\n",
    "    \n",
    "    for review_item in review_item_iterator:\n",
    "#        print(review_item)\n",
    "#        if \"Cell Phones\" in review_item[\"categories\"]:\n",
    "            \n",
    "        reviewText = review_item[\"reviewText\"]\n",
    "\n",
    "        preprocess_review = gensim.utils.simple_preprocess(reviewText)\n",
    "        if review_item[\"asin\"] == \"B00F3J4B5S\":\n",
    "            yield preprocess_review\n",
    "\n",
    "#        for sentence in sent_detector.tokenize(reviewText):\n",
    "#            preprocess_sentence = gensim.utils.simple_preprocess(sentence)\n",
    "#            yield preprocess_sentence \n",
    "        "
   ]
  },
  {
   "cell_type": "markdown",
   "metadata": {},
   "source": [
    "#sentences = MySentences()\n",
    "for it in range(10):\n",
    "    sentence = next(sentences())\n",
    "    print(\" \".join(sentence))\n",
    "    "
   ]
  },
  {
   "cell_type": "code",
   "execution_count": null,
   "metadata": {},
   "outputs": [],
   "source": [
    "import numpy as np\n",
    "#cluster_reviews = [next(reviews()) for it in range(1000)]\n",
    "cluster_reviews = [review for review in reviews()]\n",
    "cluster_reviews_vec = [model.infer_vector(s) for s in cluster_reviews]\n",
    "#print(sentence_vec)\n",
    "np_array = np.asarray(cluster_reviews_vec)\n",
    "print(len(np_array))"
   ]
  },
  {
   "cell_type": "code",
   "execution_count": null,
   "metadata": {
    "collapsed": true
   },
   "outputs": [],
   "source": [
    "import nltk\n",
    "from nltk.cluster.kmeans import KMeansClusterer\n",
    "nc = 20\n",
    "data = np_array\n",
    "\n",
    "#kclusterer = KMeansClusterer(nc, distance=nltk.cluster.util.cosine_distance, repeats=25)\n",
    "kclusterer = KMeansClusterer(nc, distance=nltk.cluster.util.cosine_distance)\n",
    "#kclusterer = KMeansClusterer(nc, distance=nltk.cluster.util.euclidean_distance)\n",
    "assigned_clusters = kclusterer.cluster(data, assign_clusters=True)"
   ]
  },
  {
   "cell_type": "code",
   "execution_count": null,
   "metadata": {},
   "outputs": [],
   "source": [
    "print(assigned_clusters)\n",
    "np_assigned_clusters = np.asarray(assigned_clusters)"
   ]
  },
  {
   "cell_type": "code",
   "execution_count": null,
   "metadata": {},
   "outputs": [],
   "source": [
    "#result = np.vstack((np.asarray(cluster_sentences)[np_assigned_clusters == 1]))\n",
    "import pandas as pd\n",
    "cluster_reviews_join = [\" \".join(s_list) for s_list in cluster_reviews]\n",
    "result = pd.DataFrame({ 'cluster' : assigned_clusters,   'sentence' : cluster_reviews_join})\n",
    "print(result.head())"
   ]
  },
  {
   "cell_type": "code",
   "execution_count": null,
   "metadata": {
    "collapsed": true
   },
   "outputs": [],
   "source": [
    "writer = pd.ExcelWriter('clustered_reviews.xlsx')\n",
    "result.to_excel(writer,'Sheet1')\n",
    "writer.save()"
   ]
  },
  {
   "cell_type": "markdown",
   "metadata": {},
   "source": [
    "\n",
    "for label in range(nc):\n",
    "#    print(np.asarray(features)[kmeans.labels_ == label])\n",
    "    print(label)\n",
    "    print(np.asarray(cluster_sentences)[np_assigned_clusters == label])"
   ]
  },
  {
   "cell_type": "code",
   "execution_count": null,
   "metadata": {},
   "outputs": [],
   "source": [
    "model.docvecs.most_similar(positive=[model.infer_vector(\"shipping\"),model.infer_vector(\"battery\")])"
   ]
  },
  {
   "cell_type": "code",
   "execution_count": null,
   "metadata": {},
   "outputs": [],
   "source": [
    "model.docvecs.most_similar(positive=[model.infer_vector(\"Just have to make sure the battery is charged before long use. Easy to use and battery inside will charge phone from dead with out sun light.\".split())])"
   ]
  },
  {
   "cell_type": "code",
   "execution_count": null,
   "metadata": {},
   "outputs": [],
   "source": [
    "model.docvecs.most_similar(positive=[model.infer_vector(\"My order arrived two days later than the arrival window, which wasn't a big deal for me in this instance.  Despite being &#34;free shipping&#34; it came postage due, which meant instead of being in my mailbox, I had to schlep down to the post office, wait in line, and then pay 36 cents.  Not a lot, unless you start thinking about how many other &#34;free shipping&#34; items they sell on Amazon, that could arrive postage due, and then how many sales they'd lose if their prices actually reflected this and were less competitive.4-star product0-star\".split())])"
   ]
  },
  {
   "cell_type": "code",
   "execution_count": null,
   "metadata": {},
   "outputs": [],
   "source": [
    "model.docvecs.most_similar(positive=[model.infer_vector(\"Just have to make sure the battery is charged before long use. Easy to use and battery inside will charge phone from dead with out sun light.\".split()),model.infer_vector(\"My order arrived two days later than the arrival window, which wasn't a big deal for me in this instance.  Despite being &#34;free shipping&#34; it came postage due, which meant instead of being in my mailbox, I had to schlep down to the post office, wait in line, and then pay 36 cents.  Not a lot, unless you start thinking about how many other &#34;free shipping&#34; items they sell on Amazon, that could arrive postage due, and then how many sales they'd lose if their prices actually reflected this and were less competitive.4-star product0-star\".split())])"
   ]
  },
  {
   "cell_type": "code",
   "execution_count": null,
   "metadata": {
    "collapsed": true
   },
   "outputs": [],
   "source": []
  }
 ],
 "metadata": {
  "kernelspec": {
   "display_name": "Python 3",
   "language": "python",
   "name": "python3"
  },
  "language_info": {
   "codemirror_mode": {
    "name": "ipython",
    "version": 3
   },
   "file_extension": ".py",
   "mimetype": "text/x-python",
   "name": "python",
   "nbconvert_exporter": "python",
   "pygments_lexer": "ipython3",
   "version": "3.6.1"
  }
 },
 "nbformat": 4,
 "nbformat_minor": 2
}
