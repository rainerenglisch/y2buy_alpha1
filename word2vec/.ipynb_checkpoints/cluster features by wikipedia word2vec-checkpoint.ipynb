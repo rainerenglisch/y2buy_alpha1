{
 "cells": [
  {
   "cell_type": "code",
   "execution_count": 56,
   "metadata": {},
   "outputs": [],
   "source": [
    "import gensim\n",
    "word2vec_model = \"amazon\" #\"wikipedia\" \"amazon\"\n",
    "\n",
    "if word2vec_model == \"wikipedia\":\n",
    "# Load Google's pre-trained Word2Vec model.\n",
    "    model = gensim.models.KeyedVectors.load_word2vec_format('../../download/GoogleNews-vectors-negative300.bin', binary=True, limit=400000) \n",
    "else:\n",
    "    model = gensim.models.Word2Vec.load(\"myamazonmodel\") "
   ]
  },
  {
   "cell_type": "code",
   "execution_count": 20,
   "metadata": {},
   "outputs": [
    {
     "name": "stdout",
     "output_type": "stream",
     "text": [
      "'he' is to 'his' as 'she' is to 'her'\n",
      "'big' is to 'bigger' as 'bad' is to 'worse'\n",
      "'going' is to 'went' as 'being' is to 'were'\n"
     ]
    }
   ],
   "source": [
    "# \"boy\" is to \"father\" as \"girl\" is to ...?\n",
    "model.most_similar(['girl', 'father'], ['boy'], topn=3)\n",
    "[('mother', 0.61849487), ('wife', 0.57972813), ('daughter', 0.56296098)]\n",
    "more_examples = [\"he his she\", \"big bigger bad\", \"going went being\"]\n",
    "for example in more_examples:\n",
    "    a, b, x = example.split()\n",
    "    predicted = model.most_similar([x, b], [a])[0][0]\n",
    "    print(\"'%s' is to '%s' as '%s' is to '%s'\" % (a, b, x, predicted))\n",
    "#'he' is to 'his' as 'she' is to 'her'\n",
    "#'big' is to 'bigger' as 'bad' is to 'worse'\n",
    "#'going' is to 'went' as 'being' is to 'was'\n"
   ]
  },
  {
   "cell_type": "code",
   "execution_count": 21,
   "metadata": {},
   "outputs": [
    {
     "data": {
      "text/plain": [
       "'cereal'"
      ]
     },
     "execution_count": 21,
     "metadata": {},
     "output_type": "execute_result"
    }
   ],
   "source": [
    "# which word doesn't go with the others?\n",
    "model.doesnt_match(\"breakfast cereal dinner lunch\".split())\n",
    "#'cereal'"
   ]
  },
  {
   "cell_type": "code",
   "execution_count": 57,
   "metadata": {
    "collapsed": true
   },
   "outputs": [],
   "source": [
    "import pymongo\n",
    "client = pymongo.MongoClient()\n",
    "mydb = client['y2buy_1']\n",
    "my_collection = mydb['features']"
   ]
  },
  {
   "cell_type": "code",
   "execution_count": 58,
   "metadata": {},
   "outputs": [],
   "source": [
    "features = []\n",
    "features_vec = []\n",
    "for feature_doc in my_collection.find():\n",
    "    feature = feature_doc[\"feature\"]\n",
    "    try:\n",
    "        feature_vec = model.wv[feature] \n",
    "        features.append(feature)\n",
    "        features_vec.append(feature_vec)\n",
    "    except KeyError:\n",
    "        print(feature + \" not in wordvectors.\")\n",
    "#features= [feature_doc[\"feature\"]  for feature_doc in my_collection.find()]\n",
    "#feature_vec = [model.wv[feature] for feature in features]"
   ]
  },
  {
   "cell_type": "markdown",
   "metadata": {
    "collapsed": true
   },
   "source": [
    "http://scikit-learn.org/stable/modules/generated/sklearn.cluster.KMeans.html"
   ]
  },
  {
   "cell_type": "code",
   "execution_count": 59,
   "metadata": {
    "collapsed": true
   },
   "outputs": [],
   "source": [
    "import numpy as np\n",
    "np_array = np.asarray(features_vec)"
   ]
  },
  {
   "cell_type": "code",
   "execution_count": 60,
   "metadata": {
    "collapsed": true
   },
   "outputs": [],
   "source": [
    "from sklearn.cluster import KMeans\n",
    "nc = 10\n",
    "kmeans = KMeans(n_clusters=nc, random_state=0).fit(np_array)"
   ]
  },
  {
   "cell_type": "code",
   "execution_count": 61,
   "metadata": {},
   "outputs": [
    {
     "data": {
      "text/plain": [
       "array([5, 6, 3, 6, 6, 2, 4, 3, 5, 2, 7, 5, 4, 3, 6, 6, 2, 0, 1, 7, 5, 7, 3,\n",
       "       4, 2, 5, 2, 2, 5, 6, 3, 6, 3, 9, 9, 3, 3, 5, 5, 4, 2, 9, 4, 2, 2, 4,\n",
       "       2, 6, 1, 9, 1, 9, 1, 1, 4, 9, 9, 1, 4, 3, 3, 6, 1, 7, 1, 7, 4, 3, 1,\n",
       "       1, 9, 7, 9, 3, 1, 9, 1, 5, 3, 1, 6, 2, 1, 3, 3, 8, 1, 1, 4, 1, 2, 4,\n",
       "       1, 2, 4, 3, 8, 5, 5, 5], dtype=int32)"
      ]
     },
     "execution_count": 61,
     "metadata": {},
     "output_type": "execute_result"
    }
   ],
   "source": [
    "kmeans.labels_"
   ]
  },
  {
   "cell_type": "code",
   "execution_count": 62,
   "metadata": {},
   "outputs": [
    {
     "name": "stdout",
     "output_type": "stream",
     "text": [
      "['apps']\n",
      "['card' 'hand' 'plan' 'verizon' 'home' 'minute' 'speaker' 'option' 'voice'\n",
      " 'store' 'week' 'game' 'bit' 'window' 'internet' 'email' 'message' 'sprint']\n",
      "['camera' 'iphone' 'call' 'service' 'htc' 'case' 'size' 'version'\n",
      " 'software' 'app' 'product' 'play' 'market']\n",
      "['screen' 'day' 'problem' 'button' 'price' 'galaxy' 'get' 'google' 'power'\n",
      " 'speed' 'cell' 'application' 'droid' 'experience' 'reason' 'wifi']\n",
      "['work' 'life' 'video' 'picture' 'keyboard' 'hour' 'charge' 'blackberry'\n",
      " 'number' 'anything' 'need' 'charger']\n",
      "['phone' 'device' 'feature' 'year' 'issue' 'month' 'people' 'music' 'area'\n",
      " 'color' 'volume' 'gps']\n",
      "['battery' 'use' 'time' 'quality' 'samsung' 'data' 'android' 'look'\n",
      " 'smartphone' 'support']\n",
      "['thing' 'way' 'lot' 'display' 'feel' 'love']\n",
      "['motorola' 'sound']\n",
      "['note' 'review' 'everything' 'memory' 'network' 'apple' 'something'\n",
      " 'system' 'photo' 'user']\n"
     ]
    }
   ],
   "source": [
    "for label in range(nc):\n",
    "    print(np.asarray(features)[kmeans.labels_ == label])"
   ]
  },
  {
   "cell_type": "code",
   "execution_count": 63,
   "metadata": {},
   "outputs": [
    {
     "data": {
      "text/plain": [
       "-0.13091393989986522"
      ]
     },
     "execution_count": 63,
     "metadata": {},
     "output_type": "execute_result"
    }
   ],
   "source": [
    "model.similarity('battery', 'charge')"
   ]
  },
  {
   "cell_type": "code",
   "execution_count": 66,
   "metadata": {},
   "outputs": [
    {
     "data": {
      "text/plain": [
       "[('reconnects', 0.4194899797439575),\n",
       " ('hootoo', 0.3975185751914978),\n",
       " ('desk.overall', 0.38029366731643677),\n",
       " ('authentic', 0.3619333803653717),\n",
       " ('listens', 0.35947731137275696),\n",
       " ('demanded', 0.34476983547210693),\n",
       " ('principal', 0.3433701992034912),\n",
       " ('cliff', 0.34148678183555603),\n",
       " ('holder', 0.3334178328514099),\n",
       " ('encounters', 0.3313128352165222)]"
      ]
     },
     "execution_count": 66,
     "metadata": {},
     "output_type": "execute_result"
    }
   ],
   "source": [
    "model.wv.most_similar(positive=['samsung'])"
   ]
  },
  {
   "cell_type": "code",
   "execution_count": null,
   "metadata": {
    "collapsed": true
   },
   "outputs": [],
   "source": []
  }
 ],
 "metadata": {
  "kernelspec": {
   "display_name": "Python 3",
   "language": "python",
   "name": "python3"
  },
  "language_info": {
   "codemirror_mode": {
    "name": "ipython",
    "version": 3
   },
   "file_extension": ".py",
   "mimetype": "text/x-python",
   "name": "python",
   "nbconvert_exporter": "python",
   "pygments_lexer": "ipython3",
   "version": "3.6.1"
  }
 },
 "nbformat": 4,
 "nbformat_minor": 2
}
