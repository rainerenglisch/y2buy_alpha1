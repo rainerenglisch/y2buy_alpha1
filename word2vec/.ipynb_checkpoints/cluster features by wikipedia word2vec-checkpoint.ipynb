{
 "cells": [
  {
   "cell_type": "code",
   "execution_count": 1,
   "metadata": {
    "collapsed": true
   },
   "outputs": [],
   "source": [
    "import gensim\n",
    "word2vec_model = \"wikipedia\" #\"wikipedia\" \"amazon\"\n",
    "\n",
    "if word2vec_model == \"wikipedia\":\n",
    "# Load Google's pre-trained Word2Vec model.\n",
    "    model = gensim.models.KeyedVectors.load_word2vec_format('../../download/GoogleNews-vectors-negative300.bin', binary=True, limit=400000) \n",
    "else:\n",
    "    model = gensim.models.Word2Vec.load(\"myamazonmodel\") "
   ]
  },
  {
   "cell_type": "code",
   "execution_count": 2,
   "metadata": {},
   "outputs": [
    {
     "name": "stdout",
     "output_type": "stream",
     "text": [
      "'he' is to 'his' as 'she' is to 'her'\n",
      "'big' is to 'bigger' as 'bad' is to 'worse'\n",
      "'going' is to 'went' as 'being' is to 'wa'\n"
     ]
    }
   ],
   "source": [
    "# \"boy\" is to \"father\" as \"girl\" is to ...?\n",
    "model.most_similar(['girl', 'father'], ['boy'], topn=3)\n",
    "[('mother', 0.61849487), ('wife', 0.57972813), ('daughter', 0.56296098)]\n",
    "more_examples = [\"he his she\", \"big bigger bad\", \"going went being\"]\n",
    "for example in more_examples:\n",
    "    a, b, x = example.split()\n",
    "    predicted = model.most_similar([x, b], [a])[0][0]\n",
    "    print(\"'%s' is to '%s' as '%s' is to '%s'\" % (a, b, x, predicted))\n",
    "#'he' is to 'his' as 'she' is to 'her'\n",
    "#'big' is to 'bigger' as 'bad' is to 'worse'\n",
    "#'going' is to 'went' as 'being' is to 'was'\n"
   ]
  },
  {
   "cell_type": "code",
   "execution_count": 3,
   "metadata": {},
   "outputs": [
    {
     "data": {
      "text/plain": [
       "'cereal'"
      ]
     },
     "execution_count": 3,
     "metadata": {},
     "output_type": "execute_result"
    }
   ],
   "source": [
    "# which word doesn't go with the others?\n",
    "model.doesnt_match(\"breakfast cereal dinner lunch\".split())\n",
    "#'cereal'"
   ]
  },
  {
   "cell_type": "code",
   "execution_count": 4,
   "metadata": {
    "collapsed": true
   },
   "outputs": [],
   "source": [
    "import pymongo\n",
    "client = pymongo.MongoClient()\n",
    "mydb = client['y2buy_1']\n",
    "my_collection = mydb['features']"
   ]
  },
  {
   "cell_type": "code",
   "execution_count": 5,
   "metadata": {},
   "outputs": [
    {
     "name": "stdout",
     "output_type": "stream",
     "text": [
      "phones not in wordvectors.\n",
      "features not in wordvectors.\n",
      "minutes not in wordvectors.\n",
      "problems not in wordvectors.\n",
      "months not in wordvectors.\n",
      "calls not in wordvectors.\n",
      "times not in wordvectors.\n",
      "things not in wordvectors.\n",
      "years not in wordvectors.\n",
      "pictures not in wordvectors.\n",
      "hours not in wordvectors.\n",
      "issues not in wordvectors.\n",
      "buttons not in wordvectors.\n",
      "weeks not in wordvectors.\n"
     ]
    }
   ],
   "source": [
    "features = []\n",
    "features_vec = []\n",
    "for feature_doc in my_collection.find():\n",
    "    feature = feature_doc[\"feature\"]\n",
    "    try:\n",
    "        feature_vec = model.wv[feature] \n",
    "        features.append(feature)\n",
    "        features_vec.append(feature_vec)\n",
    "    except KeyError:\n",
    "        print(feature + \" not in wordvectors.\")\n",
    "#features= [feature_doc[\"feature\"]  for feature_doc in my_collection.find()]\n",
    "#feature_vec = [model.wv[feature] for feature in features]"
   ]
  },
  {
   "cell_type": "markdown",
   "metadata": {
    "collapsed": true
   },
   "source": [
    "http://scikit-learn.org/stable/modules/generated/sklearn.cluster.KMeans.html"
   ]
  },
  {
   "cell_type": "code",
   "execution_count": 6,
   "metadata": {
    "collapsed": true
   },
   "outputs": [],
   "source": [
    "import numpy as np\n",
    "np_array = np.asarray(features_vec)"
   ]
  },
  {
   "cell_type": "markdown",
   "metadata": {
    "collapsed": true
   },
   "source": [
    "from anc import KMeans\n",
    "nc = 10\n",
    "kmeans = KMeans(n_clusters=nc, random_state=0).fit(np_array)\n",
    "\n"
   ]
  },
  {
   "cell_type": "code",
   "execution_count": 7,
   "metadata": {
    "collapsed": true
   },
   "outputs": [],
   "source": [
    "import nltk\n",
    "from nltk.cluster.kmeans import KMeansClusterer\n",
    "nc = 10\n",
    "data = np_array\n",
    "\n",
    "kclusterer = KMeansClusterer(nc, distance=nltk.cluster.util.cosine_distance, repeats=25)\n",
    "assigned_clusters = kclusterer.cluster(data, assign_clusters=True)"
   ]
  },
  {
   "cell_type": "code",
   "execution_count": 8,
   "metadata": {},
   "outputs": [
    {
     "name": "stdout",
     "output_type": "stream",
     "text": [
      "[3, 4, 1, 9, 6, 6, 2, 2, 7, 1, 5, 4, 5, 3, 7, 9, 4, 3, 6, 4, 9, 3, 1, 2, 4, 2, 4, 7, 5, 1, 7, 4, 6, 4, 2, 7, 1, 9, 9, 7, 6, 6, 7, 4, 2, 4, 2, 6, 1, 2, 8, 6, 4, 2, 3, 2, 7, 8, 4, 4, 8, 3, 4, 0, 4, 1, 2, 6, 3, 8, 7, 5, 4, 4, 7, 1, 4, 2, 9, 7, 2, 4, 6, 4, 2, 8]\n"
     ]
    }
   ],
   "source": [
    "#kmeans.labels_\n",
    "print(assigned_clusters)\n",
    "np_assigned_clusters = np.asarray(assigned_clusters)"
   ]
  },
  {
   "cell_type": "code",
   "execution_count": 9,
   "metadata": {},
   "outputs": [
    {
     "name": "stdout",
     "output_type": "stream",
     "text": [
      "['need']\n",
      "['use' 'work' 'works' 'get' 'charge' 'love' 'buy' 'talk']\n",
      "['card' 'service' 'call' 'data' 'plan' 'internet' 'number' 'sim' 'text'\n",
      " 'network' 'voice' 'wifi' 'tracfone' 'contract']\n",
      "['phone' 'iphone' 'cell' 'samsung' 'smartphone' 'galaxy' 'blackberry']\n",
      "['battery' 'problem' 'thing' 'everything' 'apps' 'device' 'memory' 'music'\n",
      " 'something' 'software' 'android' 'anything' 'feature' 'nothing' 'issue'\n",
      " 'video' 'app' 'google' 'system' 'support']\n",
      "['quality' 'life' 'lot' 'reception']\n",
      "['screen' 'camera' 'way' 'keyboard' 'size' 'case' 'button' 'charger' 'box'\n",
      " 'bit']\n",
      "['price' 'product' 'people' 'money' 'seller' 'amazon' 'purchase' 'customer'\n",
      " 'anyone' 'order' 'company']\n",
      "['version' 'verizon' 'store' 'home' 'model']\n",
      "['time' 'day' 'days' 'month' 'year' 'week']\n"
     ]
    }
   ],
   "source": [
    "for label in range(nc):\n",
    "#    print(np.asarray(features)[kmeans.labels_ == label])\n",
    "    print(np.asarray(features)[np_assigned_clusters == label])"
   ]
  },
  {
   "cell_type": "code",
   "execution_count": 10,
   "metadata": {},
   "outputs": [
    {
     "data": {
      "text/plain": [
       "0.42864176021636469"
      ]
     },
     "execution_count": 10,
     "metadata": {},
     "output_type": "execute_result"
    }
   ],
   "source": [
    "model.similarity('battery', 'charge')"
   ]
  },
  {
   "cell_type": "code",
   "execution_count": 11,
   "metadata": {},
   "outputs": [
    {
     "data": {
      "text/plain": [
       "[('issue', 0.740841805934906),\n",
       " ('difficulty', 0.6182579398155212),\n",
       " ('trouble', 0.5741957426071167),\n",
       " ('complaint', 0.5521723628044128),\n",
       " ('problem.i', 0.5329603552818298),\n",
       " ('hiccup', 0.5252929329872131),\n",
       " ('drawback', 0.5227031707763672),\n",
       " ('glitch', 0.5161387324333191),\n",
       " ('interference', 0.5106438994407654),\n",
       " ('concern', 0.5002362728118896),\n",
       " ('complication', 0.4977929890155792),\n",
       " ('issue.now', 0.4976077675819397),\n",
       " ('problem.-', 0.4933694005012512),\n",
       " ('problems.i', 0.4926837086677551),\n",
       " ('conflict', 0.4889221787452698),\n",
       " ('downside', 0.48150402307510376),\n",
       " ('snafu', 0.4802680015563965),\n",
       " ('flaw', 0.4800947606563568),\n",
       " ('gripe', 0.4734107553958893),\n",
       " ('problems.the', 0.47201845049858093)]"
      ]
     },
     "execution_count": 11,
     "metadata": {},
     "output_type": "execute_result"
    }
   ],
   "source": [
    "model.wv.most_similar(positive=[\"device\",'problem'],negative=[\"smartphone\"],topn=20)"
   ]
  },
  {
   "cell_type": "code",
   "execution_count": 12,
   "metadata": {},
   "outputs": [
    {
     "data": {
      "text/plain": [
       "[('smart-phone', 0.7743964791297913),\n",
       " ('cellphone', 0.7394030094146729),\n",
       " ('pda', 0.6988471150398254),\n",
       " ('smart', 0.6731101870536804),\n",
       " ('phone/tablet', 0.6652917265892029),\n",
       " ('smartphones', 0.6637332439422607),\n",
       " ('phablet', 0.6592925190925598),\n",
       " ('non-smartphone', 0.6552693247795105),\n",
       " ('tablet', 0.6325989961624146),\n",
       " ('netbook', 0.6108112931251526)]"
      ]
     },
     "execution_count": 12,
     "metadata": {},
     "output_type": "execute_result"
    }
   ],
   "source": [
    "model.wv.similar_by_word(\"smartphone\")"
   ]
  },
  {
   "cell_type": "code",
   "execution_count": null,
   "metadata": {
    "collapsed": true
   },
   "outputs": [],
   "source": []
  }
 ],
 "metadata": {
  "kernelspec": {
   "display_name": "Python 3",
   "language": "python",
   "name": "python3"
  },
  "language_info": {
   "codemirror_mode": {
    "name": "ipython",
    "version": 3
   },
   "file_extension": ".py",
   "mimetype": "text/x-python",
   "name": "python",
   "nbconvert_exporter": "python",
   "pygments_lexer": "ipython3",
   "version": "3.6.1"
  }
 },
 "nbformat": 4,
 "nbformat_minor": 2
}
