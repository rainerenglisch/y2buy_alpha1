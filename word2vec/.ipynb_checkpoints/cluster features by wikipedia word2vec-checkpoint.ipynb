{
 "cells": [
  {
   "cell_type": "code",
   "execution_count": 6,
   "metadata": {
    "collapsed": true
   },
   "outputs": [],
   "source": [
    "import gensim\n",
    "word2vec_model = \"amazon\" #\"wikipedia\" \"amazon\"\n",
    "\n",
    "if word2vec_model == \"wikipedia\":\n",
    "# Load Google's pre-trained Word2Vec model.\n",
    "    model = gensim.models.KeyedVectors.load_word2vec_format('../../download/GoogleNews-vectors-negative300.bin', binary=True, limit=400000) \n",
    "else:\n",
    "    model = gensim.models.Word2Vec.load(\"myamazonmodel\") "
   ]
  },
  {
   "cell_type": "code",
   "execution_count": 7,
   "metadata": {},
   "outputs": [
    {
     "name": "stdout",
     "output_type": "stream",
     "text": [
      "'he' is to 'his' as 'she' is to 'her'\n",
      "'big' is to 'bigger' as 'bad' is to 'worse'\n",
      "'going' is to 'went' as 'being' is to 'wa'\n"
     ]
    }
   ],
   "source": [
    "# \"boy\" is to \"father\" as \"girl\" is to ...?\n",
    "model.most_similar(['girl', 'father'], ['boy'], topn=3)\n",
    "[('mother', 0.61849487), ('wife', 0.57972813), ('daughter', 0.56296098)]\n",
    "more_examples = [\"he his she\", \"big bigger bad\", \"going went being\"]\n",
    "for example in more_examples:\n",
    "    a, b, x = example.split()\n",
    "    predicted = model.most_similar([x, b], [a])[0][0]\n",
    "    print(\"'%s' is to '%s' as '%s' is to '%s'\" % (a, b, x, predicted))\n",
    "#'he' is to 'his' as 'she' is to 'her'\n",
    "#'big' is to 'bigger' as 'bad' is to 'worse'\n",
    "#'going' is to 'went' as 'being' is to 'was'\n"
   ]
  },
  {
   "cell_type": "code",
   "execution_count": 8,
   "metadata": {},
   "outputs": [
    {
     "data": {
      "text/plain": [
       "'cereal'"
      ]
     },
     "execution_count": 8,
     "metadata": {},
     "output_type": "execute_result"
    }
   ],
   "source": [
    "# which word doesn't go with the others?\n",
    "model.doesnt_match(\"breakfast cereal dinner lunch\".split())\n",
    "#'cereal'"
   ]
  },
  {
   "cell_type": "code",
   "execution_count": 9,
   "metadata": {
    "collapsed": true
   },
   "outputs": [],
   "source": [
    "import pymongo\n",
    "client = pymongo.MongoClient()\n",
    "mydb = client['y2buy_1']\n",
    "my_collection = mydb['features']"
   ]
  },
  {
   "cell_type": "code",
   "execution_count": 10,
   "metadata": {},
   "outputs": [],
   "source": [
    "features = []\n",
    "features_vec = []\n",
    "for feature_doc in my_collection.find():\n",
    "    feature = feature_doc[\"feature\"]\n",
    "    try:\n",
    "        feature_vec = model.wv[feature] \n",
    "        features.append(feature)\n",
    "        features_vec.append(feature_vec)\n",
    "    except KeyError:\n",
    "        print(feature + \" not in wordvectors.\")\n",
    "#features= [feature_doc[\"feature\"]  for feature_doc in my_collection.find()]\n",
    "#feature_vec = [model.wv[feature] for feature in features]"
   ]
  },
  {
   "cell_type": "markdown",
   "metadata": {
    "collapsed": true
   },
   "source": [
    "http://scikit-learn.org/stable/modules/generated/sklearn.cluster.KMeans.html"
   ]
  },
  {
   "cell_type": "code",
   "execution_count": 11,
   "metadata": {
    "collapsed": true
   },
   "outputs": [],
   "source": [
    "import numpy as np\n",
    "np_array = np.asarray(features_vec)"
   ]
  },
  {
   "cell_type": "code",
   "execution_count": 12,
   "metadata": {
    "collapsed": true
   },
   "outputs": [],
   "source": [
    "from sklearn.cluster import KMeans\n",
    "nc = 10\n",
    "kmeans = KMeans(n_clusters=nc, random_state=0).fit(np_array)"
   ]
  },
  {
   "cell_type": "code",
   "execution_count": 13,
   "metadata": {},
   "outputs": [
    {
     "data": {
      "text/plain": [
       "array([3, 8, 6, 0, 6, 2, 0, 4, 8, 3, 5, 8, 9, 9, 9, 3, 8, 8, 3, 2, 4, 3, 2,\n",
       "       6, 8, 9, 3, 5, 4, 8, 5, 8, 3, 3, 9, 0, 8, 8, 8, 6, 5, 7, 2, 3, 8, 4,\n",
       "       8, 5, 2, 8, 3, 8, 3, 1, 0, 3, 7, 4, 3, 1, 8, 3, 2, 6, 8, 5, 3, 3, 8,\n",
       "       3, 8, 0, 6, 6, 4, 8, 8, 2, 3, 2, 8, 5, 8, 9, 5, 3, 8, 8, 7, 8, 0, 0,\n",
       "       3, 3, 5, 8, 8, 5, 1, 8], dtype=int32)"
      ]
     },
     "execution_count": 13,
     "metadata": {},
     "output_type": "execute_result"
    }
   ],
   "source": [
    "kmeans.labels_"
   ]
  },
  {
   "cell_type": "code",
   "execution_count": 14,
   "metadata": {},
   "outputs": [
    {
     "name": "stdout",
     "output_type": "stream",
     "text": [
      "['use' 'work' 'get' 'charge' 'love' 'play' 'need']\n",
      "['home' 'power' 'volume']\n",
      "['camera' 'way' 'button' 'keyboard' 'hand' 'speaker' 'area' 'bit']\n",
      "['phone' 'iphone' 'samsung' 'card' 'lot' 'htc' 'galaxy' 'note' 'version'\n",
      " 'plan' 'verizon' 'apple' 'blackberry' 'smartphone' 'number' 'cell' 'store'\n",
      " 'droid' 'motorola' 'sprint' 'market']\n",
      "['day' 'year' 'month' 'hour' 'minute' 'week']\n",
      "['thing' 'case' 'price' 'size' 'look' 'feel' 'product' 'reason' 'charger'\n",
      " 'color']\n",
      "['screen' 'time' 'video' 'picture' 'display' 'photo' 'application']\n",
      "['everything' 'something' 'anything']\n",
      "['battery' 'device' 'feature' 'call' 'apps' 'service' 'data' 'android'\n",
      " 'google' 'people' 'music' 'software' 'app' 'memory' 'network' 'speed'\n",
      " 'option' 'voice' 'system' 'user' 'game' 'support' 'window' 'internet'\n",
      " 'email' 'message' 'wifi' 'sound' 'gps']\n",
      "['life' 'problem' 'quality' 'issue' 'review' 'experience']\n"
     ]
    }
   ],
   "source": [
    "for label in range(nc):\n",
    "    print(np.asarray(features)[kmeans.labels_ == label])"
   ]
  },
  {
   "cell_type": "code",
   "execution_count": 15,
   "metadata": {},
   "outputs": [
    {
     "data": {
      "text/plain": [
       "0.42864176021636469"
      ]
     },
     "execution_count": 15,
     "metadata": {},
     "output_type": "execute_result"
    }
   ],
   "source": [
    "model.similarity('battery', 'charge')"
   ]
  },
  {
   "cell_type": "code",
   "execution_count": 23,
   "metadata": {},
   "outputs": [
    {
     "data": {
      "text/plain": [
       "[('smart-phone', 0.6025104522705078),\n",
       " ('primitive', 0.5488288998603821),\n",
       " ('dumb', 0.5450676679611206),\n",
       " ('smart', 0.5194618701934814),\n",
       " ('stellar', 0.5147908329963684),\n",
       " ('pitiful', 0.5052821040153503),\n",
       " ('touchwhiz', 0.5040596723556519),\n",
       " ('good', 0.5032336711883545),\n",
       " ('miserable', 0.4975055754184723),\n",
       " ('outdated', 0.4966440796852112)]"
      ]
     },
     "execution_count": 23,
     "metadata": {},
     "output_type": "execute_result"
    }
   ],
   "source": [
    "model.wv.most_similar(positive=['smartphone',\"bad\"])"
   ]
  },
  {
   "cell_type": "code",
   "execution_count": null,
   "metadata": {
    "collapsed": true
   },
   "outputs": [],
   "source": []
  }
 ],
 "metadata": {
  "kernelspec": {
   "display_name": "Python 3",
   "language": "python",
   "name": "python3"
  },
  "language_info": {
   "codemirror_mode": {
    "name": "ipython",
    "version": 3
   },
   "file_extension": ".py",
   "mimetype": "text/x-python",
   "name": "python",
   "nbconvert_exporter": "python",
   "pygments_lexer": "ipython3",
   "version": "3.6.1"
  }
 },
 "nbformat": 4,
 "nbformat_minor": 2
}
