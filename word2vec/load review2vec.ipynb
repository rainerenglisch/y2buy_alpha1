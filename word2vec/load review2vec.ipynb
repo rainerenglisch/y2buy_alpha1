{
 "cells": [
  {
   "cell_type": "code",
   "execution_count": 1,
   "metadata": {
    "collapsed": true
   },
   "outputs": [],
   "source": [
    "import gensim\n",
    "model = gensim.models.Doc2Vec.load('../../download/word2vec/myamazon.review2vec_model')"
   ]
  },
  {
   "cell_type": "markdown",
   "metadata": {},
   "source": [
    "print(model.wv.vocab.keys())"
   ]
  },
  {
   "cell_type": "code",
   "execution_count": 4,
   "metadata": {
    "scrolled": true
   },
   "outputs": [
    {
     "name": "stdout",
     "output_type": "stream",
     "text": [
      "[('gripe', 0.9481071829795837), ('criticism', 0.8634525537490845), ('qualm', 0.8524773716926575), ('drawback', 0.8339880704879761), ('downside', 0.8291166424751282), ('concern', 0.8264190554618835), ('downfall', 0.8236643075942993), ('beef', 0.8218797445297241), ('objection', 0.7834230661392212), ('quibble', 0.7774393558502197)]\n"
     ]
    }
   ],
   "source": [
    "print(model.most_similar(positive=[\"complaint\"]))"
   ]
  },
  {
   "cell_type": "markdown",
   "metadata": {},
   "source": [
    "model.docvecs[10] "
   ]
  },
  {
   "cell_type": "markdown",
   "metadata": {},
   "source": [
    "#label = review_item[\"asin\"] + \"_\" + review_item[\"reviewerID\"] + \"_\" + str(s_i)\n",
    "print(model.most_similar(\"0110400550_ANG01NK4RXCI9_1\"))"
   ]
  },
  {
   "cell_type": "code",
   "execution_count": 4,
   "metadata": {},
   "outputs": [
    {
     "data": {
      "text/plain": [
       "array([ 0.0558596 ,  0.07290795,  0.05314945, -0.05084066, -0.03398687,\n",
       "       -0.01522827,  0.0225424 , -0.01615807, -0.06410424, -0.08605845,\n",
       "       -0.04101688, -0.04734059, -0.03551017,  0.05101046,  0.10987837,\n",
       "        0.07036378, -0.12040558,  0.06851805,  0.0470764 ,  0.03158293,\n",
       "        0.01601992, -0.04589269,  0.05263004,  0.00176986, -0.09749659,\n",
       "       -0.04302035,  0.12721641, -0.01653454,  0.12246958,  0.06133512,\n",
       "       -0.00206942, -0.00340649, -0.05968679,  0.00163595,  0.04407118,\n",
       "       -0.06594243, -0.03703227,  0.02730733, -0.06105007, -0.03932389,\n",
       "       -0.00598675, -0.02054736,  0.03891629, -0.04868845,  0.09244525,\n",
       "        0.00851057,  0.14507604,  0.0474814 , -0.00244264, -0.01998211,\n",
       "        0.07390873, -0.05179302,  0.00927629, -0.08586065, -0.02180294,\n",
       "       -0.04121888,  0.0175697 , -0.09989065, -0.03532798,  0.02119371,\n",
       "       -0.08012164,  0.00535698, -0.03820328, -0.06032015, -0.03035272,\n",
       "        0.03762709,  0.02172989, -0.0411233 , -0.00461959,  0.01921141,\n",
       "        0.03040306,  0.03157806,  0.07336074, -0.01262977,  0.0175273 ,\n",
       "       -0.06512888,  0.01335116, -0.03813587, -0.08592482,  0.10003019,\n",
       "       -0.0081246 , -0.14377218, -0.08030959,  0.04341732,  0.0488196 ,\n",
       "        0.01461891, -0.02880361, -0.01146197, -0.02137203,  0.0515305 ,\n",
       "        0.12933138, -0.01069605, -0.02463703,  0.0421749 , -0.01708158,\n",
       "        0.05779199,  0.05041104,  0.04226162,  0.07758886,  0.01138312], dtype=float32)"
      ]
     },
     "execution_count": 4,
     "metadata": {},
     "output_type": "execute_result"
    }
   ],
   "source": [
    "model.infer_vector(['only', 'you', 'can', 'prevent', 'forrest', 'fires'])"
   ]
  },
  {
   "cell_type": "markdown",
   "metadata": {
    "collapsed": true
   },
   "source": [
    "Read 100 sentences from amazon reviews and cluster them into 10 topics"
   ]
  },
  {
   "cell_type": "code",
   "execution_count": 2,
   "metadata": {
    "collapsed": true
   },
   "outputs": [],
   "source": [
    "import json \n",
    "import gzip \n",
    "def parse(path): \n",
    "    g = gzip.open(path, 'r') \n",
    "    for l in g: \n",
    "        yield eval(l)"
   ]
  },
  {
   "cell_type": "code",
   "execution_count": 3,
   "metadata": {
    "collapsed": true
   },
   "outputs": [],
   "source": [
    "import nltk\n",
    "import gensim\n",
    "\n",
    "sent_detector = nltk.data.load('tokenizers/punkt/english.pickle')\n",
    "review_item_iterator = iter(parse(\"../../download/word2vec/reviews_Cell_Phones_and_Accessories.json.gz\"))\n",
    "\n",
    "def reviews():\n",
    "    \n",
    "    for review_item in review_item_iterator:\n",
    "#        print(review_item)\n",
    "#        if \"Cell Phones\" in review_item[\"categories\"]:\n",
    "            \n",
    "        reviewText = review_item[\"reviewText\"]\n",
    "\n",
    "        preprocess_review = gensim.utils.simple_preprocess(reviewText)\n",
    "        yield preprocess_review\n",
    "\n",
    "#        for sentence in sent_detector.tokenize(reviewText):\n",
    "#            preprocess_sentence = gensim.utils.simple_preprocess(sentence)\n",
    "#            yield preprocess_sentence \n",
    "        "
   ]
  },
  {
   "cell_type": "markdown",
   "metadata": {},
   "source": [
    "#sentences = MySentences()\n",
    "for it in range(10):\n",
    "    sentence = next(sentences())\n",
    "    print(\" \".join(sentence))\n",
    "    "
   ]
  },
  {
   "cell_type": "code",
   "execution_count": 12,
   "metadata": {},
   "outputs": [
    {
     "name": "stdout",
     "output_type": "stream",
     "text": [
      "1000\n"
     ]
    }
   ],
   "source": [
    "import numpy as np\n",
    "cluster_reviews = [next(reviews()) for it in range(1000)]\n",
    "cluster_reviews_vec = [model.infer_vector(s) for s in cluster_reviews]\n",
    "#print(sentence_vec)\n",
    "np_array = np.asarray(cluster_reviews_vec)\n",
    "print(len(np_array))"
   ]
  },
  {
   "cell_type": "code",
   "execution_count": 13,
   "metadata": {
    "collapsed": true
   },
   "outputs": [],
   "source": [
    "import nltk\n",
    "from nltk.cluster.kmeans import KMeansClusterer\n",
    "nc = 20\n",
    "data = np_array\n",
    "\n",
    "#kclusterer = KMeansClusterer(nc, distance=nltk.cluster.util.cosine_distance, repeats=25)\n",
    "kclusterer = KMeansClusterer(nc, distance=nltk.cluster.util.cosine_distance)\n",
    "#kclusterer = KMeansClusterer(nc, distance=nltk.cluster.util.euclidean_distance)\n",
    "assigned_clusters = kclusterer.cluster(data, assign_clusters=True)"
   ]
  },
  {
   "cell_type": "code",
   "execution_count": 14,
   "metadata": {},
   "outputs": [
    {
     "name": "stdout",
     "output_type": "stream",
     "text": [
      "[2, 11, 2, 11, 5, 9, 17, 2, 2, 11, 2, 16, 17, 11, 17, 17, 11, 11, 17, 11, 17, 0, 2, 3, 4, 2, 0, 13, 2, 11, 11, 2, 2, 2, 11, 17, 3, 2, 2, 2, 13, 6, 17, 2, 2, 18, 1, 4, 8, 14, 11, 18, 2, 6, 17, 14, 2, 11, 11, 13, 2, 11, 11, 0, 2, 17, 2, 2, 11, 6, 11, 17, 11, 11, 11, 2, 18, 17, 11, 17, 6, 6, 6, 17, 0, 11, 2, 17, 2, 17, 0, 17, 2, 0, 17, 17, 15, 2, 16, 17, 6, 6, 14, 6, 6, 11, 2, 2, 0, 2, 2, 10, 17, 11, 17, 17, 11, 11, 11, 11, 17, 16, 2, 11, 6, 2, 2, 11, 11, 2, 11, 17, 17, 4, 17, 17, 11, 2, 17, 17, 11, 5, 17, 6, 4, 11, 11, 2, 11, 2, 6, 11, 11, 17, 6, 2, 2, 17, 2, 2, 17, 0, 17, 2, 17, 11, 17, 11, 11, 11, 2, 11, 17, 6, 2, 17, 17, 17, 6, 13, 13, 11, 6, 13, 4, 13, 13, 6, 8, 14, 18, 18, 17, 14, 17, 14, 17, 13, 14, 18, 2, 9, 11, 18, 14, 11, 14, 9, 17, 19, 2, 14, 14, 14, 18, 17, 0, 12, 13, 5, 17, 1, 14, 9, 13, 3, 17, 9, 17, 0, 18, 14, 0, 12, 14, 17, 14, 17, 13, 5, 5, 5, 17, 11, 17, 14, 14, 17, 5, 13, 18, 0, 1, 1, 18, 11, 17, 9, 18, 17, 17, 1, 11, 18, 17, 9, 11, 13, 17, 11, 5, 1, 18, 17, 11, 2, 7, 13, 17, 17, 5, 11, 5, 17, 14, 5, 18, 11, 14, 5, 5, 17, 2, 5, 0, 18, 17, 9, 18, 13, 5, 5, 9, 18, 16, 13, 6, 2, 2, 17, 13, 1, 17, 13, 6, 17, 18, 18, 14, 5, 9, 18, 14, 17, 2, 17, 2, 13, 17, 13, 18, 17, 18, 5, 0, 18, 7, 0, 18, 17, 12, 1, 17, 18, 14, 4, 9, 0, 11, 0, 11, 12, 10, 13, 10, 5, 18, 9, 17, 5, 10, 17, 17, 9, 12, 4, 14, 18, 17, 17, 11, 14, 13, 17, 6, 17, 17, 13, 1, 18, 18, 5, 0, 6, 14, 17, 6, 2, 14, 1, 11, 11, 17, 5, 2, 6, 5, 14, 18, 18, 17, 14, 17, 13, 11, 2, 2, 14, 8, 14, 17, 12, 14, 17, 18, 18, 11, 18, 11, 6, 6, 9, 9, 17, 17, 17, 13, 5, 17, 8, 1, 1, 0, 18, 13, 11, 17, 14, 17, 17, 17, 5, 13, 11, 17, 18, 17, 14, 14, 11, 17, 5, 2, 18, 4, 17, 9, 14, 13, 18, 0, 14, 5, 12, 11, 11, 11, 18, 16, 13, 17, 6, 13, 13, 2, 11, 9, 14, 17, 17, 17, 13, 5, 17, 2, 13, 14, 17, 6, 17, 14, 13, 11, 11, 11, 13, 0, 2, 18, 16, 14, 18, 6, 5, 0, 12, 14, 14, 17, 2, 13, 17, 5, 11, 14, 4, 9, 2, 0, 5, 2, 11, 2, 18, 17, 14, 11, 2, 17, 17, 14, 16, 5, 2, 6, 11, 0, 1, 9, 17, 2, 17, 2, 13, 2, 17, 11, 17, 14, 18, 18, 17, 17, 0, 11, 13, 17, 5, 18, 2, 9, 13, 9, 9, 18, 9, 13, 14, 17, 2, 11, 11, 12, 14, 18, 5, 16, 1, 17, 4, 11, 17, 14, 13, 1, 17, 2, 14, 11, 11, 11, 13, 5, 18, 14, 1, 3, 17, 17, 4, 13, 11, 11, 5, 9, 17, 13, 1, 14, 18, 9, 1, 5, 13, 14, 11, 5, 17, 5, 11, 13, 13, 17, 17, 12, 17, 17, 5, 18, 14, 10, 9, 6, 5, 17, 13, 18, 14, 18, 17, 17, 13, 5, 18, 5, 13, 13, 14, 18, 5, 4, 18, 14, 14, 9, 17, 17, 5, 14, 18, 2, 11, 14, 5, 12, 18, 17, 13, 2, 14, 18, 13, 2, 18, 3, 17, 17, 18, 0, 11, 14, 1, 14, 14, 14, 3, 11, 14, 5, 11, 17, 17, 17, 2, 0, 18, 17, 2, 11, 11, 14, 17, 6, 2, 18, 2, 14, 17, 17, 9, 11, 3, 8, 17, 5, 11, 18, 5, 11, 17, 11, 17, 14, 18, 17, 17, 17, 17, 13, 11, 6, 8, 11, 14, 1, 5, 9, 12, 17, 0, 14, 17, 17, 13, 5, 5, 9, 14, 13, 9, 18, 12, 5, 9, 6, 2, 2, 14, 13, 17, 12, 12, 14, 17, 18, 14, 6, 17, 11, 14, 14, 18, 5, 0, 14, 5, 14, 19, 5, 17, 11, 11, 1, 11, 17, 18, 17, 17, 14, 0, 17, 2, 11, 17, 13, 5, 18, 16, 18, 12, 17, 17, 6, 13, 17, 11, 17, 12, 17, 19, 11, 11, 11, 11, 14, 3, 6, 2, 17, 11, 14, 17, 5, 11, 5, 14, 14, 5, 17, 3, 14, 11, 9, 5, 2, 17, 9, 12, 5, 17, 18, 4, 1, 0, 11, 12, 11, 17, 11, 5, 12, 5, 17, 17, 18, 15, 18, 2, 14, 17, 17, 11, 5, 17, 1, 13, 11, 6, 5, 12, 5, 19, 14, 16, 17, 18, 17, 13, 11, 18, 17, 14, 17, 17, 14, 11, 2, 17, 0, 17, 11, 13, 6, 14, 17, 11, 17, 6, 9, 11, 2, 0, 16, 5, 14, 18, 11, 11, 11, 11, 14, 18, 18, 14, 12, 17, 17, 11, 14, 11, 0, 0, 14, 18, 9, 11, 14, 11, 5, 14, 18, 5, 17, 1, 18, 11, 0, 11, 14, 18, 12, 2, 17, 13, 17, 15, 18, 11, 15, 14, 5, 18, 17, 11, 2, 13, 14, 13, 5, 2, 13, 13, 11, 5, 0, 14, 2, 17, 5, 19, 0, 14, 12, 17, 14, 17, 14, 5, 17, 8, 9, 11, 4, 17, 16, 11, 5, 17, 0, 17, 18, 14, 2, 1, 18, 11, 6, 11, 17, 17]\n"
     ]
    }
   ],
   "source": [
    "print(assigned_clusters)\n",
    "np_assigned_clusters = np.asarray(assigned_clusters)"
   ]
  },
  {
   "cell_type": "code",
   "execution_count": 16,
   "metadata": {},
   "outputs": [
    {
     "name": "stdout",
     "output_type": "stream",
     "text": [
      "   cluster                                           sentence\n",
      "0        2  so cute and protects phone very well just wish...\n",
      "1       11  speck candyshells have saved my kids iphones t...\n",
      "2        2  fun christmas phone cover the cover fits well ...\n",
      "3       11  agree that it is little hard to take off but o...\n",
      "4        5  wanted way to charge spare battery this charge...\n"
     ]
    }
   ],
   "source": [
    "#result = np.vstack((np.asarray(cluster_sentences)[np_assigned_clusters == 1]))\n",
    "import pandas as pd\n",
    "cluster_reviews_join = [\" \".join(s_list) for s_list in cluster_reviews]\n",
    "result = pd.DataFrame({ 'cluster' : assigned_clusters,   'sentence' : cluster_reviews_join})\n",
    "print(result.head())"
   ]
  },
  {
   "cell_type": "code",
   "execution_count": 17,
   "metadata": {
    "collapsed": true
   },
   "outputs": [],
   "source": [
    "writer = pd.ExcelWriter('clustered_reviews.xlsx')\n",
    "result.to_excel(writer,'Sheet1')\n",
    "writer.save()"
   ]
  },
  {
   "cell_type": "markdown",
   "metadata": {},
   "source": [
    "\n",
    "for label in range(nc):\n",
    "#    print(np.asarray(features)[kmeans.labels_ == label])\n",
    "    print(label)\n",
    "    print(np.asarray(cluster_sentences)[np_assigned_clusters == label])"
   ]
  },
  {
   "cell_type": "code",
   "execution_count": 47,
   "metadata": {},
   "outputs": [
    {
     "data": {
      "text/plain": [
       "[('B003VMF77K_A26O3GJ1UPB88E', 0.4003334939479828),\n",
       " ('B004CRLVEQ_A276FBDWU7EDMC', 0.3389210104942322),\n",
       " ('B0049D5B58_A2Q959WVCMENGC', 0.32904356718063354),\n",
       " ('B0049Y2PIS_A135GKYA69DEEL', 0.32301953434944153),\n",
       " ('B002HYJIC8_A2I7IZS1Y9G00T', 0.31881940364837646),\n",
       " ('B004I53CNU_A2MKPCNX58RR4F', 0.3187076151371002),\n",
       " ('B002WG8SLS_A1QF4Z4P6D3FO4', 0.3153952360153198),\n",
       " ('B0015RB39O_A1H2TFU52F8QES', 0.306505411863327),\n",
       " ('B000V2MVRC_A16YAI8OAD421D', 0.3062719702720642),\n",
       " ('B003XQG7GY_A2KE3P8BUYEXVO', 0.3045923113822937)]"
      ]
     },
     "execution_count": 47,
     "metadata": {},
     "output_type": "execute_result"
    }
   ],
   "source": [
    "model.docvecs.most_similar(positive=[model.infer_vector(\"shipping\"),model.infer_vector(\"battery\")])"
   ]
  },
  {
   "cell_type": "code",
   "execution_count": 21,
   "metadata": {},
   "outputs": [
    {
     "data": {
      "text/plain": [
       "[('B005BYSV7O_A1XKR3Y3W8HI98', 0.6482802033424377),\n",
       " ('B000IEU0PI_AKPO81KPVGBRY', 0.6445669531822205),\n",
       " ('B005B41JKK_A4OOAHWUCH2BZ', 0.6281936168670654),\n",
       " ('B004WA90IM_A31BZFTEYWUKB', 0.6238046884536743),\n",
       " ('B004BWCYUM_A2MDWXF4MYI9W5', 0.6196413636207581),\n",
       " ('B0045WV29W_AGCZUZRQO7NXK', 0.6193785667419434),\n",
       " ('B00483UV2M_A27VB193JHH11Z', 0.6185712814331055),\n",
       " ('B005FUNYSA_A3VLG8N85M8RAY', 0.6172484159469604),\n",
       " ('B005ERQBW0_A1DDI1CLPEL0ZN', 0.6141304969787598),\n",
       " ('B0058VZTO8_A1GP5AQRMRT94M', 0.6135973930358887)]"
      ]
     },
     "execution_count": 21,
     "metadata": {},
     "output_type": "execute_result"
    }
   ],
   "source": [
    "model.docvecs.most_similar(positive=[model.infer_vector(\"Just have to make sure the battery is charged before long use. Easy to use and battery inside will charge phone from dead with out sun light.\".split())])"
   ]
  },
  {
   "cell_type": "code",
   "execution_count": 27,
   "metadata": {},
   "outputs": [
    {
     "data": {
      "text/plain": [
       "[('B0054ERNAW_A3107D7Z8X740D', 0.5608595013618469),\n",
       " ('B004KQ8RKK_A34U1JV9VCVYZR', 0.5398117899894714),\n",
       " ('B001UO651S_A21YXIVQG607J', 0.5313873887062073),\n",
       " ('B00501L26A_A1XBJC55NH0E7H', 0.5285714864730835),\n",
       " ('B003YKRAZ6_A2DIR2KNZ8L0XJ', 0.5281885266304016),\n",
       " ('B000HT79LC_A28P5VPI8274FU', 0.5205322504043579),\n",
       " ('B0015RB39O_A2EOIB17QSJY0F', 0.5158231258392334),\n",
       " ('B004WYWTQ8_A2E7ZYVZ4TR7QW', 0.5114509463310242),\n",
       " ('B004D5SP3M_APO01ICRMJO53', 0.5086949467658997),\n",
       " ('B003JTL3EG_AM1JGRPDZD8EU', 0.506945013999939)]"
      ]
     },
     "execution_count": 27,
     "metadata": {},
     "output_type": "execute_result"
    }
   ],
   "source": [
    "model.docvecs.most_similar(positive=[model.infer_vector(\"My order arrived two days later than the arrival window, which wasn't a big deal for me in this instance.  Despite being &#34;free shipping&#34; it came postage due, which meant instead of being in my mailbox, I had to schlep down to the post office, wait in line, and then pay 36 cents.  Not a lot, unless you start thinking about how many other &#34;free shipping&#34; items they sell on Amazon, that could arrive postage due, and then how many sales they'd lose if their prices actually reflected this and were less competitive.4-star product0-star\".split())])"
   ]
  },
  {
   "cell_type": "code",
   "execution_count": 28,
   "metadata": {},
   "outputs": [
    {
     "data": {
      "text/plain": [
       "[('B0047EOBRS_A31TS1RKIM3AMT', 0.627225399017334),\n",
       " ('B000RQ3QF8_A1KVRM2G3M6Y3W', 0.6202841401100159),\n",
       " ('B000P257EC_A2WSZ5N1W3X934', 0.6193845272064209),\n",
       " ('B004N87OFO_A1ACIU8SUCLSLO', 0.6146290302276611),\n",
       " ('B002UP5P8A_A2HR892W9K2G8L', 0.6133944392204285),\n",
       " ('B0042I3UJE_A1TJWT3A1FCLRF', 0.6099786162376404),\n",
       " ('B003Y62YRO_AX6LGWPEGSRPD', 0.6091895699501038),\n",
       " ('B000NE0DV4_A3DUZRLVFU2PFT', 0.6073784232139587),\n",
       " ('B003TM5AJM_A3R4D9TVBVBY2S', 0.604681670665741),\n",
       " ('B000NTZFQ2_A1ZB3M1U4WW7W', 0.6027838587760925)]"
      ]
     },
     "execution_count": 28,
     "metadata": {},
     "output_type": "execute_result"
    }
   ],
   "source": [
    "model.docvecs.most_similar(positive=[model.infer_vector(\"Just have to make sure the battery is charged before long use. Easy to use and battery inside will charge phone from dead with out sun light.\".split()),model.infer_vector(\"My order arrived two days later than the arrival window, which wasn't a big deal for me in this instance.  Despite being &#34;free shipping&#34; it came postage due, which meant instead of being in my mailbox, I had to schlep down to the post office, wait in line, and then pay 36 cents.  Not a lot, unless you start thinking about how many other &#34;free shipping&#34; items they sell on Amazon, that could arrive postage due, and then how many sales they'd lose if their prices actually reflected this and were less competitive.4-star product0-star\".split())])"
   ]
  },
  {
   "cell_type": "code",
   "execution_count": null,
   "metadata": {
    "collapsed": true
   },
   "outputs": [],
   "source": []
  }
 ],
 "metadata": {
  "kernelspec": {
   "display_name": "Python 3",
   "language": "python",
   "name": "python3"
  },
  "language_info": {
   "codemirror_mode": {
    "name": "ipython",
    "version": 3
   },
   "file_extension": ".py",
   "mimetype": "text/x-python",
   "name": "python",
   "nbconvert_exporter": "python",
   "pygments_lexer": "ipython3",
   "version": "3.6.1"
  }
 },
 "nbformat": 4,
 "nbformat_minor": 2
}
