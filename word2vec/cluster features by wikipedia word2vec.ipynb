{
 "cells": [
  {
   "cell_type": "code",
   "execution_count": 2,
   "metadata": {},
   "outputs": [],
   "source": [
    "import gensim\n",
    "word2vec_model = \"wikipedia\" #\"wikipedia\" \"amazon\"\n",
    "\n",
    "if word2vec_model == \"wikipedia\":\n",
    "# Load Google's pre-trained Word2Vec model.\n",
    "    model = gensim.models.KeyedVectors.load_word2vec_format('../../download/GoogleNews-vectors-negative300.bin', binary=True, limit=400000) \n",
    "else:\n",
    "    model = gensim.models.Word2Vec.load(\"myamazonmodel\") "
   ]
  },
  {
   "cell_type": "code",
   "execution_count": 3,
   "metadata": {},
   "outputs": [
    {
     "name": "stdout",
     "output_type": "stream",
     "text": [
      "'he' is to 'his' as 'she' is to 'her'\n",
      "'big' is to 'bigger' as 'bad' is to 'worse'\n",
      "'going' is to 'went' as 'being' is to 'were'\n"
     ]
    }
   ],
   "source": [
    "# \"boy\" is to \"father\" as \"girl\" is to ...?\n",
    "model.most_similar(['girl', 'father'], ['boy'], topn=3)\n",
    "[('mother', 0.61849487), ('wife', 0.57972813), ('daughter', 0.56296098)]\n",
    "more_examples = [\"he his she\", \"big bigger bad\", \"going went being\"]\n",
    "for example in more_examples:\n",
    "    a, b, x = example.split()\n",
    "    predicted = model.most_similar([x, b], [a])[0][0]\n",
    "    print(\"'%s' is to '%s' as '%s' is to '%s'\" % (a, b, x, predicted))\n",
    "#'he' is to 'his' as 'she' is to 'her'\n",
    "#'big' is to 'bigger' as 'bad' is to 'worse'\n",
    "#'going' is to 'went' as 'being' is to 'was'\n"
   ]
  },
  {
   "cell_type": "code",
   "execution_count": 4,
   "metadata": {},
   "outputs": [
    {
     "data": {
      "text/plain": [
       "'cereal'"
      ]
     },
     "execution_count": 4,
     "metadata": {},
     "output_type": "execute_result"
    }
   ],
   "source": [
    "# which word doesn't go with the others?\n",
    "model.doesnt_match(\"breakfast cereal dinner lunch\".split())\n",
    "#'cereal'"
   ]
  },
  {
   "cell_type": "code",
   "execution_count": 5,
   "metadata": {
    "collapsed": true
   },
   "outputs": [],
   "source": [
    "import pymongo\n",
    "client = pymongo.MongoClient()\n",
    "mydb = client['y2buy_1']\n",
    "my_collection = mydb['features']"
   ]
  },
  {
   "cell_type": "code",
   "execution_count": 6,
   "metadata": {},
   "outputs": [
    {
     "name": "stdout",
     "output_type": "stream",
     "text": [
      "tracfone not in wordvectors.\n"
     ]
    }
   ],
   "source": [
    "features = []\n",
    "features_vec = []\n",
    "for feature_doc in my_collection.find():\n",
    "    feature = feature_doc[\"feature\"]\n",
    "    try:\n",
    "        feature_vec = model.wv[feature] \n",
    "        features.append(feature)\n",
    "        features_vec.append(feature_vec)\n",
    "    except KeyError:\n",
    "        print(feature + \" not in wordvectors.\")\n",
    "#features= [feature_doc[\"feature\"]  for feature_doc in my_collection.find()]\n",
    "#feature_vec = [model.wv[feature] for feature in features]"
   ]
  },
  {
   "cell_type": "markdown",
   "metadata": {
    "collapsed": true
   },
   "source": [
    "http://scikit-learn.org/stable/modules/generated/sklearn.cluster.KMeans.html"
   ]
  },
  {
   "cell_type": "code",
   "execution_count": 7,
   "metadata": {
    "collapsed": true
   },
   "outputs": [],
   "source": [
    "import numpy as np\n",
    "np_array = np.asarray(features_vec)"
   ]
  },
  {
   "cell_type": "markdown",
   "metadata": {
    "collapsed": true
   },
   "source": [
    "from anc import KMeans\n",
    "nc = 10\n",
    "kmeans = KMeans(n_clusters=nc, random_state=0).fit(np_array)\n",
    "\n"
   ]
  },
  {
   "cell_type": "code",
   "execution_count": 10,
   "metadata": {},
   "outputs": [],
   "source": [
    "import nltk\n",
    "from nltk.cluster.kmeans import KMeansClusterer\n",
    "nc = 10\n",
    "data = np_array\n",
    "\n",
    "kclusterer = KMeansClusterer(nc, distance=nltk.cluster.util.cosine_distance, repeats=25)\n",
    "assigned_clusters = kclusterer.cluster(data, assign_clusters=True)"
   ]
  },
  {
   "cell_type": "code",
   "execution_count": 14,
   "metadata": {},
   "outputs": [
    {
     "name": "stdout",
     "output_type": "stream",
     "text": [
      "[4, 2, 7, 8, 0, 4, 4, 2, 1, 7, 6, 4, 5, 6, 0, 1, 8, 6, 0, 2, 6, 3, 6, 8, 0, 6, 4, 5, 1, 1, 1, 6, 6, 6, 8, 7, 4, 2, 0, 4, 9, 8, 7, 5, 8, 8, 0, 5, 5, 7, 6, 6, 8, 1, 1, 5, 2, 6, 0, 4, 0, 2, 0, 4, 0, 1, 1, 0, 6, 0, 8, 5, 1, 0, 6, 5, 5, 7, 4, 3, 0, 6, 6, 3, 4, 1, 9, 2, 6, 0, 0, 8, 8, 1, 1, 6, 7, 9, 9]\n"
     ]
    }
   ],
   "source": [
    "#kmeans.labels_\n",
    "print(assigned_clusters)\n",
    "np_assigned_clusters = np.asarray(assigned_clusters)"
   ]
  },
  {
   "cell_type": "code",
   "execution_count": 15,
   "metadata": {},
   "outputs": [
    {
     "name": "stdout",
     "output_type": "stream",
     "text": [
      "['screen' 'iphone' 'features' 'samsung' 'keyboard' 'amazon' 'sim' 'version'\n",
      " 'android' 'smartphone' 'verizon' 'feature' 'galaxy' 'blackberry' 'google'\n",
      " 'wifi']\n",
      "['service' 'product' 'apps' 'data' 'device' 'internet' 'software' 'network'\n",
      " 'customer' 'store' 'app' 'company' 'system']\n",
      "['battery' 'card' 'cell' 'memory' 'button' 'charger' 'buttons']\n",
      "['minutes' 'box' 'reception']\n",
      "['phone' 'phones' 'camera' 'quality' 'call' 'calls' 'music' 'pictures'\n",
      " 'text' 'voice' 'video']\n",
      "['problem' 'problems' 'charge' 'size' 'case' 'number' 'issues' 'need'\n",
      " 'issue']\n",
      "['work' 'life' 'thing' 'way' 'everything' 'works' 'people' 'lot' 'get'\n",
      " 'something' 'things' 'love' 'anything' 'nothing' 'home' 'anyone' 'talk'\n",
      " 'bit']\n",
      "['use' 'price' 'money' 'seller' 'purchase' 'buy' 'support']\n",
      "['time' 'day' 'days' 'months' 'times' 'month' 'year' 'years' 'hours'\n",
      " 'weeks' 'week']\n",
      "['plan' 'order' 'contract' 'model']\n"
     ]
    }
   ],
   "source": [
    "for label in range(nc):\n",
    "#    print(np.asarray(features)[kmeans.labels_ == label])\n",
    "    print(np.asarray(features)[np_assigned_clusters == label])"
   ]
  },
  {
   "cell_type": "code",
   "execution_count": null,
   "metadata": {},
   "outputs": [],
   "source": [
    "model.similarity('battery', 'charge')"
   ]
  },
  {
   "cell_type": "code",
   "execution_count": null,
   "metadata": {},
   "outputs": [],
   "source": [
    "model.wv.most_similar(positive=[\"device\",'problem'],negative=[\"smartphone\"],topn=20)"
   ]
  },
  {
   "cell_type": "code",
   "execution_count": null,
   "metadata": {},
   "outputs": [],
   "source": [
    "model.wv.similar_by_word(\"smartphone\")"
   ]
  },
  {
   "cell_type": "code",
   "execution_count": null,
   "metadata": {
    "collapsed": true
   },
   "outputs": [],
   "source": []
  }
 ],
 "metadata": {
  "kernelspec": {
   "display_name": "Python 3",
   "language": "python",
   "name": "python3"
  },
  "language_info": {
   "codemirror_mode": {
    "name": "ipython",
    "version": 3
   },
   "file_extension": ".py",
   "mimetype": "text/x-python",
   "name": "python",
   "nbconvert_exporter": "python",
   "pygments_lexer": "ipython3",
   "version": "3.6.1"
  }
 },
 "nbformat": 4,
 "nbformat_minor": 2
}
