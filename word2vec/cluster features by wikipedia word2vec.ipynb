{
 "cells": [
  {
   "cell_type": "code",
   "execution_count": 1,
   "metadata": {
    "collapsed": true
   },
   "outputs": [],
   "source": [
    "import gensim\n",
    "\n",
    "# Load Google's pre-trained Word2Vec model.\n",
    "model = gensim.models.KeyedVectors.load_word2vec_format('../../download/GoogleNews-vectors-negative300.bin', binary=True, limit=400000) "
   ]
  },
  {
   "cell_type": "code",
   "execution_count": 2,
   "metadata": {},
   "outputs": [
    {
     "name": "stdout",
     "output_type": "stream",
     "text": [
      "'he' is to 'his' as 'she' is to 'her'\n",
      "'big' is to 'bigger' as 'bad' is to 'worse'\n",
      "'going' is to 'went' as 'being' is to 'were'\n"
     ]
    }
   ],
   "source": [
    "# \"boy\" is to \"father\" as \"girl\" is to ...?\n",
    "model.most_similar(['girl', 'father'], ['boy'], topn=3)\n",
    "[('mother', 0.61849487), ('wife', 0.57972813), ('daughter', 0.56296098)]\n",
    "more_examples = [\"he his she\", \"big bigger bad\", \"going went being\"]\n",
    "for example in more_examples:\n",
    "    a, b, x = example.split()\n",
    "    predicted = model.most_similar([x, b], [a])[0][0]\n",
    "    print(\"'%s' is to '%s' as '%s' is to '%s'\" % (a, b, x, predicted))\n",
    "#'he' is to 'his' as 'she' is to 'her'\n",
    "#'big' is to 'bigger' as 'bad' is to 'worse'\n",
    "#'going' is to 'went' as 'being' is to 'was'\n"
   ]
  },
  {
   "cell_type": "code",
   "execution_count": 3,
   "metadata": {},
   "outputs": [
    {
     "data": {
      "text/plain": [
       "'cereal'"
      ]
     },
     "execution_count": 3,
     "metadata": {},
     "output_type": "execute_result"
    }
   ],
   "source": [
    "# which word doesn't go with the others?\n",
    "model.doesnt_match(\"breakfast cereal dinner lunch\".split())\n",
    "#'cereal'"
   ]
  },
  {
   "cell_type": "code",
   "execution_count": 4,
   "metadata": {
    "collapsed": true
   },
   "outputs": [],
   "source": [
    "import pymongo\n",
    "client = pymongo.MongoClient()\n",
    "mydb = client['y2buy_1']\n",
    "my_collection = mydb['features']"
   ]
  },
  {
   "cell_type": "code",
   "execution_count": 5,
   "metadata": {},
   "outputs": [
    {
     "name": "stdout",
     "output_type": "stream",
     "text": [
      "htc not in wordvectors.\n"
     ]
    }
   ],
   "source": [
    "features = []\n",
    "features_vec = []\n",
    "for feature_doc in my_collection.find():\n",
    "    feature = feature_doc[\"feature\"]\n",
    "    try:\n",
    "        feature_vec = model.wv[feature] \n",
    "        features.append(feature)\n",
    "        features_vec.append(feature_vec)\n",
    "    except KeyError:\n",
    "        print(feature + \" not in wordvectors.\")\n",
    "#features= [feature_doc[\"feature\"]  for feature_doc in my_collection.find()]\n",
    "#feature_vec = [model.wv[feature] for feature in features]"
   ]
  },
  {
   "cell_type": "markdown",
   "metadata": {
    "collapsed": true
   },
   "source": [
    "http://scikit-learn.org/stable/modules/generated/sklearn.cluster.KMeans.html"
   ]
  },
  {
   "cell_type": "code",
   "execution_count": 6,
   "metadata": {
    "collapsed": true
   },
   "outputs": [],
   "source": [
    "import numpy as np\n",
    "np_array = np.asarray(features_vec)"
   ]
  },
  {
   "cell_type": "code",
   "execution_count": 10,
   "metadata": {
    "collapsed": true
   },
   "outputs": [],
   "source": [
    "from sklearn.cluster import KMeans\n",
    "nc = 15\n",
    "kmeans = KMeans(n_clusters=nc, random_state=0).fit(np_array)"
   ]
  },
  {
   "cell_type": "code",
   "execution_count": 11,
   "metadata": {},
   "outputs": [
    {
     "data": {
      "text/plain": [
       "array([ 6,  4,  5,  2,  0,  5,  0,  8,  9,  3,  0,  0,  0,  2,  2,  3,  6,\n",
       "       13,  0,  0,  8,  0, 14,  5,  9,  8,  8,  8,  9,  2,  3,  7,  8,  8,\n",
       "        0, 13,  0,  0,  5,  2,  0, 14,  9,  9,  0, 13,  0,  0, 10,  2,  9,\n",
       "        1,  0,  8, 12,  0,  0, 12,  2,  0,  6,  6,  5,  2,  0,  8,  6,  6,\n",
       "        8,  9,  2,  5,  9,  8,  9,  0,  8,  3,  0,  2,  9,  0,  0,  8,  3,\n",
       "        6,  6,  0,  5,  0,  2,  0,  9,  4,  3,  0,  5,  8, 11], dtype=int32)"
      ]
     },
     "execution_count": 11,
     "metadata": {},
     "output_type": "execute_result"
    }
   ],
   "source": [
    "kmeans.labels_"
   ]
  },
  {
   "cell_type": "code",
   "execution_count": 12,
   "metadata": {},
   "outputs": [
    {
     "name": "stdout",
     "output_type": "stream",
     "text": [
      "['time' 'work' 'thing' 'feature' 'life' 'card' 'way' 'lot' 'get' 'people'\n",
      " 'music' 'everything' 'hour' 'look' 'hand' 'home' 'something' 'minute'\n",
      " 'speed' 'feel' 'game' 'bit' 'window' 'experience' 'anything' 'play'\n",
      " 'sprint' 'sound']\n",
      "['verizon']\n",
      "['use' 'problem' 'quality' 'price' 'size' 'plan' 'power' 'option' 'love'\n",
      " 'support' 'need']\n",
      "['iphone' 'samsung' 'android' 'droid' 'motorola' 'wifi']\n",
      "['battery' 'charger']\n",
      "['screen' 'camera' 'video' 'picture' 'display' 'photo' 'message' 'color']\n",
      "['phone' 'call' 'smartphone' 'speaker' 'cell' 'voice' 'internet' 'email']\n",
      "['galaxy']\n",
      "['day' 'year' 'issue' 'case' 'month' 'note' 'review' 'charge' 'number'\n",
      " 'store' 'week' 'area' 'reason' 'volume']\n",
      "['device' 'service' 'data' 'version' 'software' 'network' 'system'\n",
      " 'application' 'user' 'product' 'market']\n",
      "['memory']\n",
      "['gps']\n",
      "['apple' 'blackberry']\n",
      "['apps' 'google' 'app']\n",
      "['button' 'keyboard']\n"
     ]
    }
   ],
   "source": [
    "for label in range(nc):\n",
    "    print(np.asarray(features)[kmeans.labels_ == label])"
   ]
  },
  {
   "cell_type": "code",
   "execution_count": null,
   "metadata": {
    "collapsed": true
   },
   "outputs": [],
   "source": []
  },
  {
   "cell_type": "code",
   "execution_count": null,
   "metadata": {
    "collapsed": true
   },
   "outputs": [],
   "source": []
  }
 ],
 "metadata": {
  "kernelspec": {
   "display_name": "Python 3",
   "language": "python",
   "name": "python3"
  },
  "language_info": {
   "codemirror_mode": {
    "name": "ipython",
    "version": 3
   },
   "file_extension": ".py",
   "mimetype": "text/x-python",
   "name": "python",
   "nbconvert_exporter": "python",
   "pygments_lexer": "ipython3",
   "version": "3.6.1"
  }
 },
 "nbformat": 4,
 "nbformat_minor": 2
}
