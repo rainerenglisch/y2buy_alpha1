{
 "cells": [
  {
   "cell_type": "code",
   "execution_count": 3,
   "metadata": {},
   "outputs": [],
   "source": [
    "import gensim\n",
    "\n",
    "# Load Google's pre-trained Word2Vec model.\n",
    "model = gensim.models.KeyedVectors.load_word2vec_format('../../download/GoogleNews-vectors-negative300.bin', binary=True, limit=300000) "
   ]
  },
  {
   "cell_type": "code",
   "execution_count": 6,
   "metadata": {},
   "outputs": [
    {
     "name": "stdout",
     "output_type": "stream",
     "text": [
      "'he' is to 'his' as 'she' is to 'her'\n",
      "'big' is to 'bigger' as 'bad' is to 'worse'\n",
      "'going' is to 'went' as 'being' is to 'were'\n"
     ]
    }
   ],
   "source": [
    "# \"boy\" is to \"father\" as \"girl\" is to ...?\n",
    "model.most_similar(['girl', 'father'], ['boy'], topn=3)\n",
    "[('mother', 0.61849487), ('wife', 0.57972813), ('daughter', 0.56296098)]\n",
    "more_examples = [\"he his she\", \"big bigger bad\", \"going went being\"]\n",
    "for example in more_examples:\n",
    "    a, b, x = example.split()\n",
    "    predicted = model.most_similar([x, b], [a])[0][0]\n",
    "    print(\"'%s' is to '%s' as '%s' is to '%s'\" % (a, b, x, predicted))\n",
    "#'he' is to 'his' as 'she' is to 'her'\n",
    "#'big' is to 'bigger' as 'bad' is to 'worse'\n",
    "#'going' is to 'went' as 'being' is to 'was'\n"
   ]
  },
  {
   "cell_type": "code",
   "execution_count": 5,
   "metadata": {},
   "outputs": [
    {
     "data": {
      "text/plain": [
       "'cereal'"
      ]
     },
     "execution_count": 5,
     "metadata": {},
     "output_type": "execute_result"
    }
   ],
   "source": [
    "# which word doesn't go with the others?\n",
    "model.doesnt_match(\"breakfast cereal dinner lunch\".split())\n",
    "#'cereal'"
   ]
  },
  {
   "cell_type": "code",
   "execution_count": 7,
   "metadata": {
    "collapsed": true
   },
   "outputs": [],
   "source": [
    "import pymongo\n",
    "client = pymongo.MongoClient()\n",
    "mydb = client['y2buy_1']\n",
    "my_collection = mydb['features']"
   ]
  },
  {
   "cell_type": "code",
   "execution_count": 10,
   "metadata": {},
   "outputs": [
    {
     "name": "stdout",
     "output_type": "stream",
     "text": [
      "['phone', 'seller', 'day', 'everything', 'week', 'delivery', 'order', 'work', 'film', 'time', 'thank', 'gift', 'money', 'recommend', 'quality', 'glass', 'description', 'case', 'problem', 'firmware', 'region', 'super', 'adapter', 'packaging', 'purchase', 'screen', 'track', 'product', 'mail', 'month', '\\\\\\\\_', 'camera', 'custom', 'box', 'parcel', 'price', 'battery', 'advise', 'thanks', 'russia', 'use', 'complaint', 'silicone', 'shipping', 'store', 'smartphone', 'package', 'fine', 'post', 'air', 'version', 'cover', 'star', 'charge', 'dispute', 'way', 'outlet', 'extension', 'device', 'question', 'excellent', 'review', 'singapore', 'condition', 'hand', 'payment', 'photo', 'date', 'fast', 'sound', 'headphone', 'color', 'wife', 'everyone', 'cool', 'alibonus', 'nothing', 'moscow', 'service', 'match', '..', 'xiaomi', 'thing', 'aliexpress', 'charger', 'communication', 'come', 'stock', 'point', 'level', 'bomb', 'class', 'damage', 'card', 'something', 'help', 'bag', 'look', 'shop', 'fire', 'unit', 'refund', 'machine', 'speed', 'friend', 'number', 'course', 'dealer', 'redmi', 'buy', 'petersburg', 'year', 'socket', 'le', 'check', 'son', 'cost', 'record', 'picture', 'protection', 'telephone', 'amount', 'china', 'test', 'memory', 'territory', 'edge', 'display', 'fingerprint', 'button', 'telefonchik', 'speaker', '//', 'wrap', 'respect', 'fact', 'internet', 'commodity', 'lot', 'reference', 'husband', 'return', 'fly', 'standard', 'book', 'sent', 'end', 'frame', 'megabonus', 'message', 'perfect', 'play', 'site', 'rule', 'communicate', 'model', 'fit', 'krasnodar', 'language', 'size', 'take', 'scratch', 'ali', 'anything', 'see', 'body', 'video', 'game', 'function', 'regret', 'let', 'bumper', 'pay', 'request', 'brand', 'difference', 'account', 'gold', 'operation', 't.', 'http', 'ok', 'impression', 'minus', 'receipt', 'performance', 'put', 'link', 'hope', 'application', 'reason', 'note', 'bit', 'item', 'set', 'plug', 'glitch', 'cable', 'discount', 'option', 'fault', 'mother', 'st.', 'addition', 'tyumen', 'space', 'power', 'equipment', 'peter', 'convenient', 'prodovtsa', 'kazan', 'scanner', 'support', 'get', 'deal', 'aliekspress', 'side', 'tape', 'delay', 'show', 'couple', 'place', 'defect', 'disappoint', 'contact', 'mo', 'глобалка', 'code', 'k.', 'parameter', 'iphone', 'microphone', 'hold', 'ruble', 'moment', 'xiaomei', 'design', 'volgograd', 'need', 'dollar', 'cashback', 'sorry', 'воспользуетесь', 'samara', 'krasnoyarsk', 'result', 'goldway', 'pack', 'guy', 'prodovets', 'response', 'word', 'responds', 'efficiency', 'euro', 'rest', 'city', 'minute', 'ok.', 'program', 'decent', 'july', 'form', 'comment', 'part', 'corresponds', 'piece', 'ship', 'con', 'pity', 'android', 'salesman', 'com/u', 'figment', 'child', 'good', 'wait', 'network', 'kazakhstan', 'dispatch', 'gb', 'catch', 'luck', 'light', 'shipment', 'notice', 'update', 'miui', 'term', 'call', 'state', 'pixel', 'birthday', 'sticker', 'epngo', 'address', 'samsung', 'touch', 'team', 'sensor', 'beautiful', 'dial', 'jamb', 'answer', 'protective', 'belgorod', 'issue', 'respond', 'send', 'originality', 'gap', 'corner', 'watch', 'expectation', 'flash', 'reflash', 'doubt', 'solution', 'customer', 'company', 'honest', 'rekomenduyu', 'pull', 'high-quality', 'conscience', 'daughter', 'altitude', 'prodavets', 'plastic', 'letter', 'tax', 'start', 'la', 'maximum', 'translation', 'goo', 'type', 'antutu', 'floor', 'feature', 'vain', 'bashkiria', 'drive', 'today', 'advice', '***', 'orenburg', 'saratov', 'praise', 'dney', 'factory', 'plenochku', 'background', 'ratio', 'try', 'read', 'feedback', 'change', 'manufacturer', 'prosperity', 'mattress', 'cash', 'регистрируйтесь', 'departure', 'status', 'specification', 'music', 'mind', 'official', 'noise', 'someone', 'pocket', 'dnya', 'zakazom', 'move', 'claim', 'sale', 'vse', 'area', 'front', 'premise', 'country', 'sense', 'fifth', 'loss', 'buying', 'drawback', 'sell', 'lay', 'mi', 'yekaterinburg', 'ram', 'operator', 'spasibo', '\\\\\\\\', 'vendor', 'appearance', 'kind', 'value', 'market', 'worry', 'flight', 'rom', 'gl/skosxq', 'worker', 'pas', 'mi5', 'family', 'trifle', 'face', 'sits', 'shopping', 'authenticity', 'repair', 'range', 'bonus', 'search', 'eye', 'principle', 'think', 'fall', 'weight', 'choice', 'transparent', 'kit', 'vladimir', 'irkutsk', 'average', 'hung', 'chelyabinsk', 'finger', 'smart', 'bootloader', 'menu', 'yaroslavl', 'top', 'attention', 'process', 'cell', 'buck', 'life', 'care', 'mobile', 'instruction', 'кэшбэком', 'mah', 'apps', 'understand', 'truth', 'ask', 'france', 'water', 'cheer', 'голдвея', 'functionality', 'c', 'continue', 'curve', 'sochi', 'turn', 'integrity', 'guilt', 'meet', 'disadvantage', 'thx', 'plane', 'sm', 'volume', 'trek', 'lag', 'packing', 'people', 'budget', 'hole', 'cherepovets', 'talk', 'urals', 'correspond', 'dostavka', 'voronezh']\n"
     ]
    }
   ],
   "source": [
    "features= [feature_doc[\"feature\"]  for feature_doc in my_collection.find()]\n",
    "print(features)"
   ]
  },
  {
   "cell_type": "code",
   "execution_count": 12,
   "metadata": {},
   "outputs": [
    {
     "data": {
      "text/plain": [
       "array([ 0.14257812, -0.00302124,  0.11035156,  0.22949219,  0.01049805,\n",
       "       -0.27539062,  0.05932617,  0.05053711, -0.01916504, -0.00393677,\n",
       "       -0.01721191,  0.07763672, -0.1796875 ,  0.12402344, -0.24902344,\n",
       "        0.41015625, -0.09521484,  0.05981445, -0.05004883,  0.09228516,\n",
       "        0.00970459,  0.3359375 ,  0.3203125 , -0.22949219, -0.08398438,\n",
       "        0.1953125 ,  0.21875   , -0.00564575, -0.03393555,  0.07226562,\n",
       "       -0.1796875 , -0.20605469,  0.07177734, -0.18066406, -0.03466797,\n",
       "       -0.4921875 , -0.12988281,  0.42773438, -0.03344727, -0.05712891,\n",
       "        0.25195312,  0.07128906,  0.13183594, -0.05981445, -0.21875   ,\n",
       "        0.04199219,  0.02746582,  0.20117188, -0.40039062,  0.22851562,\n",
       "        0.05737305, -0.22460938, -0.19335938, -0.25390625, -0.06152344,\n",
       "       -0.30859375, -0.25585938,  0.24414062,  0.16113281,  0.23632812,\n",
       "       -0.04223633,  0.13867188,  0.09277344, -0.296875  ,  0.31445312,\n",
       "        0.01818848,  0.10644531,  0.09423828,  0.22265625, -0.13769531,\n",
       "       -0.24414062, -0.12402344, -0.07958984,  0.04785156,  0.17871094,\n",
       "        0.24023438, -0.0300293 ,  0.03088379, -0.28320312, -0.08642578,\n",
       "        0.10546875, -0.07861328, -0.15722656,  0.11621094,  0.08544922,\n",
       "       -0.04589844, -0.15625   ,  0.23339844,  0.09619141,  0.13867188,\n",
       "        0.45703125, -0.21875   ,  0.15039062, -0.01867676, -0.39648438,\n",
       "       -0.19335938, -0.20800781,  0.04907227,  0.02209473,  0.09960938,\n",
       "        0.04248047, -0.04125977,  0.04882812,  0.09375   ,  0.15917969,\n",
       "       -0.15917969, -0.10351562, -0.06738281, -0.16503906, -0.42578125,\n",
       "        0.08544922, -0.12109375,  0.00891113,  0.109375  ,  0.15917969,\n",
       "        0.29882812,  0.17871094, -0.3828125 ,  0.25      , -0.22753906,\n",
       "        0.03393555,  0.14648438,  0.10693359,  0.1328125 ,  0.26367188,\n",
       "       -0.0255127 , -0.22265625, -0.09863281, -0.03344727, -0.31640625,\n",
       "        0.05371094, -0.01226807, -0.3828125 , -0.12207031, -0.11914062,\n",
       "        0.41992188, -0.17675781,  0.11816406,  0.13964844,  0.125     ,\n",
       "       -0.00294495, -0.08105469,  0.11767578,  0.08251953, -0.12695312,\n",
       "       -0.1640625 , -0.21679688,  0.14160156,  0.09130859,  0.10058594,\n",
       "        0.05566406, -0.06884766,  0.09228516,  0.13769531,  0.1328125 ,\n",
       "       -0.48828125,  0.05273438, -0.19824219, -0.33789062, -0.11669922,\n",
       "        0.1015625 ,  0.02172852,  0.20605469,  0.08740234, -0.01721191,\n",
       "        0.1484375 , -0.16503906,  0.16992188,  0.06103516,  0.37695312,\n",
       "        0.06494141, -0.05395508,  0.19042969,  0.06494141, -0.11035156,\n",
       "       -0.05175781, -0.01855469,  0.11621094, -0.3984375 ,  0.04418945,\n",
       "       -0.13867188, -0.13183594, -0.05908203,  0.09130859, -0.09619141,\n",
       "       -0.35546875,  0.03222656,  0.15722656,  0.20117188,  0.13574219,\n",
       "        0.17675781, -0.02099609, -0.0546875 ,  0.13183594, -0.1640625 ,\n",
       "        0.08300781,  0.125     , -0.125     ,  0.00613403,  0.02612305,\n",
       "        0.03173828, -0.11279297,  0.0279541 ,  0.00640869,  0.3515625 ,\n",
       "       -0.02111816, -0.05175781, -0.32226562,  0.11083984, -0.13964844,\n",
       "       -0.15234375,  0.05200195, -0.07373047,  0.3203125 , -0.22265625,\n",
       "        0.12353516, -0.0222168 ,  0.265625  , -0.12207031, -0.06445312,\n",
       "       -0.07861328,  0.03015137,  0.08544922,  0.203125  ,  0.09570312,\n",
       "       -0.30859375,  0.10302734,  0.0859375 ,  0.14550781,  0.18945312,\n",
       "        0.03222656, -0.04614258, -0.04296875,  0.09277344,  0.03125   ,\n",
       "        0.328125  ,  0.15527344, -0.16308594,  0.19628906, -0.00769043,\n",
       "        0.19238281,  0.07958984, -0.14160156, -0.27148438,  0.07910156,\n",
       "       -0.1796875 ,  0.234375  , -0.27734375, -0.01428223,  0.04199219,\n",
       "       -0.265625  , -0.05126953, -0.28710938,  0.08496094,  0.01660156,\n",
       "       -0.17089844,  0.12011719,  0.09082031, -0.3125    , -0.03149414,\n",
       "        0.08398438,  0.17675781, -0.00299072, -0.13574219, -0.22460938,\n",
       "        0.41210938, -0.25390625, -0.02392578, -0.24414062,  0.0300293 ,\n",
       "        0.19628906,  0.09570312, -0.02648926, -0.01916504, -0.14453125,\n",
       "       -0.07128906,  0.3046875 , -0.3359375 , -0.13378906, -0.06176758,\n",
       "        0.03466797,  0.171875  ,  0.02209473,  0.20898438,  0.0859375 ,\n",
       "        0.11767578, -0.07714844, -0.00248718,  0.55078125,  0.18847656,\n",
       "       -0.45117188, -0.06738281,  0.06396484, -0.08691406, -0.06982422,\n",
       "        0.01422119, -0.0300293 , -0.01263428, -0.17382812, -0.12597656], dtype=float32)"
      ]
     },
     "execution_count": 12,
     "metadata": {},
     "output_type": "execute_result"
    }
   ],
   "source": [
    "model.wv[\"budget\"]"
   ]
  },
  {
   "cell_type": "code",
   "execution_count": null,
   "metadata": {
    "collapsed": true
   },
   "outputs": [],
   "source": [
    "http://scikit-learn.org/stable/modules/generated/sklearn.cluster.KMeans.html"
   ]
  }
 ],
 "metadata": {
  "kernelspec": {
   "display_name": "Python 3",
   "language": "python",
   "name": "python3"
  },
  "language_info": {
   "codemirror_mode": {
    "name": "ipython",
    "version": 3
   },
   "file_extension": ".py",
   "mimetype": "text/x-python",
   "name": "python",
   "nbconvert_exporter": "python",
   "pygments_lexer": "ipython3",
   "version": "3.6.1"
  }
 },
 "nbformat": 4,
 "nbformat_minor": 2
}
