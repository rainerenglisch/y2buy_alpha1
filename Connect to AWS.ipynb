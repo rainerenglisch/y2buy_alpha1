{
 "cells": [
  {
   "cell_type": "code",
   "execution_count": null,
   "metadata": {
    "collapsed": true
   },
   "outputs": [],
   "source": [
    "import boto3\n",
    "\n",
    "# Let's use Amazon S3\n",
    "s3 = boto3.resource('s3')\n",
    "#dynamodb = boto3.resource('dynamodb', region_name='us-west-2', endpoint_url=\"http://localhost:8000\")\n",
    "#dynamodb = boto3.resource('dynamodb')\n",
    "dynamodb = boto3.resource('dynamodb',region_name='eu-central-1') \n",
    "\n",
    "import pymongo\n",
    "client = pymongo.MongoClient()\n",
    "mongodb = client['y2buy_1']"
   ]
  },
  {
   "cell_type": "code",
   "execution_count": 47,
   "metadata": {},
   "outputs": [],
   "source": [
    "def createASWDynamoTableFromMongoTable(mongo_table_name):\n",
    "    #dynamodb = boto3.resource('dynamodb', region_name='us-west-2', endpoint_url=\"http://localhost:8000\")\n",
    "    \n",
    "    #dynamodb = boto3.resource('dynamodb')\n",
    "\n",
    "\n",
    "    table = dynamodb.create_table(\n",
    "        TableName=mongo_table_name,\n",
    "        KeySchema=[\n",
    "            {\n",
    "                'AttributeName': '_id',\n",
    "                'KeyType': 'HASH'  #Partition key\n",
    "            }\n",
    "        ],\n",
    "        AttributeDefinitions=[\n",
    "            {\n",
    "                'AttributeName': '_id',\n",
    "                'AttributeType': 'S'\n",
    "            },\n",
    "\n",
    "        ],\n",
    "        ProvisionedThroughput={\n",
    "            'ReadCapacityUnits': 10,\n",
    "            'WriteCapacityUnits': 10\n",
    "        }\n",
    "    )\n",
    "\n",
    "    print(\"Table status:\", table.table_status)"
   ]
  },
  {
   "cell_type": "code",
   "execution_count": 40,
   "metadata": {},
   "outputs": [],
   "source": [
    "def exportMongoTable2AWSDynamo(ddb_table_name, mongo_table_name):\n",
    "    ddb_table = dynamodb.Table(ddb_table_name)\n",
    "\n",
    "    for review in mydb[mongo_table_name].find():\n",
    "        print(\".\",end=\"\")\n",
    "        #print(review)    \n",
    "        remove_a = []\n",
    "        for a in review:\n",
    "            if  isinstance(review[a], str):\n",
    "                if len(review[a]) == 0:\n",
    "                    remove_a.append(a)\n",
    "        [review.pop(a,None) for a in remove_a]\n",
    "\n",
    "        #print(remove_a)\n",
    "        review[\"_id\"] = str(review[\"_id\"])   \n",
    "        ddb_table.put_item(Item=review)\n",
    "        #break"
   ]
  },
  {
   "cell_type": "code",
   "execution_count": 48,
   "metadata": {},
   "outputs": [
    {
     "name": "stdout",
     "output_type": "stream",
     "text": [
      "Table status: CREATING\n"
     ]
    }
   ],
   "source": [
    "createASWDynamoTableFromMongoTable(\"review_features\")\n",
    "exportMongoTable2AWSDynamo('review_features','review_features')"
   ]
  },
  {
   "cell_type": "code",
   "execution_count": 49,
   "metadata": {},
   "outputs": [
    {
     "name": "stdout",
     "output_type": "stream",
     "text": [
      "..............."
     ]
    }
   ],
   "source": [
    "createASWDynamoTableFromMongoTable(\"Reviews\")\n",
    "exportMongoTable2AWSDynamo('Reviews','Reviews')"
   ]
  },
  {
   "cell_type": "code",
   "execution_count": null,
   "metadata": {
    "collapsed": true
   },
   "outputs": [],
   "source": []
  }
 ],
 "metadata": {
  "kernelspec": {
   "display_name": "Python 3",
   "language": "python",
   "name": "python3"
  },
  "language_info": {
   "codemirror_mode": {
    "name": "ipython",
    "version": 3
   },
   "file_extension": ".py",
   "mimetype": "text/x-python",
   "name": "python",
   "nbconvert_exporter": "python",
   "pygments_lexer": "ipython3",
   "version": "3.6.1"
  }
 },
 "nbformat": 4,
 "nbformat_minor": 2
}
