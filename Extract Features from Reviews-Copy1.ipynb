{
 "cells": [
  {
   "cell_type": "code",
   "execution_count": 1,
   "metadata": {
    "collapsed": true
   },
   "outputs": [],
   "source": [
    "import json \n",
    "import gzip \n",
    "def parse(path): \n",
    "    g = gzip.open(path, 'r') \n",
    "    for l in g: \n",
    "        yield eval(l)"
   ]
  },
  {
   "cell_type": "code",
   "execution_count": 2,
   "metadata": {
    "collapsed": true
   },
   "outputs": [],
   "source": [
    "\n",
    "import nltk\n",
    "import gensim\n",
    "        \n",
    "sent_detector = nltk.data.load('tokenizers/punkt/english.pickle')\n",
    "\n",
    "def reviews():            \n",
    "    r_i = 0\n",
    "    review_item_iterator = iter(parse(\"../download/word2vec/reviews_Cell_Phones_and_Accessories_w_Cat.json.gz\"))\n",
    "    for it in range(100000): #range(1000000):\n",
    "        if it%10000==0:\n",
    "            print(\"it=\"+str(it))\n",
    "        review_item = next(review_item_iterator)\n",
    "        r_i = r_i + 1\n",
    "        if r_i%10000==0:\n",
    "            print(str(r_i))\n",
    "            print(preprocess_sentence)\n",
    "        if \"Cell Phones\" in review_item[\"categories\"]:\n",
    "            reviewText = review_item[\"reviewText\"]\n",
    "            s_i = 0  \n",
    "            for sentence in sent_detector.tokenize(reviewText):\n",
    "                s_i = s_i + 1\n",
    "\n",
    "                #label = review_item[\"asin\"] + \"_\" + review_item[\"reviewerID\"] + \"_\" + str(s_i)\n",
    "                preprocess_sentence = gensim.utils.simple_preprocess(sentence)\n",
    "\n",
    "                yield preprocess_sentence\n",
    "                "
   ]
  },
  {
   "cell_type": "markdown",
   "metadata": {},
   "source": [
    "import nltk\n",
    "from nltk.corpus import stopwords\n",
    "from nltk.stem.wordnet import WordNetLemmatizer\n",
    "from nltk import word_tokenize\n",
    "sent_detector = nltk.data.load('tokenizers/punkt/english.pickle')\n",
    "import string\n",
    "stop = set(stopwords.words('english'))\n",
    "exclude = set(string.punctuation)\n",
    "lemma = WordNetLemmatizer()\n",
    "\n",
    "def nextTokenizedSentence():\n",
    "    yield [token for token in tokens if token not in stop and token not in exclude]\n",
    "\n"
   ]
  },
  {
   "cell_type": "code",
   "execution_count": 3,
   "metadata": {
    "collapsed": true
   },
   "outputs": [],
   "source": [
    "def nextTaggedSentence():\n",
    "    for tokenizedSentence in reviews():\n",
    "        #print(tokenizedSentence)\n",
    "        tagged = nltk.pos_tag(tokenizedSentence)\n",
    "        yield tagged"
   ]
  },
  {
   "cell_type": "code",
   "execution_count": 4,
   "metadata": {
    "collapsed": true
   },
   "outputs": [],
   "source": [
    "def traverse(t,noun_phrases):\n",
    "    try:\n",
    "        t.label()\n",
    "    except AttributeError:\n",
    "        n=0\n",
    "    else:\n",
    "        if t.label() == 'NOUN_PHRASE': \n",
    "            [noun_phrases.append(word) for (word,pos) in t.leaves() if pos.startswith(\"N\")]\n",
    "            #print(statement)\n",
    "            #noun_phrases = noun_phrases.append(noun_phrase)\n",
    "        # Now we know that t.node is defined\n",
    "        #print('(', t.label(), end=\" \")\n",
    "        for child in t:\n",
    "            traverse(child,noun_phrases)\n",
    "        #print(')', end=\" \")\n",
    "    return noun_phrases\n",
    "\n"
   ]
  },
  {
   "cell_type": "code",
   "execution_count": 5,
   "metadata": {
    "collapsed": true
   },
   "outputs": [],
   "source": [
    "def nextNounPhrase( ):\n",
    "    for taggedSentence in nextTaggedSentence():\n",
    "        grammar = r\"\"\"\n",
    "          NOUN_PHRASE:  {<CD|IN|DT|JJ|PP|RB|\\$>*<N.*>+<V.*>*<CD|IN|DT|JJ|PP|RB|\\$>*<N.*>*}  \n",
    "            \"\"\"\n",
    "        cp = nltk.RegexpParser(grammar)\n",
    "        if taggedSentence:\n",
    "            noun_phrase_tagged = cp.parse(taggedSentence)\n",
    "            noun_phrases=[]\n",
    "            nouns=traverse(noun_phrase_tagged,noun_phrases)\n",
    "            #print(nouns)\n",
    "            for noun in nouns:\n",
    "                yield noun\n",
    " "
   ]
  },
  {
   "cell_type": "markdown",
   "metadata": {
    "scrolled": false
   },
   "source": [
    "import pymongo\n",
    "client = pymongo.MongoClient()\n",
    "mydb = client['y2buy_1']\n",
    "review_source = \"amazon\" #aliexpress\n",
    "\n",
    "if review_source == \"aliexpress\":\n",
    "    my_collection = mydb['reviews']\n",
    "    doc_complete = [review_doc[\"buyerTranslationFeedback\"] \n",
    "                    for review_doc in my_collection.find() \n",
    "                    if \"buyerTranslationFeedback\" in review_doc.keys() ]\n",
    "else:\n",
    "    my_collection = mydb['amazon_product_reviews']\n",
    "    doc_complete = [review_doc[\"reviewText\"] \n",
    "                    for review_doc in my_collection.find({ \"categories\" : \"Cell Phones\" }) ]\n",
    "print(\"count of reviews: \"+ str(len(doc_complete)))\n",
    "\n"
   ]
  },
  {
   "cell_type": "markdown",
   "metadata": {
    "collapsed": true
   },
   "source": [
    "import pymongo\n",
    "client = pymongo.MongoClient()\n",
    "mydb = client['y2buy_1']\n",
    "review_source = \"amazon\" #aliexpress\n",
    "\n",
    "if review_source == \"aliexpress\":\n",
    "    my_collection = mydb['reviews']\n",
    "    cursor = my_collection.find() \n",
    "    textFieldName = \"buyerTranslationFeedback\"\n",
    "else:\n",
    "    my_collection = mydb['amazon_product_reviews']\n",
    "    cursor = my_collection.find({ \"categories\" : \"Cell Phones\" })\n",
    "    textFieldName = \"reviewText\"\n"
   ]
  },
  {
   "cell_type": "code",
   "execution_count": 6,
   "metadata": {},
   "outputs": [
    {
     "name": "stdout",
     "output_type": "stream",
     "text": [
      "it=0\n",
      "10000\n",
      "['bye', 'bye', 'tracfone', 'it', 'hasn', 'been', 'fun']\n",
      "it=10000\n",
      "20000\n",
      "['you', 'will', 'also', 'need', 'to', 'provide', 'them', 'part', 'sn', 'emei', 'your', 'mobile', 'acct', 'and', 'last', 'of', 'your', 'ssn', 'it', 'is', 'thus', 'recommended', 'to', 'steer', 'clear', 'of', 'this', 'device', 'because', 'its', 'resale', 'value', 'is', 'nill']\n",
      "it=20000\n",
      "30000\n",
      "[]\n",
      "it=30000\n",
      "40000\n",
      "['until', 'then', 'this', 'is', 'perfect', 'for', 'what', 'want']\n",
      "it=40000\n",
      "50000\n",
      "['knowing', 'what', 'know', 'now', 'would', 'still', 'buy', 'this', 'exact', 'phone', 'again', 'if', 'anything', 'happened', 'to', 'the', 'one', 'own', 'now', 'can', 'resist', 'shiny', 'pink', 'things']\n",
      "it=50000\n",
      "60000\n",
      "['amazon', 'was', 'kind', 'enough', 'deduct', 'the', 'cost', 'of', 'that', 'free', 'super', 'saver', 'shipping', 'from', 'my', 'refund', 'as', 'well', 'as', 'making', 'me', 'pay', 'the', 'cost', 'of', 'shipping', 'this', 'worthless', 'phone', 'shaped', 'piece', 'of', 'plastic', 'back', 'to', 'them']\n",
      "it=60000\n",
      "70000\n",
      "['good', 'good', 'good', 'best', 'best', 'best', 'with', 'this', 'price', 'you', 'can', 'use', 'any', 'where', 'you', 'going', 'travel', 'with', 'other', 'provider']\n",
      "it=70000\n",
      "80000\n",
      "['great', 'cel', 'phone', 'for', 'its', 'price', 'do', 'all', 'common', 'commands', 'and', 'it', 'rugged', 'design', 'make', 'it', 'safe', 'when', 'it', 'felt', 'down']\n",
      "it=80000\n",
      "90000\n",
      "[]\n",
      "it=90000\n",
      "100000\n",
      "['just', 'be', 'sure', 'to', 'actually', 'use', 'it', 'for', 'an', 'emergency', 'in', 'that', 'case']\n",
      "it=100000\n",
      "110000\n",
      "['stupid']\n",
      "it=110000\n",
      "120000\n",
      "['you', 'can', 'store', 'to', 'internal', 'memory', 'or', 'on', 'an', 'sd', 'card']\n",
      "it=120000\n",
      "130000\n",
      "['ve', 'had', 'this', 'phone', 'for', 'month', 'or', 'so', 'and', 'discover', 'some', 'new', 'trick', 'or', 'feature', 'or', 'something', 'this', 'thing', 'can', 'do', 'everyday', 'the', 'only', 'thing', 'that', 'am', 'having', 'trouble', 'with', 'is', 'the', 'music', 'loading', 'or', 'unloading', 'via', 'microsoft', 'sync', 'this', 'system', 'gets', 'confused', 'as', 'to', 'what', 'is', 'and', 'is', 'not', 'on', 'the', 'phone']\n",
      "it=130000\n",
      "140000\n",
      "['this', 'phone', 'has', 'many', 'features', 'most', 'don', 'looks', 'good', 'and', 'is', 'small', 'enough', 'to', 'go', 'into', 'your', 'pocket']\n",
      "it=140000\n",
      "150000\n",
      "['they', 'never', 'stick', 'or', 'wear', 'and', 'are', 'easily', 'replaceable', 'if', 'you', 'decided', 'to', 'buy', 'new', 'housing']\n",
      "it=150000\n",
      "160000\n",
      "['if', 'all', 'the', 'advertised', 'features', 'worked', 'as', 'expected', 'and', 'reliably', 'would', 'definitely', 'keep', 'it']\n",
      "it=160000\n",
      "170000\n",
      "['rjc']\n",
      "it=170000\n",
      "180000\n",
      "['this', 'is', 'much', 'better', 'than', 'the', 'viewty', 'improved', 'and', 'like', 'the', 'fact', 'that', 'it', 'has', 'wifi', 'puls', 'mp', 'camera', 'totally', 'awsome', 'the', 'video', 'is', 'cool', 'it', 'has', 'three', 'modes', 'normal', 'fastmode', 'and', 'the', 'slowmo', 'fps', 'for', 'the', 'camera', 'inorder', 'to', 'get', 'good', 'performance', 'and', 'great', 'quality', 'for', 'photos', 'different', 'setting', 'must', 'be', 'done', 'just', 'play', 'with', 'it', 'and', 'try', 'different', 'kinds', 'of', 'settings', 'such', 'as', 'the', 'white', 'balance', 'iso', 'scene', 'mode', 'etc', 'for', 'the', 'mp', 'totally', 'awsome', 'must', 'say', 'dolby', 'great', 'quality', 'am', 'not', 'sure', 'whats', 'the', 'max', 'for', 'the', 'memory', 'have', 'gb', 'micro', 'hsdc', 'but', 'im', 'gona', 'try', 'gb', 'soon', 'third', 'party', 'is', 'allowed', 'too', 'but', 'mostly', 'games', 'and', 'java', 'games', 'installed', 'the', 'touch', 'piano', 'and', 'guitar', 'drums', 'lot', 'more', 'and', 'they', 'work', 'perfectly', 'fine', 'but', 'there', 'is', 'one', 'bit', 'of', 'problem', 'about', 'the', 'camera', 'am', 'not', 'sure', 'what', 'it', 'causes', 'it', 'but', 'after', 'taking', 'lot', 'of', 'pictures', 'the', 'phone', 'freezes', 'the', 'phone', 'is', 'awsome', 'im', 'rating', 'it', 'out', 'of', 'for', 'the', 'cam', 'because', 'of', 'the', 'part', 'that', 'it', 'hangs', 'but', 'it', 'does', 'not', 'really', 'matter', 'to', 'me', 'coz', 'the', 'phone', 'rocks', 'but', 'for', 'the', 'phone', 'itself', 'im', 'rating', 'it', 'out', 'of', 'recommend', 'this', 'phone', 'now', 'don', 'have', 'to', 'bring', 'camera', 'with', 'me', 'anymore', 'just', 'pull', 'out', 'my', 'phone', 'and', 'take', 'pictures', 'anytime', 'anywhere']\n",
      "it=180000\n",
      "190000\n",
      "['so', 'was', 'thinking', 'can', 'fixe', 'and', 'send', 'to', 'me', 'back', 'but', 'is', 'not', 'in', 'this', 'way', 'was', 'like', 'it', 'so', 'much']\n",
      "it=190000\n",
      "200000\n",
      "['the', 'only', 'good', 'thing', 'is', 'that', 'it', 'came', 'before', 'the', 'dateline']\n",
      "it=200000\n",
      "210000\n",
      "['might', 'get', 'another', 'don', 'know', 'yet']\n",
      "it=210000\n",
      "220000\n",
      "['this', 'is', 'very', 'good', 'smartphone', 'since', 'it', 'has', 'windows', 'mobile', 'standard', 'it', 'is', 'little', 'limited', 'but', 'it', 'is', 'very', 'easy', 'to', 'use']\n",
      "it=220000\n",
      "230000\n",
      "['however', 'found', 'that', 'you', 'can', 'get', 'software', 'anymore', 'that', 'lets', 'you', 'transfer', 'documents', 'to', 'it', 'from', 'windows', 'computer']\n",
      "it=230000\n",
      "240000\n",
      "['dont', 'recommend', 'its', 'very', 'very', 'basic', 'phone', 'and', 'doesnt', 'serve', 'purpose', 'in', 'this', 'high', 'tech', 'world', 'where', 'we', 'have', 'ipads', 'etc']\n",
      "it=240000\n",
      "250000\n",
      "['overall', 'am', 'seriously', 'disappointed', 'with', 'the', 'phone']\n",
      "it=250000\n",
      "260000\n",
      "['bought', 'it', 'two', 'mounth', 'ago', 'and', 'already', 'want', 'something', 'new']\n",
      "it=260000\n",
      "270000\n",
      "['recommend', 'it']\n",
      "it=270000\n",
      "280000\n",
      "['new', 'lg', 'cu', 'vu', 'tv', 'unlocked', 'mp', 'camera', 'at', 'cu']\n",
      "it=280000\n",
      "290000\n",
      "['es', 'un', 'telefono', 'con', 'muchas', 'funciones', 'navegacion', 'redes', 'sociales', 'gran', 'camara', 'gran', 'capacidad', 'de', 'memoria', 'en', 'fin', 'un', 'gran', 'movil', 'se', 'los', 'recomiendo']\n",
      "it=290000\n",
      "300000\n",
      "['the', 'phone', 'is', 'just', 'no', 'good']\n",
      "it=300000\n",
      "310000\n",
      "['had', 'phone', 'just', 'like', 'that', 'we', 'wore', 'out', 'from', 'use', 'this', 'one', 'is', 'doing', 'great', 'as', 'replacement', 'like', 'it', 'was', 'new']\n",
      "it=310000\n",
      "320000\n",
      "['we', 'have', 'had', 'several', 'since', 'seem', 'to', 'drop', 'them', 'in', 'the', 'pool', 'once', 'in', 'awhile']\n",
      "it=320000\n",
      "330000\n",
      "['we', 'can', 'keep', 'one', 'type', 'of', 'usb', 'cord', 'or', 'charger', 'for', 'all', 'devices', 'at', 'home', 'work', 'or', 'in', 'vehicles', 'and', 'no', 'longer', 'have', 'to', 'look', 'for', 'proprietary', 'connector', 'for', 'any', 'of', 'our', 'devices', 'which', 'has', 'simplified', 'life']\n",
      "it=330000\n",
      "340000\n",
      "['had', 'to', 'return', 'it']\n",
      "it=340000\n",
      "350000\n",
      "['thanks', 'ever', 'so', 'much']\n",
      "it=350000\n",
      "360000\n",
      "['with', 'the', 'above', 'suggested', 'improvements', 'believe', 'it', 'could', 'be', 'the', 'best', 'cell', 'phone', 'on', 'the', 'market', 'for', 'seniors', 'and', 'other', 'people', 'who', 'love', 'simple', 'easy', 'to', 'use', 'thanks', 'and', 'hope', 'to', 'see', 'new', 'improved', 'model', 'soon']\n",
      "it=360000\n",
      "370000\n",
      "['like', 'it']\n",
      "it=370000\n",
      "380000\n",
      "['only', 'check', 'my', 'email', 'if', 'really', 'have', 'to', 'gave', 'it', 'starts', 'because', 'it', 'solid', 'nice', 'looking', 'phone']\n",
      "it=380000\n",
      "390000\n",
      "['gracias']\n",
      "it=390000\n",
      "400000\n",
      "['just', 'buy', 'it', 'phone', 'tech', 'ordered', 'this', 'and', 'it', 'was', 'worth', 'every', 'cent', 'cant', 'regret', 'my', 'choice', 'cause', 'it', 'works', 'fine', 'another', 'happy', 'customer']\n",
      "it=400000\n",
      "410000\n",
      "['communication', 'is', 'perfect', 'and', 'evrthg', 'is', 'working', 'fine']\n",
      "it=410000\n",
      "420000\n",
      "['for', 'the', 'money', 'disappointed']\n",
      "it=420000\n",
      "430000\n",
      "['very', 'good', 'workable', 'gophone']\n",
      "it=430000\n",
      "440000\n",
      "[]\n",
      "it=440000\n",
      "450000\n",
      "['il', 'mobile', 'arrivato', 'me', 'con', 'numerosi', 'ammaccature', 'grafiature', 'nello', 'schermo', 'funziona', 'perfettamente', 'ho', 'dovuto', 'comprare', 'il', 'cover', 'frontale', 'nuovo']\n",
      "it=450000\n",
      "460000\n",
      "['thank', 'so', 'much', 'am', 'sorry', 'but', 'have', 'done', 'this', 'reviwe', 'am', 'sorry', 'did', 'not', 'get', 'it', 'thanks', 'again']\n",
      "it=460000\n",
      "470000\n",
      "['for', 'those', 'needing', 'touchscreen', 'no', 'phone', 'in', 'my', 'experience', 'even', 'comes', 'close', 'to', 'the', 'feel', 'action', 'sensitivity', 'response', 'and', 'accuracy', 'of', 'apple', 'touch', 'technology']\n",
      "it=470000\n"
     ]
    },
    {
     "name": "stdout",
     "output_type": "stream",
     "text": [
      "480000\n",
      "['go', 'for', 'any', 'other', 'brand', 'using', 'android', 'os', 'you', 'will', 'have', 'better', 'price', 'and', 'technology', 'than', 'this']\n",
      "it=480000\n",
      "490000\n",
      "['me', 'sent', 'iacute', 'estafada', 'porq', 'no', 'es', 'eso', 'lo', 'ofrec', 'iacute', 'an', 'en', 'la', 'publicaci', 'oacute', 'as', 'iacute', 'perd', 'iacute', 'el', 'dinero', 'comprando', 'ese', 'tel', 'eacute', 'fono']\n",
      "it=490000\n",
      "500000\n",
      "['call', 'log', 'informs', 'how', 'many', 'ordinary', 'or', 'roaming', 'minutes', 'have', 'been', 'used', 'since', 'last', 'reset', 'calculator', 'simple', 'calculator', 'keyboard', 'and', 'also', 'several', 'different', 'keyboards', 'for', 'scientific', 'calculations', 'and', 'also', 'many', 'direct', 'unit', 'conversions', 'messaging', 'very', 'easy', 'to', 'usecamera', 'and', 'videovoice', 'memoconnect', 'to', 'the', 'web', 'if', 'desired', 'not', 'mandatory', 'as', 'it', 'is', 'with', 'all', 'the', 'new', 'phones', 'saves', 'sability', 'to', 'secure', 'individual', 'memos', 'and', 'other', 'records', 'so', 'that', 'password', 'is', 'requiredhot', 'synch', 'all', 'data', 'to', 'desktop', 'or', 'laptop', 'or', 'notebook', 'for', 'backupi', 'would', 'definitely', 'recommend', 'this', 'to', 'anyone', 'who', 'needs', 'productivity', 'over', 'entertainment']\n",
      "it=500000\n",
      "510000\n",
      "['update', 'to', 'follow', 'in', 'months']\n",
      "it=510000\n",
      "520000\n",
      "['must', 'say', 'am', 'throughly', 'impressed', 'by', 'lg', 'have', 'had', 'this', 'phone', 'for', 'few', 'months', 'now', 'and', 'no', 'problems']\n",
      "it=520000\n",
      "530000\n",
      "['hellogood', 'day', 'have', 'problems', 'with', 'the', 'cell', 'phone', 'does', 'not', 'work', 'please', 'address', 'the', 'facility', 'to', 'send', 'the', 'phone', 'want', 'the', 'money', 'back', 'to', 'offering', 'him', 'another', 'thanks', 'this', 'is', 'my', 'name', 'and', 'mail', 'juan', 'carlos', 'hotmail', 'com']\n",
      "it=530000\n",
      "540000\n",
      "['apple', 'iphone', 'black', 'smartphone', 'gb', 'at']\n",
      "it=540000\n",
      "550000\n",
      "['all', 'in', 'all', 'avoid', 'this', 'one', 'at', 'all', 'costs']\n",
      "it=550000\n",
      "560000\n",
      "['it', 'is', 'running', 'the', 'bada', 'operating', 'system', 'which', 'is', 'surprisingly', 'similar', 'to', 'apple', 'ios', 'very', 'good', 'value']\n",
      "it=560000\n",
      "570000\n",
      "['would', 'not', 'recommend', 'this']\n",
      "it=570000\n",
      "580000\n",
      "['it', 'is', 'good', 'phone', 'for', 'the', 'price']\n",
      "it=580000\n",
      "590000\n",
      "['smashed', 'the', 'phone', 'into', 'pieces']\n",
      "it=590000\n",
      "600000\n",
      "['good', 'small', 'phone', 'but', 'unable', 'to', 'figure', 'out', 'how', 'to', 'get', 'new', 'apps', 'to', 'download', 'or', 'weather', 'app', 'to', 'stay']\n",
      "it=600000\n",
      "610000\n",
      "['ron']\n",
      "it=610000\n",
      "620000\n",
      "['not', 'sure', 'if', 'we', 'were', 'just', 'unlucky', 'but', 'it', 'ended', 'up', 'being', 'worthless', 'for', 'us', 'and', 'waste', 'of', 'money']\n",
      "it=620000\n",
      "630000\n",
      "['would', 'buy', 'again']\n",
      "it=630000\n",
      "640000\n",
      "['gave', 'up', 'whole', 'lg', 'brand', 'because', 'of', 'this', 'phone']\n",
      "it=640000\n",
      "650000\n",
      "['it', 'mobile', 'locked', 'phone', 'and', 'the', 'customers', 'cann', 'provide', 'the', 'unlocked', 'code', 'so', 'if', 'need', 'unlocked', 'phone', 'please', 'don', 'buy', 'this', 'one']\n",
      "it=650000\n",
      "660000\n",
      "['other', 'than', 'that', 'things', 'look', 'good']\n",
      "it=660000\n",
      "670000\n",
      "['was', 'waiting', 'on', 'this', 'one', 'but', 'did', 'not', 'receive', 'it']\n",
      "it=670000\n",
      "680000\n",
      "['bought', 'this', 'for', 'my', 'aunt', 'in', 'place', 'of', 'her', 'blackberry', 'curve', 'and', 'she', 'got', 'all', 'excited']\n",
      "it=680000\n",
      "690000\n",
      "['excellent', 'purchase']\n",
      "it=690000\n",
      "700000\n",
      "['would', 'recommend', 'not', 'to', 'buy', 'this', 'phone']\n",
      "it=700000\n",
      "710000\n",
      "['can', 'also', 'listen', 'to', 'my', 'local', 'radio', 'stations']\n",
      "it=710000\n",
      "720000\n",
      "['spend', 'more', 'money', 'to', 'get', 'good', 'one']\n",
      "it=720000\n",
      "730000\n",
      "['that', 'was', 'not', 'fair', 'because', 'got', 'to', 'get', 'someone', 'to', 'unlock', 'it', 'at', 'extra', 'cost', 'of']\n",
      "it=730000\n",
      "740000\n",
      "['it', 'suits', 'me', 'it', 'is', 'durable', 'goes', 'long', 'time', 'between', 'charges', 'and', 'has', 'enough', 'features', 'for', 'me', 'hope', 'it', 'will', 'serve', 'me', 'for', 'long', 'time']\n",
      "it=740000\n",
      "750000\n",
      "['it', 'does', 'have', 'all', 'the', 'social', 'networks', 'so', 'it', 'doesn', 'fall', 'way', 'behind', 'high', 'end', 'smart', 'phones', 'such', 'as', 'the', 'iphone']\n",
      "it=750000\n",
      "760000\n",
      "['it', 'does', 'already', 'have', 'lots', 'and', 'lots', 'that', 'probably', 'won', 'use']\n",
      "it=760000\n",
      "770000\n",
      "['we', 'went', 'to', 'georgia', 'for', 'vacation', 'my', 'phone', 'worked', 'there', 'as', 'well']\n",
      "it=770000\n",
      "780000\n",
      "['it', 'was', 'total', 'deception']\n",
      "it=780000\n",
      "790000\n",
      "['buyer', 'beware']\n",
      "it=790000\n",
      "800000\n",
      "['it', 'is', 'probably', 'time', 'to', 'get', 'new', 'model']\n",
      "it=800000\n",
      "810000\n",
      "['it', 'ran', 'little', 'slow', 'before', 'broke', 'it', 'but', 'other', 'than', 'that', 'really', 'liked', 'it']\n",
      "it=810000\n",
      "820000\n",
      "['good', 'phone', 'for', 'the', 'price']\n",
      "it=820000\n",
      "830000\n",
      "['the', 'phone', 'screen', 'remained', 'blank']\n",
      "it=830000\n",
      "840000\n",
      "['it', 'has', 'nice', 'mp', 'player', 'and', 'camera', 'but', 'it', 'best', 'to', 'simply', 'use', 'the', 'phone', 'as', 'phone']\n",
      "it=840000\n",
      "850000\n",
      "['ordered', 'two', 'of', 'these', 'one', 'recieved', 'is', 'great', 'and', 'came', 'new', 'the', 'other', 'was', 'laggy', 'and', 'power', 'button', 'or', 'charger', 'doesnot', 'work', 'they', 'tried', 'making', 'it', 'look', 'new', 'but', 'boost', 'mobile', 'informed', 'me', 'it', 'had', 'previously', 'been', 'activated', 'dont', 'buy', 'this', 'phone', 'used', 'chances', 'are', 'it', 'will', 'have', 'issues']\n",
      "it=850000\n",
      "860000\n",
      "['again', 'will', 'never', 'buy', 'new', 'cell', 'phone', 'from', 'here', 'again']\n",
      "it=860000\n",
      "870000\n",
      "['tried', 'the', 'bb', 'torch', 'and', 'found', 'web', 'browsing', 'to', 'be', 'joke', 'compared', 'to', 'iphone', 'or', 'android', 'it', 'can', 'only', 'accept', 'one', 'exchange', 'account', 'which', 'is', 'shame', 'it', 'can', 'also', 'sync', 'the', 'popular', 'mail', 'tried', 'google', 'hotmail', 'yahoo', 'and', 'aol', 'but', 'it', 'will', 'not', 'be', 'push', 'mail', 'the', 'nokia', 'social', 'connects', 'you', 'to', 'twitter', 'and', 'facebook', 'and', 'you', 'can', 'link', 'you', 'phone', 'contacts', 'to', 'facebook', 'contacts', 'but', 'this', 'has', 'to', 'be', 'done', 'manually', 'the', 'device', 'is', 'very', 'responsive', 'and', 'fast', 'never', 'saw', 'pause', 'or', 'clock', 'turning', 'like', 'almost', 'always', 'get', 'on', 'the', 'bb', 'and', 'the', 'battery', 'life', 'is', 'amazing', 'used', 'it', 'almost', 'non', 'stop', 'for', 'few', 'hours', 'with', 'wifi', 'and', 'bluetooth', 'on', 'and', 'the', 'battery', 'indicator', 'drooped', 'on', 'mark', 'only', 'the', 'reason', 'why', 'will', 'not', 'keep', 'the', 'device', 'is', 'the', 'notification', 'light', 'it', 'is', 'extremely', 'dimthat', 'it', 'is', 'useless', 'do', 'not', 'know', 'if', 'this', 'is', 'software', 'related', 'issue', 'or', 'not', 'and', 'didn', 'want', 'to', 'risk', 'keeping', 'it', 'to', 'find', 'out', 'that', 'it', 'is', 'hardware', 'problem']\n",
      "it=870000\n",
      "880000\n",
      "['wasn', 'plan', 'on', 'getting', 'phone', 'that', 'needed', 'sd', 'memory', 'card']\n",
      "it=880000\n",
      "890000\n",
      "['had', 'this', 'phone', 'before', 'this', 'one', 'don', 'seem', 'right', 'after', 'weeks', 'the', 'screen', 'has', 'built', 'up', 'moisture', 'get', 'lot', 'of', 'static', 'when', 'making', 'call', 'think', 'it', 'knock', 'off', 'don', 'expect', 'this', 'phone', 'to', 'last', 'long']\n",
      "it=890000\n",
      "900000\n",
      "['if', 'so', 'that', 'is', 'the', 'phone', 'would', 'like']\n",
      "it=900000\n",
      "910000\n",
      "['amazon', 'did', 'not', 'play', 'part', 'in', 'this', 'transaction', 'although', 'their', 'system', 'allowed', 'for', 'all', 'the', 'communication', 'and', 'refund', 'processes', 'advise', 'everyone', 'to', 'double', 'check', 'with', 'the', 'seller', 'before', 'you', 'are', 'buying', 'this', 'phone', 'exactly', 'what', 'the', 'box', 'looks', 'like', 'and', 'what', 'is', 'the', 'condition', 'of', 'the', 'phone', 'hope', 'this', 'helps']\n",
      "it=910000\n",
      "920000\n",
      "['phones', 'worked', 'great', 'and', 'working', 'out', 'great', 'to', 'keep', 'from', 'buying', 'the', 'data', 'plans', 'for', 'smartphones', 'that', 'my', 'kids', 'do', 'not', 'need']\n",
      "it=920000\n",
      "930000\n",
      "['the', 'nokia', 'being', 'sold', 'and', 'any', 'nokia', 'being', 'sold', 'for', 'more', 'than', 'is', 'way', 'to', 'expensivemost', 'cellular', 'retailers', 'are', 'selling', 'these', 'phone', 'for', 'or', 'they', 'are', 'free', 'on', 'service', 'plan', 'if', 'you', 'are', 'looking', 'to', 'unlock', 'go', 'to', 'gsm', 'unlockcanada', 'and', 'for', 'they', 'will', 'send', 'you', 'the', 'codeto', 'unlock', 'your', 'phone']\n",
      "it=930000\n"
     ]
    },
    {
     "name": "stdout",
     "output_type": "stream",
     "text": [
      "940000\n",
      "['really', 'happy', 'with', 'my', 'purchase', 'if', 'ever', 'need', 'another', 'phone', 'would', 'definitely', 'buy', 'from', 'them']\n",
      "it=940000\n",
      "950000\n",
      "['the', 'first', 'time', 'seem', 'friend', 'with', 'this', 'phone', 'feel', 'in', 'love', 'with', 'it', 'and', 'new', 'had', 'to', 'have', 'one', 'thats', 'when', 'seem', 'it', 'here', 'on', 'amazon']\n",
      "it=950000\n",
      "960000\n",
      "['hoped', 'this', 'help']\n",
      "it=960000\n",
      "970000\n",
      "['first', 'one', 'is', 'great']\n",
      "it=970000\n",
      "980000\n",
      "['nice', 'phone', 'for', 'the', 'price', 'and', 'am', 'so', 'happy', 'this', 'has', 'wifi']\n",
      "it=980000\n",
      "990000\n",
      "['too', 'bad', 'because', 'the', 'phones', 'have', 'some', 'nice', 'features']\n",
      "it=990000\n",
      "1000000\n",
      "['definitely', 'good', 'deal', 'for', 'the', 'price']\n",
      "[('phone', 190493), ('battery', 20696), ('screen', 19718), ('time', 17655), ('phones', 16841), ('camera', 15099), ('service', 10765), ('card', 10438), ('quality', 10037), ('problem', 9420), ('features', 8713), ('cell', 8543), ('iphone', 8413), ('life', 8383), ('price', 8026), ('ve', 7878), ('use', 7747), ('product', 7630), ('day', 7493), ('calls', 7347), ('thing', 7272), ('keyboard', 7081), ('way', 7046), ('days', 7040), ('problems', 6955), ('call', 6614), ('don', 6551), ('amazon', 6432), ('work', 6408), ('data', 6320), ('people', 6189), ('apps', 6183), ('months', 6124), ('device', 6093), ('minutes', 6076), ('everything', 5904), ('software', 5865), ('internet', 5763), ('lot', 5702), ('year', 5640), ('music', 5617), ('plan', 5328), ('years', 5317), ('nokia', 5301), ('money', 5266), ('memory', 5139), ('times', 5078), ('button', 5037), ('month', 4837), ('pictures', 4649), ('seller', 4618), ('things', 4605), ('samsung', 4594), ('blackberry', 4576), ('number', 4542), ('charger', 4509), ('something', 4497), ('reception', 4452), ('feature', 4427), ('motorola', 4286), ('mp', 4139), ('voice', 4102), ('text', 4015), ('video', 3980), ('verizon', 3955), ('one', 3900), ('customer', 3848), ('buttons', 3844), ('mobile', 3656), ('anything', 3621), ('network', 3588), ('hours', 3497), ('box', 3483), ('size', 3474), ('case', 3464), ('version', 3444), ('nothing', 3427), ('web', 3407), ('gps', 3397), ('player', 3325), ('issues', 3288), ('store', 3276), ('issue', 3270), ('smartphone', 3258), ('email', 3250), ('sound', 3225), ('charge', 3216), ('messages', 3163), ('sim', 3156), ('purchase', 3143), ('volume', 3129), ('home', 3123), ('reviews', 3119), ('wifi', 3112), ('android', 3103), ('speaker', 3086), ('order', 3037), ('week', 3007), ('company', 2947), ('access', 2929), ('weeks', 2920), ('app', 2908), ('review', 2903), ('anyone', 2902), ('touch', 2897), ('didn', 2897), ('contract', 2895), ('contacts', 2843), ('keys', 2831), ('support', 2821), ('model', 2816), ('doesn', 2811), ('pocket', 2791), ('computer', 2789), ('picture', 2781), ('someone', 2729), ('system', 2724), ('replacement', 2715), ('message', 2692), ('games', 2670), ('reason', 2661), ('lg', 2653), ('que', 2634), ('display', 2608), ('os', 2593), ('item', 2576), ('person', 2540), ('power', 2531), ('windows', 2478), ('applications', 2422), ('htc', 2371), ('deal', 2367), ('brand', 2363), ('side', 2348), ('condition', 2343), ('etc', 2329), ('fact', 2324), ('user', 2306), ('works', 2302), ('menu', 2297), ('experience', 2267), ('mail', 2264), ('browser', 2264), ('market', 2261), ('end', 2227), ('need', 2217), ('warranty', 2206), ('numbers', 2203), ('radio', 2196), ('design', 2192), ('settings', 2190), ('couple', 2128), ('interface', 2070), ('line', 2057), ('option', 2030), ('google', 2019), ('bluetooth', 1989), ('apple', 1981), ('con', 1976), ('cover', 1970), ('connection', 1970), ('functions', 1960), ('el', 1956), ('part', 1943), ('carrier', 1922), ('car', 1919), ('flash', 1910), ('hand', 1901), ('palm', 1900), ('photos', 1898), ('ringtones', 1878), ('cable', 1860), ('wife', 1850), ('point', 1842), ('bit', 1841), ('thanks', 1826), ('mode', 1816), ('others', 1812), ('tracfone', 1799), ('options', 1795), ('area', 1794), ('cons', 1783), ('business', 1780), ('keypad', 1780), ('signal', 1766), ('pc', 1747), ('sony', 1745), ('gb', 1723), ('talk', 1722), ('color', 1714), ('function', 1707), ('sprint', 1697), ('mine', 1695), ('es', 1690), ('maps', 1645), ('kind', 1624), ('piece', 1623), ('look', 1618), ('pros', 1609), ('stars', 1590), ('headset', 1590), ('cellphone', 1584), ('friends', 1569), ('hands', 1567), ('update', 1555), ('account', 1553), ('cost', 1540), ('virgin', 1536), ('feel', 1536), ('razr', 1521), ('package', 1512), ('flip', 1504), ('fi', 1460), ('speed', 1452), ('wireless', 1449), ('la', 1439), ('son', 1430), ('today', 1422), ('world', 1420), ('key', 1418), ('buy', 1417), ('trouble', 1414), ('calendar', 1406), ('navigation', 1402), ('videos', 1401), ('resolution', 1389), ('job', 1379), ('course', 1376), ('lots', 1369), ('stuff', 1366), ('list', 1358), ('speakerphone', 1354), ('book', 1349), ('place', 1349), ('light', 1340), ('gsm', 1338), ('cannot', 1336), ('lo', 1334), ('qwerty', 1325), ('provider', 1318), ('contact', 1314), ('night', 1309), ('files', 1303), ('com', 1301), ('media', 1301), ('type', 1294), ('information', 1289), ('devices', 1282), ('seconds', 1279), ('functionality', 1265), ('application', 1259), ('name', 1242), ('unit', 1236), ('choice', 1234), ('treo', 1233), ('online', 1227), ('daughter', 1221), ('shipping', 1213), ('everyone', 1204), ('isn', 1201), ('date', 1191), ('ones', 1188), ('back', 1185), ('users', 1179), ('muy', 1174), ('headphones', 1161), ('products', 1160), ('thank', 1158), ('gift', 1157), ('wi', 1155), ('website', 1152), ('couldn', 1149), ('space', 1149), ('sd', 1145), ('love', 1143), ('guess', 1140), ('cards', 1139), ('complaints', 1138), ('alarm', 1138), ('needs', 1137), ('refund', 1137), ('hardware', 1133), ('upgrade', 1132), ('star', 1129), ('site', 1127), ('friend', 1126), ('front', 1125), ('menus', 1117), ('performance', 1115), ('hope', 1110), ('hour', 1090), ('coverage', 1085), ('technology', 1082), ('galaxy', 1076), ('ericsson', 1064), ('husband', 1057), ('page', 1051), ('program', 1050), ('return', 1047), ('country', 1045), ('code', 1044), ('office', 1042), ('processor', 1041), ('dont', 1037), ('bar', 1036), ('help', 1034), ('firmware', 1030), ('mini', 1029), ('micro', 1029), ('droid', 1029), ('care', 1026), ('touchscreen', 1022), ('half', 1018), ('family', 1015), ('facebook', 1014), ('fingers', 1006), ('texts', 1003), ('pics', 1001), ('think', 1001), ('storage', 1001), ('scratches', 998), ('texting', 997), ('port', 995), ('description', 987), ('slot', 987), ('plastic', 985), ('waste', 985), ('para', 984), ('word', 982), ('matter', 980), ('address', 977), ('minute', 975), ('usage', 975), ('band', 975), ('ability', 967), ('tones', 957), ('pda', 957), ('thought', 950), ('get', 949), ('bars', 939), ('example', 933), ('accessories', 932), ('messaging', 932), ('amount', 928), ('response', 927), ('pad', 926), ('ring', 924), ('right', 919), ('pre', 919), ('lack', 918), ('emails', 909), ('language', 908), ('capabilities', 905), ('water', 904), ('smartphones', 885), ('style', 882), ('value', 879), ('process', 875), ('screens', 875), ('jack', 874), ('photo', 868), ('feels', 866), ('im', 864), ('complaint', 863), ('note', 862), ('mb', 861), ('att', 856), ('lock', 854), ('instructions', 844), ('prepaid', 842), ('opinion', 838), ('cingular', 837), ('adapter', 835), ('junk', 834), ('party', 834), ('top', 834), ('edge', 831), ('slide', 831), ('mind', 829), ('se', 829), ('research', 824), ('none', 822), ('idea', 816), ('delivery', 815), ('operating', 813), ('programs', 812), ('storm', 812), ('outlook', 811), ('models', 810), ('mom', 808), ('pay', 807), ('clock', 805), ('songs', 800), ('dollars', 796), ('este', 795), ('turn', 793), ('capability', 791), ('ll', 788), ('plans', 788), ('bb', 787), ('por', 786), ('updates', 777), ('plug', 776), ('try', 775), ('search', 772), ('please', 767), ('speakers', 766), ('services', 763), ('looks', 759), ('house', 758), ('venezuela', 754), ('rating', 753), ('difference', 753), ('bucks', 750), ('items', 738), ('ipod', 727), ('rate', 725), ('file', 723), ('download', 721), ('error', 718), ('sucks', 715), ('eacute', 714), ('weight', 714), ('batteries', 711), ('yes', 704), ('customers', 701), ('level', 701), ('sync', 700), ('luck', 699), ('words', 698), ('bill', 692), ('telefono', 690), ('wouldn', 687), ('fun', 685), ('areas', 679), ('tmobile', 678), ('wasn', 678), ('ringtone', 671), ('default', 668), ('credit', 665), ('press', 665), ('auto', 663), ('crap', 661), ('alot', 660), ('letters', 653), ('game', 653), ('hd', 653), ('charges', 648), ('curve', 647), ('carriers', 646), ('info', 645), ('bottom', 644), ('fm', 642), ('control', 639), ('drop', 634), ('places', 631), ('fan', 631), ('exchange', 631), ('play', 630), ('colors', 629), ('period', 629), ('expectations', 628), ('tech', 626), ('telephone', 612), ('shape', 612), ('networks', 611), ('ringer', 608), ('factory', 608), ('antenna', 607), ('youtube', 606), ('browsing', 605), ('producto', 605), ('ovi', 605), ('addition', 601), ('travel', 599), ('emergency', 598), ('ear', 596), ('change', 596), ('mistake', 595), ('iacute', 593), ('damage', 592), ('range', 591), ('headphone', 588), ('middle', 588), ('audio', 587), ('net', 585), ('ease', 585), ('usb', 582), ('conversation', 576), ('background', 576), ('connectivity', 576), ('slider', 574), ('bells', 572), ('face', 571), ('form', 569), ('mother', 569), ('sms', 568), ('solution', 564), ('gmail', 564), ('buying', 563), ('sense', 563), ('room', 560), ('center', 560), ('activation', 557), ('start', 557), ('ok', 557), ('optimus', 557), ('hate', 555), ('parts', 555), ('th', 554), ('handset', 553), ('caller', 551), ('stock', 549), ('mms', 548), ('fault', 544), ('kids', 543), ('vendor', 543), ('tel', 541), ('rest', 541), ('clarity', 541), ('chance', 540), ('christmas', 538), ('repair', 538), ('wait', 537), ('tone', 537), ('thats', 535), ('europe', 535), ('plenty', 534), ('whistles', 532), ('nextel', 530), ('wish', 529), ('wall', 529), ('watch', 529), ('opera', 526), ('guy', 525), ('set', 524), ('finger', 524), ('skype', 523), ('movies', 522), ('tv', 522), ('fast', 520), ('pages', 520), ('oacute', 519), ('reasons', 519), ('manual', 519), ('terms', 517), ('zoom', 515), ('stereo', 511), ('chip', 507), ('recommend', 507), ('location', 506), ('morning', 506), ('moment', 501), ('laptop', 501), ('protector', 501), ('cause', 500), ('factor', 500), ('entry', 499), ('setup', 494), ('packaging', 493), ('ways', 489), ('boost', 489), ('strength', 488), ('aacute', 488), ('companies', 487), ('como', 487), ('future', 485), ('comments', 482), ('mhz', 482), ('noise', 481), ('lcd', 480), ('stylus', 480), ('series', 479), ('go', 478), ('microsd', 478), ('itunes', 477), ('sites', 474), ('glass', 473), ('simple', 472), ('board', 472), ('reviewers', 471), ('want', 470), ('backup', 468), ('manager', 467), ('icon', 467), ('iphones', 467), ('trip', 465), ('letter', 463), ('pero', 462), ('lag', 462), ('purpose', 460), ('easy', 460), ('bien', 460), ('notes', 458), ('excelente', 457), ('vibrate', 456), ('sort', 456), ('body', 455), ('beware', 455), ('image', 454), ('cord', 454), ('id', 453), ('tons', 453), ('los', 452), ('details', 452), ('gs', 452), ('shop', 447), ('images', 443), ('pin', 443), ('pain', 442), ('mac', 441), ('answer', 440), ('icons', 440), ('view', 439), ('desktop', 438), ('graphics', 436), ('buyer', 434), ('directions', 433), ('map', 433), ('buen', 431), ('fee', 431), ('perfect', 431), ('sale', 429), ('conditions', 429), ('earpiece', 428), ('ios', 428), ('news', 427), ('bugs', 427), ('task', 426), ('mi', 426), ('improvement', 426), ('cool', 424), ('recomiendo', 423), ('paper', 421), ('fono', 420), ('accounts', 420), ('dial', 419), ('state', 419), ('cameras', 418), ('click', 418), ('rd', 415), ('switch', 415), ('disappointment', 413), ('manufacturer', 413), ('suite', 413), ('surprise', 410), ('al', 410), ('didnt', 409), ('step', 407), ('stores', 406), ('fine', 406), ('head', 403), ('yesterday', 402), ('transfer', 401), ('multimedia', 401), ('sellers', 400), ('standard', 399), ('states', 397), ('school', 395), ('focus', 393), ('todo', 392), ('metal', 390), ('dad', 389), ('ram', 389), ('hassle', 388), ('reset', 387), ('rom', 383), ('voicemail', 381), ('ebay', 381), ('setting', 380), ('song', 380), ('versions', 377), ('feedback', 377), ('owner', 376), ('connector', 376), ('tasks', 374), ('link', 374), ('selection', 374), ('equipo', 374), ('brightness', 373), ('comparison', 372), ('downside', 372), ('operation', 372), ('construction', 371), ('scratch', 371), ('tiene', 371), ('while', 370), ('sin', 370), ('reader', 369), ('class', 367), ('min', 366), ('client', 365), ('share', 364), ('doesnt', 364), ('electronics', 364), ('specs', 362), ('position', 362), ('questions', 361), ('rep', 359), ('send', 359), ('sorry', 358), ('folks', 358), ('decision', 358), ('recorder', 358), ('mm', 358), ('tools', 357), ('las', 357), ('capacity', 356), ('unlock', 356), ('cd', 356), ('speeds', 354), ('triumph', 354), ('points', 353), ('format', 353), ('lt', 352), ('moto', 351), ('road', 350), ('drive', 350), ('lines', 349), ('calculator', 349), ('documents', 349), ('consumer', 348), ('push', 348), ('widgets', 347), ('budget', 346), ('question', 345), ('sounds', 345), ('advantage', 345), ('advice', 345), ('twitter', 345), ('instruction', 343), ('cents', 343), ('connect', 341), ('live', 341), ('purse', 341), ('usa', 341), ('bunch', 341), ('track', 341), ('microphone', 340), ('steps', 340), ('llego', 340), ('evo', 340), ('non', 339), ('forums', 338), ('hold', 338), ('policy', 338), ('sure', 337), ('spot', 336), ('logo', 334), ('check', 334), ('countries', 334), ('hp', 333), ('attention', 333), ('doubt', 333), ('man', 332), ('guys', 332), ('cases', 332), ('tool', 331), ('bonus', 331), ('ui', 330), ('equipment', 330), ('china', 330), ('java', 329), ('sister', 329), ('garbage', 328), ('brother', 328), ('show', 326), ('websites', 325), ('custom', 325), ('platform', 324), ('providers', 324), ('razor', 324), ('bought', 323), ('story', 322), ('input', 322), ('air', 320), ('haven', 319), ('blue', 319), ('phonebook', 319), ('names', 318), ('weather', 318), ('oh', 318), ('vendedor', 318), ('esta', 318), ('cant', 317), ('situation', 317), ('drops', 316), ('flaws', 316), ('insurance', 315), ('ii', 315), ('security', 314), ('sunlight', 314), ('core', 313), ('cheap', 312), ('server', 312), ('conclusion', 310), ('inside', 310), ('recognition', 308), ('themes', 308), ('compre', 308), ('playback', 307), ('command', 306), ('city', 305), ('flashlight', 305), ('glad', 304), ('window', 303), ('wow', 303), ('build', 303), ('earphones', 302), ('profile', 301), ('chargers', 301), ('ya', 301), ('result', 301), ('notification', 300), ('prices', 300), ('comment', 297), ('smart', 297), ('described', 297), ('xperia', 296), ('layout', 295), ('characters', 295), ('average', 295), ('tablet', 295), ('re', 294), ('megapixel', 294), ('funciona', 294), ('mean', 292), ('password', 292), ('torch', 292), ('del', 291), ('crashes', 290), ('age', 290), ('release', 290), ('inch', 290), ('communication', 289), ('fix', 289), ('dollar', 289), ('left', 288), ('vx', 288), ('nexus', 288), ('gadget', 287), ('mins', 287), ('status', 287), ('si', 287), ('reviewer', 286), ('excellent', 286), ('america', 285), ('drawback', 285), ('door', 285), ('shortcuts', 284), ('sidekick', 284), ('oem', 284), ('wallpaper', 283), ('silver', 283), ('hi', 282), ('uses', 282), ('buyers', 281), ('beginning', 281), ('past', 281), ('results', 281), ('mails', 280), ('yahoo', 279), ('worth', 279), ('flaw', 279), ('bands', 279), ('stick', 278), ('pink', 278), ('le', 278), ('pic', 277), ('standby', 277), ('pixi', 277), ('lens', 276), ('movistar', 276), ('fue', 276), ('run', 275), ('compra', 275), ('costs', 274), ('concern', 274), ('cdma', 273), ('sales', 273), ('anybody', 272), ('lol', 272), ('ntilde', 272), ('vm', 270), ('means', 269), ('okay', 269), ('machine', 269), ('offers', 268), ('bueno', 268), ('env', 268), ('delay', 267), ('connections', 267), ('freezes', 267), ('pop', 266), ('fits', 266), ('fees', 266), ('outside', 266), ('sensor', 265), ('modem', 264), ('generation', 264), ('clip', 262), ('mention', 262), ('desire', 260), ('ton', 260), ('stand', 259), ('gracias', 259), ('july', 258), ('changes', 258), ('dialing', 258), ('gprs', 257), ('st', 257), ('quad', 257), ('sent', 256), ('fit', 255), ('wallpapers', 254), ('toy', 254), ('choices', 254), ('glitches', 253), ('bold', 253), ('integration', 252), ('birthday', 252), ('landscape', 251), ('rica', 251), ('eye', 250), ('conversations', 250), ('multi', 250), ('rings', 249), ('durability', 249), ('balance', 248), ('spent', 248), ('hotspot', 248), ('action', 247), ('figure', 247), ('par', 247), ('decent', 246), ('record', 246), ('impression', 244), ('keyboards', 243), ('test', 243), ('edit', 242), ('hrs', 242), ('movie', 242), ('airtime', 242), ('messenger', 241), ('do', 241), ('cellphones', 240), ('languages', 240), ('folder', 240), ('portrait', 240), ('solo', 239), ('rubber', 239), ('entries', 238), ('controls', 238), ('shots', 238), ('hello', 238), ('marketplace', 237), ('difficulty', 236), ('group', 236), ('corner', 236), ('june', 236), ('quot', 235), ('hell', 235), ('lights', 235), ('accident', 235), ('copy', 234), ('backlight', 233), ('load', 233), ('reboot', 233), ('post', 232), ('street', 231), ('pixels', 231), ('team', 231), ('killer', 231), ('yeah', 230), ('headsets', 230), ('scroll', 230), ('ball', 230), ('town', 229), ('march', 229), ('wise', 229), ('charm', 229), ('alarms', 229), ('frustration', 229), ('dust', 228), ('gt', 228), ('guide', 228), ('instance', 227), ('let', 227), ('tooth', 227), ('source', 227), ('pearl', 227), ('detail', 225), ('sensitivity', 225), ('buena', 225), ('shame', 224), ('manner', 224), ('downloads', 224), ('extras', 223), ('appearance', 223), ('shell', 223)]\n"
     ]
    }
   ],
   "source": [
    "from nltk import FreqDist\n",
    "\n",
    "fdist = FreqDist(nextNounPhrase()) \n",
    "frequent_words_freq = fdist.most_common(1000)\n",
    "print(frequent_words_freq )\n",
    "#fdist.plot()\n"
   ]
  },
  {
   "cell_type": "code",
   "execution_count": 7,
   "metadata": {
    "collapsed": true
   },
   "outputs": [],
   "source": [
    "import gensim\n",
    "model = gensim.models.Word2Vec.load('../download/word2vec/myamazonmodel.word2vec')"
   ]
  },
  {
   "cell_type": "code",
   "execution_count": 53,
   "metadata": {},
   "outputs": [
    {
     "name": "stdout",
     "output_type": "stream",
     "text": [
      "[[-1.0480926  -1.02450836 -0.95549756 ...,  0.02163913  0.16548625\n",
      "   0.51798493]\n",
      " [-1.0480926  -1.02450836 -0.95549756 ...,  0.02163913  0.16548625\n",
      "   0.51798493]\n",
      " [-1.0480926  -1.02450836 -0.95549756 ...,  0.02163913  0.16548625\n",
      "   0.51798493]\n",
      " ..., \n",
      " [ 0.7101205  -3.16094184 -0.21134032 ...,  1.13265443 -4.16998625\n",
      "  -1.24292958]\n",
      " [ 0.7101205  -3.16094184 -0.21134032 ...,  1.13265443 -4.16998625\n",
      "  -1.24292958]\n",
      " [ 0.7101205  -3.16094184 -0.21134032 ...,  1.13265443 -4.16998625\n",
      "  -1.24292958]]\n"
     ]
    }
   ],
   "source": [
    "#frequent_words= [w for (w,c) in frequent_words_freq]\n",
    "#print(frequent_words_freq)\n",
    "import numpy as np\n",
    "import itertools\n",
    "#np_frequent_words = np.asarray([w for (w,c) in frequent_words_freq])\n",
    "np_frequent_words  = []\n",
    "[ np_frequent_words.extend([w]*c) for (w,c) in frequent_words_freq]\n",
    "#print(np_frequent_words_lol[1:10])\n",
    "#np_frequent_words = []\n",
    "#map(np_frequent_words.extend, list(np_frequent_words_lol))\n",
    "#print(np_frequent_words)\n",
    "np_frequent_words_vector = np.asarray([model.wv[w] for w in np_frequent_words])\n",
    "print(np_frequent_words_vector[1:10])"
   ]
  },
  {
   "cell_type": "code",
   "execution_count": null,
   "metadata": {
    "collapsed": true
   },
   "outputs": [],
   "source": [
    "import nltk\n",
    "from nltk.cluster.kmeans import KMeansClusterer\n",
    "nc = 10\n",
    "data = np_frequent_words_vector\n",
    "\n",
    "kclusterer = KMeansClusterer(nc, distance=nltk.cluster.util.cosine_distance, repeats=25)\n",
    "assigned_clusters = kclusterer.cluster(data, assign_clusters=True)\n",
    "print('Means:', kclusterer.means())"
   ]
  },
  {
   "cell_type": "code",
   "execution_count": 57,
   "metadata": {},
   "outputs": [
    {
     "name": "stdout",
     "output_type": "stream",
     "text": [
      "#Means: 10\n",
      "[2, 9, 2, 3, 1, 7, 4, 6, 7, 8, 1, 0, 0, 7, 7, 0, 9, 4, 3, 6, 8, 7, 2, 3, 8, 6, 3, 4, 9, 9, 1, 6, 3, 9, 3, 6, 6, 6, 3, 3, 9, 4, 3, 0, 4, 6, 1, 2, 3, 6, 4, 1, 0, 0, 6, 9, 4, 7, 6, 0, 9, 6, 6, 6, 0, 0, 4, 2, 0, 4, 6, 3, 2, 7, 2, 0, 3, 6, 9, 9, 8, 4, 8, 0, 6, 7, 9, 6, 4, 4, 7, 9, 1, 9, 0, 9, 4, 3, 4, 9, 3, 6, 4, 4, 7, 3, 4, 6, 2, 6, 0, 3, 2, 9, 7, 4, 9, 4, 6, 6, 8, 0, 5, 7, 6, 4, 1, 9, 6, 6, 0, 8, 0, 2, 7, 6, 8, 6, 9, 6, 8, 6, 6, 4, 2, 4, 4, 6, 9, 7, 6, 3, 7, 2, 8, 6, 9, 0, 8, 2, 9, 1, 5, 2, 4, 9, 9, 2, 0, 6, 6, 9, 0, 8, 2, 4, 9, 1, 4, 1, 2, 7, 4, 2, 7, 9, 0, 9, 9, 7, 7, 0, 0, 5, 6, 8, 2, 7, 7, 8, 9, 0, 1, 2, 4, 4, 4, 0, 7, 0, 4, 2, 9, 7, 9, 5, 0, 0, 7, 2, 4, 8, 6, 6, 6, 7, 7, 3, 3, 1, 6, 9, 6, 2, 2, 0, 3, 5, 7, 4, 6, 3, 6, 4, 6, 1, 6, 1, 3, 7, 6, 4, 9, 8, 0, 4, 0, 4, 0, 7, 4, 1, 2, 1, 5, 1, 1, 4, 4, 9, 4, 3, 2, 9, 0, 8, 1, 8, 9, 1, 4, 7, 4, 8, 4, 0, 2, 6, 7, 4, 3, 7, 7, 0, 0, 0, 6, 6, 4, 4, 6, 9, 7, 3, 2, 4, 6, 9, 9, 0, 8, 7, 3, 0, 6, 2, 6, 6, 8, 9, 2, 6, 9, 4, 2, 2, 4, 5, 6, 8, 6, 3, 7, 2, 9, 6, 0, 8, 4, 2, 6, 1, 6, 7, 6, 2, 2, 2, 0, 7, 6, 6, 7, 2, 1, 7, 7, 6, 1, 9, 6, 7, 4, 8, 8, 6, 0, 2, 6, 4, 7, 0, 9, 4, 1, 2, 2, 2, 8, 5, 4, 3, 8, 4, 6, 6, 0, 6, 1, 0, 4, 9, 6, 4, 5, 2, 9, 3, 1, 0, 5, 6, 9, 4, 6, 4, 9, 1, 7, 9, 4, 8, 8, 4, 1, 9, 4, 6, 6, 6, 8, 5, 7, 1, 5, 1, 7, 9, 8, 1, 0, 5, 3, 6, 1, 0, 3, 6, 6, 4, 2, 9, 4, 3, 2, 6, 0, 9, 0, 1, 6, 2, 9, 9, 2, 1, 8, 4, 9, 1, 3, 8, 4, 9, 7, 1, 2, 0, 9, 6, 6, 5, 6, 7, 9, 9, 2, 6, 8, 5, 8, 7, 9, 2, 9, 6, 7, 9, 2, 6, 9, 2, 1, 2, 7, 0, 6, 9, 6, 4, 8, 2, 2, 6, 2, 8, 0, 8, 1, 0, 9, 6, 0, 6, 8, 0, 4, 5, 2, 7, 8, 0, 4, 4, 6, 3, 4, 3, 1, 0, 8, 9, 6, 6, 0, 9, 2, 6, 6, 9, 5, 6, 5, 1, 6, 7, 6, 9, 2, 4, 9, 3, 0, 9, 2, 2, 7, 6, 6, 7, 1, 9, 7, 5, 1, 5, 4, 1, 9, 7, 2, 1, 0, 4, 9, 9, 1, 2, 5, 2, 1, 4, 9, 6, 6, 1, 4, 6, 5, 6, 8, 2, 5, 6, 5, 2, 2, 2, 4, 7, 9, 6, 3, 5, 1, 0, 4, 6, 9, 8, 9, 6, 6, 6, 9, 7, 4, 6, 6, 5, 4, 5, 4, 7, 2, 6, 6, 1, 6, 5, 8, 5, 5, 2, 5, 6, 6, 4, 1, 2, 0, 2, 8, 4, 6, 8, 5, 3, 2, 1, 5, 2, 0, 9, 6, 1, 9, 4, 0, 6, 5, 2, 0, 9, 8, 6, 6, 6, 4, 6, 6, 1, 8, 0, 9, 6, 6, 7, 5, 7, 7, 8, 7, 7, 2, 5, 3, 5, 6, 6, 3, 6, 4, 3, 1, 1, 2, 4, 4, 4, 4, 1, 4, 6, 9, 1, 5, 7, 6, 9, 7, 0, 1, 6, 5, 0, 2, 9, 2, 6, 6, 4, 2, 6, 4, 8, 7, 8, 4, 6, 6, 4, 9, 4, 2, 4, 3, 6, 9, 1, 5, 0, 5, 1, 2, 4, 8, 2, 2, 4, 1, 0, 4, 8, 0, 1, 1, 6, 8, 7, 1, 4, 6, 0, 4, 0, 2, 1, 6, 6, 1, 0, 0, 1, 9, 2, 3, 2, 6, 6, 6, 4, 5, 5, 3, 8, 2, 8, 4, 0, 6, 7, 7, 5, 6, 7, 2, 6, 6, 5, 9, 6, 6, 9, 4, 2, 4, 7, 1, 7, 1, 5, 7, 6, 1, 8, 0, 5, 0, 7, 6, 7, 9, 4, 7, 5, 8, 6, 0, 5, 6, 7, 2, 2, 6, 4, 4, 2, 0, 0, 1, 3, 6, 5, 1, 5, 4, 8, 2, 6, 0, 0, 6, 2, 5, 1, 1, 3, 0, 7, 6, 6, 4, 8, 1, 2, 0, 5, 6, 9, 0, 2, 5, 5, 9, 5, 4, 8, 0, 4, 4, 3, 5, 0, 8, 8, 6, 7, 5, 0, 8, 1, 6, 2, 7, 4, 2, 2, 9, 0, 2, 8, 0, 3, 2, 5, 0, 6, 6, 6, 0, 0, 4, 7, 6, 0, 1, 1, 0, 6, 0, 9, 5, 2, 6, 9, 2, 7, 7, 4, 9, 6, 4, 8, 5, 6, 8, 1, 4, 6, 3, 6, 4, 6, 4, 1, 1, 6, 9, 5, 2, 6, 9, 6, 0, 4, 8, 6, 2, 0, 6, 4, 2, 2, 6, 2, 6, 6, 4, 2, 7, 4, 6, 5, 1, 6, 2, 3, 0, 1, 0, 6, 8, 2, 0, 6, 6, 3, 9, 9, 0, 7, 7, 5, 8, 7, 6, 1, 7, 2]\n"
     ]
    }
   ],
   "source": [
    "print('#Means:', len(kclusterer.means()))\n",
    "#print(assigned_clusters)\n",
    "np_assigned_clusters = np.asarray(assigned_clusters)"
   ]
  },
  {
   "cell_type": "code",
   "execution_count": 64,
   "metadata": {},
   "outputs": [
    {
     "name": "stdout",
     "output_type": "stream",
     "text": [
      "[('way', 1.0), ('direction', 0.5154829025268555), ('ways', 0.45337188243865967), ('position', 0.4464210569858551), ('thing', 0.4354352355003357), ('groove', 0.42237621545791626), ('place', 0.42158520221710205), ('competition', 0.39788618683815), ('honesty', 0.3792671859264374), ('option', 0.3777622580528259)]\n",
      "[('speaker', 0.9999998807907104), ('microphone', 0.8178954124450684), ('mic', 0.8149124383926392), ('speakers', 0.7860656976699829), ('loudspeaker', 0.7478513717651367), ('speakerphone', 0.7195432186126709), ('receiver', 0.6982913017272949), ('mike', 0.680321216583252), ('grill', 0.6372097730636597), ('ringer', 0.6326583027839661)]\n",
      "[('phone', 1.0000001192092896), ('cellphone', 0.7390086650848389), ('iphone', 0.7150408029556274), ('device', 0.6014630198478699), ('fone', 0.5493741631507874), ('evo', 0.5207423567771912), ('droid', 0.5177657008171082), ('property', 0.5103439092636108), ('treo', 0.50901198387146), ('droidx', 0.5044007897377014)]\n",
      "[('life', 1.0), ('lifespan', 0.6996035575866699), ('duration', 0.6733706593513489), ('runtime', 0.6656320691108704), ('drainage', 0.659615159034729), ('lifecons', 0.6594172120094299), ('endurance', 0.6575078964233398), ('performance', 0.6109063625335693), ('autonomy', 0.5989125370979309), ('capacity', 0.5955759286880493)]\n",
      "[('hour', 1.0), ('hr', 0.8515781164169312), ('mins', 0.7887520790100098), ('min', 0.7826517224311829), ('hours', 0.7689244151115417), ('hrs', 0.7658556699752808), ('minute', 0.736122190952301), ('minutes', 0.7232111096382141), ('secs', 0.6562903523445129), ('week', 0.6560970544815063)]\n",
      "[('connection', 1.0), ('connectivity', 0.7496342658996582), ('connections', 0.7288894057273865), ('conection', 0.7065199017524719), ('signal', 0.612119197845459), ('coupling', 0.5751330852508545), ('connecting', 0.5621485114097595), ('router', 0.5608293414115906), ('connector', 0.558140218257904), ('signals', 0.5438849925994873)]\n",
      "[('service', 0.9999999403953552), ('sevice', 0.8168095946311951), ('svc', 0.7655341625213623), ('relations', 0.7626673579216003), ('serivce', 0.7131005525588989), ('servise', 0.688851535320282), ('servive', 0.6804006695747375), ('servicethe', 0.6709368824958801), ('satisfaction', 0.6648053526878357), ('services', 0.662932813167572)]\n",
      "[('access', 1.0000001192092896), ('acces', 0.7870076298713684), ('accessibility', 0.6927987933158875), ('acess', 0.6714274287223816), ('manipulate', 0.6558082103729248), ('configure', 0.6532121896743774), ('operate', 0.6426198482513428), ('utilize', 0.6343857645988464), ('locate', 0.6200989484786987), ('disable', 0.6168003678321838)]\n",
      "[('days', 0.9999999403953552), ('weeks', 0.9245561957359314), ('months', 0.8567191958427429), ('hours', 0.8287248611450195), ('minutes', 0.7880647778511047), ('monthes', 0.7876315116882324), ('wks', 0.782943844795227), ('moths', 0.7777876257896423), ('week', 0.7754867672920227), ('years', 0.7542451620101929)]\n",
      "[('phone', 1.0000001192092896), ('cellphone', 0.7390086650848389), ('iphone', 0.7150408029556274), ('device', 0.6014630198478699), ('fone', 0.5493741631507874), ('evo', 0.5207423567771912), ('droid', 0.5177657008171082), ('property', 0.5103439092636108), ('treo', 0.50901198387146), ('droidx', 0.5044007897377014)]\n"
     ]
    },
    {
     "data": {
      "text/plain": [
       "[None, None, None, None, None, None, None, None, None, None]"
      ]
     },
     "execution_count": 64,
     "metadata": {},
     "output_type": "execute_result"
    }
   ],
   "source": [
    "# get nearest words for centroids\n",
    "#print(kclusterer.means()[0])\n",
    "[print(model.wv.most_similar([m])) for m in kclusterer.means()]"
   ]
  },
  {
   "cell_type": "code",
   "execution_count": 65,
   "metadata": {},
   "outputs": [
    {
     "ename": "ValueError",
     "evalue": "arrays must all be same length",
     "output_type": "error",
     "traceback": [
      "\u001b[0;31m---------------------------------------------------------------------------\u001b[0m",
      "\u001b[0;31mValueError\u001b[0m                                Traceback (most recent call last)",
      "\u001b[0;32m<ipython-input-65-1ef2142f3d20>\u001b[0m in \u001b[0;36m<module>\u001b[0;34m()\u001b[0m\n\u001b[1;32m      1\u001b[0m \u001b[0;32mimport\u001b[0m \u001b[0mpandas\u001b[0m \u001b[0;32mas\u001b[0m \u001b[0mpd\u001b[0m\u001b[0;34m\u001b[0m\u001b[0m\n\u001b[1;32m      2\u001b[0m \u001b[0;31m#cluster_sentences_join = [\" \".join(s_list) for s_list in cluster_sentences]\u001b[0m\u001b[0;34m\u001b[0m\u001b[0;34m\u001b[0m\u001b[0m\n\u001b[0;32m----> 3\u001b[0;31m \u001b[0mresult\u001b[0m \u001b[0;34m=\u001b[0m \u001b[0mpd\u001b[0m\u001b[0;34m.\u001b[0m\u001b[0mDataFrame\u001b[0m\u001b[0;34m(\u001b[0m\u001b[0;34m{\u001b[0m \u001b[0;34m'cluster'\u001b[0m \u001b[0;34m:\u001b[0m \u001b[0massigned_clusters\u001b[0m\u001b[0;34m,\u001b[0m   \u001b[0;34m'feature'\u001b[0m \u001b[0;34m:\u001b[0m \u001b[0mnp_frequent_words\u001b[0m\u001b[0;34m}\u001b[0m\u001b[0;34m)\u001b[0m\u001b[0;34m\u001b[0m\u001b[0m\n\u001b[0m\u001b[1;32m      4\u001b[0m \u001b[0mprint\u001b[0m\u001b[0;34m(\u001b[0m\u001b[0mresult\u001b[0m\u001b[0;34m.\u001b[0m\u001b[0mhead\u001b[0m\u001b[0;34m(\u001b[0m\u001b[0;34m)\u001b[0m\u001b[0;34m)\u001b[0m\u001b[0;34m\u001b[0m\u001b[0m\n",
      "\u001b[0;32m/media/mister/Extension/anaconda3/lib/python3.6/site-packages/pandas/core/frame.py\u001b[0m in \u001b[0;36m__init__\u001b[0;34m(self, data, index, columns, dtype, copy)\u001b[0m\n\u001b[1;32m    273\u001b[0m                                  dtype=dtype, copy=copy)\n\u001b[1;32m    274\u001b[0m         \u001b[0;32melif\u001b[0m \u001b[0misinstance\u001b[0m\u001b[0;34m(\u001b[0m\u001b[0mdata\u001b[0m\u001b[0;34m,\u001b[0m \u001b[0mdict\u001b[0m\u001b[0;34m)\u001b[0m\u001b[0;34m:\u001b[0m\u001b[0;34m\u001b[0m\u001b[0m\n\u001b[0;32m--> 275\u001b[0;31m             \u001b[0mmgr\u001b[0m \u001b[0;34m=\u001b[0m \u001b[0mself\u001b[0m\u001b[0;34m.\u001b[0m\u001b[0m_init_dict\u001b[0m\u001b[0;34m(\u001b[0m\u001b[0mdata\u001b[0m\u001b[0;34m,\u001b[0m \u001b[0mindex\u001b[0m\u001b[0;34m,\u001b[0m \u001b[0mcolumns\u001b[0m\u001b[0;34m,\u001b[0m \u001b[0mdtype\u001b[0m\u001b[0;34m=\u001b[0m\u001b[0mdtype\u001b[0m\u001b[0;34m)\u001b[0m\u001b[0;34m\u001b[0m\u001b[0m\n\u001b[0m\u001b[1;32m    276\u001b[0m         \u001b[0;32melif\u001b[0m \u001b[0misinstance\u001b[0m\u001b[0;34m(\u001b[0m\u001b[0mdata\u001b[0m\u001b[0;34m,\u001b[0m \u001b[0mma\u001b[0m\u001b[0;34m.\u001b[0m\u001b[0mMaskedArray\u001b[0m\u001b[0;34m)\u001b[0m\u001b[0;34m:\u001b[0m\u001b[0;34m\u001b[0m\u001b[0m\n\u001b[1;32m    277\u001b[0m             \u001b[0;32mimport\u001b[0m \u001b[0mnumpy\u001b[0m\u001b[0;34m.\u001b[0m\u001b[0mma\u001b[0m\u001b[0;34m.\u001b[0m\u001b[0mmrecords\u001b[0m \u001b[0;32mas\u001b[0m \u001b[0mmrecords\u001b[0m\u001b[0;34m\u001b[0m\u001b[0m\n",
      "\u001b[0;32m/media/mister/Extension/anaconda3/lib/python3.6/site-packages/pandas/core/frame.py\u001b[0m in \u001b[0;36m_init_dict\u001b[0;34m(self, data, index, columns, dtype)\u001b[0m\n\u001b[1;32m    409\u001b[0m             \u001b[0marrays\u001b[0m \u001b[0;34m=\u001b[0m \u001b[0;34m[\u001b[0m\u001b[0mdata\u001b[0m\u001b[0;34m[\u001b[0m\u001b[0mk\u001b[0m\u001b[0;34m]\u001b[0m \u001b[0;32mfor\u001b[0m \u001b[0mk\u001b[0m \u001b[0;32min\u001b[0m \u001b[0mkeys\u001b[0m\u001b[0;34m]\u001b[0m\u001b[0;34m\u001b[0m\u001b[0m\n\u001b[1;32m    410\u001b[0m \u001b[0;34m\u001b[0m\u001b[0m\n\u001b[0;32m--> 411\u001b[0;31m         \u001b[0;32mreturn\u001b[0m \u001b[0m_arrays_to_mgr\u001b[0m\u001b[0;34m(\u001b[0m\u001b[0marrays\u001b[0m\u001b[0;34m,\u001b[0m \u001b[0mdata_names\u001b[0m\u001b[0;34m,\u001b[0m \u001b[0mindex\u001b[0m\u001b[0;34m,\u001b[0m \u001b[0mcolumns\u001b[0m\u001b[0;34m,\u001b[0m \u001b[0mdtype\u001b[0m\u001b[0;34m=\u001b[0m\u001b[0mdtype\u001b[0m\u001b[0;34m)\u001b[0m\u001b[0;34m\u001b[0m\u001b[0m\n\u001b[0m\u001b[1;32m    412\u001b[0m \u001b[0;34m\u001b[0m\u001b[0m\n\u001b[1;32m    413\u001b[0m     \u001b[0;32mdef\u001b[0m \u001b[0m_init_ndarray\u001b[0m\u001b[0;34m(\u001b[0m\u001b[0mself\u001b[0m\u001b[0;34m,\u001b[0m \u001b[0mvalues\u001b[0m\u001b[0;34m,\u001b[0m \u001b[0mindex\u001b[0m\u001b[0;34m,\u001b[0m \u001b[0mcolumns\u001b[0m\u001b[0;34m,\u001b[0m \u001b[0mdtype\u001b[0m\u001b[0;34m=\u001b[0m\u001b[0;32mNone\u001b[0m\u001b[0;34m,\u001b[0m \u001b[0mcopy\u001b[0m\u001b[0;34m=\u001b[0m\u001b[0;32mFalse\u001b[0m\u001b[0;34m)\u001b[0m\u001b[0;34m:\u001b[0m\u001b[0;34m\u001b[0m\u001b[0m\n",
      "\u001b[0;32m/media/mister/Extension/anaconda3/lib/python3.6/site-packages/pandas/core/frame.py\u001b[0m in \u001b[0;36m_arrays_to_mgr\u001b[0;34m(arrays, arr_names, index, columns, dtype)\u001b[0m\n\u001b[1;32m   5592\u001b[0m     \u001b[0;31m# figure out the index, if necessary\u001b[0m\u001b[0;34m\u001b[0m\u001b[0;34m\u001b[0m\u001b[0m\n\u001b[1;32m   5593\u001b[0m     \u001b[0;32mif\u001b[0m \u001b[0mindex\u001b[0m \u001b[0;32mis\u001b[0m \u001b[0;32mNone\u001b[0m\u001b[0;34m:\u001b[0m\u001b[0;34m\u001b[0m\u001b[0m\n\u001b[0;32m-> 5594\u001b[0;31m         \u001b[0mindex\u001b[0m \u001b[0;34m=\u001b[0m \u001b[0mextract_index\u001b[0m\u001b[0;34m(\u001b[0m\u001b[0marrays\u001b[0m\u001b[0;34m)\u001b[0m\u001b[0;34m\u001b[0m\u001b[0m\n\u001b[0m\u001b[1;32m   5595\u001b[0m     \u001b[0;32melse\u001b[0m\u001b[0;34m:\u001b[0m\u001b[0;34m\u001b[0m\u001b[0m\n\u001b[1;32m   5596\u001b[0m         \u001b[0mindex\u001b[0m \u001b[0;34m=\u001b[0m \u001b[0m_ensure_index\u001b[0m\u001b[0;34m(\u001b[0m\u001b[0mindex\u001b[0m\u001b[0;34m)\u001b[0m\u001b[0;34m\u001b[0m\u001b[0m\n",
      "\u001b[0;32m/media/mister/Extension/anaconda3/lib/python3.6/site-packages/pandas/core/frame.py\u001b[0m in \u001b[0;36mextract_index\u001b[0;34m(data)\u001b[0m\n\u001b[1;32m   5640\u001b[0m             \u001b[0mlengths\u001b[0m \u001b[0;34m=\u001b[0m \u001b[0mlist\u001b[0m\u001b[0;34m(\u001b[0m\u001b[0mset\u001b[0m\u001b[0;34m(\u001b[0m\u001b[0mraw_lengths\u001b[0m\u001b[0;34m)\u001b[0m\u001b[0;34m)\u001b[0m\u001b[0;34m\u001b[0m\u001b[0m\n\u001b[1;32m   5641\u001b[0m             \u001b[0;32mif\u001b[0m \u001b[0mlen\u001b[0m\u001b[0;34m(\u001b[0m\u001b[0mlengths\u001b[0m\u001b[0;34m)\u001b[0m \u001b[0;34m>\u001b[0m \u001b[0;36m1\u001b[0m\u001b[0;34m:\u001b[0m\u001b[0;34m\u001b[0m\u001b[0m\n\u001b[0;32m-> 5642\u001b[0;31m                 \u001b[0;32mraise\u001b[0m \u001b[0mValueError\u001b[0m\u001b[0;34m(\u001b[0m\u001b[0;34m'arrays must all be same length'\u001b[0m\u001b[0;34m)\u001b[0m\u001b[0;34m\u001b[0m\u001b[0m\n\u001b[0m\u001b[1;32m   5643\u001b[0m \u001b[0;34m\u001b[0m\u001b[0m\n\u001b[1;32m   5644\u001b[0m             \u001b[0;32mif\u001b[0m \u001b[0mhave_dicts\u001b[0m\u001b[0;34m:\u001b[0m\u001b[0;34m\u001b[0m\u001b[0m\n",
      "\u001b[0;31mValueError\u001b[0m: arrays must all be same length"
     ]
    }
   ],
   "source": [
    "import pandas as pd\n",
    "#cluster_sentences_join = [\" \".join(s_list) for s_list in cluster_sentences]\n",
    "result = pd.DataFrame({ 'cluster' : assigned_clusters,   'feature' : np_frequent_words})\n",
    "print(result.head())"
   ]
  },
  {
   "cell_type": "code",
   "execution_count": 66,
   "metadata": {
    "collapsed": true
   },
   "outputs": [],
   "source": [
    "writer = pd.ExcelWriter('clustered_features.xlsx')\n",
    "result.to_excel(writer,'Sheet1')\n",
    "writer.save()"
   ]
  },
  {
   "cell_type": "code",
   "execution_count": 13,
   "metadata": {},
   "outputs": [
    {
     "name": "stdout",
     "output_type": "stream",
     "text": [
      "[{'feature': 'phone'}, {'feature': 'battery'}, {'feature': 'screen'}, {'feature': 'time'}, {'feature': 'phones'}, {'feature': 'camera'}, {'feature': 'service'}, {'feature': 'card'}, {'feature': 'quality'}, {'feature': 'problem'}, {'feature': 'features'}, {'feature': 'cell'}, {'feature': 'iphone'}, {'feature': 'life'}, {'feature': 'price'}, {'feature': 've'}, {'feature': 'use'}, {'feature': 'product'}, {'feature': 'day'}, {'feature': 'calls'}, {'feature': 'thing'}, {'feature': 'keyboard'}, {'feature': 'way'}, {'feature': 'days'}, {'feature': 'problems'}, {'feature': 'call'}, {'feature': 'don'}, {'feature': 'amazon'}, {'feature': 'work'}, {'feature': 'data'}, {'feature': 'people'}, {'feature': 'apps'}, {'feature': 'months'}, {'feature': 'device'}, {'feature': 'minutes'}, {'feature': 'everything'}, {'feature': 'software'}, {'feature': 'internet'}, {'feature': 'lot'}, {'feature': 'year'}, {'feature': 'music'}, {'feature': 'plan'}, {'feature': 'years'}, {'feature': 'nokia'}, {'feature': 'money'}, {'feature': 'memory'}, {'feature': 'times'}, {'feature': 'button'}, {'feature': 'month'}, {'feature': 'pictures'}, {'feature': 'seller'}, {'feature': 'things'}, {'feature': 'samsung'}, {'feature': 'blackberry'}, {'feature': 'number'}, {'feature': 'charger'}, {'feature': 'something'}, {'feature': 'reception'}, {'feature': 'feature'}, {'feature': 'motorola'}, {'feature': 'mp'}, {'feature': 'voice'}, {'feature': 'text'}, {'feature': 'video'}, {'feature': 'verizon'}, {'feature': 'one'}, {'feature': 'customer'}, {'feature': 'buttons'}, {'feature': 'mobile'}, {'feature': 'anything'}, {'feature': 'network'}, {'feature': 'hours'}, {'feature': 'box'}, {'feature': 'size'}, {'feature': 'case'}, {'feature': 'version'}, {'feature': 'nothing'}, {'feature': 'web'}, {'feature': 'gps'}, {'feature': 'player'}, {'feature': 'issues'}, {'feature': 'store'}, {'feature': 'issue'}, {'feature': 'smartphone'}, {'feature': 'email'}, {'feature': 'sound'}, {'feature': 'charge'}, {'feature': 'messages'}, {'feature': 'sim'}, {'feature': 'purchase'}, {'feature': 'volume'}, {'feature': 'home'}, {'feature': 'reviews'}, {'feature': 'wifi'}, {'feature': 'android'}, {'feature': 'speaker'}, {'feature': 'order'}, {'feature': 'week'}, {'feature': 'company'}, {'feature': 'access'}, {'feature': 'weeks'}, {'feature': 'app'}, {'feature': 'review'}, {'feature': 'anyone'}, {'feature': 'touch'}, {'feature': 'didn'}, {'feature': 'contract'}, {'feature': 'contacts'}, {'feature': 'keys'}, {'feature': 'support'}, {'feature': 'model'}, {'feature': 'doesn'}, {'feature': 'pocket'}, {'feature': 'computer'}, {'feature': 'picture'}, {'feature': 'someone'}, {'feature': 'system'}, {'feature': 'replacement'}, {'feature': 'message'}, {'feature': 'games'}, {'feature': 'reason'}, {'feature': 'lg'}, {'feature': 'que'}, {'feature': 'display'}, {'feature': 'os'}, {'feature': 'item'}, {'feature': 'person'}, {'feature': 'power'}, {'feature': 'windows'}, {'feature': 'applications'}, {'feature': 'htc'}, {'feature': 'deal'}, {'feature': 'brand'}, {'feature': 'side'}, {'feature': 'condition'}, {'feature': 'etc'}, {'feature': 'fact'}, {'feature': 'user'}, {'feature': 'works'}, {'feature': 'menu'}, {'feature': 'experience'}, {'feature': 'mail'}, {'feature': 'browser'}, {'feature': 'market'}, {'feature': 'end'}, {'feature': 'need'}, {'feature': 'warranty'}, {'feature': 'numbers'}, {'feature': 'radio'}, {'feature': 'design'}, {'feature': 'settings'}, {'feature': 'couple'}, {'feature': 'interface'}, {'feature': 'line'}, {'feature': 'option'}, {'feature': 'google'}, {'feature': 'bluetooth'}, {'feature': 'apple'}, {'feature': 'con'}, {'feature': 'cover'}, {'feature': 'connection'}, {'feature': 'functions'}, {'feature': 'el'}, {'feature': 'part'}, {'feature': 'carrier'}, {'feature': 'car'}, {'feature': 'flash'}, {'feature': 'hand'}, {'feature': 'palm'}, {'feature': 'photos'}, {'feature': 'ringtones'}, {'feature': 'cable'}, {'feature': 'wife'}, {'feature': 'point'}, {'feature': 'bit'}, {'feature': 'thanks'}, {'feature': 'mode'}, {'feature': 'others'}, {'feature': 'tracfone'}, {'feature': 'options'}, {'feature': 'area'}, {'feature': 'cons'}, {'feature': 'business'}, {'feature': 'keypad'}, {'feature': 'signal'}, {'feature': 'pc'}, {'feature': 'sony'}, {'feature': 'gb'}, {'feature': 'talk'}, {'feature': 'color'}, {'feature': 'function'}, {'feature': 'sprint'}, {'feature': 'mine'}, {'feature': 'es'}, {'feature': 'maps'}, {'feature': 'kind'}, {'feature': 'piece'}, {'feature': 'look'}, {'feature': 'pros'}, {'feature': 'stars'}, {'feature': 'headset'}, {'feature': 'cellphone'}, {'feature': 'friends'}, {'feature': 'hands'}, {'feature': 'update'}, {'feature': 'account'}, {'feature': 'cost'}, {'feature': 'virgin'}, {'feature': 'feel'}, {'feature': 'razr'}, {'feature': 'package'}, {'feature': 'flip'}, {'feature': 'fi'}, {'feature': 'speed'}, {'feature': 'wireless'}, {'feature': 'la'}, {'feature': 'son'}, {'feature': 'today'}, {'feature': 'world'}, {'feature': 'key'}, {'feature': 'buy'}, {'feature': 'trouble'}, {'feature': 'calendar'}, {'feature': 'navigation'}, {'feature': 'videos'}, {'feature': 'resolution'}, {'feature': 'job'}, {'feature': 'course'}, {'feature': 'lots'}, {'feature': 'stuff'}, {'feature': 'list'}, {'feature': 'speakerphone'}, {'feature': 'book'}, {'feature': 'place'}, {'feature': 'light'}, {'feature': 'gsm'}, {'feature': 'cannot'}, {'feature': 'lo'}, {'feature': 'qwerty'}, {'feature': 'provider'}, {'feature': 'contact'}, {'feature': 'night'}, {'feature': 'files'}, {'feature': 'com'}, {'feature': 'media'}, {'feature': 'type'}, {'feature': 'information'}, {'feature': 'devices'}, {'feature': 'seconds'}, {'feature': 'functionality'}, {'feature': 'application'}, {'feature': 'name'}, {'feature': 'unit'}, {'feature': 'choice'}, {'feature': 'treo'}, {'feature': 'online'}, {'feature': 'daughter'}, {'feature': 'shipping'}, {'feature': 'everyone'}, {'feature': 'isn'}, {'feature': 'date'}, {'feature': 'ones'}, {'feature': 'back'}, {'feature': 'users'}, {'feature': 'muy'}, {'feature': 'headphones'}, {'feature': 'products'}, {'feature': 'thank'}, {'feature': 'gift'}, {'feature': 'wi'}, {'feature': 'website'}, {'feature': 'couldn'}, {'feature': 'space'}, {'feature': 'sd'}, {'feature': 'love'}, {'feature': 'guess'}, {'feature': 'cards'}, {'feature': 'complaints'}, {'feature': 'alarm'}, {'feature': 'needs'}, {'feature': 'refund'}, {'feature': 'hardware'}, {'feature': 'upgrade'}, {'feature': 'star'}, {'feature': 'site'}, {'feature': 'friend'}, {'feature': 'front'}, {'feature': 'menus'}, {'feature': 'performance'}, {'feature': 'hope'}, {'feature': 'hour'}, {'feature': 'coverage'}, {'feature': 'technology'}, {'feature': 'galaxy'}, {'feature': 'ericsson'}, {'feature': 'husband'}, {'feature': 'page'}, {'feature': 'program'}, {'feature': 'return'}, {'feature': 'country'}, {'feature': 'code'}, {'feature': 'office'}, {'feature': 'processor'}, {'feature': 'dont'}, {'feature': 'bar'}, {'feature': 'help'}, {'feature': 'firmware'}, {'feature': 'mini'}, {'feature': 'micro'}, {'feature': 'droid'}, {'feature': 'care'}, {'feature': 'touchscreen'}, {'feature': 'half'}, {'feature': 'family'}, {'feature': 'facebook'}, {'feature': 'fingers'}, {'feature': 'texts'}, {'feature': 'pics'}, {'feature': 'think'}, {'feature': 'storage'}, {'feature': 'scratches'}, {'feature': 'texting'}, {'feature': 'port'}, {'feature': 'description'}, {'feature': 'slot'}, {'feature': 'plastic'}, {'feature': 'waste'}, {'feature': 'para'}, {'feature': 'word'}, {'feature': 'matter'}, {'feature': 'address'}, {'feature': 'minute'}, {'feature': 'usage'}, {'feature': 'band'}, {'feature': 'ability'}, {'feature': 'tones'}, {'feature': 'pda'}, {'feature': 'thought'}, {'feature': 'get'}, {'feature': 'bars'}, {'feature': 'example'}, {'feature': 'accessories'}, {'feature': 'messaging'}, {'feature': 'amount'}, {'feature': 'response'}, {'feature': 'pad'}, {'feature': 'ring'}, {'feature': 'right'}, {'feature': 'pre'}, {'feature': 'lack'}, {'feature': 'emails'}, {'feature': 'language'}, {'feature': 'capabilities'}, {'feature': 'water'}, {'feature': 'smartphones'}, {'feature': 'style'}, {'feature': 'value'}, {'feature': 'process'}, {'feature': 'screens'}, {'feature': 'jack'}, {'feature': 'photo'}, {'feature': 'feels'}, {'feature': 'im'}, {'feature': 'complaint'}, {'feature': 'note'}, {'feature': 'mb'}, {'feature': 'att'}, {'feature': 'lock'}, {'feature': 'instructions'}, {'feature': 'prepaid'}, {'feature': 'opinion'}, {'feature': 'cingular'}, {'feature': 'adapter'}, {'feature': 'junk'}, {'feature': 'party'}, {'feature': 'top'}, {'feature': 'edge'}, {'feature': 'slide'}, {'feature': 'mind'}, {'feature': 'se'}, {'feature': 'research'}, {'feature': 'none'}, {'feature': 'idea'}, {'feature': 'delivery'}, {'feature': 'operating'}, {'feature': 'programs'}, {'feature': 'storm'}, {'feature': 'outlook'}, {'feature': 'models'}, {'feature': 'mom'}, {'feature': 'pay'}, {'feature': 'clock'}, {'feature': 'songs'}, {'feature': 'dollars'}, {'feature': 'este'}, {'feature': 'turn'}, {'feature': 'capability'}, {'feature': 'll'}, {'feature': 'plans'}, {'feature': 'bb'}, {'feature': 'por'}, {'feature': 'updates'}, {'feature': 'plug'}, {'feature': 'try'}, {'feature': 'search'}, {'feature': 'please'}, {'feature': 'speakers'}, {'feature': 'services'}, {'feature': 'looks'}, {'feature': 'house'}, {'feature': 'venezuela'}, {'feature': 'rating'}, {'feature': 'difference'}, {'feature': 'bucks'}, {'feature': 'items'}, {'feature': 'ipod'}, {'feature': 'rate'}, {'feature': 'file'}, {'feature': 'download'}, {'feature': 'error'}, {'feature': 'sucks'}, {'feature': 'eacute'}, {'feature': 'weight'}, {'feature': 'batteries'}, {'feature': 'yes'}, {'feature': 'customers'}, {'feature': 'level'}, {'feature': 'sync'}, {'feature': 'luck'}, {'feature': 'words'}, {'feature': 'bill'}, {'feature': 'telefono'}, {'feature': 'wouldn'}, {'feature': 'fun'}, {'feature': 'areas'}, {'feature': 'tmobile'}, {'feature': 'wasn'}, {'feature': 'ringtone'}, {'feature': 'default'}, {'feature': 'credit'}, {'feature': 'press'}, {'feature': 'auto'}, {'feature': 'crap'}, {'feature': 'alot'}, {'feature': 'letters'}, {'feature': 'game'}, {'feature': 'hd'}, {'feature': 'charges'}, {'feature': 'curve'}, {'feature': 'carriers'}, {'feature': 'info'}, {'feature': 'bottom'}, {'feature': 'fm'}, {'feature': 'control'}, {'feature': 'drop'}, {'feature': 'places'}, {'feature': 'fan'}, {'feature': 'exchange'}, {'feature': 'play'}, {'feature': 'colors'}, {'feature': 'period'}, {'feature': 'expectations'}, {'feature': 'tech'}, {'feature': 'telephone'}, {'feature': 'shape'}, {'feature': 'networks'}, {'feature': 'ringer'}, {'feature': 'factory'}, {'feature': 'antenna'}, {'feature': 'youtube'}, {'feature': 'browsing'}, {'feature': 'producto'}, {'feature': 'ovi'}, {'feature': 'addition'}, {'feature': 'travel'}, {'feature': 'emergency'}, {'feature': 'ear'}, {'feature': 'change'}, {'feature': 'mistake'}, {'feature': 'iacute'}, {'feature': 'damage'}, {'feature': 'range'}, {'feature': 'headphone'}, {'feature': 'middle'}, {'feature': 'audio'}, {'feature': 'net'}, {'feature': 'ease'}, {'feature': 'usb'}, {'feature': 'conversation'}, {'feature': 'background'}, {'feature': 'connectivity'}, {'feature': 'slider'}, {'feature': 'bells'}, {'feature': 'face'}, {'feature': 'form'}, {'feature': 'mother'}, {'feature': 'sms'}, {'feature': 'solution'}, {'feature': 'gmail'}, {'feature': 'buying'}, {'feature': 'sense'}, {'feature': 'room'}, {'feature': 'center'}, {'feature': 'activation'}, {'feature': 'start'}, {'feature': 'ok'}, {'feature': 'optimus'}, {'feature': 'hate'}, {'feature': 'parts'}, {'feature': 'th'}, {'feature': 'handset'}, {'feature': 'caller'}, {'feature': 'stock'}, {'feature': 'mms'}, {'feature': 'fault'}, {'feature': 'kids'}, {'feature': 'vendor'}, {'feature': 'tel'}, {'feature': 'rest'}, {'feature': 'clarity'}, {'feature': 'chance'}, {'feature': 'christmas'}, {'feature': 'repair'}, {'feature': 'wait'}, {'feature': 'tone'}, {'feature': 'thats'}, {'feature': 'europe'}, {'feature': 'plenty'}, {'feature': 'whistles'}, {'feature': 'nextel'}, {'feature': 'wish'}, {'feature': 'wall'}, {'feature': 'watch'}, {'feature': 'opera'}, {'feature': 'guy'}, {'feature': 'set'}, {'feature': 'finger'}, {'feature': 'skype'}, {'feature': 'movies'}, {'feature': 'tv'}, {'feature': 'fast'}, {'feature': 'pages'}, {'feature': 'oacute'}, {'feature': 'reasons'}, {'feature': 'manual'}, {'feature': 'terms'}, {'feature': 'zoom'}, {'feature': 'stereo'}, {'feature': 'chip'}, {'feature': 'recommend'}, {'feature': 'location'}, {'feature': 'morning'}, {'feature': 'moment'}, {'feature': 'laptop'}, {'feature': 'protector'}, {'feature': 'cause'}, {'feature': 'factor'}, {'feature': 'entry'}, {'feature': 'setup'}, {'feature': 'packaging'}, {'feature': 'ways'}, {'feature': 'boost'}, {'feature': 'strength'}, {'feature': 'aacute'}, {'feature': 'companies'}, {'feature': 'como'}, {'feature': 'future'}, {'feature': 'comments'}, {'feature': 'mhz'}, {'feature': 'noise'}, {'feature': 'lcd'}, {'feature': 'stylus'}, {'feature': 'series'}, {'feature': 'go'}, {'feature': 'microsd'}, {'feature': 'itunes'}, {'feature': 'sites'}, {'feature': 'glass'}, {'feature': 'simple'}, {'feature': 'board'}, {'feature': 'reviewers'}, {'feature': 'want'}, {'feature': 'backup'}, {'feature': 'manager'}, {'feature': 'icon'}, {'feature': 'iphones'}, {'feature': 'trip'}, {'feature': 'letter'}, {'feature': 'pero'}, {'feature': 'lag'}, {'feature': 'purpose'}, {'feature': 'easy'}, {'feature': 'bien'}, {'feature': 'notes'}, {'feature': 'excelente'}, {'feature': 'vibrate'}, {'feature': 'sort'}, {'feature': 'body'}, {'feature': 'beware'}, {'feature': 'image'}, {'feature': 'cord'}, {'feature': 'id'}, {'feature': 'tons'}, {'feature': 'los'}, {'feature': 'details'}, {'feature': 'gs'}, {'feature': 'shop'}, {'feature': 'images'}, {'feature': 'pin'}, {'feature': 'pain'}, {'feature': 'mac'}, {'feature': 'answer'}, {'feature': 'icons'}, {'feature': 'view'}, {'feature': 'desktop'}, {'feature': 'graphics'}, {'feature': 'buyer'}, {'feature': 'directions'}, {'feature': 'map'}, {'feature': 'buen'}, {'feature': 'fee'}, {'feature': 'perfect'}, {'feature': 'sale'}, {'feature': 'conditions'}, {'feature': 'earpiece'}, {'feature': 'ios'}, {'feature': 'news'}, {'feature': 'bugs'}, {'feature': 'task'}, {'feature': 'mi'}, {'feature': 'improvement'}, {'feature': 'cool'}, {'feature': 'recomiendo'}, {'feature': 'paper'}, {'feature': 'fono'}, {'feature': 'accounts'}, {'feature': 'dial'}, {'feature': 'state'}, {'feature': 'cameras'}, {'feature': 'click'}, {'feature': 'rd'}, {'feature': 'switch'}, {'feature': 'disappointment'}, {'feature': 'manufacturer'}, {'feature': 'suite'}, {'feature': 'surprise'}, {'feature': 'al'}, {'feature': 'didnt'}, {'feature': 'step'}, {'feature': 'stores'}, {'feature': 'fine'}, {'feature': 'head'}, {'feature': 'yesterday'}, {'feature': 'transfer'}, {'feature': 'multimedia'}, {'feature': 'sellers'}, {'feature': 'standard'}, {'feature': 'states'}, {'feature': 'school'}, {'feature': 'focus'}, {'feature': 'todo'}, {'feature': 'metal'}, {'feature': 'dad'}, {'feature': 'ram'}, {'feature': 'hassle'}, {'feature': 'reset'}, {'feature': 'rom'}, {'feature': 'voicemail'}, {'feature': 'ebay'}, {'feature': 'setting'}, {'feature': 'song'}, {'feature': 'versions'}, {'feature': 'feedback'}, {'feature': 'owner'}, {'feature': 'connector'}, {'feature': 'tasks'}, {'feature': 'link'}, {'feature': 'selection'}, {'feature': 'equipo'}, {'feature': 'brightness'}, {'feature': 'comparison'}, {'feature': 'downside'}, {'feature': 'operation'}, {'feature': 'construction'}, {'feature': 'scratch'}, {'feature': 'tiene'}, {'feature': 'while'}, {'feature': 'sin'}, {'feature': 'reader'}, {'feature': 'class'}, {'feature': 'min'}, {'feature': 'client'}, {'feature': 'share'}, {'feature': 'doesnt'}, {'feature': 'electronics'}, {'feature': 'specs'}, {'feature': 'position'}, {'feature': 'questions'}, {'feature': 'rep'}, {'feature': 'send'}, {'feature': 'sorry'}, {'feature': 'folks'}, {'feature': 'decision'}, {'feature': 'recorder'}, {'feature': 'mm'}, {'feature': 'tools'}, {'feature': 'las'}, {'feature': 'capacity'}, {'feature': 'unlock'}, {'feature': 'cd'}, {'feature': 'speeds'}, {'feature': 'triumph'}, {'feature': 'points'}, {'feature': 'format'}, {'feature': 'lt'}, {'feature': 'moto'}, {'feature': 'road'}, {'feature': 'drive'}, {'feature': 'lines'}, {'feature': 'calculator'}, {'feature': 'documents'}, {'feature': 'consumer'}, {'feature': 'push'}, {'feature': 'widgets'}, {'feature': 'budget'}, {'feature': 'question'}, {'feature': 'sounds'}, {'feature': 'advantage'}, {'feature': 'advice'}, {'feature': 'twitter'}, {'feature': 'instruction'}, {'feature': 'cents'}, {'feature': 'connect'}, {'feature': 'live'}, {'feature': 'purse'}, {'feature': 'usa'}, {'feature': 'bunch'}, {'feature': 'track'}, {'feature': 'microphone'}, {'feature': 'steps'}, {'feature': 'llego'}, {'feature': 'evo'}, {'feature': 'non'}, {'feature': 'forums'}, {'feature': 'hold'}, {'feature': 'policy'}, {'feature': 'sure'}, {'feature': 'spot'}, {'feature': 'logo'}, {'feature': 'check'}, {'feature': 'countries'}, {'feature': 'hp'}, {'feature': 'attention'}, {'feature': 'doubt'}, {'feature': 'man'}, {'feature': 'guys'}, {'feature': 'cases'}, {'feature': 'tool'}, {'feature': 'bonus'}, {'feature': 'ui'}, {'feature': 'equipment'}, {'feature': 'china'}, {'feature': 'java'}, {'feature': 'sister'}, {'feature': 'garbage'}, {'feature': 'brother'}, {'feature': 'show'}, {'feature': 'websites'}, {'feature': 'custom'}, {'feature': 'platform'}, {'feature': 'providers'}, {'feature': 'razor'}, {'feature': 'bought'}, {'feature': 'story'}, {'feature': 'input'}, {'feature': 'air'}, {'feature': 'haven'}, {'feature': 'blue'}, {'feature': 'phonebook'}, {'feature': 'names'}, {'feature': 'weather'}, {'feature': 'oh'}, {'feature': 'vendedor'}, {'feature': 'esta'}, {'feature': 'cant'}, {'feature': 'situation'}, {'feature': 'drops'}, {'feature': 'flaws'}, {'feature': 'insurance'}, {'feature': 'ii'}, {'feature': 'security'}, {'feature': 'sunlight'}, {'feature': 'core'}, {'feature': 'cheap'}, {'feature': 'server'}, {'feature': 'conclusion'}, {'feature': 'inside'}, {'feature': 'recognition'}, {'feature': 'themes'}, {'feature': 'compre'}, {'feature': 'playback'}, {'feature': 'command'}, {'feature': 'city'}, {'feature': 'flashlight'}, {'feature': 'glad'}, {'feature': 'window'}, {'feature': 'wow'}, {'feature': 'build'}, {'feature': 'earphones'}, {'feature': 'profile'}, {'feature': 'chargers'}, {'feature': 'ya'}, {'feature': 'result'}, {'feature': 'notification'}, {'feature': 'prices'}, {'feature': 'comment'}, {'feature': 'smart'}, {'feature': 'described'}, {'feature': 'xperia'}, {'feature': 'layout'}, {'feature': 'characters'}, {'feature': 'average'}, {'feature': 'tablet'}, {'feature': 're'}, {'feature': 'megapixel'}, {'feature': 'funciona'}, {'feature': 'mean'}, {'feature': 'password'}, {'feature': 'torch'}, {'feature': 'del'}, {'feature': 'crashes'}, {'feature': 'age'}, {'feature': 'release'}, {'feature': 'inch'}, {'feature': 'communication'}, {'feature': 'fix'}, {'feature': 'dollar'}, {'feature': 'left'}, {'feature': 'vx'}, {'feature': 'nexus'}, {'feature': 'gadget'}, {'feature': 'mins'}, {'feature': 'status'}, {'feature': 'si'}, {'feature': 'reviewer'}, {'feature': 'excellent'}, {'feature': 'america'}, {'feature': 'drawback'}, {'feature': 'door'}, {'feature': 'shortcuts'}, {'feature': 'sidekick'}, {'feature': 'oem'}, {'feature': 'wallpaper'}, {'feature': 'silver'}, {'feature': 'hi'}, {'feature': 'uses'}, {'feature': 'buyers'}, {'feature': 'beginning'}, {'feature': 'past'}, {'feature': 'results'}, {'feature': 'mails'}, {'feature': 'yahoo'}, {'feature': 'worth'}, {'feature': 'flaw'}, {'feature': 'bands'}, {'feature': 'stick'}, {'feature': 'pink'}, {'feature': 'le'}, {'feature': 'pic'}, {'feature': 'standby'}, {'feature': 'pixi'}, {'feature': 'lens'}, {'feature': 'movistar'}, {'feature': 'fue'}, {'feature': 'run'}, {'feature': 'compra'}, {'feature': 'costs'}, {'feature': 'concern'}, {'feature': 'cdma'}, {'feature': 'sales'}, {'feature': 'anybody'}, {'feature': 'lol'}, {'feature': 'ntilde'}, {'feature': 'vm'}, {'feature': 'means'}, {'feature': 'okay'}, {'feature': 'machine'}, {'feature': 'offers'}, {'feature': 'bueno'}, {'feature': 'env'}, {'feature': 'delay'}, {'feature': 'connections'}, {'feature': 'freezes'}, {'feature': 'pop'}, {'feature': 'fits'}, {'feature': 'fees'}, {'feature': 'outside'}, {'feature': 'sensor'}, {'feature': 'modem'}, {'feature': 'generation'}, {'feature': 'clip'}, {'feature': 'mention'}, {'feature': 'desire'}, {'feature': 'ton'}, {'feature': 'stand'}, {'feature': 'gracias'}, {'feature': 'july'}, {'feature': 'changes'}, {'feature': 'dialing'}, {'feature': 'gprs'}, {'feature': 'st'}, {'feature': 'quad'}, {'feature': 'sent'}, {'feature': 'fit'}, {'feature': 'wallpapers'}, {'feature': 'toy'}, {'feature': 'choices'}, {'feature': 'glitches'}, {'feature': 'bold'}, {'feature': 'integration'}, {'feature': 'birthday'}, {'feature': 'landscape'}, {'feature': 'rica'}, {'feature': 'eye'}, {'feature': 'conversations'}, {'feature': 'multi'}, {'feature': 'rings'}, {'feature': 'durability'}, {'feature': 'balance'}, {'feature': 'spent'}, {'feature': 'hotspot'}, {'feature': 'action'}, {'feature': 'figure'}, {'feature': 'par'}, {'feature': 'decent'}, {'feature': 'record'}, {'feature': 'impression'}, {'feature': 'keyboards'}, {'feature': 'test'}, {'feature': 'edit'}, {'feature': 'hrs'}, {'feature': 'movie'}, {'feature': 'airtime'}, {'feature': 'messenger'}, {'feature': 'do'}, {'feature': 'cellphones'}, {'feature': 'languages'}, {'feature': 'folder'}, {'feature': 'portrait'}, {'feature': 'solo'}, {'feature': 'rubber'}, {'feature': 'entries'}, {'feature': 'controls'}, {'feature': 'shots'}, {'feature': 'hello'}, {'feature': 'marketplace'}, {'feature': 'difficulty'}, {'feature': 'group'}, {'feature': 'corner'}, {'feature': 'june'}, {'feature': 'quot'}, {'feature': 'hell'}, {'feature': 'lights'}, {'feature': 'accident'}, {'feature': 'copy'}, {'feature': 'backlight'}, {'feature': 'load'}, {'feature': 'reboot'}, {'feature': 'post'}, {'feature': 'street'}, {'feature': 'pixels'}, {'feature': 'team'}, {'feature': 'killer'}, {'feature': 'yeah'}, {'feature': 'headsets'}, {'feature': 'scroll'}, {'feature': 'ball'}, {'feature': 'town'}, {'feature': 'march'}, {'feature': 'wise'}, {'feature': 'charm'}, {'feature': 'alarms'}, {'feature': 'frustration'}, {'feature': 'dust'}, {'feature': 'gt'}, {'feature': 'guide'}, {'feature': 'instance'}, {'feature': 'let'}, {'feature': 'tooth'}, {'feature': 'source'}, {'feature': 'pearl'}, {'feature': 'detail'}, {'feature': 'sensitivity'}, {'feature': 'buena'}, {'feature': 'shame'}, {'feature': 'manner'}, {'feature': 'downloads'}, {'feature': 'extras'}, {'feature': 'appearance'}, {'feature': 'shell'}]\n"
     ]
    }
   ],
   "source": [
    "features=  [ {\"feature\" : key} for key in frequent_words]\n",
    "print(features)"
   ]
  },
  {
   "cell_type": "markdown",
   "metadata": {
    "collapsed": true
   },
   "source": [
    "import pymongo\n",
    "client = pymongo.MongoClient()\n",
    "mydb = client['y2buy_1']\n",
    "my_collection = mydb['features']\n",
    "try:\n",
    "    mydb.features.drop()\n",
    "finally:\n",
    "    result = mydb.features.create_index([('feature', pymongo.ASCENDING)],unique=True)"
   ]
  },
  {
   "cell_type": "markdown",
   "metadata": {},
   "source": [
    "my_collection.insert_many(features)"
   ]
  },
  {
   "cell_type": "code",
   "execution_count": 14,
   "metadata": {},
   "outputs": [
    {
     "name": "stdout",
     "output_type": "stream",
     "text": [
      "[('downfall', 0.6178915500640869), ('drawback', 0.5932508707046509), ('downside', 0.5874196887016296), ('complaint', 0.5643346309661865), ('gripe', 0.553368091583252), ('quirk', 0.5493331551551819), ('disadvantage', 0.5491840839385986), ('downer', 0.5404207110404968), ('criticism', 0.529247522354126), ('shortcoming', 0.5244871973991394)]\n"
     ]
    }
   ],
   "source": [
    "print(model.wv.most_similar(\"thing\"))"
   ]
  },
  {
   "cell_type": "code",
   "execution_count": null,
   "metadata": {
    "collapsed": true
   },
   "outputs": [],
   "source": []
  }
 ],
 "metadata": {
  "kernelspec": {
   "display_name": "Python 3",
   "language": "python",
   "name": "python3"
  },
  "language_info": {
   "codemirror_mode": {
    "name": "ipython",
    "version": 3
   },
   "file_extension": ".py",
   "mimetype": "text/x-python",
   "name": "python",
   "nbconvert_exporter": "python",
   "pygments_lexer": "ipython3",
   "version": "3.6.1"
  }
 },
 "nbformat": 4,
 "nbformat_minor": 2
}
