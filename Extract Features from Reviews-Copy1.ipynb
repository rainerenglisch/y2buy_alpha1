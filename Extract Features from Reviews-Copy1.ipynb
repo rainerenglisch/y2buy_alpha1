{
 "cells": [
  {
   "cell_type": "code",
   "execution_count": 77,
   "metadata": {},
   "outputs": [],
   "source": [
    "import nltk\n",
    "from nltk.corpus import stopwords\n",
    "from nltk.stem.wordnet import WordNetLemmatizer\n",
    "from nltk import word_tokenize\n",
    "sent_detector = nltk.data.load('tokenizers/punkt/english.pickle')\n",
    "import string\n",
    "stop = set(stopwords.words('english'))\n",
    "exclude = set(string.punctuation)\n",
    "lemma = WordNetLemmatizer()\n",
    "\n",
    "def nextTokenizedSentence(cursor, textFieldName):\n",
    "    print(\"Calculating record count\")\n",
    "    results_count = cursor.count()\n",
    "    print(\"Count: \" + str(results_count))\n",
    "    i = 0\n",
    "    percent_old = None\n",
    "    for text_doc in cursor:\n",
    "        i=i+1\n",
    "        #print(str(i))\n",
    "        percent = '{:03.0f}'.format(i/results_count*100)\n",
    "        if percent != percent_old:\n",
    "            print(percent)\n",
    "        percent_old = percent\n",
    "        text = text_doc[textFieldName]\n",
    "        for sentence in sent_detector.tokenize(text):\n",
    "            tokens = word_tokenize(sentence.lower())\n",
    "            yield [token for token in tokens if token not in stop and token not in exclude]\n",
    "\n"
   ]
  },
  {
   "cell_type": "code",
   "execution_count": 78,
   "metadata": {
    "collapsed": true
   },
   "outputs": [],
   "source": [
    "def nextTaggedSentence(cursor, textFieldName):\n",
    "    for tokenizedSentence in nextTokenizedSentence(cursor, textFieldName):\n",
    "        #print(tokenizedSentence)\n",
    "        tagged = nltk.pos_tag(tokenizedSentence)\n",
    "        yield tagged"
   ]
  },
  {
   "cell_type": "code",
   "execution_count": 79,
   "metadata": {
    "collapsed": true
   },
   "outputs": [],
   "source": [
    "def traverse(t,noun_phrases):\n",
    "    try:\n",
    "        t.label()\n",
    "    except AttributeError:\n",
    "        n=0\n",
    "    else:\n",
    "        if t.label() == 'NOUN_PHRASE': \n",
    "            [noun_phrases.append(word) for (word,pos) in t.leaves() if pos.startswith(\"N\")]\n",
    "            #print(statement)\n",
    "            #noun_phrases = noun_phrases.append(noun_phrase)\n",
    "        # Now we know that t.node is defined\n",
    "        #print('(', t.label(), end=\" \")\n",
    "        for child in t:\n",
    "            traverse(child,noun_phrases)\n",
    "        #print(')', end=\" \")\n",
    "    return noun_phrases\n",
    "\n"
   ]
  },
  {
   "cell_type": "code",
   "execution_count": 80,
   "metadata": {
    "collapsed": true
   },
   "outputs": [],
   "source": [
    "def nextNounPhrase(cursor, textFieldName):\n",
    "    for taggedSentence in nextTaggedSentence(cursor, textFieldName):\n",
    "        grammar = r\"\"\"\n",
    "          NOUN_PHRASE:  {<CD|IN|DT|JJ|PP|RB|\\$>*<N.*>+<V.*>*<CD|IN|DT|JJ|PP|RB|\\$>*<N.*>*}  \n",
    "            \"\"\"\n",
    "        cp = nltk.RegexpParser(grammar)\n",
    "        if taggedSentence:\n",
    "            noun_phrase_tagged = cp.parse(taggedSentence)\n",
    "            noun_phrases=[]\n",
    "            nouns=traverse(noun_phrase_tagged,noun_phrases)\n",
    "            #print(nouns)\n",
    "            for noun in nouns:\n",
    "                yield noun\n",
    " "
   ]
  },
  {
   "cell_type": "markdown",
   "metadata": {
    "scrolled": false
   },
   "source": [
    "import pymongo\n",
    "client = pymongo.MongoClient()\n",
    "mydb = client['y2buy_1']\n",
    "review_source = \"amazon\" #aliexpress\n",
    "\n",
    "if review_source == \"aliexpress\":\n",
    "    my_collection = mydb['reviews']\n",
    "    doc_complete = [review_doc[\"buyerTranslationFeedback\"] \n",
    "                    for review_doc in my_collection.find() \n",
    "                    if \"buyerTranslationFeedback\" in review_doc.keys() ]\n",
    "else:\n",
    "    my_collection = mydb['amazon_product_reviews']\n",
    "    doc_complete = [review_doc[\"reviewText\"] \n",
    "                    for review_doc in my_collection.find({ \"categories\" : \"Cell Phones\" }) ]\n",
    "print(\"count of reviews: \"+ str(len(doc_complete)))\n",
    "\n"
   ]
  },
  {
   "cell_type": "code",
   "execution_count": 81,
   "metadata": {
    "collapsed": true
   },
   "outputs": [],
   "source": [
    "import pymongo\n",
    "client = pymongo.MongoClient()\n",
    "mydb = client['y2buy_1']\n",
    "review_source = \"amazon\" #aliexpress\n",
    "\n",
    "if review_source == \"aliexpress\":\n",
    "    my_collection = mydb['reviews']\n",
    "    cursor = my_collection.find() \n",
    "    textFieldName = \"buyerTranslationFeedback\"\n",
    "else:\n",
    "    my_collection = mydb['amazon_product_reviews']\n",
    "    cursor = my_collection.find({ \"categories\" : \"Cell Phones\" })\n",
    "    textFieldName = \"reviewText\"\n"
   ]
  },
  {
   "cell_type": "code",
   "execution_count": 82,
   "metadata": {},
   "outputs": [
    {
     "name": "stdout",
     "output_type": "stream",
     "text": [
      "Calculating record count\n",
      "Count: 159702\n",
      "000\n",
      "001\n",
      "002\n",
      "003\n",
      "004\n",
      "005\n",
      "006\n",
      "007\n",
      "008\n",
      "009\n",
      "010\n",
      "011\n",
      "012\n",
      "013\n",
      "014\n",
      "015\n",
      "016\n",
      "017\n",
      "018\n",
      "019\n",
      "020\n",
      "021\n",
      "022\n",
      "023\n",
      "024\n",
      "025\n",
      "026\n",
      "027\n",
      "028\n",
      "029\n",
      "030\n",
      "031\n",
      "032\n",
      "033\n",
      "034\n",
      "035\n",
      "036\n",
      "037\n",
      "038\n",
      "039\n",
      "040\n",
      "041\n",
      "042\n",
      "043\n",
      "044\n",
      "045\n",
      "046\n",
      "047\n",
      "048\n",
      "049\n",
      "050\n",
      "051\n",
      "052\n",
      "053\n",
      "054\n",
      "055\n",
      "056\n",
      "057\n",
      "058\n",
      "059\n",
      "060\n",
      "061\n",
      "062\n",
      "063\n",
      "064\n",
      "065\n",
      "066\n",
      "067\n",
      "068\n",
      "069\n",
      "070\n",
      "071\n",
      "072\n",
      "073\n",
      "074\n",
      "075\n",
      "076\n",
      "077\n",
      "078\n",
      "079\n",
      "080\n",
      "081\n",
      "082\n",
      "083\n",
      "084\n",
      "085\n",
      "086\n",
      "087\n",
      "088\n",
      "089\n",
      "090\n",
      "091\n",
      "092\n",
      "093\n",
      "094\n",
      "095\n",
      "096\n",
      "097\n",
      "098\n",
      "099\n",
      "100\n",
      "[('phone', 380958), ('battery', 40112), ('use', 39962), ('time', 33567), ('screen', 32044), ('phones', 31332), ('camera', 28181), ('card', 21266), ('service', 20690), ('price', 20230), ('work', 19194), ('quality', 18522), ('problem', 18242), ('life', 17437), ('iphone', 16087), ('product', 15630), ('day', 15213), ('thing', 14719), ('features', 14691), ('cell', 14281), ('way', 13705), ('minutes', 13698), ('everything', 13686), ('days', 13654), ('samsung', 13280), ('works', 12870), ('call', 12769), ('problems', 12733), ('apps', 12585), ('data', 12463), ('device', 12190), ('people', 11936), ('lot', 11792), ('get', 11583), ('months', 11338), ('money', 11301), ('calls', 10674), ('memory', 10628), ('keyboard', 10206), ('music', 9915), ('plan', 9894), ('times', 9708), ('seller', 9550), ('charge', 9460), ('month', 9301), ('year', 9271), ('amazon', 9267), ('size', 9229), ('case', 9167), ('purchase', 9130), ('something', 8938), ('things', 8902), ('years', 8888), ('internet', 8851), ('software', 8812), ('number', 8570), ('button', 8478), ('love', 8329), ('sim', 8228), ('pictures', 7981), ('version', 7844), ('charger', 7828), ('android', 7819), ('text', 7772), ('smartphone', 7690), ('network', 7558), ('customer', 7523), ('verizon', 7384), ('anything', 7361), ('feature', 7337), ('hours', 7271), ('issues', 7036), ('store', 7020), ('galaxy', 6969), ('nothing', 6937), ('need', 6844), ('issue', 6737), ('buy', 6543), ('voice', 6491), ('box', 6480), ('blackberry', 6341), ('home', 6237), ('anyone', 6181), ('reception', 6161), ('video', 6149), ('app', 6074), ('order', 6000), ('buttons', 5972), ('talk', 5899), ('google', 5880), ('wifi', 5822), ('weeks', 5800), ('week', 5798), ('company', 5722), ('tracfone', 5690), ('system', 5686), ('bit', 5659), ('support', 5638), ('contract', 5626), ('model', 5566)]\n"
     ]
    }
   ],
   "source": [
    "from nltk import FreqDist\n",
    "\n",
    "\n",
    "fdist = FreqDist(nextNounPhrase(cursor, textFieldName)) \n",
    "frequent_words_freq = fdist.most_common(100)\n",
    "print(frequent_words_freq )\n",
    "#fdist.plot()\n",
    "frequent_words= [w for (w,c) in frequent_words_freq]\n",
    "#print(frequent_words)"
   ]
  },
  {
   "cell_type": "code",
   "execution_count": 85,
   "metadata": {},
   "outputs": [
    {
     "name": "stdout",
     "output_type": "stream",
     "text": [
      "[{'feature': 'phone'}, {'feature': 'battery'}, {'feature': 'use'}, {'feature': 'time'}, {'feature': 'screen'}, {'feature': 'phones'}, {'feature': 'camera'}, {'feature': 'card'}, {'feature': 'service'}, {'feature': 'price'}, {'feature': 'work'}, {'feature': 'quality'}, {'feature': 'problem'}, {'feature': 'life'}, {'feature': 'iphone'}, {'feature': 'product'}, {'feature': 'day'}, {'feature': 'thing'}, {'feature': 'features'}, {'feature': 'cell'}, {'feature': 'way'}, {'feature': 'minutes'}, {'feature': 'everything'}, {'feature': 'days'}, {'feature': 'samsung'}, {'feature': 'works'}, {'feature': 'call'}, {'feature': 'problems'}, {'feature': 'apps'}, {'feature': 'data'}, {'feature': 'device'}, {'feature': 'people'}, {'feature': 'lot'}, {'feature': 'get'}, {'feature': 'months'}, {'feature': 'money'}, {'feature': 'calls'}, {'feature': 'memory'}, {'feature': 'keyboard'}, {'feature': 'music'}, {'feature': 'plan'}, {'feature': 'times'}, {'feature': 'seller'}, {'feature': 'charge'}, {'feature': 'month'}, {'feature': 'year'}, {'feature': 'amazon'}, {'feature': 'size'}, {'feature': 'case'}, {'feature': 'purchase'}, {'feature': 'something'}, {'feature': 'things'}, {'feature': 'years'}, {'feature': 'internet'}, {'feature': 'software'}, {'feature': 'number'}, {'feature': 'button'}, {'feature': 'love'}, {'feature': 'sim'}, {'feature': 'pictures'}, {'feature': 'version'}, {'feature': 'charger'}, {'feature': 'android'}, {'feature': 'text'}, {'feature': 'smartphone'}, {'feature': 'network'}, {'feature': 'customer'}, {'feature': 'verizon'}, {'feature': 'anything'}, {'feature': 'feature'}, {'feature': 'hours'}, {'feature': 'issues'}, {'feature': 'store'}, {'feature': 'galaxy'}, {'feature': 'nothing'}, {'feature': 'need'}, {'feature': 'issue'}, {'feature': 'buy'}, {'feature': 'voice'}, {'feature': 'box'}, {'feature': 'blackberry'}, {'feature': 'home'}, {'feature': 'anyone'}, {'feature': 'reception'}, {'feature': 'video'}, {'feature': 'app'}, {'feature': 'order'}, {'feature': 'buttons'}, {'feature': 'talk'}, {'feature': 'google'}, {'feature': 'wifi'}, {'feature': 'weeks'}, {'feature': 'week'}, {'feature': 'company'}, {'feature': 'tracfone'}, {'feature': 'system'}, {'feature': 'bit'}, {'feature': 'support'}, {'feature': 'contract'}, {'feature': 'model'}]\n"
     ]
    }
   ],
   "source": [
    "features=  [ {\"feature\" : key} for key in frequent_words]\n",
    "print(features)"
   ]
  },
  {
   "cell_type": "code",
   "execution_count": 87,
   "metadata": {
    "collapsed": true
   },
   "outputs": [],
   "source": [
    "import pymongo\n",
    "client = pymongo.MongoClient()\n",
    "mydb = client['y2buy_1']\n",
    "my_collection = mydb['features']\n",
    "try:\n",
    "    mydb.features.drop()\n",
    "finally:\n",
    "    result = mydb.features.create_index([('feature', pymongo.ASCENDING)],unique=True)"
   ]
  },
  {
   "cell_type": "code",
   "execution_count": 88,
   "metadata": {},
   "outputs": [
    {
     "data": {
      "text/plain": [
       "<pymongo.results.InsertManyResult at 0x7fa816f90ec8>"
      ]
     },
     "execution_count": 88,
     "metadata": {},
     "output_type": "execute_result"
    }
   ],
   "source": [
    "my_collection.insert_many(features)"
   ]
  },
  {
   "cell_type": "code",
   "execution_count": null,
   "metadata": {
    "collapsed": true
   },
   "outputs": [],
   "source": []
  }
 ],
 "metadata": {
  "kernelspec": {
   "display_name": "Python 3",
   "language": "python",
   "name": "python3"
  },
  "language_info": {
   "codemirror_mode": {
    "name": "ipython",
    "version": 3
   },
   "file_extension": ".py",
   "mimetype": "text/x-python",
   "name": "python",
   "nbconvert_exporter": "python",
   "pygments_lexer": "ipython3",
   "version": "3.6.1"
  }
 },
 "nbformat": 4,
 "nbformat_minor": 2
}
