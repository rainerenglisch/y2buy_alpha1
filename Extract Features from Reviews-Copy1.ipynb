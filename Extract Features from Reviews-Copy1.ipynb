{
 "cells": [
  {
   "cell_type": "code",
   "execution_count": 38,
   "metadata": {
    "collapsed": true
   },
   "outputs": [],
   "source": [
    "import json \n",
    "import gzip \n",
    "def parse(path): \n",
    "    g = gzip.open(path, 'r') \n",
    "    for l in g: \n",
    "        yield eval(l)"
   ]
  },
  {
   "cell_type": "code",
   "execution_count": 39,
   "metadata": {
    "collapsed": true
   },
   "outputs": [],
   "source": [
    "\n",
    "import nltk\n",
    "import gensim\n",
    "        \n",
    "sent_detector = nltk.data.load('tokenizers/punkt/english.pickle')\n",
    "\n",
    "def reviews():            \n",
    "    r_i = 0\n",
    "    review_item_iterator = iter(parse(\"../download/word2vec/reviews_Cell_Phones_and_Accessories_w_Cat.json.gz\"))\n",
    "    for it in range(1000000): #range(1000000):\n",
    "        if it%10000==0:\n",
    "            print(\"it=\"+str(it))\n",
    "        review_item = next(review_item_iterator)\n",
    "        r_i = r_i + 1\n",
    "        if r_i%10000==0:\n",
    "            print(str(r_i))\n",
    "            print(preprocess_sentence)\n",
    "        if \"Cell Phones\" in review_item[\"categories\"]:\n",
    "            reviewText = review_item[\"reviewText\"]\n",
    "            s_i = 0  \n",
    "            for sentence in sent_detector.tokenize(reviewText):\n",
    "                s_i = s_i + 1\n",
    "\n",
    "                #label = review_item[\"asin\"] + \"_\" + review_item[\"reviewerID\"] + \"_\" + str(s_i)\n",
    "                preprocess_sentence = gensim.utils.simple_preprocess(sentence)\n",
    "\n",
    "                yield preprocess_sentence\n",
    "                "
   ]
  },
  {
   "cell_type": "markdown",
   "metadata": {},
   "source": [
    "import nltk\n",
    "from nltk.corpus import stopwords\n",
    "from nltk.stem.wordnet import WordNetLemmatizer\n",
    "from nltk import word_tokenize\n",
    "sent_detector = nltk.data.load('tokenizers/punkt/english.pickle')\n",
    "import string\n",
    "stop = set(stopwords.words('english'))\n",
    "exclude = set(string.punctuation)\n",
    "lemma = WordNetLemmatizer()\n",
    "\n",
    "def nextTokenizedSentence():\n",
    "    yield [token for token in tokens if token not in stop and token not in exclude]\n",
    "\n"
   ]
  },
  {
   "cell_type": "code",
   "execution_count": 40,
   "metadata": {
    "collapsed": true
   },
   "outputs": [],
   "source": [
    "def nextTaggedSentence():\n",
    "    for tokenizedSentence in reviews():\n",
    "        #print(tokenizedSentence)\n",
    "        tagged = nltk.pos_tag(tokenizedSentence)\n",
    "        yield tagged"
   ]
  },
  {
   "cell_type": "code",
   "execution_count": 41,
   "metadata": {
    "collapsed": true
   },
   "outputs": [],
   "source": [
    "def traverse(t,noun_phrases):\n",
    "    try:\n",
    "        t.label()\n",
    "    except AttributeError:\n",
    "        n=0\n",
    "    else:\n",
    "        if t.label() == 'NOUN_PHRASE': \n",
    "            [noun_phrases.append(word) for (word,pos) in t.leaves() if pos.startswith(\"N\")]\n",
    "            #print(statement)\n",
    "            #noun_phrases = noun_phrases.append(noun_phrase)\n",
    "        # Now we know that t.node is defined\n",
    "        #print('(', t.label(), end=\" \")\n",
    "        for child in t:\n",
    "            traverse(child,noun_phrases)\n",
    "        #print(')', end=\" \")\n",
    "    return noun_phrases\n",
    "\n"
   ]
  },
  {
   "cell_type": "code",
   "execution_count": 42,
   "metadata": {
    "collapsed": true
   },
   "outputs": [],
   "source": [
    "def nextNounPhrase( ):\n",
    "    for taggedSentence in nextTaggedSentence():\n",
    "        grammar = r\"\"\"\n",
    "          NOUN_PHRASE:  {<CD|IN|DT|JJ|PP|RB|\\$>*<N.*>+<V.*>*<CD|IN|DT|JJ|PP|RB|\\$>*<N.*>*}  \n",
    "            \"\"\"\n",
    "        cp = nltk.RegexpParser(grammar)\n",
    "        if taggedSentence:\n",
    "            noun_phrase_tagged = cp.parse(taggedSentence)\n",
    "            noun_phrases=[]\n",
    "            nouns=traverse(noun_phrase_tagged,noun_phrases)\n",
    "            #print(nouns)\n",
    "            for noun in nouns:\n",
    "                yield noun\n",
    " "
   ]
  },
  {
   "cell_type": "markdown",
   "metadata": {
    "scrolled": false
   },
   "source": [
    "import pymongo\n",
    "client = pymongo.MongoClient()\n",
    "mydb = client['y2buy_1']\n",
    "review_source = \"amazon\" #aliexpress\n",
    "\n",
    "if review_source == \"aliexpress\":\n",
    "    my_collection = mydb['reviews']\n",
    "    doc_complete = [review_doc[\"buyerTranslationFeedback\"] \n",
    "                    for review_doc in my_collection.find() \n",
    "                    if \"buyerTranslationFeedback\" in review_doc.keys() ]\n",
    "else:\n",
    "    my_collection = mydb['amazon_product_reviews']\n",
    "    doc_complete = [review_doc[\"reviewText\"] \n",
    "                    for review_doc in my_collection.find({ \"categories\" : \"Cell Phones\" }) ]\n",
    "print(\"count of reviews: \"+ str(len(doc_complete)))\n",
    "\n"
   ]
  },
  {
   "cell_type": "markdown",
   "metadata": {
    "collapsed": true
   },
   "source": [
    "import pymongo\n",
    "client = pymongo.MongoClient()\n",
    "mydb = client['y2buy_1']\n",
    "review_source = \"amazon\" #aliexpress\n",
    "\n",
    "if review_source == \"aliexpress\":\n",
    "    my_collection = mydb['reviews']\n",
    "    cursor = my_collection.find() \n",
    "    textFieldName = \"buyerTranslationFeedback\"\n",
    "else:\n",
    "    my_collection = mydb['amazon_product_reviews']\n",
    "    cursor = my_collection.find({ \"categories\" : \"Cell Phones\" })\n",
    "    textFieldName = \"reviewText\"\n"
   ]
  },
  {
   "cell_type": "code",
   "execution_count": 45,
   "metadata": {},
   "outputs": [
    {
     "name": "stdout",
     "output_type": "stream",
     "text": [
      "it=0\n",
      "10000\n",
      "['bye', 'bye', 'tracfone', 'it', 'hasn', 'been', 'fun']\n",
      "it=10000\n",
      "20000\n",
      "['you', 'will', 'also', 'need', 'to', 'provide', 'them', 'part', 'sn', 'emei', 'your', 'mobile', 'acct', 'and', 'last', 'of', 'your', 'ssn', 'it', 'is', 'thus', 'recommended', 'to', 'steer', 'clear', 'of', 'this', 'device', 'because', 'its', 'resale', 'value', 'is', 'nill']\n",
      "it=20000\n",
      "30000\n",
      "[]\n",
      "it=30000\n",
      "40000\n",
      "['until', 'then', 'this', 'is', 'perfect', 'for', 'what', 'want']\n",
      "it=40000\n",
      "50000\n",
      "['knowing', 'what', 'know', 'now', 'would', 'still', 'buy', 'this', 'exact', 'phone', 'again', 'if', 'anything', 'happened', 'to', 'the', 'one', 'own', 'now', 'can', 'resist', 'shiny', 'pink', 'things']\n",
      "it=50000\n",
      "60000\n",
      "['amazon', 'was', 'kind', 'enough', 'deduct', 'the', 'cost', 'of', 'that', 'free', 'super', 'saver', 'shipping', 'from', 'my', 'refund', 'as', 'well', 'as', 'making', 'me', 'pay', 'the', 'cost', 'of', 'shipping', 'this', 'worthless', 'phone', 'shaped', 'piece', 'of', 'plastic', 'back', 'to', 'them']\n",
      "it=60000\n",
      "70000\n",
      "['good', 'good', 'good', 'best', 'best', 'best', 'with', 'this', 'price', 'you', 'can', 'use', 'any', 'where', 'you', 'going', 'travel', 'with', 'other', 'provider']\n",
      "it=70000\n",
      "80000\n",
      "['great', 'cel', 'phone', 'for', 'its', 'price', 'do', 'all', 'common', 'commands', 'and', 'it', 'rugged', 'design', 'make', 'it', 'safe', 'when', 'it', 'felt', 'down']\n",
      "it=80000\n",
      "90000\n",
      "[]\n",
      "it=90000\n",
      "100000\n",
      "['just', 'be', 'sure', 'to', 'actually', 'use', 'it', 'for', 'an', 'emergency', 'in', 'that', 'case']\n",
      "[('phone', 40182), ('camera', 4379), ('phones', 4175), ('battery', 4092), ('time', 3698), ('screen', 3380), ('service', 2805), ('quality', 2751), ('features', 2674), ('ve', 2379), ('reception', 2262), ('problem', 2205), ('cell', 2179), ('calls', 2062), ('life', 1953), ('call', 1884), ('motorola', 1879), ('people', 1764), ('thing', 1751), ('card', 1744), ('problems', 1740), ('way', 1696), ('software', 1622), ('use', 1572), ('mp', 1559), ('day', 1490), ('voice', 1486), ('months', 1482), ('days', 1416), ('don', 1379), ('feature', 1379), ('pictures', 1375), ('button', 1368), ('year', 1331), ('memory', 1269), ('number', 1231), ('lot', 1216), ('volume', 1190), ('nokia', 1174), ('times', 1158), ('years', 1138), ('work', 1127), ('ringtones', 1122), ('buttons', 1120), ('verizon', 1094), ('music', 1078), ('speaker', 1051), ('device', 1048), ('samsung', 1041), ('things', 1039), ('sound', 1031), ('player', 1026), ('price', 985), ('everything', 978), ('treo', 973), ('pocket', 970), ('minutes', 968), ('something', 955), ('internet', 933), ('bluetooth', 933), ('customer', 922), ('display', 911), ('size', 897), ('mobile', 892), ('video', 887), ('razr', 866), ('menu', 859), ('picture', 853), ('amazon', 851), ('month', 845), ('games', 826), ('headset', 802), ('charger', 794), ('speakerphone', 784), ('cingular', 776), ('money', 775), ('plan', 771), ('hours', 770), ('reviews', 768), ('product', 766), ('one', 766), ('anything', 764), ('text', 759), ('color', 753), ('data', 752), ('person', 747), ('palm', 736), ('numbers', 735), ('keys', 730), ('design', 729), ('email', 723), ('computer', 722), ('nothing', 719), ('pda', 718), ('case', 717), ('keyboard', 710), ('sony', 704), ('contacts', 699), ('sprint', 693), ('charge', 689), ('side', 682), ('messages', 675), ('access', 668), ('week', 668), ('web', 660), ('message', 648), ('pc', 644), ('reason', 631), ('book', 629), ('network', 617), ('weeks', 614), ('someone', 613), ('doesn', 608), ('anyone', 599), ('home', 586), ('etc', 584), ('area', 582), ('fact', 580), ('flip', 579), ('replacement', 564), ('model', 557), ('interface', 553), ('signal', 552), ('store', 550), ('keypad', 543), ('support', 541), ('user', 536), ('cons', 535), ('issue', 534), ('review', 533), ('mail', 531), ('contract', 529), ('line', 520), ('issues', 519), ('tones', 517), ('car', 513), ('power', 512), ('pros', 506), ('didn', 504), ('windows', 504), ('cable', 503), ('radio', 502), ('menus', 502), ('version', 501), ('mode', 500), ('end', 499), ('option', 495), ('function', 490), ('blackberry', 489), ('ring', 485), ('functions', 484), ('part', 483), ('company', 470), ('nextel', 468), ('hand', 468), ('name', 467), ('system', 461), ('lg', 459), ('couple', 458), ('wireless', 456), ('ericsson', 453), ('options', 445), ('deal', 443), ('order', 442), ('photos', 442), ('others', 441), ('files', 440), ('friends', 439), ('mine', 436), ('hands', 433), ('look', 428), ('business', 425), ('calendar', 423), ('piece', 421), ('bit', 413), ('functionality', 412), ('connection', 411), ('wife', 407), ('light', 406), ('outlook', 404), ('warranty', 396), ('cover', 391), ('bars', 389), ('sim', 385), ('coverage', 378), ('night', 378), ('flash', 378), ('resolution', 374), ('course', 373), ('need', 372), ('list', 371), ('experience', 364), ('settings', 363), ('market', 362), ('contact', 362), ('point', 361), ('seconds', 356), ('purchase', 356), ('everyone', 355), ('key', 352), ('box', 348), ('kind', 344), ('address', 341), ('lots', 340), ('provider', 338), ('alarm', 336), ('program', 333), ('applications', 332), ('stuff', 332), ('works', 331), ('unit', 330), ('ringtone', 330), ('talk', 328), ('pics', 326), ('songs', 325), ('stars', 322), ('ability', 320), ('bar', 315), ('messaging', 314), ('browser', 314), ('antenna', 310), ('complaints', 306), ('isn', 304), ('gsm', 303), ('place', 303), ('caller', 301), ('feel', 301), ('world', 300), ('carrier', 298), ('os', 294), ('style', 294), ('ringer', 293), ('guess', 292), ('users', 289), ('smartphone', 288), ('com', 287), ('ones', 286), ('headphones', 286), ('media', 283), ('office', 278), ('technology', 277), ('band', 276), ('information', 275), ('speed', 274), ('file', 271), ('trouble', 271), ('type', 268), ('word', 266), ('ear', 264), ('cannot', 263), ('today', 261), ('gps', 261), ('front', 259), ('choice', 257), ('mb', 257), ('lack', 256), ('example', 256), ('devices', 256), ('wifi', 254), ('clock', 253), ('models', 252), ('photo', 251), ('item', 249), ('site', 246), ('date', 246), ('id', 246), ('family', 246), ('get', 241), ('party', 241), ('brand', 240), ('capabilities', 240), ('cost', 239), ('earpiece', 238), ('package', 237), ('lcd', 236), ('complaint', 236), ('capability', 236), ('cellphone', 235), ('minute', 235), ('quot', 235), ('areas', 235), ('job', 235), ('adapter', 235), ('couldn', 234), ('hour', 233), ('sync', 233), ('programs', 231), ('upgrade', 231), ('care', 229), ('account', 229), ('videos', 229), ('matter', 228), ('slot', 224), ('website', 223), ('friend', 223), ('phonebook', 223), ('strength', 221), ('think', 220), ('navigation', 220), ('plastic', 218), ('vx', 218), ('love', 216), ('fun', 215), ('firmware', 215), ('ll', 214), ('buy', 212), ('half', 212), ('star', 211), ('noise', 211), ('none', 210), ('vibrate', 210), ('looks', 210), ('tone', 209), ('idea', 209), ('places', 207), ('dont', 206), ('mind', 202), ('sd', 202), ('iphone', 202), ('right', 201), ('top', 201), ('ipod', 201), ('moto', 200), ('edge', 200), ('performance', 199), ('house', 198), ('application', 197), ('amount', 196), ('note', 196), ('room', 195), ('jack', 195), ('drop', 195), ('port', 194), ('virgin', 194), ('season', 194), ('cards', 193), ('colors', 193), ('space', 193), ('online', 192), ('thanks', 189), ('seller', 188), ('level', 187), ('conversation', 187), ('accessories', 186), ('hope', 186), ('opinion', 186), ('show', 186), ('thought', 186), ('entry', 185), ('help', 183), ('clarity', 182), ('yes', 181), ('usage', 180), ('itunes', 180), ('mini', 180), ('middle', 179), ('zoom', 179), ('pad', 178), ('addition', 178), ('plug', 177), ('tmobile', 176), ('bill', 176), ('screens', 176), ('back', 176), ('charges', 174), ('form', 173), ('control', 173), ('junk', 172), ('fingers', 172), ('notes', 172), ('services', 172), ('luck', 172), ('press', 172), ('dial', 171), ('customers', 171), ('mac', 171), ('rate', 170), ('weight', 169), ('husband', 168), ('needs', 167), ('factor', 167), ('razor', 167), ('speakers', 166), ('feels', 165), ('batteries', 165), ('game', 165), ('cool', 164), ('wouldn', 163), ('face', 163), ('sucks', 163), ('stereo', 163), ('im', 162), ('difference', 161), ('mda', 160), ('apps', 159), ('laptop', 159), ('connectivity', 159), ('products', 157), ('center', 157), ('research', 156), ('background', 155), ('bells', 153), ('wallpaper', 153), ('audio', 153), ('process', 152), ('song', 152), ('rebate', 151), ('storage', 151), ('touch', 150), ('info', 150), ('reasons', 150), ('java', 149), ('plans', 149), ('gb', 149), ('period', 148), ('transfer', 146), ('whistles', 145), ('purse', 145), ('entries', 144), ('thats', 144), ('try', 144), ('reviewers', 144), ('ebay', 142), ('dollars', 142), ('tracfone', 141), ('emails', 141), ('bottom', 141), ('download', 141), ('alot', 140), ('bucks', 140), ('recorder', 140), ('sms', 139), ('hp', 139), ('travel', 138), ('default', 137), ('rating', 137), ('update', 137), ('sanyo', 137), ('themes', 137), ('ringers', 137), ('items', 137), ('se', 136), ('crap', 135), ('condition', 135), ('change', 135), ('page', 134), ('response', 134), ('credit', 134), ('set', 133), ('mistake', 133), ('tech', 133), ('images', 133), ('recognition', 132), ('gprs', 132), ('return', 131), ('voicemail', 131), ('stick', 131), ('fan', 131), ('words', 131), ('ipaq', 131), ('rings', 130), ('scratches', 130), ('names', 129), ('dialing', 129), ('wait', 128), ('code', 128), ('carriers', 128), ('value', 127), ('command', 127), ('headsets', 127), ('pink', 127), ('reviewer', 126), ('exchange', 126), ('series', 126), ('please', 125), ('plenty', 125), ('tools', 125), ('ease', 125), ('wish', 124), ('waste', 124), ('graphics', 122), ('rd', 122), ('guy', 122), ('tons', 122), ('slider', 122), ('movies', 121), ('lights', 121), ('google', 120), ('lock', 120), ('headphone', 119), ('wallpapers', 119), ('range', 119), ('handset', 119), ('slvr', 119), ('th', 118), ('manual', 118), ('error', 117), ('cameras', 117), ('sunlight', 117), ('stylus', 117), ('format', 117), ('fm', 117), ('reader', 117), ('image', 116), ('pay', 116), ('sounds', 116), ('terms', 116), ('zones', 115), ('hardware', 115), ('outside', 115), ('europe', 114), ('search', 114), ('wasn', 114), ('fi', 114), ('clip', 113), ('comments', 113), ('setting', 113), ('auto', 113), ('fault', 112), ('joystick', 112), ('play', 112), ('documents', 112), ('browsing', 111), ('push', 111), ('backlight', 111), ('networks', 111), ('inside', 111), ('letters', 110), ('shipping', 110), ('road', 110), ('calculator', 109), ('selection', 109), ('water', 109), ('walkman', 109), ('country', 108), ('belt', 108), ('stores', 108), ('rest', 108), ('fee', 108), ('usb', 108), ('daughter', 107), ('solution', 107), ('tv', 107), ('desktop', 106), ('connector', 106), ('manager', 105), ('blue', 105), ('standard', 105), ('click', 105), ('con', 104), ('improvement', 104), ('expectations', 104), ('sites', 102), ('cord', 102), ('megapixel', 102), ('head', 101), ('gift', 101), ('refund', 101), ('thank', 101), ('damage', 101), ('gadget', 101), ('hate', 101), ('morning', 101), ('instructions', 100), ('purpose', 100), ('downside', 100), ('ok', 100), ('hold', 100), ('micro', 100), ('qwerty', 99), ('telephone', 99), ('modem', 99), ('companies', 99), ('pain', 99), ('mom', 99), ('operating', 98), ('moment', 98), ('ways', 98), ('connect', 98), ('view', 98), ('bugs', 98), ('kids', 97), ('flaws', 97), ('chance', 97), ('bt', 97), ('silver', 97), ('bunch', 97), ('capacity', 96), ('location', 96), ('characters', 96), ('slide', 96), ('news', 95), ('cents', 95), ('share', 94), ('repair', 94), ('letter', 94), ('body', 93), ('sort', 93), ('clips', 93), ('drops', 92), ('story', 92), ('rep', 92), ('beware', 92), ('city', 91), ('lines', 91), ('haven', 91), ('organizer', 91), ('state', 91), ('layout', 91), ('maps', 91), ('parts', 91), ('server', 91), ('step', 91), ('icons', 91), ('setup', 91), ('wi', 91), ('window', 90), ('points', 90), ('start', 90), ('microphone', 90), ('clamshell', 89), ('shortcuts', 89), ('apple', 89), ('processor', 89), ('cd', 89), ('brightness', 89), ('oh', 89), ('holster', 88), ('construction', 88), ('son', 88), ('paper', 88), ('shots', 88), ('scrubs', 88), ('prepaid', 87), ('buying', 87), ('providers', 87), ('aim', 87), ('sidekick', 87), ('client', 87), ('operation', 87), ('mhz', 87), ('multimedia', 87), ('language', 87), ('messenger', 86), ('metal', 86), ('sure', 86), ('net', 85), ('pcs', 85), ('advantage', 85), ('hassle', 85), ('details', 85), ('go', 85), ('playback', 85), ('description', 84), ('insurance', 84), ('man', 84), ('reset', 84), ('decision', 84), ('smartphones', 84), ('easy', 84), ('group', 84), ('tasks', 83), ('mms', 83), ('activation', 83), ('hinge', 83), ('yesterday', 83), ('drive', 83), ('pages', 83), ('position', 83), ('quad', 83), ('krzr', 83), ('cause', 82), ('want', 82), ('indicator', 82), ('pop', 82), ('machine', 82), ('simple', 82), ('standby', 82), ('tool', 81), ('emergency', 81), ('rebates', 81), ('answer', 81), ('callers', 81), ('conversations', 81), ('attention', 81), ('addresses', 81), ('htc', 81), ('delivery', 80), ('sense', 80), ('equipment', 80), ('advice', 80), ('att', 79), ('class', 79), ('extras', 79), ('toy', 79), ('check', 79), ('flaw', 79), ('pic', 79), ('bulky', 78), ('yahoo', 78), ('mpx', 78), ('rubber', 78), ('vga', 78), ('dark', 77), ('tooth', 77), ('average', 77), ('switch', 77), ('task', 76), ('profile', 76), ('comparison', 76), ('wap', 76), ('heard', 76), ('shape', 75), ('link', 75), ('watch', 75), ('commands', 75), ('steps', 75), ('app', 74), ('while', 74), ('crashes', 74), ('versions', 74), ('outer', 74), ('doubt', 74), ('sales', 74), ('turn', 74), ('backup', 73), ('folks', 73), ('pre', 73), ('shows', 73), ('future', 73), ('school', 73), ('offers', 72), ('yeah', 72), ('eye', 72), ('live', 72), ('ir', 72), ('appointments', 72), ('manufacturer', 72), ('gadgets', 72), ('icon', 71), ('chip', 71), ('websites', 71), ('orange', 71), ('spot', 71), ('pockets', 71), ('texting', 71), ('christmas', 70), ('mins', 70), ('conditions', 70), ('left', 70), ('fine', 70), ('expansion', 70), ('send', 70), ('question', 69), ('comment', 69), ('contrast', 69), ('delay', 69), ('desk', 69), ('record', 69), ('lens', 69), ('pebl', 69), ('fits', 68), ('action', 68), ('profiles', 68), ('okay', 67), ('recommend', 67), ('thumb', 67), ('ms', 67), ('non', 67), ('stock', 67), ('consumer', 66), ('displays', 66), ('beep', 66), ('stand', 66), ('loud', 66), ('department', 66), ('directions', 66), ('kyocera', 66), ('history', 66), ('input', 66), ('result', 66), ('feet', 66), ('cases', 66), ('gmail', 66), ('balance', 65), ('nokias', 65), ('movie', 65), ('conclusion', 65), ('doesnt', 65), ('death', 65), ('jabra', 65), ('perfect', 65), ('reliability', 65), ('accounts', 65), ('min', 64), ('drawback', 64), ('choices', 64), ('wall', 64), ('scratch', 64), ('states', 64), ('floor', 63), ('durability', 63), ('kit', 63), ('past', 63), ('gripe', 63), ('age', 63), ('excel', 63), ('fees', 63), ('surprise', 63), ('means', 62), ('mention', 62), ('chargers', 62), ('garbage', 62), ('outdoors', 62), ('instruction', 62), ('accident', 62), ('mm', 62), ('usability', 61), ('policy', 61), ('scroll', 61), ('camcorder', 61), ('logo', 60), ('guys', 60), ('changes', 60), ('incoming', 60), ('street', 60), ('pants', 60), ('communication', 60), ('shot', 60), ('shell', 60), ('dad', 60), ('results', 60), ('disappointment', 60), ('downloads', 60), ('re', 60), ('suite', 60), ('signals', 59), ('connections', 59), ('hell', 59), ('nobody', 59), ('isync', 59), ('electronics', 59), ('alarms', 59), ('town', 58), ('mails', 58), ('costs', 58), ('flashlight', 58), ('glass', 58), ('environment', 58), ('mean', 58), ('crisp', 58), ('candy', 58), ('cam', 58), ('status', 58), ('feedback', 58), ('opera', 58), ('security', 57), ('variety', 57), ('finger', 57), ('cute', 57), ('controls', 57), ('negatives', 57), ('custom', 57), ('wow', 57), ('add', 57), ('shutter', 57), ('questions', 56), ('decent', 56), ('hrs', 56), ('resets', 56), ('leather', 56), ('combination', 56), ('building', 56), ('bag', 56), ('concern', 56), ('do', 56), ('prices', 56), ('synchronization', 56), ('uses', 56), ('eyes', 56), ('pm', 56), ('microsd', 56), ('que', 55), ('finish', 55), ('land', 55), ('hasn', 55), ('surface', 55), ('jeans', 55), ('door', 55), ('folder', 55), ('parents', 54), ('brands', 54), ('trip', 54), ('siemens', 54), ('pieces', 54), ('god', 54), ('vibration', 54), ('tip', 54), ('brother', 54), ('sale', 53), ('air', 53), ('worth', 53), ('owner', 53), ('generation', 53), ('sun', 53), ('computers', 53), ('basics', 53), ('forget', 53), ('lets', 53), ('trial', 53), ('kid', 53), ('vendor', 53), ('es', 53), ('dvd', 52), ('notice', 52), ('baby', 52), ('effects', 52), ('anybody', 52), ('basis', 52), ('focus', 52), ('earphones', 52), ('la', 51), ('instance', 51), ('distance', 51), ('exception', 51), ('ie', 51), ('pixel', 51), ('track', 51), ('analog', 51), ('buyer', 51), ('hang', 51), ('swivel', 51), ('forums', 50), ('beginning', 50), ('glad', 50), ('bug', 50), ('annoyance', 50), ('wise', 50), ('aspect', 50), ('character', 50), ('board', 50), ('shortcut', 50), ('know', 50), ('compatibility', 50), ('modes', 50), ('mechanism', 50), ('edit', 49), ('texts', 49), ('offer', 49), ('appearance', 49), ('towers', 49), ('hi', 49), ('effect', 49), ('audiovox', 49), ('levels', 49), ('cant', 49), ('situation', 49), ('charging', 49), ('ram', 49), ('speeds', 49), ('hundreds', 49), ('el', 49), ('chocolate', 49), ('let', 48), ('fingerprints', 48), ('ton', 48), ('figure', 48), ('password', 48), ('midi', 48), ('charm', 48), ('lighting', 48), ('effort', 48), ('earphone', 48), ('lag', 48), ('episode', 48), ('length', 48), ('alert', 47), ('drawbacks', 47), ('experiences', 47), ('apartment', 47), ('adaptor', 47), ('usa', 47), ('max', 47), ('ericson', 47), ('specs', 47), ('sonyericsson', 47), ('complain', 47), ('pixels', 47), ('updates', 47), ('pdf', 47), ('rom', 46), ('bonus', 46), ('units', 46), ('mo', 46), ('bought', 46), ('amp', 46), ('meter', 46), ('impression', 46), ('meeting', 46), ('supports', 46)]\n",
      "<generator object <genexpr> at 0x7f6f58b80bf8>\n"
     ]
    }
   ],
   "source": [
    "from nltk import FreqDist\n",
    "\n",
    "fdist = FreqDist(nextNounPhrase()) \n",
    "frequent_words_freq = fdist.most_common(1000)\n",
    "print(frequent_words_freq )\n",
    "#fdist.plot()\n"
   ]
  },
  {
   "cell_type": "code",
   "execution_count": 55,
   "metadata": {},
   "outputs": [],
   "source": [
    "import gensim\n",
    "model = gensim.models.Word2Vec.load('../download/word2vec/myamazonmodel.word2vec')"
   ]
  },
  {
   "cell_type": "code",
   "execution_count": 57,
   "metadata": {},
   "outputs": [
    {
     "name": "stdout",
     "output_type": "stream",
     "text": [
      "[[-1.0480926  -1.02450836 -0.95549756 ...,  0.02163913  0.16548625\n",
      "   0.51798493]\n",
      " [-3.06724215 -3.56221414 -0.84086907 ...,  4.36849737 -0.86245358\n",
      "  -1.76358771]\n",
      " [ 0.65128207 -2.39055872  0.16581805 ..., -1.56974447  2.98144603\n",
      "   3.35234666]\n",
      " ..., \n",
      " [ 0.6520279   0.55668253  0.72520012 ..., -2.45997357 -3.07514453\n",
      "  -0.63901836]\n",
      " [-0.70004165 -1.16438103  1.23163009 ...,  0.31264901  1.23521781\n",
      "  -0.34675583]\n",
      " [-1.30441892 -0.93372566  1.36454558 ...,  1.21297908 -0.83029789\n",
      "  -0.11228187]]\n"
     ]
    }
   ],
   "source": [
    "frequent_words= [w for (w,c) in frequent_words_freq]\n",
    "#print(frequent_words)\n",
    "import numpy as np\n",
    "np_frequent_words = np.asarray([w for (w,c) in frequent_words_freq])\n",
    "np_frequent_words_vector = np.asarray([model.wv[w] for w in np_frequent_words])\n",
    "print(np_frequent_words_vector)"
   ]
  },
  {
   "cell_type": "code",
   "execution_count": 58,
   "metadata": {},
   "outputs": [],
   "source": [
    "import nltk\n",
    "from nltk.cluster.kmeans import KMeansClusterer\n",
    "nc = 10\n",
    "data = np_frequent_words_vector\n",
    "\n",
    "kclusterer = KMeansClusterer(nc, distance=nltk.cluster.util.cosine_distance, repeats=25)\n",
    "assigned_clusters = kclusterer.cluster(data, assign_clusters=True)"
   ]
  },
  {
   "cell_type": "code",
   "execution_count": 59,
   "metadata": {},
   "outputs": [
    {
     "name": "stdout",
     "output_type": "stream",
     "text": [
      "[2, 8, 1, 6, 6, 2, 4, 8, 1, 0, 8, 7, 0, 6, 8, 5, 0, 1, 3, 4, 1, 2, 5, 7, 9, 6, 5, 6, 6, 1, 8, 5, 2, 6, 5, 4, 8, 8, 0, 6, 6, 7, 5, 2, 0, 5, 9, 9, 0, 1, 8, 9, 4, 5, 0, 2, 6, 3, 5, 9, 4, 8, 3, 0, 5, 0, 5, 3, 4, 6, 5, 9, 9, 8, 0, 4, 4, 6, 1, 4, 0, 7, 5, 3, 9, 1, 0, 5, 2, 3, 5, 9, 3, 0, 3, 2, 0, 5, 0, 9, 2, 5, 5, 6, 5, 5, 9, 7, 5, 5, 6, 0, 2, 0, 6, 5, 2, 3, 2, 4, 0, 8, 8, 4, 2, 5, 5, 8, 7, 4, 4, 4, 2, 1, 5, 9, 9, 8, 1, 5, 9, 9, 5, 0, 5, 2, 8, 8, 0, 2, 1, 3, 4, 0, 2, 4, 9, 0, 8, 9, 0, 1, 7, 4, 5, 1, 5, 1, 3, 2, 3, 4, 5, 3, 3, 8, 9, 0, 2, 5, 4, 3, 6, 4, 8, 6, 5, 8, 8, 7, 5, 8, 5, 0, 4, 7, 6, 4, 0, 2, 3, 3, 5, 8, 4, 5, 5, 5, 1, 9, 9, 5, 5, 5, 5, 7, 8, 2, 5, 5, 9, 1, 2, 0, 2, 5, 3, 8, 4, 5, 3, 2, 7, 1, 0, 4, 1, 1, 5, 6, 8, 3, 4, 8, 5, 7, 3, 5, 2, 5, 0, 9, 2, 8, 9, 8, 5, 1, 5, 5, 1, 5, 4, 4, 4, 5, 0, 7, 1, 0, 8, 4, 3, 4, 2, 7, 8, 0, 6, 5, 1, 3, 9, 4, 6, 9, 5, 4, 7, 4, 5, 7, 9, 4, 0, 5, 8, 7, 5, 3, 0, 7, 5, 5, 1, 7, 6, 7, 8, 8, 2, 3, 8, 7, 1, 1, 7, 9, 0, 2, 2, 9, 0, 2, 8, 6, 5, 8, 7, 2, 9, 7, 9, 0, 6, 1, 1, 2, 4, 4, 4, 8, 6, 1, 7, 8, 7, 7, 5, 7, 8, 7, 8, 5, 9, 2, 5, 2, 8, 9, 0, 4, 1, 2, 9, 3, 8, 4, 2, 5, 1, 7, 2, 5, 1, 9, 7, 3, 0, 9, 8, 0, 9, 3, 1, 5, 3, 1, 2, 7, 9, 0, 7, 0, 5, 9, 8, 1, 2, 4, 8, 1, 5, 9, 4, 5, 4, 9, 2, 4, 1, 5, 1, 9, 6, 9, 1, 2, 5, 7, 7, 1, 4, 4, 4, 5, 2, 5, 8, 4, 5, 5, 0, 9, 5, 4, 4, 0, 5, 5, 1, 0, 7, 4, 7, 5, 8, 4, 9, 4, 0, 5, 8, 5, 4, 5, 7, 7, 1, 0, 2, 2, 5, 5, 4, 4, 1, 8, 5, 1, 3, 1, 4, 0, 4, 8, 1, 8, 7, 7, 8, 0, 0, 8, 2, 5, 2, 5, 2, 9, 5, 8, 9, 0, 0, 5, 4, 1, 2, 3, 5, 9, 5, 8, 7, 8, 8, 5, 8, 2, 4, 5, 4, 9, 3, 1, 5, 5, 7, 2, 5, 5, 5, 2, 2, 1, 2, 2, 4, 6, 5, 8, 2, 9, 4, 3, 1, 2, 4, 9, 0, 9, 9, 9, 9, 5, 3, 9, 2, 7, 8, 0, 1, 9, 8, 2, 4, 4, 4, 7, 9, 7, 6, 5, 3, 7, 7, 2, 9, 8, 9, 9, 1, 2, 0, 8, 6, 1, 9, 5, 1, 6, 1, 4, 9, 3, 8, 8, 8, 5, 2, 5, 4, 7, 4, 5, 3, 3, 3, 6, 1, 4, 7, 6, 2, 6, 5, 7, 8, 5, 1, 5, 6, 5, 5, 5, 2, 1, 2, 9, 3, 5, 0, 8, 9, 8, 7, 3, 3, 0, 3, 5, 6, 4, 4, 1, 5, 0, 5, 8, 9, 5, 5, 5, 3, 7, 5, 0, 8, 4, 1, 7, 8, 4, 4, 0, 5, 4, 1, 2, 5, 5, 5, 5, 3, 6, 9, 5, 2, 0, 0, 7, 7, 8, 2, 5, 5, 8, 3, 6, 4, 5, 1, 6, 4, 5, 0, 4, 7, 1, 4, 0, 8, 1, 0, 5, 7, 5, 3, 5, 0, 3, 9, 2, 9, 8, 2, 5, 8, 8, 5, 7, 3, 5, 5, 5, 1, 5, 6, 5, 1, 3, 7, 4, 2, 9, 1, 0, 5, 4, 6, 8, 7, 2, 7, 9, 5, 4, 1, 5, 2, 1, 3, 2, 2, 5, 6, 6, 8, 2, 9, 9, 7, 7, 7, 8, 8, 2, 5, 2, 0, 3, 5, 5, 7, 7, 2, 5, 9, 0, 4, 5, 6, 2, 8, 4, 5, 0, 5, 9, 8, 6, 1, 5, 8, 1, 5, 8, 2, 8, 0, 0, 8, 5, 6, 7, 1, 9, 2, 7, 2, 8, 9, 0, 7, 8, 5, 4, 4, 7, 7, 1, 4, 6, 5, 6, 9, 8, 4, 2, 9, 3, 1, 7, 5, 6, 2, 8, 4, 3, 0, 8, 7, 5, 7, 5, 8, 9, 7, 0, 5, 1, 5, 6, 5, 4, 5, 3, 8, 7, 8, 0, 9, 5, 8, 5, 8, 8, 2, 3, 8, 1, 0, 7, 7, 8, 4, 8, 6, 5, 3, 8, 6, 2, 7, 7, 1, 5, 9, 2, 6, 9, 0, 3, 6, 6, 2, 2, 2, 5, 0, 1, 6, 0, 3, 4, 2, 3, 0, 4, 2, 7, 0, 0, 2, 1, 1, 7, 5, 4, 0, 4, 0, 9, 7, 3, 8, 0, 6, 5, 1, 0, 6, 8, 7, 5, 8, 5, 9, 4, 2, 3, 1, 6, 4, 7, 7, 8, 8, 5, 2, 5, 7, 8, 5, 3, 5, 5, 7, 3, 1, 0, 8, 0, 8, 5, 4, 9, 9, 8, 4, 0, 0, 7, 2, 8, 7, 5, 5, 0, 8, 4, 9, 8, 6, 8, 5, 1, 1, 6, 9, 4, 8, 0, 1, 0, 7, 8, 5, 5, 5, 9, 1, 6, 0, 9, 8, 3, 6, 9]\n"
     ]
    }
   ],
   "source": [
    "print(assigned_clusters)\n",
    "np_assigned_clusters = np.asarray(assigned_clusters)"
   ]
  },
  {
   "cell_type": "code",
   "execution_count": 60,
   "metadata": {},
   "outputs": [
    {
     "name": "stdout",
     "output_type": "stream",
     "text": [
      "   cluster  feature\n",
      "0        2    phone\n",
      "1        8   camera\n",
      "2        1   phones\n",
      "3        6  battery\n",
      "4        6     time\n"
     ]
    }
   ],
   "source": [
    "import pandas as pd\n",
    "#cluster_sentences_join = [\" \".join(s_list) for s_list in cluster_sentences]\n",
    "result = pd.DataFrame({ 'cluster' : assigned_clusters,   'feature' : np_frequent_words})\n",
    "print(result.head())"
   ]
  },
  {
   "cell_type": "code",
   "execution_count": 61,
   "metadata": {
    "collapsed": true
   },
   "outputs": [],
   "source": [
    "writer = pd.ExcelWriter('clustered_features.xlsx')\n",
    "result.to_excel(writer,'Sheet1')\n",
    "writer.save()"
   ]
  },
  {
   "cell_type": "code",
   "execution_count": null,
   "metadata": {},
   "outputs": [],
   "source": [
    "features=  [ {\"feature\" : key} for key in frequent_words]\n",
    "print(features)"
   ]
  },
  {
   "cell_type": "markdown",
   "metadata": {
    "collapsed": true
   },
   "source": [
    "import pymongo\n",
    "client = pymongo.MongoClient()\n",
    "mydb = client['y2buy_1']\n",
    "my_collection = mydb['features']\n",
    "try:\n",
    "    mydb.features.drop()\n",
    "finally:\n",
    "    result = mydb.features.create_index([('feature', pymongo.ASCENDING)],unique=True)"
   ]
  },
  {
   "cell_type": "markdown",
   "metadata": {},
   "source": [
    "my_collection.insert_many(features)"
   ]
  },
  {
   "cell_type": "code",
   "execution_count": 64,
   "metadata": {},
   "outputs": [
    {
     "name": "stdout",
     "output_type": "stream",
     "text": [
      "[('downfall', 0.6178915500640869), ('drawback', 0.5932508707046509), ('downside', 0.5874196887016296), ('complaint', 0.5643346309661865), ('gripe', 0.553368091583252), ('quirk', 0.5493331551551819), ('disadvantage', 0.5491840839385986), ('downer', 0.5404207110404968), ('criticism', 0.529247522354126), ('shortcoming', 0.5244871973991394)]\n"
     ]
    }
   ],
   "source": [
    "print(model.wv.most_similar(\"thing\"))"
   ]
  },
  {
   "cell_type": "code",
   "execution_count": null,
   "metadata": {
    "collapsed": true
   },
   "outputs": [],
   "source": []
  }
 ],
 "metadata": {
  "kernelspec": {
   "display_name": "Python 3",
   "language": "python",
   "name": "python3"
  },
  "language_info": {
   "codemirror_mode": {
    "name": "ipython",
    "version": 3
   },
   "file_extension": ".py",
   "mimetype": "text/x-python",
   "name": "python",
   "nbconvert_exporter": "python",
   "pygments_lexer": "ipython3",
   "version": "3.6.1"
  }
 },
 "nbformat": 4,
 "nbformat_minor": 2
}
