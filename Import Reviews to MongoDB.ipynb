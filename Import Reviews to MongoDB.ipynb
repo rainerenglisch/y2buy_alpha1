{
 "cells": [
  {
   "cell_type": "code",
   "execution_count": 4,
   "metadata": {},
   "outputs": [],
   "source": [
    "import pymongo\n",
    "client = pymongo.MongoClient()\n",
    "mydb = client['y2buy_1']\n",
    "my_collection = mydb['reviews']\n",
    "result = mydb.reviews.create_index([('buyerId', pymongo.ASCENDING)],unique=False)\n",
    "result = mydb.reviews.create_index([('productId', pymongo.ASCENDING)],unique=False)"
   ]
  },
  {
   "cell_type": "code",
   "execution_count": 5,
   "metadata": {
    "collapsed": true
   },
   "outputs": [],
   "source": [
    "import requests\n",
    "base_url = 'https://m.aliexpress.com/ajaxapi/EvaluationSearchAjax.do?type=all&pageSize=80&country=US'\n",
    "def importReviews(doc_complete, product_id):\n",
    "    totalPage = 10000000000000000000\n",
    "    n = 1\n",
    "    while (n<=totalPage):\n",
    "        #print(n)\n",
    "        url = base_url + \"&productId=\"+str(product_id)+\"&index=\"+str(n)\n",
    "        #print(url)\n",
    "        resp = requests.get(url)\n",
    "        if resp.status_code != 200:\n",
    "            # This means something went wrong.\n",
    "            raise ApiError('GET /EvaluationSearchAjax/ {}'.format(resp.status_code))\n",
    "        resp_json = resp.json()\n",
    "        doc_complete_n = [review[\"buyerTranslationFeedback\"] \n",
    "                          for review in resp_json[\"evaViewList\"] \n",
    "                          if \"buyerTranslationFeedback\" in review.keys() \n",
    "                          #and float(review[\"buyerEval\"])<50\n",
    "                         ]\n",
    "        for review in resp_json[\"evaViewList\"]:\n",
    "            review[\"productId\"] = product_id\n",
    "            review[\"source\"] = \"aliexpress.com\"\n",
    "            try:\n",
    "                mydb.reviews.insert_one(review)\n",
    "            except: \n",
    "              pass\n",
    "        doc_complete= doc_complete + doc_complete_n\n",
    "        if (n==1):\n",
    "            #print(resp_json)\n",
    "            totalPage = int(resp_json[\"totalPage\"])\n",
    "            print(str(product_id)+\" totalPage \"+str(totalPage))\n",
    "        print(\".\", end='')    \n",
    "        n=n+1\n",
    "    return doc_complete"
   ]
  },
  {
   "cell_type": "code",
   "execution_count": 6,
   "metadata": {
    "scrolled": false
   },
   "outputs": [
    {
     "name": "stdout",
     "output_type": "stream",
     "text": [
      "32796300206 totalPage 97\n",
      ".................................................................................................32763320059 totalPage 107\n",
      "...........................................................................................................32792320034 totalPage 106\n",
      "..........................................................................................................32766086429 totalPage 63\n",
      "...............................................................32790980431 totalPage 63\n",
      "...............................................................32721716490 totalPage 60\n",
      "............................................................32611785137 totalPage 52\n",
      "....................................................32769974242 totalPage 50\n",
      "..................................................32662806201 totalPage 43\n",
      "...........................................count of reviews: 6644\n"
     ]
    }
   ],
   "source": [
    "#32800399551 doogee schießen 2 handy 2 gb - rating 2,7/5\n",
    "#Xiaomi Redmi 4 Pro Prime\n",
    "#  32752699189 Doogee x5 max \n",
    "# 32757712697 lenovo a5600 \n",
    "# 32798494733 Lenovo ZUK Z2 \n",
    "# 32791453530 ONEPLUS 3 T A3003 \n",
    "# 32671947390  Blackview BV6000 \n",
    "# 32719969124 Xiaomi Mi Max Mimax Pro \n",
    "# 32799364813 Oukitel U20 Plus Android 6.0\n",
    "# 32611785137 Xiaomi Mi5 M5 Mi 5 Prime\n",
    "product_ids = [32796300206,32763320059,32792320034,32766086429,32790980431,32721716490,32611785137,32769974242,32662806201]\n",
    "doc_complete = []\n",
    "for product_id in product_ids:\n",
    "    doc_complete=importReviews(doc_complete,product_id)\n",
    "print(\"count of reviews: \"+ str(len(doc_complete)))\n",
    "\n"
   ]
  },
  {
   "cell_type": "code",
   "execution_count": 8,
   "metadata": {
    "scrolled": false
   },
   "outputs": [],
   "source": [
    "from nltk.corpus import stopwords\n",
    "from nltk.stem.wordnet import WordNetLemmatizer\n",
    "from nltk import word_tokenize\n",
    "import string\n",
    "stop = set(stopwords.words('english'))\n",
    "exclude = set(string.punctuation)\n",
    "lemma = WordNetLemmatizer()\n",
    "def clean(doc):\n",
    "    #stop_free = \" \".join([i for i in doc.lower().split() if i not in stop])\n",
    "    #punc_free = ''.join(ch for ch in stop_free if ch not in exclude)\n",
    "    tokens = word_tokenize(doc.lower())\n",
    "    normalized = \" \".join(lemma.lemmatize(token) for token in tokens if token not in stop and token not in exclude)\n",
    "    return normalized\n",
    "\n",
    "doc_clean = [clean(doc) for doc in doc_complete]   \n",
    "#print(doc_clean)"
   ]
  },
  {
   "cell_type": "code",
   "execution_count": 9,
   "metadata": {},
   "outputs": [],
   "source": [
    "import nltk\n",
    "\n",
    "full_text = \" \".join([review for review in doc_clean])\n",
    "\n",
    "tokens = nltk.word_tokenize(full_text)\n",
    "\n",
    "tagged = nltk.pos_tag(tokens)\n",
    "#print(tagged)"
   ]
  },
  {
   "cell_type": "code",
   "execution_count": 11,
   "metadata": {},
   "outputs": [],
   "source": [
    "#nouns = [token for token, pos in tagged if pos.startswith('N')]\n",
    "#print(nouns)\n",
    "  \t\n",
    "grammar = r\"\"\"\n",
    "  NOUN_PHRASE:  {<CD|IN|DT|JJ|PP|RB|\\$>*<N.*>+<V.*>*<CD|IN|DT|JJ|PP|RB|\\$>*<N.*>*}  \n",
    "\"\"\"\n",
    "cp = nltk.RegexpParser(grammar)\n",
    "noun_phrase_tagged = cp.parse(tagged)\n",
    "#print(noun_phrase_tagged)\n",
    "#doc_complete = nouns"
   ]
  },
  {
   "cell_type": "code",
   "execution_count": 13,
   "metadata": {
    "scrolled": true
   },
   "outputs": [],
   "source": [
    "def traverse(t,noun_phrases):\n",
    "    try:\n",
    "        t.label()\n",
    "    except AttributeError:\n",
    "        n=0\n",
    "    else:\n",
    "        if t.label() == 'NOUN_PHRASE': \n",
    "            [noun_phrases.append(word) for (word,pos) in t.leaves() if pos.startswith(\"N\")]\n",
    "            #print(statement)\n",
    "            #noun_phrases = noun_phrases.append(noun_phrase)\n",
    "        # Now we know that t.node is defined\n",
    "        #print('(', t.label(), end=\" \")\n",
    "        for child in t:\n",
    "            traverse(child,noun_phrases)\n",
    "        #print(')', end=\" \")\n",
    "    return noun_phrases\n",
    "\n",
    "noun_phrases=[]\n",
    "nouns=traverse(noun_phrase_tagged,noun_phrases)\n",
    "#print(nouns)\n",
    "doc_complete = nouns"
   ]
  },
  {
   "cell_type": "code",
   "execution_count": 14,
   "metadata": {
    "scrolled": true
   },
   "outputs": [
    {
     "name": "stdout",
     "output_type": "stream",
     "text": [
      "[('phone', 4643), ('seller', 3124), ('day', 2265), ('everything', 1538), ('week', 1162), ('delivery', 1162), ('work', 1062), ('order', 1007), ('film', 808), ('time', 721), ('thank', 624), ('money', 621), ('gift', 524), ('quality', 459), ('recommend', 451), ('glass', 360), ('description', 360), ('problem', 358), ('case', 312), ('super', 309), ('track', 292), ('camera', 292), ('adapter', 290), ('screen', 289), ('purchase', 283), ('firmware', 283), ('region', 274), ('month', 274), ('product', 261), ('custom', 243), ('battery', 239), ('packaging', 225), ('price', 217), ('mail', 215), ('box', 205), ('\\\\\\\\_', 202), ('parcel', 189), ('thanks', 178), ('use', 169), ('smartphone', 168), ('russia', 164), ('advise', 161), ('shipping', 160), ('complaint', 148), ('store', 147), ('silicone', 139), ('post', 137), ('package', 137), ('fine', 135), ('dispute', 131), ('charge', 126), ('air', 122), ('cover', 121), ('way', 116), ('question', 111), ('extension', 110), ('photo', 109), ('star', 108), ('color', 105), ('excellent', 104), ('review', 103), ('sound', 103), ('date', 99), ('hand', 98), ('device', 96), ('condition', 94), ('version', 94), ('alibonus', 94), ('fast', 92), ('service', 89), ('payment', 87), ('cool', 87), ('wife', 83), ('nothing', 80), ('headphone', 78), ('singapore', 78), ('outlet', 77), ('office', 76), ('everyone', 76), ('help', 74), ('look', 72), ('charger', 70), ('card', 69), ('picture', 69), ('level', 68), ('moscow', 67), ('match', 67), ('thing', 67), ('damage', 67), ('aliexpress', 67), ('come', 66), ('buy', 65), ('fire', 64), ('xiaomi', 63), ('point', 62), ('..', 62), ('refund', 62), ('socket', 61), ('hour', 60), ('fingerprint', 57)]\n"
     ]
    }
   ],
   "source": [
    "from nltk import FreqDist\n",
    "import nltk\n",
    "#print(doc_clean)\n",
    "#words = nltk.tokenize.word_tokenize(doc_clean)\n",
    "all_reviews_in_one_string = \" \".join([doc for doc in doc_clean])\n",
    "\n",
    "words = nltk.tokenize.word_tokenize(all_reviews_in_one_string)\n",
    "fdist = FreqDist(noun_phrases) \n",
    "frequent_words_freq = fdist.most_common(100)\n",
    "print(frequent_words_freq )\n",
    "#fdist.plot()\n",
    "frequent_words= [w for (w,c) in frequent_words_freq]\n",
    "#print(frequent_words)\n",
    "\n"
   ]
  },
  {
   "cell_type": "markdown",
   "metadata": {},
   "source": [
    "def clean(doc):\n",
    "    tokens = word_tokenize(doc)\n",
    "    only_frqt_words = \" \".join([token for token in tokens if token in frequent_words])\n",
    "    return only_frqt_words \n",
    "\n",
    "#doc_clean2 = [clean(doc) for doc in doc_clean] \n",
    "doc_clean2 = [clean(doc).split() for doc in doc_clean] \n",
    "#print(doc_clean2)"
   ]
  },
  {
   "cell_type": "markdown",
   "metadata": {},
   "source": [
    "Now find snippets in the review with these frequent nouns"
   ]
  },
  {
   "cell_type": "code",
   "execution_count": 18,
   "metadata": {},
   "outputs": [
    {
     "name": "stdout",
     "output_type": "stream",
     "text": [
      "['smart phone recommend great phone', 'happy purchase band work perfect dial phone']\n",
      "phone has absolute avg sentiment 0.40289711895910735\n",
      "['happy purchase thank great phone seller', 'fine ecb 3 week put gift wrap order phone seller']\n",
      "seller has absolute avg sentiment 0.4087893154190664\n",
      "['everything tracked day packaging quality', 'excellent everything ok came 14 day']\n",
      "day has absolute avg sentiment 0.2388339613970596\n",
      "['fine seller forgot put adapter charger type c type everything', 'everything tracked day packaging quality']\n",
      "everything has absolute avg sentiment 0.4027710273972607\n",
      "['samara region two week', 'fine ecb 3 week put gift wrap order phone seller']\n",
      "week has absolute avg sentiment 0.26532710526315806\n",
      "['always super delivery 2 week quality', 'fine delivery 9 day']\n",
      "delivery has absolute avg sentiment 0.3510705676855896\n",
      "['store good good figment satisfied recommend work', 'model-the third work']\n",
      "work has absolute avg sentiment 0.3732034383954153\n",
      "['fine ecb 3 week put gift wrap order phone seller', 'super order afraid third phone book seller']\n",
      "order has absolute avg sentiment 0.3102069035532994\n",
      "['fine 15 day shipping gift bag film', 'without extra gift charging adapter usb cable film']\n",
      "film has absolute avg sentiment 0.36307286624203894\n",
      "['2 week ordered third time', 'order third time phone work']\n",
      "time has absolute avg sentiment 0.23784942528735598\n",
      "['happy purchase thank great phone seller', 'thank phone came quickly']\n",
      "thank has absolute avg sentiment 0.6103946428571404\n",
      "['mail russia opened dispute money', 'everything fair phone lost money']\n",
      "money has absolute avg sentiment 0.35637549342105307\n",
      "['gift seller put film screen trifle', 'important gift recommend phone fire everything']\n",
      "gift has absolute avg sentiment 0.5882787826086973\n",
      "['everything tracked day packaging quality', 'sevastopol 12 day delighted quality speed delivery super order']\n",
      "quality has absolute avg sentiment 0.4265568421052631\n",
      "['second голдвея height recommend', 'extra payment beautiful recommend case']\n",
      "recommend has absolute avg sentiment 0.5803341563785985\n",
      "['glass небьющимся come usual film', 'protective glass everything came quickly enough 3 week phone']\n",
      "glass has absolute avg sentiment 0.2901797058823523\n",
      "['fast beautiful fit description 100 great phone', 'phone came quickly consistent description meet']\n",
      "description has absolute avg sentiment 0.3610180821917802\n",
      "['almost 2 month domestic airport entregarce problem chile .. excellent team quality price .. phone', 'without problem camera take good battery']\n",
      "problem has absolute avg sentiment 0.37304034090908994\n",
      "['napkin case still nice still', 'case 3. hybrid tray']\n",
      "case has absolute avg sentiment 0.33861099999999944\n",
      "['super order afraid third phone book seller', 'super order afraid everything ok']\n",
      "super has absolute avg sentiment 0.7091666666666683\n",
      "['phone came 8 day березников perm region track', 'reliable package track tracked point receipt comment order']\n",
      "track has absolute avg sentiment 0.2650003999999997\n",
      "['two week everything work camera good charge', 'beautiful camera excellent beautiful cool']\n",
      "camera has absolute avg sentiment 0.44815690235690187\n",
      "['without extra gift charging adapter usb cable film', 'great seller film screen adapter socket podarok']\n",
      "adapter has absolute avg sentiment 0.32361989247311784\n",
      "['small diagonal screen resolution 720*1280 enough noticeable test эпик citadel', 'function work fine battery touch screen']\n",
      "screen has absolute avg sentiment 0.3179120218579231\n",
      "['happy purchase thank great phone seller', 'st. petersburg 12 day description coincides real purchase']\n",
      "purchase has absolute avg sentiment 0.38688960573476644\n",
      "['good work fine global stable firmware phone', 'second global firmware good store']\n",
      "firmware has absolute avg sentiment 0.2884754716981129\n",
      "['18 day zabaikalsk region excellent', 'samara region two week']\n",
      "region has absolute avg sentiment 0.21854652014652\n",
      "['almost 2 month domestic airport entregarce problem chile .. excellent team quality price .. phone', 'fine dhl lost package month seller wait power']\n",
      "month has absolute avg sentiment 0.2472051660516603\n",
      "['second time great product thank phone', 'quickly 15 day great product']\n",
      "product has absolute avg sentiment 0.4336705426356584\n",
      "['14 day problem custom original', 'track xiaomi worried thinking problem custom thank god vse tseloe gift adapter film']\n",
      "custom has absolute avg sentiment 0.23220301886792433\n",
      "['function work fine battery touch screen', 'good battery match day maisie м3с 2 day']\n",
      "battery has absolute avg sentiment 0.34330361445783114\n",
      "['everything tracked day packaging quality', 'global firmware good packaging nothing']\n",
      "packaging has absolute avg sentiment 0.43105677966101646\n",
      "['satisfied well 9 day samara phone price', 'almost 2 month domestic airport entregarce problem chile .. excellent team quality price .. phone']\n",
      "price has absolute avg sentiment 0.42803999999999964\n",
      "['mail russia opened dispute money', 'week phone lost mail third phone']\n",
      "mail has absolute avg sentiment 0.22680452488687772\n",
      "['gift dob opened box even time', 'price class photo box already']\n",
      "box has absolute avg sentiment 0.22191603773584892\n",
      "['кешбэк 12 c purchase \\\\\\\\_ \\\\\\\\_ \\\\\\\\_ \\\\\\\\_ \\\\\\\\_ \\\\\\\\_ \\\\\\\\_ \\\\\\\\_ \\\\\\\\_ \\\\\\\\_ \\\\\\\\_ \\\\\\\\_ \\\\\\\\_ fast delivery recommend', '2400rub purchase smartphone package passed custom \\\\\\\\_ \\\\\\\\_ \\\\\\\\_ \\\\\\\\_ \\\\\\\\_ \\\\\\\\_ \\\\\\\\_ \\\\\\\\_ \\\\\\\\_']\n",
      "\\\\_ has absolute avg sentiment 0.2500107142857143\n",
      "['well phone sent two parcel track track', 'quickly wine mail parcel stuck little']\n",
      "parcel has absolute avg sentiment 0.2148380753138073\n",
      "['gift many thanks phone good 3 s. order', '5 lag thanks seller fast delivery phone']\n",
      "thanks has absolute avg sentiment 0.5924094444444437\n",
      "['almost constant use glass enough touch', 'two day active use']\n",
      "use has absolute avg sentiment 0.3158472906403939\n",
      "['much happy smartphone completely', 'excellent seller excellent smartphone']\n",
      "smartphone has absolute avg sentiment 0.41975977653631275\n",
      "['mail russia opened dispute money', 'lucky cant mail russia seller fully']\n",
      "russia has absolute avg sentiment 0.21787340425531904\n",
      "['already 7th phone everything ok advise everything super phone work', 'whole advise buy first happy']\n",
      "advise has absolute avg sentiment 0.36220176991150405\n",
      "['great phone fast shipping responsive seller order', 'seller day shipping moscow']\n",
      "shipping has absolute avg sentiment 0.3618255244755242\n",
      "['small scratch apparently much nice complaint', '3 mobile phone seller complaint cover glass make sense order']\n",
      "complaint has absolute avg sentiment 0.33293456790123416\n",
      "['level bought fifth account phone store', '3 phone store thank present five point']\n",
      "store has absolute avg sentiment 0.39030903225806435\n",
      "['silicone case gift put product', 'phone phone good soft silicone case']\n",
      "silicone has absolute avg sentiment 0.34899107142857105\n",
      "['parcel post 11 day', 'post office 105064 earth parcel']\n",
      "post has absolute avg sentiment 0.16903169014084507\n",
      "['fine dhl lost package month seller wait power', 'package inflated strip think']\n",
      "package has absolute avg sentiment 0.24145434782608696\n",
      "['fine seller forgot put adapter charger type c type everything', 'fine delivery 9 day']\n",
      "fine has absolute avg sentiment 0.4316854740061166\n",
      "['mail russia opened dispute money', '60 day aggravation dispute well']\n",
      "dispute has absolute avg sentiment 0.3817801204819273\n",
      "['two week everything work camera good charge', 'long enough week 2 time charge']\n",
      "charge has absolute avg sentiment 0.2378282258064516\n",
      "['level air packaging adapter film', 'immediately upgrade firmware air проблемсмартфоном satisfied gift seller']\n",
      "air has absolute avg sentiment 0.23418064516129034\n",
      "['reliable responsible guilt everything perfect ordered phone cover', '2. bez cover slippery much']\n",
      "cover has absolute avg sentiment 0.30725749999999985\n",
      "['possible way ordered second time phone', 'immediately way write review']\n",
      "way has absolute avg sentiment 0.21046724137931033\n",
      "['content question seller explained everything response', 'normal question answered course заигнорил custom control']\n",
      "question has absolute avg sentiment 0.28594298245614036\n",
      "['2.20 extension megabonus help save 40 purchase aliexpress reference воспользуетесь megabonus', 'thank product purchased extension megabonus']\n",
      "extension has absolute avg sentiment 0.4789034090909096\n"
     ]
    },
    {
     "name": "stdout",
     "output_type": "stream",
     "text": [
      "['price class photo box already', 'дополнб review photo']\n",
      "photo has absolute avg sentiment 0.3019247863247865\n",
      "['three star jamb seller отправившего parcel mail russia', 'seller phone 5 star bravo']\n",
      "star has absolute avg sentiment 0.24421376146788992\n",
      "['already bag glass fact color black seller handsome', 'rose-gold beautiful color instead']\n",
      "color has absolute avg sentiment 0.3353514563106794\n",
      "['excellent everything ok came 14 day', 'seller-all excellent always phone']\n",
      "excellent has absolute avg sentiment 0.6829231292517032\n",
      "['write review', 'дополнб review photo']\n",
      "review has absolute avg sentiment 0.28181727272727275\n",
      "['phone safe sound', 'safe sound also fast gift wrap']\n",
      "sound has absolute avg sentiment 0.461643571428571\n",
      "['stavropol 12 day date order everything work fine firmware', 'fourth phone order aliekspress returned dispute 65 day date order seller']\n",
      "date has absolute avg sentiment 0.25142680412371127\n",
      "['loud conversation interlocutor hear clearly hand', 'well hand sealed securely']\n",
      "hand has absolute avg sentiment 0.6702082474226803\n",
      "['excellent device always', 'fine money excellent device phone']\n",
      "device has absolute avg sentiment 0.4418699999999998\n",
      "['perfect condition reached 14 day', 'fast phone came perfect condition everything work']\n",
      "condition has absolute avg sentiment 0.5815148936170209\n",
      "['global version phone came usual chinese charger adapter outlet firmware', 'global shoal translated box sign version phone глабальная description bottom box']\n",
      "version has absolute avg sentiment 0.19939670329670325\n",
      "['16.11 extension alibonus help save 8.25 purchase aliexpress reference воспользуетесь', 'extension alibonus save 5.00 extension alibonus help']\n",
      "alibonus has absolute avg sentiment 0.37192783505154664\n",
      "['seller fast delivery', 'great phone fast shipping responsive seller order']\n",
      "fast has absolute avg sentiment 0.37240802775024817\n",
      "['seller additional adapter tape thank good service', 'excellent service day prodovtsa thank everything']\n",
      "service has absolute avg sentiment 0.3891123595505616\n",
      "['within 12 hour payment ordered seller second phone', 'next day payment track monitored parcel']\n",
      "payment has absolute avg sentiment 0.16189655172413792\n",
      "['beautiful camera excellent beautiful cool', 'cool ordered 2 phone']\n",
      "cool has absolute avg sentiment 0.5725466257668714\n",
      "['wife recommend seller phone', 'wife gold packed conscience purchase']\n",
      "wife has absolute avg sentiment 0.39422168674698793\n",
      "['global firmware good packaging nothing', 'comfortable hand management design-what need men nothing']\n",
      "nothing has absolute avg sentiment 0.2680687499999999\n",
      "['headphone everything work top quality', 'great headphone sound excellent delivery week rb']\n",
      "headphone has absolute avg sentiment 0.31535747126436775\n",
      "['fast two week lipetsk region mail singapore track', '29 phone элисте singapore believe']\n",
      "singapore has absolute avg sentiment 0.15979749999999995\n",
      "['film adapter soviet outlet phone money bomb fire', 'good seller put adapter outlet everything']\n",
      "outlet has absolute avg sentiment 0.2928886075949368\n",
      "['post office 105064 earth parcel', 'sent office thence disappears writing search reply']\n",
      "office has absolute avg sentiment 0.14840540540540542\n",
      "['well phone work perfect advise everyone', 'everyone seller phone great phone glitch notice use']\n",
      "everyone has absolute avg sentiment 0.42426052631578937\n",
      "['11.85 extension megabonus help save 40 purchase aliexpress megabonus воспользуетесь reference co', 'extension megabonus save 8.63 extension megabonus help']\n",
      "help has absolute avg sentiment 0.6179783783783788\n",
      "['immediately phone cool black color look', 'long battery hold charge look']\n",
      "look has absolute avg sentiment 0.36323139534883714\n",
      "['great price gift-film adapter charger record', 'global version phone came usual chinese charger adapter outlet firmware']\n",
      "charger has absolute avg sentiment 0.21153521126760563\n",
      "['work one sim card', 'screen two month stop sending document write-off card statement loss vain seller claim money']\n",
      "card has absolute avg sentiment 0.17666164383561644\n",
      "['also good picture function fan battery hold good complete', 'gift tape really phone picture']\n",
      "picture has absolute avg sentiment 0.3144055555555555\n",
      "['level recommend super vse za 10 day', 'level shipping 13 day money']\n",
      "level has absolute avg sentiment 0.2986090909090908\n",
      "['seller day shipping moscow', 'already third xiaomi family came two week moscow']\n",
      "moscow has absolute avg sentiment 0.26487737226277375\n",
      "['standard match geographic location', 'standard match geographic location']\n",
      "match has absolute avg sentiment 0.37706410256410255\n",
      "['thing like use', 'pleased parcel included also protective film gift thing']\n",
      "thing has absolute avg sentiment 0.2948626865671642\n",
      "['normal film seller order anything came quickly without damage', 'damage revealed']\n",
      "damage has absolute avg sentiment 0.38167352941176447\n",
      "['11.85 extension megabonus help save 40 purchase aliexpress megabonus воспользуетесь reference co', '40 purchase aliexpress megabonus воспользуетесь reference com/u 586981 delivery']\n",
      "aliexpress has absolute avg sentiment 0.377464285714286\n",
      "['8 day delivery bashkiria кумертау film gift great slow 7 day phone come', 'another phone come returned']\n",
      "come has absolute avg sentiment 0.305401395348837\n",
      "['happy fully consistent description recommend buy thank seller', 'protective film buy seller']\n",
      "buy has absolute avg sentiment 0.36549406779661026\n",
      "['smart money phone fire smart battery', 'film adapter soviet outlet phone money bomb fire']\n",
      "fire has absolute avg sentiment 0.36391875\n",
      "['xiaomi say', 'track xiaomi worried thinking problem custom thank god vse tseloe gift adapter film']\n",
      "xiaomi has absolute avg sentiment 0.27435256410256403\n",
      "['3 phone store thank present five point', 'safe sound everything work 5 point everything']\n",
      "point has absolute avg sentiment 0.20851746031746038\n",
      "['almost 2 month domestic airport entregarce problem chile .. excellent team quality price .. phone', 'end wrinkled .. adapter']\n",
      ".. has absolute avg sentiment 0.36036712328767123\n",
      "['rostov-on-don hope refund odd', 'partial refund waited 90 day phone']\n",
      "refund has absolute avg sentiment 0.24027391304347828\n",
      "['adapter socket euro protective film gift thank seller thank seller', 'good film adapter socket podarok always голдвея']\n",
      "socket has absolute avg sentiment 0.3457540983606557\n",
      "['well quality отличноное included work hour', 'terrible seller recommend box work charging hour flicker screen stripe']\n",
      "hour has absolute avg sentiment 0.14825932203389833\n",
      "['screen fingerprint gift protective film', 'last two day active use fingerprint fingerprint work']\n",
      "fingerprint has absolute avg sentiment 0.43158032786885253\n"
     ]
    }
   ],
   "source": [
    "def traverse(t,noun,phrases):\n",
    "    try:\n",
    "        t.label()\n",
    "    except AttributeError:\n",
    "        n=0\n",
    "    else:\n",
    "        if t.label() == 'NOUN_PHRASE': \n",
    "            phrase = \" \".join([word for (word,pos) in t.leaves()])\n",
    "            if noun in phrase.split():\n",
    "                phrases.append(phrase)\n",
    "                #print(phrase)\n",
    "        for child in t:\n",
    "            traverse(child,noun,phrases)\n",
    "    return phrases\n",
    "\n",
    "from nltk.sentiment.vader import SentimentIntensityAnalyzer\n",
    "\n",
    "dict_noun_abs_sentiment = {}\n",
    "for noun in frequent_words:\n",
    "    phrases=[]\n",
    "    phrases=traverse(noun_phrase_tagged,noun,phrases)\n",
    "    print(phrases[1:3])\n",
    "    #doc_complete = nouns\n",
    "\n",
    "    sid =  SentimentIntensityAnalyzer()\n",
    "    sentiments = sum(abs(sid.polarity_scores(phrase)[\"compound\"]) for phrase in phrases)/len(phrases)\n",
    "    print(noun + \" has absolute avg sentiment \" + str(sentiments))\n",
    "    dict_noun_abs_sentiment[noun]=sentiments"
   ]
  },
  {
   "cell_type": "code",
   "execution_count": 19,
   "metadata": {
    "scrolled": true
   },
   "outputs": [
    {
     "name": "stdout",
     "output_type": "stream",
     "text": [
      "[('phone', '0.40'), ('seller', '0.41'), ('day', '0.24'), ('everything', '0.40'), ('week', '0.27'), ('delivery', '0.35'), ('work', '0.37'), ('order', '0.31'), ('film', '0.36'), ('time', '0.24'), ('thank', '0.61'), ('money', '0.36'), ('gift', '0.59'), ('quality', '0.43'), ('recommend', '0.58'), ('glass', '0.29'), ('description', '0.36'), ('problem', '0.37'), ('case', '0.34'), ('super', '0.71'), ('track', '0.27'), ('camera', '0.45'), ('adapter', '0.32'), ('screen', '0.32'), ('purchase', '0.39'), ('firmware', '0.29'), ('region', '0.22'), ('month', '0.25'), ('product', '0.43'), ('custom', '0.23'), ('battery', '0.34'), ('packaging', '0.43'), ('price', '0.43'), ('mail', '0.23'), ('box', '0.22'), ('\\\\\\\\_', '0.25'), ('parcel', '0.21'), ('thanks', '0.59'), ('use', '0.32'), ('smartphone', '0.42'), ('russia', '0.22'), ('advise', '0.36'), ('shipping', '0.36'), ('complaint', '0.33'), ('store', '0.39'), ('silicone', '0.35'), ('post', '0.17'), ('package', '0.24'), ('fine', '0.43'), ('dispute', '0.38'), ('charge', '0.24'), ('air', '0.23'), ('cover', '0.31'), ('way', '0.21'), ('question', '0.29'), ('extension', '0.48'), ('photo', '0.30'), ('star', '0.24'), ('color', '0.34'), ('excellent', '0.68'), ('review', '0.28'), ('sound', '0.46'), ('date', '0.25'), ('hand', '0.67'), ('device', '0.44'), ('condition', '0.58'), ('version', '0.20'), ('alibonus', '0.37'), ('fast', '0.37'), ('service', '0.39'), ('payment', '0.16'), ('cool', '0.57'), ('wife', '0.39'), ('nothing', '0.27'), ('headphone', '0.32'), ('singapore', '0.16'), ('outlet', '0.29'), ('office', '0.15'), ('everyone', '0.42'), ('help', '0.62'), ('look', '0.36'), ('charger', '0.21'), ('card', '0.18'), ('picture', '0.31'), ('level', '0.30'), ('moscow', '0.26'), ('match', '0.38'), ('thing', '0.29'), ('damage', '0.38'), ('aliexpress', '0.38'), ('come', '0.31'), ('buy', '0.37'), ('fire', '0.36'), ('xiaomi', '0.27'), ('point', '0.21'), ('..', '0.36'), ('refund', '0.24'), ('socket', '0.35'), ('hour', '0.15'), ('fingerprint', '0.43')]\n"
     ]
    }
   ],
   "source": [
    "print( [ (key,'{:01.2f}'.format(val)) for (key,val) in dict_noun_abs_sentiment.items() if val >0.1])"
   ]
  },
  {
   "cell_type": "markdown",
   "metadata": {},
   "source": [
    "# Importing Gensim\n",
    "import gensim\n",
    "from gensim import corpora\n",
    "\n",
    "# Creating the term dictionary of our courpus, where every unique term is assigned an index. \n",
    "dictionary = corpora.Dictionary(doc_clean2)\n",
    "\n",
    "# Converting list of documents (corpus) into Document Term Matrix using dictionary prepared above.\n",
    "doc_term_matrix = [dictionary.doc2bow(doc) for doc in doc_clean2]"
   ]
  },
  {
   "cell_type": "markdown",
   "metadata": {
    "collapsed": true
   },
   "source": [
    "# Creating the object for LDA model using gensim library\n",
    "Lda = gensim.models.ldamodel.LdaModel\n",
    "\n",
    "# Running and Trainign LDA model on the document term matrix.\n",
    "ldamodel = Lda(doc_term_matrix, num_topics=50, id2word = dictionary, passes=10)"
   ]
  },
  {
   "cell_type": "markdown",
   "metadata": {
    "scrolled": true
   },
   "source": [
    "print(ldamodel.print_topics(num_topics=50, num_words=5))"
   ]
  },
  {
   "cell_type": "markdown",
   "metadata": {
    "collapsed": true
   },
   "source": [
    "model = gensim.models.Word2Vec(doc_clean)"
   ]
  },
  {
   "cell_type": "markdown",
   "metadata": {},
   "source": [
    "print(model)"
   ]
  },
  {
   "cell_type": "markdown",
   "metadata": {},
   "source": [
    "model.similarity('camera', 'battery')"
   ]
  },
  {
   "cell_type": "code",
   "execution_count": null,
   "metadata": {
    "collapsed": true
   },
   "outputs": [],
   "source": []
  },
  {
   "cell_type": "code",
   "execution_count": null,
   "metadata": {
    "collapsed": true
   },
   "outputs": [],
   "source": []
  }
 ],
 "metadata": {
  "kernelspec": {
   "display_name": "Python 3",
   "language": "python",
   "name": "python3"
  },
  "language_info": {
   "codemirror_mode": {
    "name": "ipython",
    "version": 3
   },
   "file_extension": ".py",
   "mimetype": "text/x-python",
   "name": "python",
   "nbconvert_exporter": "python",
   "pygments_lexer": "ipython3",
   "version": "3.6.1"
  }
 },
 "nbformat": 4,
 "nbformat_minor": 2
}
