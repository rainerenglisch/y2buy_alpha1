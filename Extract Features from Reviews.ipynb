{
 "cells": [
  {
   "cell_type": "code",
   "execution_count": 5,
   "metadata": {
    "scrolled": false
   },
   "outputs": [
    {
     "name": "stdout",
     "output_type": "stream",
     "text": [
      "count of reviews: 6644\n"
     ]
    }
   ],
   "source": [
    "import pymongo\n",
    "client = pymongo.MongoClient()\n",
    "mydb = client['y2buy_1']\n",
    "my_collection = mydb['reviews']\n",
    "\n",
    "doc_complete = [review_doc[\"buyerTranslationFeedback\"] \n",
    "                for review_doc in my_collection.find() \n",
    "                if \"buyerTranslationFeedback\" in review_doc.keys() ]\n",
    "\n",
    "print(\"count of reviews: \"+ str(len(doc_complete)))\n",
    "\n"
   ]
  },
  {
   "cell_type": "code",
   "execution_count": 15,
   "metadata": {
    "scrolled": false
   },
   "outputs": [
    {
     "name": "stdout",
     "output_type": "stream",
     "text": [
      "['msk', 'region', 'week', 'use', 'phone', 'thank', 'phone', 'hope', 'phone', 'recommend', 'phone', 'голдвея', 'recommend', 'seller', 'delivery', 'day', 'region', 'excellent', 'purchase', 'band', 'work', 'phone', 'payment', 'recommend', 'case', 'material', 'delicate', 'phone', 'region', 'week', 'purchase', 'thank', 'phone', 'seller', 'order', 'figment', 'work', 'week', 'gift', 'wrap', 'order', 'phone', 'seller', 'time', 'phone', 'seller', 'family', 'delivery', 'week', 'quality', 'gift', 'seller', 'film', 'screen', 'trifle', 'packaging', 'nothing', 'gift', 'phone', 'fire', 'everything', 'seller', 'charger', 'type', 'c', 'type', 'everything', 'order', 'phone', 'book', 'seller', 'everything', 'day', 'packaging', 'quality', 'everything', 'ok', 'day', 'phone', 'chelny', 'day', 'phone', 'everything', 'delivery', 'day', 'thank', 'phone', 'impression', 'seller', 'honest', 'moment', 'claim', 'phone', 'continue', 'week', 'time', 'everything', 'seller', 'order', 'excellent']\n"
     ]
    }
   ],
   "source": [
    "from nltk.corpus import stopwords\n",
    "from nltk.stem.wordnet import WordNetLemmatizer\n",
    "from nltk import word_tokenize\n",
    "import string\n",
    "stop = set(stopwords.words('english'))\n",
    "exclude = set(string.punctuation)\n",
    "lemma = WordNetLemmatizer()\n",
    "def clean(doc):\n",
    "    #stop_free = \" \".join([i for i in doc.lower().split() if i not in stop])\n",
    "    #punc_free = ''.join(ch for ch in stop_free if ch not in exclude)\n",
    "    tokens = word_tokenize(doc.lower())\n",
    "    normalized = \" \".join(lemma.lemmatize(token) for token in tokens if token not in stop and token not in exclude)\n",
    "    return normalized\n",
    "\n",
    "doc_clean = [clean(doc) for doc in doc_complete]   \n",
    "print(doc_clean[:100])"
   ]
  },
  {
   "cell_type": "code",
   "execution_count": 16,
   "metadata": {},
   "outputs": [
    {
     "name": "stdout",
     "output_type": "stream",
     "text": [
      "[('msk', 'JJ'), ('region', 'NN'), ('week', 'NN'), ('use', 'NN'), ('phone', 'NN'), ('thank', 'NN'), ('phone', 'NN'), ('hope', 'VBP'), ('phone', 'NN'), ('recommend', 'NN'), ('phone', 'NN'), ('голдвея', 'NNP'), ('recommend', 'VBP'), ('seller', 'NN'), ('delivery', 'NN'), ('day', 'NN'), ('region', 'NN'), ('excellent', 'JJ'), ('purchase', 'NN'), ('band', 'NN'), ('work', 'NN'), ('phone', 'NN'), ('payment', 'NN'), ('recommend', 'NN'), ('case', 'NN'), ('material', 'JJ'), ('delicate', 'NN'), ('phone', 'NN'), ('region', 'NN'), ('week', 'NN'), ('purchase', 'NN'), ('thank', 'VBD'), ('phone', 'NN'), ('seller', 'NN'), ('order', 'NN'), ('figment', 'NN'), ('work', 'NN'), ('week', 'NN'), ('gift', 'NN'), ('wrap', 'NN'), ('order', 'NN'), ('phone', 'NN'), ('seller', 'NN'), ('time', 'NN'), ('phone', 'NN'), ('seller', 'VBD'), ('family', 'NN'), ('delivery', 'NN'), ('week', 'NN'), ('quality', 'NN'), ('gift', 'NN'), ('seller', 'NN'), ('film', 'NN'), ('screen', 'NN'), ('trifle', 'NN'), ('packaging', 'VBG'), ('nothing', 'NN'), ('gift', 'NN'), ('phone', 'NN'), ('fire', 'NN'), ('everything', 'NN'), ('seller', 'NN'), ('charger', 'NN'), ('type', 'JJ'), ('c', 'NN'), ('type', 'NN'), ('everything', 'NN'), ('order', 'NN'), ('phone', 'NN'), ('book', 'NN'), ('seller', 'NN'), ('everything', 'NN'), ('day', 'NN'), ('packaging', 'VBG'), ('quality', 'NN'), ('everything', 'NN'), ('ok', 'JJ'), ('day', 'NN'), ('phone', 'NN'), ('chelny', 'NN'), ('day', 'NN'), ('phone', 'NN'), ('everything', 'NN'), ('delivery', 'NN'), ('day', 'NN'), ('thank', 'VB'), ('phone', 'NN'), ('impression', 'NN'), ('seller', 'NN'), ('honest', 'JJ'), ('moment', 'NN'), ('claim', 'NN'), ('phone', 'NN'), ('continue', 'VBP'), ('week', 'NN'), ('time', 'NN'), ('everything', 'NN'), ('seller', 'NN'), ('order', 'NN'), ('excellent', 'JJ')]\n"
     ]
    }
   ],
   "source": [
    "import nltk\n",
    "\n",
    "full_text = \" \".join([review for review in doc_clean])\n",
    "\n",
    "tokens = nltk.word_tokenize(full_text)\n",
    "\n",
    "tagged = nltk.pos_tag(tokens)\n",
    "print(tagged[:100])"
   ]
  },
  {
   "cell_type": "code",
   "execution_count": 17,
   "metadata": {},
   "outputs": [
    {
     "name": "stdout",
     "output_type": "stream",
     "text": [
      "[Tree('NOUN_PHRASE', [('msk', 'JJ'), ('region', 'NN'), ('week', 'NN'), ('use', 'NN'), ('phone', 'NN'), ('thank', 'NN'), ('phone', 'NN'), ('hope', 'VBP'), ('phone', 'NN'), ('recommend', 'NN'), ('phone', 'NN'), ('голдвея', 'NNP')]), ('recommend', 'VBP'), Tree('NOUN_PHRASE', [('seller', 'NN'), ('delivery', 'NN'), ('day', 'NN'), ('region', 'NN'), ('excellent', 'JJ'), ('purchase', 'NN'), ('band', 'NN'), ('work', 'NN'), ('phone', 'NN'), ('payment', 'NN'), ('recommend', 'NN'), ('case', 'NN')]), Tree('NOUN_PHRASE', [('material', 'JJ'), ('delicate', 'NN'), ('phone', 'NN'), ('region', 'NN'), ('week', 'NN'), ('purchase', 'NN'), ('thank', 'VBD'), ('phone', 'NN'), ('seller', 'NN'), ('order', 'NN'), ('figment', 'NN'), ('work', 'NN'), ('week', 'NN'), ('gift', 'NN'), ('wrap', 'NN'), ('order', 'NN'), ('phone', 'NN'), ('seller', 'NN'), ('time', 'NN'), ('phone', 'NN')]), ('seller', 'VBD'), Tree('NOUN_PHRASE', [('family', 'NN'), ('delivery', 'NN'), ('week', 'NN'), ('quality', 'NN'), ('gift', 'NN'), ('seller', 'NN'), ('film', 'NN'), ('screen', 'NN'), ('trifle', 'NN'), ('packaging', 'VBG'), ('nothing', 'NN'), ('gift', 'NN'), ('phone', 'NN'), ('fire', 'NN'), ('everything', 'NN'), ('seller', 'NN'), ('charger', 'NN')]), Tree('NOUN_PHRASE', [('type', 'JJ'), ('c', 'NN'), ('type', 'NN'), ('everything', 'NN'), ('order', 'NN'), ('phone', 'NN'), ('book', 'NN'), ('seller', 'NN'), ('everything', 'NN'), ('day', 'NN'), ('packaging', 'VBG'), ('quality', 'NN'), ('everything', 'NN')]), Tree('NOUN_PHRASE', [('ok', 'JJ'), ('day', 'NN'), ('phone', 'NN'), ('chelny', 'NN'), ('day', 'NN'), ('phone', 'NN'), ('everything', 'NN'), ('delivery', 'NN'), ('day', 'NN'), ('thank', 'VB'), ('phone', 'NN'), ('impression', 'NN'), ('seller', 'NN')]), Tree('NOUN_PHRASE', [('honest', 'JJ'), ('moment', 'NN'), ('claim', 'NN'), ('phone', 'NN'), ('continue', 'VBP'), ('week', 'NN'), ('time', 'NN'), ('everything', 'NN'), ('seller', 'NN'), ('order', 'NN')]), Tree('NOUN_PHRASE', [('excellent', 'JJ'), ('phone', 'NN'), ('work', 'NN'), ('hurray', 'NN'), ('order', 'NN'), ('time', 'NN'), ('phone', 'NN'), ('work', 'NN'), ('tyumen', 'NNS'), ('week', 'NN'), ('everything', 'NN'), ('order', 'NN'), ('everything', 'NN'), ('ok', 'JJ'), ('day', 'NN'), ('phone', 'NN'), ('chelny', 'NN'), ('day', 'NN'), ('phone', 'NN'), ('everything', 'NN'), ('delivery', 'NN'), ('day', 'NN')]), ('thank', 'VB'), Tree('NOUN_PHRASE', [('phone', 'NN'), ('impression', 'NN'), ('seller', 'NN'), ('honest', 'JJ'), ('moment', 'NN'), ('claim', 'NN'), ('phone', 'NN')]), ('continue', 'VBP'), Tree('NOUN_PHRASE', [('week', 'NN'), ('time', 'NN'), ('everything', 'NN'), ('seller', 'NN'), ('order', 'NN'), ('excellent', 'JJ'), ('phone', 'NN'), ('work', 'NN'), ('hurray', 'NN'), ('order', 'NN'), ('time', 'NN'), ('phone', 'NN'), ('work', 'NN'), ('tyumen', 'NNS'), ('week', 'NN'), ('level', 'NN')]), ('account', 'VBP'), Tree('NOUN_PHRASE', [('phone', 'NN'), ('store', 'NN'), ('week', 'NN'), ('everything', 'NN'), ('fine', 'JJ'), ('seller', 'NN'), ('recommend', 'NN'), ('everything', 'NN'), ('day', 'NN')]), ('gift', 'VB'), Tree('NOUN_PHRASE', [('bag', 'NN'), ('film', 'NN'), ('phone', 'NN'), ('seller', 'NN'), ('order', 'NN'), ('seller', 'NN'), ('july', 'NN'), ('post', 'NN'), ('office', 'NN'), ('altai', 'NN'), ('wife', 'NN'), ('seller', 'NN'), ('redmi', 'NN'), ('rekomenduyu', 'VBZ'), ('cost', 'NN'), ('minus', 'NNS'), ('everything', 'NN'), ('phone', 'NN'), ('seller', 'NN'), ('complaint', 'NN'), ('time', 'NN'), ('gift', 'NN'), ('cable', 'NN'), ('film', 'NN'), ('curve', 'NN'), ('garbage', 'NN'), ('phone', 'NN'), ('port', 'NN'), ('tv', 'NN'), ('antutu', 'NN'), ('супербюджетника', 'NNP'), ('screen', 'NN'), ('resolution', 'NN'), ('test', 'NN'), ('эпик', 'NN'), ('citadel', 'NN')]), Tree('NOUN_PHRASE', [('fps', 'JJ'), ('game', 'NN'), ('pull', 'JJ'), ('delivery', 'NN'), ('day', 'NN'), ('quality', 'NN'), ('speed', 'NN'), ('delivery', 'NN'), ('super', 'NN'), ('order', 'NN'), ('sochi', 'NN'), ('week', 'NN')]), Tree('NOUN_PHRASE', [('super', 'IN'), ('phone', 'NN'), ('thank', 'NN'), ('seller', 'NN'), ('thank', 'NN'), ('seller', 'NN'), ('everything', 'NN'), ('phone', 'NN'), ('thank', 'NN'), ('seller', 'NN'), ('organization', 'NN'), ('delivery', 'NN'), ('time', 'NN'), ('phone', 'NN'), ('phone', 'NN'), ('family', 'NN'), ('xiaomei', 'NNP'), ('сяомчик', 'CD'), ('year', 'NN'), ('product', 'NN'), ('parcel', 'NN')]), Tree('NOUN_PHRASE', [('нот4х', 'JJ'), ('delivery', 'NN'), ('week', 'NN'), ('phone', 'NN'), ('parcel', 'NN'), ('track', 'NN'), ('track', 'NN'), ('seller', 'NN'), ('sale', 'NN'), ('super', 'JJ'), ('tyumen', 'NNS'), ('day', 'NN'), ('everything', 'NN')]), Tree('NOUN_PHRASE', [('fine', 'JJ'), ('ulyanovsk', 'JJ'), ('day', 'NN'), ('seller', 'VBD'), ('everything', 'NN'), ('phone', 'NN'), ('day', 'NN'), ('березников', 'NNP'), ('perm', 'NN'), ('region', 'NN'), ('track', 'NN'), ('russia', 'NN'), ('phone', 'NN'), ('attachment', 'NN'), ('fitness', 'NN'), ('bracelet', 'NN'), ('headphone', 'NN')]), ('etc', 'FW'), ('etc', 'FW'), Tree('NOUN_PHRASE', [('film', 'NN'), ('quality', 'NN'), ('case', 'NN'), ('glass', 'NN'), ('cover', 'NN'), ('battery', 'NN'), ('recommend', 'VBP'), ('thank', 'NN'), ('phone', 'NN'), ('seller', 'NN'), ('time', 'NN'), ('delivery', 'NN'), ('krasnodar', 'NN'), ('region', 'NN'), ('day', 'NN'), ('region', 'NN'), ('day', 'NN'), ('condition', 'NN'), ('air', 'NN'), ('function', 'NN'), ('work', 'NN'), ('battery', 'NN')]), Tree('NOUN_PHRASE', [('touch', 'JJ'), ('screen', 'NN'), ('gps', 'NN'), ('work', 'NN'), ('camera', 'NN'), ('quality', 'NN'), ('age', 'NN'), ('floor', 'NN'), ('face', 'NN'), ('phone', 'NN'), ('cool', 'JJ'), ('feature', 'NN'), ('minus', 'NN')]), ('turn', 'VBP'), Tree('NOUN_PHRASE', [('advise', 'JJ'), ('respect', 'NN'), ('seller', 'NN'), ('thank', 'NN'), ('quality', 'NN'), ('delivery', 'NN'), ('day', 'NN'), ('gift', 'VB'), ('form', 'NN'), ('film', 'NN'), ('rekomenduyu', 'NN'), ('everything', 'NN')]), Tree('NOUN_PHRASE', [('fine', 'JJ'), ('time', 'NN'), ('everything', 'NN'), ('recommend', 'VB'), ('super', 'JJ'), ('vse', 'NN'), ('day', 'NN'), ('seller', 'NN'), ('film', 'NN'), ('adapter', 'NN'), ('socket', 'NN'), ('podarok', 'NN'), ('phone', 'NN')]), Tree('NOUN_PHRASE', [('samara', 'JJ'), ('day', 'NN'), ('record', 'NN'), ('outlet', 'NN'), ('film', 'NN'), ('gift', 'NN'), ('seller', 'NN'), ('thank', 'NN'), ('firmware', 'JJ')]), ('packaging', 'VBG'), Tree('NOUN_PHRASE', [('nothing', 'NN'), ('seller', 'NN'), ('recommend', 'VBP'), ('seller', 'NN'), ('phone', 'NN'), ('day', 'NN'), ('phone', 'NN'), ('film', 'NN'), ('gift', 'NN'), ('adapter', 'NN'), ('gift', 'NN'), ('work', 'NN'), ('seller', 'NN'), ('day', 'NN'), ('quality', 'NN'), ('packaging', 'NN'), ('adapter', 'NN'), ('film', 'NN'), ('screen', 'NN'), ('padarok', 'NN'), ('ay', 'NN'), ('da', 'NN'), ('seller', 'NN'), ('time', 'NN'), ('delivery', 'NN'), ('integrity', 'NN')]), ('vain', 'VBP'), Tree('NOUN_PHRASE', [('handsome', 'JJ'), ('region', 'NN'), ('day', 'NN'), ('package', 'VB'), ('track', 'NN'), ('point', 'NN')]), Tree('NOUN_PHRASE', [('receipt', 'JJ'), ('comment', 'NN'), ('order', 'NN'), ('standard-put', 'JJ'), ('form', 'NN'), ('film', 'NN'), ('screen', 'NN'), ('seller', 'NN'), ('thank', 'NN'), ('course', 'NN')]), Tree('NOUN_PHRASE', [('excellent', 'JJ'), ('phone', 'NN'), ('store', 'NN'), ('thank', 'NN'), ('point', 'NN'), ('seller', 'NN'), ('phone', 'NN'), ('price', 'NN'), ('adapter', 'NN'), ('charger', 'NN'), ('record', 'NN'), ('day', 'NN'), ('delivery', 'NN'), ('bashkiria', 'NN'), ('кумертау', 'NNP'), ('film', 'NN'), ('gift', 'NN'), ('day', 'NN'), ('phone', 'NN'), ('come', 'VB'), ('money', 'NN'), ('amount', 'NN'), ('seller', 'NN'), ('mail', 'NN'), ('parcel', 'NN'), ('phone', 'NN'), ('mail', 'NN'), ('russia', 'NN'), ('money', 'NN'), ('everything', 'NN')]), Tree('NOUN_PHRASE', [('fair', 'JJ'), ('phone', 'NN'), ('money', 'NN'), ('day', 'NN'), ('aggravation', 'IN'), ('dispute', 'NN'), ('seller', 'NN'), ('day', 'NN')]), ('moscow', 'VB'), Tree('NOUN_PHRASE', [('week', 'NN'), ('phone', 'NN'), ('mail', 'NN'), ('third', 'JJ'), ('phone', 'NN'), ('mail', 'NN'), ('russia', 'NN'), ('seller', 'NN'), ('money', 'NN'), ('problem', 'NN'), ('phone', 'NN')]), ('come', 'VBP'), Tree('NOUN_PHRASE', [('phone', 'NN'), ('child', 'JJ'), ('track', 'NN'), ('day', 'NN'), ('delivery', 'NN')]), Tree('NOUN_PHRASE', [('rostov', 'JJ'), ('region', 'NN'), ('day', 'NN'), ('phone', 'NN'), ('description', 'NN'), ('buy', 'NN'), ('thank', 'VBD'), ('seller', 'NN'), ('phone', 'NN')]), Tree('NOUN_PHRASE', [('husband', 'CD'), ('month', 'NN'), ('everything', 'NN'), ('downside', 'NN'), ('glass', 'NN'), ('небьющимся', 'NNP'), ('film', 'NN'), ('everything', 'NN'), ('phone', 'NN'), ('super', 'JJ'), ('description', 'NN'), ('phone', 'NN'), ('xiaomi', 'NNP'), ('family', 'NN'), ('week', 'NN')]), Tree('NOUN_PHRASE', [('moscow', 'JJ'), ('order', 'NN'), ('day', 'NN'), ('mail', 'VB'), ('phone', 'NN'), ('message', 'NN'), ('dispute', 'NN'), ('amount', 'NN'), ('seller', 'NN'), ('guilt', 'NN'), ('everything', 'NN')]), Tree('NOUN_PHRASE', [('perfect', 'JJ'), ('phone', 'NN'), ('cover', 'NN'), ('glass', 'NN'), ('everything', 'NN'), ('week', 'NN'), ('phone', 'NN'), ('charge', 'NN'), ('day', 'NN'), ('use', 'IN'), ('glass', 'NN')]), Tree('NOUN_PHRASE', [('touch', 'JJ'), ('time', 'NN'), ('card', 'NN')]), ('sim', 'FW'), Tree('NOUN_PHRASE', [('card', 'JJ'), ('memory', 'NN'), ('card', 'NN'), ('phone', 'NN'), ('condition', 'NN'), ('day', 'NN'), ('day', 'NN'), ('phone', 'NN'), ('price', 'NN'), ('language', 'NN'), ('board', 'NN'), ('order', 'NN'), ('area', 'NN'), ('drive', 'NN'), ('km', 'NN'), ('money', 'NN'), ('makhachkala', 'NN'), ('мсц', 'NNP'), ('phone', 'NN'), ('device', 'NN'), ('battery', 'NN'), ('match', 'NN'), ('day', 'NN'), ('day', 'NN'), ('shame', 'VB'), ('phone', 'NN'), ('phone', 'NN'), ('track', 'NN'), ('отслеживаемы', 'NNP'), ('phone', 'NN'), ('glass', 'NN'), ('screen', 'NN'), ('glass', 'NN'), ('perimeter', 'NN'), ('screen', 'NN'), ('film', 'NN'), ('quality', 'NN'), ('бронестекла', 'NNP'), ('seller', 'NN'), ('direction', 'NN'), ('dealer', 'NN'), ('phone', 'NN'), ('look', 'NN'), ('work', 'NN')]), Tree('NOUN_PHRASE', [('im', 'RB'), ('seller', 'JJ'), ('reputation', 'NN'), ('seller', 'NN'), ('thank', 'NN'), ('communication', 'NN'), ('seller', 'VBD'), ('month', 'NN'), ('airport', 'NN'), ('entregarce', 'NN'), ('problem', 'NN'), ('chile', 'NN'), ('..', 'NNP'), ('excellent', 'NN'), ('team', 'NN'), ('quality', 'NN'), ('price', 'NN'), ('..', 'NNP'), ('phone', 'NN'), ('region', 'NN'), ('week', 'NN'), ('quality', 'NN'), ('work', 'NN'), ('firmware', 'NN'), ('phone', 'NN'), ('delivery', 'NN'), ('everything', 'NN'), ('work', 'NN'), ('thank', 'NN'), ('bomb', 'NN'), ('order', 'NN'), ('firmware', 'NN'), ('store', 'NN'), ('phone', 'NN'), ('description', 'NN'), ('meet', 'NN'), ('phone', 'NN'), ('thanks', 'NNS'), ('phone', 'NN'), ('time', 'NN'), ('work', 'NN'), ('delivery', 'NN'), ('week', 'NN'), ('order', 'NN'), ('time', 'NN'), ('product', 'NN'), ('thank', 'NN'), ('phone', 'NN'), ('week', 'NN'), ('everything', 'NN'), ('work', 'NN'), ('camera', 'NN'), ('charge', 'NN'), ('day', 'NN')]), ('use', 'VB'), Tree('NOUN_PHRASE', [('seller', 'NN'), ('yak', 'NN'), ('zamovlyav', 'NNP'), ('dyakuyu', 'NN'), ('fast', 'RB'), ('delivery', 'NN'), ('samara', 'NN'), ('region', 'NN'), ('week', 'NN'), ('money', 'NN'), ('phone', 'NN'), ('fire', 'NN'), ('battery', 'NN'), ('week', 'NN'), ('time', 'NN'), ('charge', 'NN'), ('camera', 'NN')]), Tree('NOUN_PHRASE', [('cool', 'JJ'), ('asus', 'NN'), ('sensor', 'NN'), ('everything', 'NN'), ('super', 'JJ'), ('day', 'NN'), ('film', 'NN'), ('gift', 'NN'), ('thank', 'NN'), ('seller', 'NN'), ('super', 'NN'), ('phone', 'NN'), ('week', 'NN'), ('gift', 'NN'), ('film', 'NN'), ('seller', 'NN'), ('phone', 'NN'), ('seller', 'NN'), ('recommend', 'NN')]), ('thank', 'VBD'), Tree('NOUN_PHRASE', [('recommend', 'JJ'), ('advantage', 'NN'), ('quality', 'NN'), ('squeak', 'VBP'), ('play', 'NN'), ('display', 'NN'), ('size', 'NN'), ('size', 'NN'), ('phone', 'NN'), ('color', 'NN'), ('coal', 'NN'), ('performance', 'NN'), ('skaner', 'NN')]), Tree('NOUN_PHRASE', [('fingerprint', 'JJ'), ('disadvantage', 'NN'), ('navigation', 'NN'), ('year', 'NN'), ('use', 'NN'), ('smartphones', 'NNS'), ('location', 'NN'), ('button', 'NN'), ('press', 'NN'), ('bez', 'NN'), ('cover', 'NN'), ('case', 'NN'), ('tray', 'JJ'), ('day', 'NN')]), ('treat', 'VB'), Tree('NOUN_PHRASE', [('version', 'NN'), ('space', 'NN'), ('front', 'NN'), ('camera', 'NN'), ('self', 'NN'), ('phone', 'NN'), ('sits', 'NNS'), ('hand', 'NN'), ('хрустов', 'NNP'), ('backlash', 'NN'), ('camera', 'NN'), ('silicone', 'NN'), ('chehol', 'NN'), ('case', 'NN'), ('compress', 'NN'), ('phone', 'NN'), ('dirt', 'NN'), ('phone', 'NN'), ('film', 'NN'), ('difficulty', 'NN'), ('money', 'NN'), ('telefonchik', 'JJ'), ('delivery', 'NN'), ('day', 'NN')]), ('got', 'VBD'), Tree('NOUN_PHRASE', [('film', 'NN'), ('adapter', 'NN'), ('outlet', 'NN'), ('phone', 'NN'), ('money', 'NN'), ('bomb', 'NN'), ('fire', 'NN'), ('gift', 'NN'), ('dob', 'JJ'), ('time', 'NN'), ('picture', 'NN'), ('photo', 'NN'), ('shopping', 'NN'), ('store', 'NN'), ('wbc', 'NN'), ('smartphone', 'NN'), ('seller', 'NN'), ('krasnoyarsk', 'NN'), ('day', 'NN'), ('product', 'NN'), ('packaging', 'NN'), ('seller', 'NN'), ('day', 'NN'), ('delivery', 'NN'), ('day', 'NN'), ('phone', 'NN'), ('speaker', 'NN'), ('camera', 'NN'), ('adapter', 'NN'), ('socket', 'NN'), ('film', 'NN'), ('gift', 'NN'), ('thank', 'NN'), ('seller', 'NN'), ('thank', 'NN'), ('seller', 'NN'), ('day', 'NN'), ('description', 'NN'), ('coincides', 'NNS'), ('purchase', 'NN'), ('purchase', 'NN'), ('phone', 'NN'), ('order', 'NN'), ('week', 'NN'), ('seller', 'NN'), ('thank', 'NN')]), ('packaging', 'VBG'), Tree('NOUN_PHRASE', [('phone', 'NN'), ('работаетает', 'NNP'), ('hang', 'VBD'), ('day', 'NN'), ('seller', 'NN'), ('thx', 'NN'), ('week', 'NN'), ('everything', 'NN')]), Tree('NOUN_PHRASE', [('fine', 'JJ'), ('week', 'NN'), ('gift', 'NN'), ('wrap', 'NN'), ('cover', 'NN'), ('phone', 'NN'), ('condition', 'NN'), ('everything', 'NN'), ('work', 'NN'), ('bashkiria', 'RB'), ('day', 'NN'), ('record', 'NN'), ('minus', 'NN'), ('block', 'NN'), ('power', 'NN')]), ('get', 'VB'), Tree('NOUN_PHRASE', [('purchase', 'JJ'), ('day', 'NN'), ('proveril', 'VBD'), ('work', 'NN'), ('siaomi', 'NN'), ('verification', 'NN'), ('authenticity', 'NN'), ('site', 'NN'), ('phone', 'NN'), ('gift', 'NN')]), Tree('NOUN_PHRASE', [('use', 'IN'), ('thing', 'NN'), ('gold', 'NN'), ('operation', 'NN'), ('fast', 'RB'), ('delivery', 'NN'), ('week', 'NN'), ('phone', 'NN'), ('price', 'NN')]), ('take', 'VB'), Tree('NOUN_PHRASE', [('seller', 'NN'), ('time', 'NN'), ('everything', 'NN'), ('phone', 'NN'), ('week', 'NN'), ('beautiful', 'JJ'), ('work', 'NN'), ('recommend', 'NN'), ('russia', 'NN')]), ('rear', 'VBP'), Tree('NOUN_PHRASE', [('camera', 'NN'), ('everything', 'NN'), ('track', 'NN'), ('week', 'NN'), ('packaging', 'NN'), ('dealer', 'NN'), ('product', 'NN'), ('speck', 'NN'), ('dust', 'NN'), ('film', 'NN'), ('screen', 'NN'), ('monitor', 'NN'), ('scratch', 'NN'), ('complaint', 'NN'), ('delivery', 'NN'), ('week', 'NN'), ('high-quality', 'NN'), ('film', 'NN'), ('adapter', 'NN'), ('socket', 'NN'), ('podarok', 'NN'), ('голдвея', 'NNP'), ('phone', 'NN'), ('day', 'NN'), ('everything', 'NN'), ('work', 'NN'), ('everything', 'NN'), ('everything', 'NN'), ('order', 'NN'), ('seller', 'NN'), ('phone', 'NN'), ('everything', 'NN'), ('super', 'NN'), ('everything', 'NN'), ('phone', 'NN'), ('super', 'JJ'), ('seller', 'NN'), ('phone', 'NN'), ('everything', 'NN'), ('advise', 'NN'), ('everything', 'NN'), ('super', 'NN'), ('phone', 'NN'), ('work', 'NN'), ('week', 'NN'), ('day', 'NN'), ('delivery', 'NN'), ('day', 'NN'), ('mail', 'NN'), ('day', 'NN'), ('phone', 'NN'), ('seller', 'NN')]), Tree('NOUN_PHRASE', [('super', 'IN'), ('phone', 'NN'), ('everything', 'NN'), ('work', 'NN'), ('hang', 'NN'), ('something', 'NN'), ('rule', 'JJ'), ('price', 'NN'), ('class', 'NN'), ('photo', 'NN'), ('box', 'NN'), ('review', 'NN'), ('condition', 'NN'), ('gift', 'NN'), ('film', 'NN'), ('everything', 'NN'), ('super', 'NN'), ('megabystro', 'NN')]), Tree('NOUN_PHRASE', [('glad', 'JJ'), ('phone', 'NN'), ('store', 'NN'), ('phone', 'NN'), ('quality', 'NN'), ('delivery', 'NN'), ('damage', 'NN'), ('gift', 'NN'), ('thank', 'NN'), ('deal', 'NN'), ('time', 'NN'), ('everything', 'NN'), ('packaging', 'NN'), ('day', 'NN'), ('product', 'NN'), ('extension', 'NN'), ('megabonus', 'NN'), ('extension', 'NN'), ('megabonus', 'NN'), ('help', 'NN'), ('purchase', 'NN'), ('aliexpress', 'NN'), ('reference', 'NN'), ('воспользуетесь', 'NNP')]), ('megabonus', 'CC'), Tree('NOUN_PHRASE', [('level', 'JJ'), ('day', 'NN'), ('money', 'NN'), ('phone', 'NN'), ('delivery', 'NN'), ('day', 'NN'), ('husband', 'NN'), ('thank', 'VB'), ('seller', 'NN'), ('everything', 'NN'), ('delivery', 'NN')]), Tree('NOUN_PHRASE', [('rostov', 'JJ'), ('region', 'NN'), ('day', 'NN'), ('phone', 'NN'), ('box', 'NN'), ('firmware', 'NN'), ('gift', 'NN'), ('film', 'NN'), ('glass', 'NN'), ('adapter', 'NN'), ('seller', 'NN'), ('sent', 'VBD'), ('parcel', 'JJ'), ('hour', 'NN'), ('payment', 'NN'), ('phone', 'NN'), ('everything', 'NN'), ('thank', 'NN'), ('seller', 'NN'), ('delivery', 'NN'), ('week', 'NN'), ('date', 'NN'), ('order', 'NN'), ('order', 'NN'), ('phone', 'NN'), ('phone', 'NN'), ('day', 'NN'), ('date', 'NN'), ('order', 'NN'), ('everything', 'NN'), ('work', 'NN'), ('firmware', 'NN'), ('playmarket', 'NN'), ('application', 'NN'), ('problem', 'NN'), ('camera', 'NN'), ('battery', 'NN'), ('seller', 'NN'), ('outlet', 'NN'), ('everything', 'NN'), ('book', 'NN'), ('seller', 'NN'), ('phone', 'NN'), ('delivery', 'NN'), ('week', 'NN'), ('mound', 'NN'), ('description', 'NN'), ('work', 'NN'), ('phone', 'NN'), ('order', 'NN'), ('seller', 'NN')]), Tree('NOUN_PHRASE', [('super', 'JJ'), ('delivery', 'NN'), ('day', 'NN'), ('region', 'NN'), ('seller', 'NN'), ('thanks', 'NNS'), ('phone', 'NN'), ('order', 'NN'), ('use', 'NN'), ('cover', 'NN'), ('panel', 'NN'), ('product', 'NN'), ('extension', 'NN'), ('megabonus', 'NN'), ('extension', 'NN'), ('megabonus', 'NN'), ('help', 'NN'), ('purchase', 'NN'), ('aliexpress', 'NN'), ('megabonus', 'NN'), ('воспользуетесь', 'NNP'), ('reference', 'NN'), ('co', 'NN'), ('everything', 'NN'), ('shipping', 'NN'), ('russia', 'NN'), ('phone', 'NN'), ('day', 'NN'), ('battery', 'NN'), ('time', 'NN'), ('galaxy', 'JJ'), ('s3', 'NN'), ('phone', 'NN'), ('time', 'NN')]), Tree('NOUN_PHRASE', [('tambov', 'JJ'), ('otpravki', 'NN'), ('phone', 'NN'), ('muzh', 'NN'), ('case', 'NN'), ('seller', 'NN'), ('phone', 'NN'), ('day', 'NN'), ('phone', 'NN'), ('seller', 'NN'), ('minus', 'NN'), ('podmyataya', 'VBP'), ('phone', 'NN'), ('everything', 'NN'), ('work', 'NN'), ('region', 'NN'), ('phone', 'NN'), ('phone', 'NN'), ('day', 'NN')]), Tree('NOUN_PHRASE', [('vologda', 'IN'), ('purchase', 'NN'), ('дополнб', 'NNP'), ('photo', 'NN'), ('glass', 'NN'), ('fact', 'NN'), ('color', 'NN'), ('seller', 'NN'), ('handsome', 'NN'), ('phone', 'NN'), ('sound', 'JJ'), ('charge', 'NN'), ('order', 'NN'), ('time', 'NN'), ('region', 'NN'), ('day', 'NN')]), Tree('NOUN_PHRASE', [('super', 'JJ'), ('week', 'NN'), ('day', 'NN'), ('phone', 'NN'), ('condition', 'NN'), ('everything', 'NN'), ('super', 'NN'), ('everything', 'NN'), ('okay', 'JJ'), ('day', 'NN'), ('store', 'NN'), ('pink', 'NN'), ('film', 'NN'), ('screen', 'NN'), ('gift', 'NN'), ('premise', 'NN'), ('phone', 'NN'), ('wife', 'NN'), ('seller', 'NN'), ('phone', 'NN'), ('phone', 'NN'), ('unit', 'NN')]), Tree('NOUN_PHRASE', [('dhl', 'JJ'), ('month', 'NN'), ('seller', 'NN'), ('wait', 'NN'), ('power', 'NN'), ('return', 'NN'), ('price', 'NN'), ('dial', 'NN'), ('phone', 'NN'), ('half', 'NN'), ('price', 'NN'), ('delivery', 'NN'), ('dimitrovgrad', 'NN'), ('post', 'NN'), ('day', 'NN'), ('film', 'NN'), ('quality', 'NN'), ('seller', 'NN'), ('fast', 'JJ'), ('delivery', 'NN'), ('work', 'NN')]), Tree('NOUN_PHRASE', [('sim', 'RB'), ('card', 'JJ'), ('repair', 'NN'), ('dispute', 'NN'), ('seller', 'NN'), ('part', 'NN'), ('amount', 'NN'), ('week', 'NN'), ('seller', 'NN'), ('phone', 'NN'), ('phone', 'NN'), ('super', 'NN'), ('week', 'NN'), ('region', 'NN'), ('mail', 'NN'), ('singapore', 'NN'), ('track', 'NN'), ('seller', 'NN'), ('polite', 'NN'), ('phone', 'NN'), ('order', 'NN'), ('everything', 'NN'), ('perfect', 'JJ'), ('thank', 'JJ'), ('excellent', 'NN'), ('phone', 'NN'), ('father', 'NN'), ('ok', 'NN'), ('advise', 'NN')]), ('buy', 'VB'), Tree('NOUN_PHRASE', [('delivery', 'NN'), ('thought', 'VBN'), ('month', 'NN'), ('week', 'NN'), ('corresponds', 'NNS')]), ('work', 'VBP'), Tree('NOUN_PHRASE', [('sort', 'RB'), ('frequency', 'NN'), ('range', 'NN'), ('network', 'NN'), ('match', 'NN'), ('location', 'NN'), ('astana', 'IN'), ('seller', 'NN'), ('gift', 'NN'), ('adapter', 'NN'), ('film', 'NN'), ('screen', 'NN'), ('everything', 'NN'), ('cool', 'NN'), ('phone', 'NN'), ('wife', 'NN'), ('gold', 'NN'), ('conscience', 'NN'), ('purchase', 'NN')]), ('recommend', 'VBP'), Tree('NOUN_PHRASE', [('seller', 'NN'), ('delivery', 'NN'), ('thought', 'VBD'), ('month', 'NN'), ('week', 'NN'), ('corresponds', 'NNS')]), ('work', 'VBP'), Tree('NOUN_PHRASE', [('sort', 'RB'), ('frequency', 'NN'), ('range', 'NN'), ('network', 'NN'), ('match', 'NN'), ('location', 'NN'), ('astana', 'IN'), ('seller', 'NN'), ('gift', 'NN'), ('adapter', 'NN'), ('film', 'NN'), ('screen', 'NN'), ('everything', 'NN'), ('cool', 'NN'), ('phone', 'NN'), ('wife', 'NN'), ('gold', 'NN'), ('conscience', 'NN'), ('purchase', 'NN'), ('seller', 'NN'), ('phone', 'NN'), ('order', 'NN'), ('time', 'NN'), ('case', 'NN'), ('phone', 'NN'), ('order', 'NN'), ('day', 'NN'), ('day', 'NN')]), ('china', 'VB'), Tree('NOUN_PHRASE', [('problem', 'NN'), ('impression', 'NN'), ('seller', 'NN'), ('receipt', 'NN'), ('order', 'NN'), ('phone', 'NN'), ('course', 'NN'), ('wait', 'VBP'), ('month', 'NN'), ('money', 'NN'), ('problem', 'NN')]), ('parcel', 'VBP'), Tree('NOUN_PHRASE', [('moscow', 'NN'), ('money', 'NN'), ('problem', 'NN'), ('seller', 'NN'), ('product', 'NN'), ('speed', 'NN'), ('delivery', 'NN'), ('phone', 'NN'), ('week', 'NN'), ('seller', 'NN'), ('gift', 'NN'), ('glass', 'NN'), ('bonus', 'NN'), ('time', 'NN'), ('receipt', 'NN'), ('phone', 'NN'), ('today', 'NN'), ('phone', 'NN'), ('result', 'NN'), ('time', 'NN'), ('nerve', 'NN'), ('refund', 'NN'), ('phone', 'NN'), ('day', 'NN'), ('everything', 'NN'), ('work', 'NN'), ('thank', 'NN'), ('seller', 'NN'), ('star', 'NN'), ('reach', 'VBP'), ('custom', 'NN'), ('post', 'NN'), ('office', 'NN'), ('earth', 'NN')]), ('parcel', 'VBP'), Tree('NOUN_PHRASE', [('leg', 'JJ'), ('impression', 'NN'), ('взаимосвязано', 'NNP'), ('product', 'NN'), ('office', 'NN'), ('thence', 'NN'), ('search', 'NN'), ('reply', 'VB'), ('territory', 'JJ'), ('russia', 'NNS')]), ('dispute', 'VBP'), Tree('NOUN_PHRASE', [('ali', 'JJ'), ('money', 'NN'), ('star', 'NN'), ('jamb', 'NN'), ('seller', 'NN'), ('отправившего', 'NNP'), ('mail', 'NN'), ('russia', 'NN'), ('thief', 'NN'), ('cover', 'NN'), ('cool', 'VBP'), ('phone', 'NN'), ('money', 'NN'), ('analog', 'NN'), ('wife', 'NN'), ('gift', 'NN'), ('work', 'NN'), ('dr', 'NN'), ('order', 'NN'), ('seller', 'NN')]), Tree('NOUN_PHRASE', [('super', 'JJ'), ('phone', 'NN'), ('day', 'NN'), ('daughter', 'VB'), ('day', 'NN'), ('phone', 'NN'), ('camera', 'NN'), ('function', 'NN'), ('petersburg', 'NN'), ('week', 'NN'), ('money', 'NN'), ('phone', 'NN'), ('order', 'NN'), ('seller', 'NN'), ('phone', 'NN'), ('seller', 'NN'), ('split', 'NN'), ('order', 'NN'), ('phone', 'NN'), ('colors-one', 'NN'), ('phone', 'NN'), ('end', 'NN'), ('use', 'NN'), ('coupon', 'NN'), ('discount', 'NN'), ('seller', 'NN'), ('phone', 'NN'), ('phone', 'NN'), ('phone', 'NN'), ('order', 'NN'), ('time', 'NN'), ('result', 'NN'), ('phone', 'NN'), ('plane', 'NN'), ('country', 'NN'), ('information', 'NN'), ('seller', 'NN'), ('money', 'NN'), ('day', 'NN'), ('protection', 'NN'), ('order', 'NN'), ('end', 'NN'), ('money', 'NN'), ('phone', 'NN'), ('order', 'NN'), ('aliekspress', 'NN'), ('day', 'NN'), ('date', 'NN'), ('order', 'NN'), ('seller', 'NN'), ('glass', 'NN'), ('phone', 'NN'), ('film', 'NN'), ('seller', 'NN'), ('order', 'NN'), ('anything', 'NN')]), ('damage', 'VB'), Tree('NOUN_PHRASE', [('money', 'NN'), ('delivery', 'NN'), ('description', 'NN'), ('polyethylene', 'NN'), ('box', 'NN'), ('cable', 'NN'), ('film', 'NN'), ('phone', 'NN'), ('work', 'NN'), ('pokupkoy', 'NN'), ('seller', 'NN'), ('phone', 'NN'), ('camera', 'NN'), ('conversation', 'NN'), ('interlocutor', 'NN'), ('hand', 'NN'), ('phone', 'NN'), ('order', 'NN'), ('sm', 'NN'), ('answer', 'NN'), ('parcel', 'NN'), ('box', 'NN'), ('track', 'NN'), ('parcel', 'NN'), ('day', 'NN'), ('daughter', 'VB'), ('book', 'NN'), ('phone', 'NN'), ('condition', 'NN'), ('everything', 'NN'), ('work', 'NN'), ('camera', 'NN'), ('phone', 'NN'), ('money', 'NN'), ('everything', 'NN')]), Tree('NOUN_PHRASE', [('fine', 'JJ'), ('delivery', 'NN'), ('thank', 'NN'), ('seller', 'NN'), ('altitude', 'NN'), ('time', 'NN'), ('everything', 'NN'), ('day', 'NN'), ('date', 'NN'), ('order', 'NN'), ('kazakhstan', 'NN'), ('taraz', 'NN'), ('product', 'NN'), ('match', 'NN'), ('description', 'NN'), ('seller', 'NN'), ('phone', 'NN'), ('week', 'NN'), ('version', 'NN'), ('phone', 'NN'), ('charger', 'NN'), ('adapter', 'NN'), ('outlet', 'NN'), ('firmware', 'NN'), ('shoal', 'NN'), ('sign', 'NN'), ('version', 'NN'), ('phone', 'NN'), ('глабальная', 'NNP'), ('description', 'NN'), ('bottom', 'NN'), ('box', 'NN'), ('seller', 'NN'), ('piece', 'NN'), ('glass', 'NN'), ('glass', 'NN'), ('emission', 'NN'), ('time', 'NN'), ('week', 'NN'), ('month', 'NN'), ('phone', 'NN'), ('order', 'NN'), ('phone', 'NN'), ('week', 'NN'), ('everything', 'NN'), ('packaging', 'NN'), ('phone', 'NN'), ('super', 'JJ'), ('seller', 'NN'), ('mail', 'NN'), ('film', 'NN'), ('everything', 'NN'), ('seller', 'NN'), ('time', 'NN'), ('order', 'NN'), ('store', 'NN'), ('денного', 'NNP'), ('seller', 'NN'), ('phone', 'NN'), ('day', 'NN'), ('price', 'NN'), ('time', 'NN')])]\n"
     ]
    }
   ],
   "source": [
    "#nouns = [token for token, pos in tagged if pos.startswith('N')]\n",
    "#print(nouns)\n",
    "  \t\n",
    "grammar = r\"\"\"\n",
    "  NOUN_PHRASE:  {<CD|IN|DT|JJ|PP|RB|\\$>*<N.*>+<V.*>*<CD|IN|DT|JJ|PP|RB|\\$>*<N.*>*}  \n",
    "\"\"\"\n",
    "cp = nltk.RegexpParser(grammar)\n",
    "noun_phrase_tagged = cp.parse(tagged)\n",
    "print(noun_phrase_tagged[:100])\n",
    "#doc_complete = nouns"
   ]
  },
  {
   "cell_type": "code",
   "execution_count": 18,
   "metadata": {
    "scrolled": true
   },
   "outputs": [
    {
     "name": "stdout",
     "output_type": "stream",
     "text": [
      "['region', 'week', 'use', 'phone', 'thank', 'phone', 'phone', 'recommend', 'phone', 'голдвея', 'seller', 'delivery', 'day', 'region', 'purchase', 'band', 'work', 'phone', 'payment', 'recommend', 'case', 'delicate', 'phone', 'region', 'week', 'purchase', 'phone', 'seller', 'order', 'figment', 'work', 'week', 'gift', 'wrap', 'order', 'phone', 'seller', 'time', 'phone', 'family', 'delivery', 'week', 'quality', 'gift', 'seller', 'film', 'screen', 'trifle', 'nothing', 'gift', 'phone', 'fire', 'everything', 'seller', 'charger', 'c', 'type', 'everything', 'order', 'phone', 'book', 'seller', 'everything', 'day', 'quality', 'everything', 'day', 'phone', 'chelny', 'day', 'phone', 'everything', 'delivery', 'day', 'phone', 'impression', 'seller', 'moment', 'claim', 'phone', 'week', 'time', 'everything', 'seller', 'order', 'phone', 'work', 'hurray', 'order', 'time', 'phone', 'work', 'tyumen', 'week', 'everything', 'order', 'everything', 'day', 'phone', 'chelny']\n"
     ]
    }
   ],
   "source": [
    "def traverse(t,noun_phrases):\n",
    "    try:\n",
    "        t.label()\n",
    "    except AttributeError:\n",
    "        n=0\n",
    "    else:\n",
    "        if t.label() == 'NOUN_PHRASE': \n",
    "            [noun_phrases.append(word) for (word,pos) in t.leaves() if pos.startswith(\"N\")]\n",
    "            #print(statement)\n",
    "            #noun_phrases = noun_phrases.append(noun_phrase)\n",
    "        # Now we know that t.node is defined\n",
    "        #print('(', t.label(), end=\" \")\n",
    "        for child in t:\n",
    "            traverse(child,noun_phrases)\n",
    "        #print(')', end=\" \")\n",
    "    return noun_phrases\n",
    "\n",
    "noun_phrases=[]\n",
    "nouns=traverse(noun_phrase_tagged,noun_phrases)\n",
    "print(nouns[:100])\n",
    "doc_complete = nouns"
   ]
  },
  {
   "cell_type": "code",
   "execution_count": 10,
   "metadata": {
    "scrolled": true
   },
   "outputs": [
    {
     "name": "stdout",
     "output_type": "stream",
     "text": [
      "[('phone', 4643), ('seller', 3124), ('day', 2265), ('everything', 1538), ('week', 1162), ('delivery', 1162), ('work', 1062), ('order', 1007), ('film', 808), ('time', 721), ('thank', 624), ('money', 621), ('gift', 524), ('quality', 459), ('recommend', 451), ('glass', 360), ('description', 360), ('problem', 358), ('case', 312), ('super', 309), ('track', 292), ('camera', 292), ('adapter', 290), ('screen', 289), ('purchase', 283), ('firmware', 283), ('region', 274), ('month', 274), ('product', 261), ('custom', 243), ('battery', 239), ('packaging', 225), ('price', 217), ('mail', 215), ('box', 205), ('\\\\\\\\_', 202), ('parcel', 189), ('thanks', 178), ('use', 169), ('smartphone', 168), ('russia', 164), ('advise', 161), ('shipping', 160), ('complaint', 148), ('store', 147), ('silicone', 139), ('post', 137), ('package', 137), ('fine', 135), ('dispute', 131), ('charge', 126), ('air', 122), ('cover', 121), ('way', 116), ('question', 111), ('extension', 110), ('photo', 109), ('star', 108), ('color', 105), ('excellent', 104), ('review', 103), ('sound', 103), ('date', 99), ('hand', 98), ('device', 96), ('condition', 94), ('version', 94), ('alibonus', 94), ('fast', 92), ('service', 89), ('payment', 87), ('cool', 87), ('wife', 83), ('nothing', 80), ('headphone', 78), ('singapore', 78), ('outlet', 77), ('office', 76), ('everyone', 76), ('help', 74), ('look', 72), ('charger', 70), ('card', 69), ('picture', 69), ('level', 68), ('moscow', 67), ('match', 67), ('thing', 67), ('damage', 67), ('aliexpress', 67), ('come', 66), ('buy', 65), ('fire', 64), ('xiaomi', 63), ('point', 62), ('..', 62), ('refund', 62), ('socket', 61), ('hour', 60), ('fingerprint', 57)]\n"
     ]
    }
   ],
   "source": [
    "from nltk import FreqDist\n",
    "import nltk\n",
    "#print(doc_clean)\n",
    "#words = nltk.tokenize.word_tokenize(doc_clean)\n",
    "all_reviews_in_one_string = \" \".join([doc for doc in doc_clean])\n",
    "\n",
    "words = nltk.tokenize.word_tokenize(all_reviews_in_one_string)\n",
    "fdist = FreqDist(noun_phrases) \n",
    "frequent_words_freq = fdist.most_common(100)\n",
    "print(frequent_words_freq )\n",
    "#fdist.plot()\n",
    "frequent_words= [w for (w,c) in frequent_words_freq]\n",
    "#print(frequent_words)\n",
    "\n"
   ]
  },
  {
   "cell_type": "markdown",
   "metadata": {},
   "source": [
    "def clean(doc):\n",
    "    tokens = word_tokenize(doc)\n",
    "    only_frqt_words = \" \".join([token for token in tokens if token in frequent_words])\n",
    "    return only_frqt_words \n",
    "\n",
    "#doc_clean2 = [clean(doc) for doc in doc_clean] \n",
    "doc_clean2 = [clean(doc).split() for doc in doc_clean] \n",
    "#print(doc_clean2)"
   ]
  },
  {
   "cell_type": "markdown",
   "metadata": {},
   "source": [
    "Now find snippets in the review with these frequent nouns"
   ]
  },
  {
   "cell_type": "code",
   "execution_count": 11,
   "metadata": {},
   "outputs": [
    {
     "name": "stdout",
     "output_type": "stream",
     "text": [
      "['smart phone recommend great phone', 'happy purchase band work perfect dial phone']\n",
      "phone has absolute avg sentiment 0.40289711895910735\n",
      "['happy purchase thank great phone seller', 'fine ecb 3 week put gift wrap order phone seller']\n",
      "seller has absolute avg sentiment 0.4087893154190664\n",
      "['everything tracked day packaging quality', 'excellent everything ok came 14 day']\n",
      "day has absolute avg sentiment 0.2388339613970596\n",
      "['fine seller forgot put adapter charger type c type everything', 'everything tracked day packaging quality']\n",
      "everything has absolute avg sentiment 0.4027710273972607\n",
      "['samara region two week', 'fine ecb 3 week put gift wrap order phone seller']\n",
      "week has absolute avg sentiment 0.26532710526315806\n",
      "['always super delivery 2 week quality', 'fine delivery 9 day']\n",
      "delivery has absolute avg sentiment 0.3510705676855896\n",
      "['store good good figment satisfied recommend work', 'model-the third work']\n",
      "work has absolute avg sentiment 0.3732034383954153\n",
      "['fine ecb 3 week put gift wrap order phone seller', 'super order afraid third phone book seller']\n",
      "order has absolute avg sentiment 0.3102069035532994\n",
      "['fine 15 day shipping gift bag film', 'without extra gift charging adapter usb cable film']\n",
      "film has absolute avg sentiment 0.36307286624203894\n",
      "['2 week ordered third time', 'order third time phone work']\n",
      "time has absolute avg sentiment 0.23784942528735598\n",
      "['happy purchase thank great phone seller', 'thank phone came quickly']\n",
      "thank has absolute avg sentiment 0.6103946428571404\n",
      "['mail russia opened dispute money', 'everything fair phone lost money']\n",
      "money has absolute avg sentiment 0.35637549342105307\n",
      "['gift seller put film screen trifle', 'important gift recommend phone fire everything']\n",
      "gift has absolute avg sentiment 0.5882787826086973\n",
      "['everything tracked day packaging quality', 'sevastopol 12 day delighted quality speed delivery super order']\n",
      "quality has absolute avg sentiment 0.4265568421052631\n",
      "['second голдвея height recommend', 'extra payment beautiful recommend case']\n",
      "recommend has absolute avg sentiment 0.5803341563785985\n",
      "['glass небьющимся come usual film', 'protective glass everything came quickly enough 3 week phone']\n",
      "glass has absolute avg sentiment 0.2901797058823523\n",
      "['fast beautiful fit description 100 great phone', 'phone came quickly consistent description meet']\n",
      "description has absolute avg sentiment 0.3610180821917802\n",
      "['almost 2 month domestic airport entregarce problem chile .. excellent team quality price .. phone', 'without problem camera take good battery']\n",
      "problem has absolute avg sentiment 0.37304034090908994\n",
      "['napkin case still nice still', 'case 3. hybrid tray']\n",
      "case has absolute avg sentiment 0.33861099999999944\n",
      "['super order afraid third phone book seller', 'super order afraid everything ok']\n",
      "super has absolute avg sentiment 0.7091666666666683\n",
      "['phone came 8 day березников perm region track', 'reliable package track tracked point receipt comment order']\n",
      "track has absolute avg sentiment 0.2650003999999997\n",
      "['two week everything work camera good charge', 'beautiful camera excellent beautiful cool']\n",
      "camera has absolute avg sentiment 0.44815690235690187\n",
      "['without extra gift charging adapter usb cable film', 'great seller film screen adapter socket podarok']\n",
      "adapter has absolute avg sentiment 0.32361989247311784\n",
      "['small diagonal screen resolution 720*1280 enough noticeable test эпик citadel', 'function work fine battery touch screen']\n",
      "screen has absolute avg sentiment 0.3179120218579231\n",
      "['happy purchase thank great phone seller', 'st. petersburg 12 day description coincides real purchase']\n",
      "purchase has absolute avg sentiment 0.38688960573476644\n",
      "['good work fine global stable firmware phone', 'second global firmware good store']\n",
      "firmware has absolute avg sentiment 0.2884754716981129\n",
      "['18 day zabaikalsk region excellent', 'samara region two week']\n",
      "region has absolute avg sentiment 0.21854652014652\n",
      "['almost 2 month domestic airport entregarce problem chile .. excellent team quality price .. phone', 'fine dhl lost package month seller wait power']\n",
      "month has absolute avg sentiment 0.2472051660516603\n",
      "['second time great product thank phone', 'quickly 15 day great product']\n",
      "product has absolute avg sentiment 0.4336705426356584\n",
      "['14 day problem custom original', 'track xiaomi worried thinking problem custom thank god vse tseloe gift adapter film']\n",
      "custom has absolute avg sentiment 0.23220301886792433\n",
      "['function work fine battery touch screen', 'good battery match day maisie м3с 2 day']\n",
      "battery has absolute avg sentiment 0.34330361445783114\n",
      "['everything tracked day packaging quality', 'global firmware good packaging nothing']\n",
      "packaging has absolute avg sentiment 0.43105677966101646\n",
      "['satisfied well 9 day samara phone price', 'almost 2 month domestic airport entregarce problem chile .. excellent team quality price .. phone']\n",
      "price has absolute avg sentiment 0.42803999999999964\n",
      "['mail russia opened dispute money', 'week phone lost mail third phone']\n",
      "mail has absolute avg sentiment 0.22680452488687772\n",
      "['gift dob opened box even time', 'price class photo box already']\n",
      "box has absolute avg sentiment 0.22191603773584892\n",
      "['кешбэк 12 c purchase \\\\\\\\_ \\\\\\\\_ \\\\\\\\_ \\\\\\\\_ \\\\\\\\_ \\\\\\\\_ \\\\\\\\_ \\\\\\\\_ \\\\\\\\_ \\\\\\\\_ \\\\\\\\_ \\\\\\\\_ \\\\\\\\_ fast delivery recommend', '2400rub purchase smartphone package passed custom \\\\\\\\_ \\\\\\\\_ \\\\\\\\_ \\\\\\\\_ \\\\\\\\_ \\\\\\\\_ \\\\\\\\_ \\\\\\\\_ \\\\\\\\_']\n",
      "\\\\_ has absolute avg sentiment 0.2500107142857143\n",
      "['well phone sent two parcel track track', 'quickly wine mail parcel stuck little']\n",
      "parcel has absolute avg sentiment 0.2148380753138073\n",
      "['gift many thanks phone good 3 s. order', '5 lag thanks seller fast delivery phone']\n",
      "thanks has absolute avg sentiment 0.5924094444444437\n",
      "['almost constant use glass enough touch', 'two day active use']\n",
      "use has absolute avg sentiment 0.3158472906403939\n",
      "['much happy smartphone completely', 'excellent seller excellent smartphone']\n",
      "smartphone has absolute avg sentiment 0.41975977653631275\n",
      "['mail russia opened dispute money', 'lucky cant mail russia seller fully']\n",
      "russia has absolute avg sentiment 0.21787340425531904\n",
      "['already 7th phone everything ok advise everything super phone work', 'whole advise buy first happy']\n",
      "advise has absolute avg sentiment 0.36220176991150405\n",
      "['great phone fast shipping responsive seller order', 'seller day shipping moscow']\n",
      "shipping has absolute avg sentiment 0.3618255244755242\n",
      "['small scratch apparently much nice complaint', '3 mobile phone seller complaint cover glass make sense order']\n",
      "complaint has absolute avg sentiment 0.33293456790123416\n",
      "['level bought fifth account phone store', '3 phone store thank present five point']\n",
      "store has absolute avg sentiment 0.39030903225806435\n",
      "['silicone case gift put product', 'phone phone good soft silicone case']\n",
      "silicone has absolute avg sentiment 0.34899107142857105\n",
      "['parcel post 11 day', 'post office 105064 earth parcel']\n",
      "post has absolute avg sentiment 0.16903169014084507\n",
      "['fine dhl lost package month seller wait power', 'package inflated strip think']\n",
      "package has absolute avg sentiment 0.24145434782608696\n",
      "['fine seller forgot put adapter charger type c type everything', 'fine delivery 9 day']\n",
      "fine has absolute avg sentiment 0.4316854740061166\n",
      "['mail russia opened dispute money', '60 day aggravation dispute well']\n",
      "dispute has absolute avg sentiment 0.3817801204819273\n",
      "['two week everything work camera good charge', 'long enough week 2 time charge']\n",
      "charge has absolute avg sentiment 0.2378282258064516\n",
      "['level air packaging adapter film', 'immediately upgrade firmware air проблемсмартфоном satisfied gift seller']\n",
      "air has absolute avg sentiment 0.23418064516129034\n",
      "['reliable responsible guilt everything perfect ordered phone cover', '2. bez cover slippery much']\n",
      "cover has absolute avg sentiment 0.30725749999999985\n",
      "['possible way ordered second time phone', 'immediately way write review']\n",
      "way has absolute avg sentiment 0.21046724137931033\n",
      "['content question seller explained everything response', 'normal question answered course заигнорил custom control']\n",
      "question has absolute avg sentiment 0.28594298245614036\n",
      "['2.20 extension megabonus help save 40 purchase aliexpress reference воспользуетесь megabonus', 'thank product purchased extension megabonus']\n",
      "extension has absolute avg sentiment 0.4789034090909096\n"
     ]
    },
    {
     "name": "stdout",
     "output_type": "stream",
     "text": [
      "['price class photo box already', 'дополнб review photo']\n",
      "photo has absolute avg sentiment 0.3019247863247865\n",
      "['three star jamb seller отправившего parcel mail russia', 'seller phone 5 star bravo']\n",
      "star has absolute avg sentiment 0.24421376146788992\n",
      "['already bag glass fact color black seller handsome', 'rose-gold beautiful color instead']\n",
      "color has absolute avg sentiment 0.3353514563106794\n",
      "['excellent everything ok came 14 day', 'seller-all excellent always phone']\n",
      "excellent has absolute avg sentiment 0.6829231292517032\n",
      "['write review', 'дополнб review photo']\n",
      "review has absolute avg sentiment 0.28181727272727275\n",
      "['phone safe sound', 'safe sound also fast gift wrap']\n",
      "sound has absolute avg sentiment 0.461643571428571\n",
      "['stavropol 12 day date order everything work fine firmware', 'fourth phone order aliekspress returned dispute 65 day date order seller']\n",
      "date has absolute avg sentiment 0.25142680412371127\n",
      "['loud conversation interlocutor hear clearly hand', 'well hand sealed securely']\n",
      "hand has absolute avg sentiment 0.6702082474226803\n",
      "['excellent device always', 'fine money excellent device phone']\n",
      "device has absolute avg sentiment 0.4418699999999998\n",
      "['perfect condition reached 14 day', 'fast phone came perfect condition everything work']\n",
      "condition has absolute avg sentiment 0.5815148936170209\n",
      "['global version phone came usual chinese charger adapter outlet firmware', 'global shoal translated box sign version phone глабальная description bottom box']\n",
      "version has absolute avg sentiment 0.19939670329670325\n",
      "['16.11 extension alibonus help save 8.25 purchase aliexpress reference воспользуетесь', 'extension alibonus save 5.00 extension alibonus help']\n",
      "alibonus has absolute avg sentiment 0.37192783505154664\n",
      "['seller fast delivery', 'great phone fast shipping responsive seller order']\n",
      "fast has absolute avg sentiment 0.37240802775024817\n",
      "['seller additional adapter tape thank good service', 'excellent service day prodovtsa thank everything']\n",
      "service has absolute avg sentiment 0.3891123595505616\n",
      "['within 12 hour payment ordered seller second phone', 'next day payment track monitored parcel']\n",
      "payment has absolute avg sentiment 0.16189655172413792\n",
      "['beautiful camera excellent beautiful cool', 'cool ordered 2 phone']\n",
      "cool has absolute avg sentiment 0.5725466257668714\n",
      "['wife recommend seller phone', 'wife gold packed conscience purchase']\n",
      "wife has absolute avg sentiment 0.39422168674698793\n",
      "['global firmware good packaging nothing', 'comfortable hand management design-what need men nothing']\n",
      "nothing has absolute avg sentiment 0.2680687499999999\n",
      "['headphone everything work top quality', 'great headphone sound excellent delivery week rb']\n",
      "headphone has absolute avg sentiment 0.31535747126436775\n",
      "['fast two week lipetsk region mail singapore track', '29 phone элисте singapore believe']\n",
      "singapore has absolute avg sentiment 0.15979749999999995\n",
      "['film adapter soviet outlet phone money bomb fire', 'good seller put adapter outlet everything']\n",
      "outlet has absolute avg sentiment 0.2928886075949368\n",
      "['post office 105064 earth parcel', 'sent office thence disappears writing search reply']\n",
      "office has absolute avg sentiment 0.14840540540540542\n",
      "['well phone work perfect advise everyone', 'everyone seller phone great phone glitch notice use']\n",
      "everyone has absolute avg sentiment 0.42426052631578937\n",
      "['11.85 extension megabonus help save 40 purchase aliexpress megabonus воспользуетесь reference co', 'extension megabonus save 8.63 extension megabonus help']\n",
      "help has absolute avg sentiment 0.6179783783783788\n",
      "['immediately phone cool black color look', 'long battery hold charge look']\n",
      "look has absolute avg sentiment 0.36323139534883714\n",
      "['great price gift-film adapter charger record', 'global version phone came usual chinese charger adapter outlet firmware']\n",
      "charger has absolute avg sentiment 0.21153521126760563\n",
      "['work one sim card', 'screen two month stop sending document write-off card statement loss vain seller claim money']\n",
      "card has absolute avg sentiment 0.17666164383561644\n",
      "['also good picture function fan battery hold good complete', 'gift tape really phone picture']\n",
      "picture has absolute avg sentiment 0.3144055555555555\n",
      "['level recommend super vse za 10 day', 'level shipping 13 day money']\n",
      "level has absolute avg sentiment 0.2986090909090908\n",
      "['seller day shipping moscow', 'already third xiaomi family came two week moscow']\n",
      "moscow has absolute avg sentiment 0.26487737226277375\n",
      "['standard match geographic location', 'standard match geographic location']\n",
      "match has absolute avg sentiment 0.37706410256410255\n",
      "['thing like use', 'pleased parcel included also protective film gift thing']\n",
      "thing has absolute avg sentiment 0.2948626865671642\n",
      "['normal film seller order anything came quickly without damage', 'damage revealed']\n",
      "damage has absolute avg sentiment 0.38167352941176447\n",
      "['11.85 extension megabonus help save 40 purchase aliexpress megabonus воспользуетесь reference co', '40 purchase aliexpress megabonus воспользуетесь reference com/u 586981 delivery']\n",
      "aliexpress has absolute avg sentiment 0.377464285714286\n",
      "['8 day delivery bashkiria кумертау film gift great slow 7 day phone come', 'another phone come returned']\n",
      "come has absolute avg sentiment 0.305401395348837\n",
      "['happy fully consistent description recommend buy thank seller', 'protective film buy seller']\n",
      "buy has absolute avg sentiment 0.36549406779661026\n",
      "['smart money phone fire smart battery', 'film adapter soviet outlet phone money bomb fire']\n",
      "fire has absolute avg sentiment 0.36391875\n",
      "['xiaomi say', 'track xiaomi worried thinking problem custom thank god vse tseloe gift adapter film']\n",
      "xiaomi has absolute avg sentiment 0.27435256410256403\n",
      "['3 phone store thank present five point', 'safe sound everything work 5 point everything']\n",
      "point has absolute avg sentiment 0.20851746031746038\n",
      "['almost 2 month domestic airport entregarce problem chile .. excellent team quality price .. phone', 'end wrinkled .. adapter']\n",
      ".. has absolute avg sentiment 0.36036712328767123\n",
      "['rostov-on-don hope refund odd', 'partial refund waited 90 day phone']\n",
      "refund has absolute avg sentiment 0.24027391304347828\n",
      "['adapter socket euro protective film gift thank seller thank seller', 'good film adapter socket podarok always голдвея']\n",
      "socket has absolute avg sentiment 0.3457540983606557\n",
      "['well quality отличноное included work hour', 'terrible seller recommend box work charging hour flicker screen stripe']\n",
      "hour has absolute avg sentiment 0.14825932203389833\n",
      "['screen fingerprint gift protective film', 'last two day active use fingerprint fingerprint work']\n",
      "fingerprint has absolute avg sentiment 0.43158032786885253\n"
     ]
    }
   ],
   "source": [
    "def traverse(t,noun,phrases):\n",
    "    try:\n",
    "        t.label()\n",
    "    except AttributeError:\n",
    "        n=0\n",
    "    else:\n",
    "        if t.label() == 'NOUN_PHRASE': \n",
    "            phrase = \" \".join([word for (word,pos) in t.leaves()])\n",
    "            if noun in phrase.split():\n",
    "                phrases.append(phrase)\n",
    "                #print(phrase)\n",
    "        for child in t:\n",
    "            traverse(child,noun,phrases)\n",
    "    return phrases\n",
    "\n",
    "from nltk.sentiment.vader import SentimentIntensityAnalyzer\n",
    "\n",
    "dict_noun_abs_sentiment = {}\n",
    "for noun in frequent_words:\n",
    "    phrases=[]\n",
    "    phrases=traverse(noun_phrase_tagged,noun,phrases)\n",
    "    print(phrases[1:3])\n",
    "    #doc_complete = nouns\n",
    "\n",
    "    sid =  SentimentIntensityAnalyzer()\n",
    "    sentiments = sum(abs(sid.polarity_scores(phrase)[\"compound\"]) for phrase in phrases)/len(phrases)\n",
    "    print(noun + \" has absolute avg sentiment \" + str(sentiments))\n",
    "    dict_noun_abs_sentiment[noun]=sentiments"
   ]
  },
  {
   "cell_type": "code",
   "execution_count": 19,
   "metadata": {
    "collapsed": true
   },
   "outputs": [],
   "source": [
    "import pymongo\n",
    "client = pymongo.MongoClient()\n",
    "mydb = client['y2buy_1']\n",
    "my_collection = mydb['features']\n",
    "result = mydb.features.create_index([('feature', pymongo.ASCENDING)],unique=True)"
   ]
  },
  {
   "cell_type": "code",
   "execution_count": 20,
   "metadata": {},
   "outputs": [
    {
     "name": "stdout",
     "output_type": "stream",
     "text": [
      "[{'feature': 'phone'}, {'feature': 'seller'}, {'feature': 'day'}, {'feature': 'everything'}, {'feature': 'week'}, {'feature': 'delivery'}, {'feature': 'work'}, {'feature': 'order'}, {'feature': 'film'}, {'feature': 'time'}, {'feature': 'thank'}, {'feature': 'money'}, {'feature': 'gift'}, {'feature': 'quality'}, {'feature': 'recommend'}, {'feature': 'glass'}, {'feature': 'description'}, {'feature': 'problem'}, {'feature': 'case'}, {'feature': 'super'}, {'feature': 'track'}, {'feature': 'camera'}, {'feature': 'adapter'}, {'feature': 'screen'}, {'feature': 'purchase'}, {'feature': 'firmware'}, {'feature': 'region'}, {'feature': 'month'}, {'feature': 'product'}, {'feature': 'custom'}, {'feature': 'battery'}, {'feature': 'packaging'}, {'feature': 'price'}, {'feature': 'mail'}, {'feature': 'box'}, {'feature': '\\\\\\\\_'}, {'feature': 'parcel'}, {'feature': 'thanks'}, {'feature': 'use'}, {'feature': 'smartphone'}, {'feature': 'russia'}, {'feature': 'advise'}, {'feature': 'shipping'}, {'feature': 'complaint'}, {'feature': 'store'}, {'feature': 'silicone'}, {'feature': 'post'}, {'feature': 'package'}, {'feature': 'fine'}, {'feature': 'dispute'}, {'feature': 'charge'}, {'feature': 'air'}, {'feature': 'cover'}, {'feature': 'way'}, {'feature': 'question'}, {'feature': 'extension'}, {'feature': 'photo'}, {'feature': 'star'}, {'feature': 'color'}, {'feature': 'excellent'}, {'feature': 'review'}, {'feature': 'sound'}, {'feature': 'date'}, {'feature': 'hand'}, {'feature': 'device'}, {'feature': 'condition'}, {'feature': 'version'}, {'feature': 'alibonus'}, {'feature': 'fast'}, {'feature': 'service'}, {'feature': 'payment'}, {'feature': 'cool'}, {'feature': 'wife'}, {'feature': 'nothing'}, {'feature': 'headphone'}, {'feature': 'singapore'}, {'feature': 'outlet'}, {'feature': 'office'}, {'feature': 'everyone'}, {'feature': 'help'}, {'feature': 'look'}, {'feature': 'charger'}, {'feature': 'card'}, {'feature': 'picture'}, {'feature': 'level'}, {'feature': 'moscow'}, {'feature': 'match'}, {'feature': 'thing'}, {'feature': 'damage'}, {'feature': 'aliexpress'}, {'feature': 'come'}, {'feature': 'buy'}, {'feature': 'fire'}, {'feature': 'xiaomi'}, {'feature': 'point'}, {'feature': '..'}, {'feature': 'refund'}, {'feature': 'socket'}, {'feature': 'hour'}, {'feature': 'fingerprint'}]\n"
     ]
    }
   ],
   "source": [
    "features=  [ {\"feature\" : key} for (key,val) in dict_noun_abs_sentiment.items() if val >0.01]\n",
    "print(features)"
   ]
  },
  {
   "cell_type": "code",
   "execution_count": 21,
   "metadata": {},
   "outputs": [
    {
     "data": {
      "text/plain": [
       "<pymongo.results.InsertManyResult at 0x7f68063b5f48>"
      ]
     },
     "execution_count": 21,
     "metadata": {},
     "output_type": "execute_result"
    }
   ],
   "source": [
    "my_collection.insert_many(features)"
   ]
  },
  {
   "cell_type": "code",
   "execution_count": null,
   "metadata": {
    "collapsed": true
   },
   "outputs": [],
   "source": []
  }
 ],
 "metadata": {
  "kernelspec": {
   "display_name": "Python 3",
   "language": "python",
   "name": "python3"
  },
  "language_info": {
   "codemirror_mode": {
    "name": "ipython",
    "version": 3
   },
   "file_extension": ".py",
   "mimetype": "text/x-python",
   "name": "python",
   "nbconvert_exporter": "python",
   "pygments_lexer": "ipython3",
   "version": "3.6.1"
  }
 },
 "nbformat": 4,
 "nbformat_minor": 2
}
